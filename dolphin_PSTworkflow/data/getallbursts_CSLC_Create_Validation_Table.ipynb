{
 "cells": [
  {
   "attachments": {},
   "cell_type": "markdown",
   "id": "0c2aa84b",
   "metadata": {
    "papermill": {
     "duration": 0.034653,
     "end_time": "2024-01-24T20:14:34.136699",
     "exception": false,
     "start_time": "2024-01-24T20:14:34.102046",
     "status": "completed"
    },
    "tags": []
   },
   "source": [
    "# Workflow to create and maintain the validation table for CSLC Cal/Val\n",
    "\n",
    "This notebook demonstrates how to query the public S3 bucket hosting granules associated with bursts identified for CSLC Cal/Val activities.\n",
    "\n",
    "Specifically the motivation here to access + record the preqrequiste information from each granule in order to virtually perform Cal/Val analyses.\n",
    "\n",
    "For reference, the following resources were used to help create this notebook:\n",
    "https://alexwlchan.net/2017/listing-s3-keys/\n",
    "https://github.com/boto/boto3/issues/1200"
   ]
  },
  {
   "attachments": {},
   "cell_type": "markdown",
   "id": "0d61c9f7",
   "metadata": {
    "papermill": {
     "duration": 0.014748,
     "end_time": "2024-01-24T20:14:34.185297",
     "exception": false,
     "start_time": "2024-01-24T20:14:34.170549",
     "status": "completed"
    },
    "tags": []
   },
   "source": [
    "## Load prerequisite modules"
   ]
  },
  {
   "cell_type": "code",
   "execution_count": 1,
   "id": "a933cbdd",
   "metadata": {
    "execution": {
     "iopub.execute_input": "2024-01-24T20:14:34.196428Z",
     "iopub.status.busy": "2024-01-24T20:14:34.196184Z",
     "iopub.status.idle": "2024-01-24T20:14:41.167277Z",
     "shell.execute_reply": "2024-01-24T20:14:41.166732Z"
    },
    "papermill": {
     "duration": 6.977476,
     "end_time": "2024-01-24T20:14:41.168683",
     "exception": false,
     "start_time": "2024-01-24T20:14:34.191207",
     "status": "completed"
    },
    "tags": []
   },
   "outputs": [],
   "source": [
    "import boto3\n",
    "from botocore import UNSIGNED\n",
    "from botocore.config import Config\n",
    "\n",
    "import fsspec\n",
    "\n",
    "import geopandas as gpd\n",
    "\n",
    "import h5py\n",
    "\n",
    "import pandas as pd\n",
    "\n",
    "from pathlib import Path\n",
    "\n",
    "import shapely.wkt as wkt"
   ]
  },
  {
   "attachments": {},
   "cell_type": "markdown",
   "id": "4bd3f898",
   "metadata": {
    "papermill": {
     "duration": 0.00207,
     "end_time": "2024-01-24T20:14:41.194181",
     "exception": false,
     "start_time": "2024-01-24T20:14:41.192111",
     "status": "completed"
    },
    "tags": []
   },
   "source": [
    "## Static variables that identify S3 paths to data\n",
    "\n",
    "<div class=\"alert alert-warning\">\n",
    "Only change IF you know what you are doing (i.e. itentional changes to reflect hypothetical migration of validation data).\n",
    "</div>"
   ]
  },
  {
   "cell_type": "code",
   "execution_count": 2,
   "id": "93a55a1a",
   "metadata": {
    "execution": {
     "iopub.execute_input": "2024-01-24T20:14:41.198953Z",
     "iopub.status.busy": "2024-01-24T20:14:41.198694Z",
     "iopub.status.idle": "2024-01-24T20:14:41.202956Z",
     "shell.execute_reply": "2024-01-24T20:14:41.202535Z"
    },
    "papermill": {
     "duration": 0.007833,
     "end_time": "2024-01-24T20:14:41.203815",
     "exception": false,
     "start_time": "2024-01-24T20:14:41.195982",
     "status": "completed"
    },
    "tags": []
   },
   "outputs": [],
   "source": [
    "# set S3 path variables\n",
    "bucket = 'opera-pst-rs-pop1'\n",
    "prefix = 'products/CSLC_S1'\n",
    "suffix = 'Z.h5'\n",
    "\n",
    "s3_path = f's3://{bucket}'\n",
    "DATA_ROOT = 'science/SENTINEL1'\n",
    "\n",
    "# track specific version and corresponding static layer\n",
    "# version_num = '0.2'\n",
    "version_num = '1.0'\n",
    "\n",
    "if version_num == '0.0':\n",
    "    static_suffix = '_static_layers.h5'\n",
    "    id_path = f'{DATA_ROOT}/identification'\n",
    "if version_num == '0.1':\n",
    "    static_suffix = '_Static.h5'\n",
    "    id_path = f'identification'\n",
    "if version_num == '0.2' or version_num == '1.0':\n",
    "    static_suffix = f'v{version_num}.h5'\n",
    "    id_path = f'identification'\n",
    "\n",
    "# Set name of output containing all burst products for streaming\n",
    "import os \n",
    "\n",
    "orig_validation_bursts = Path(f'validation_bursts_target_v{version_num}.csv')\n",
    "\n",
    "validation_bursts = Path(f'getallbursts_validation_bursts_target_v{version_num}.csv')\n",
    "validation_csv = Path(f'getallbursts_table_validation_bursts_target_v{version_num}.csv')"
   ]
  },
  {
   "attachments": {},
   "cell_type": "markdown",
   "id": "9fe02d09",
   "metadata": {
    "papermill": {
     "duration": 0.03227,
     "end_time": "2024-01-24T20:14:41.237927",
     "exception": false,
     "start_time": "2024-01-24T20:14:41.205657",
     "status": "completed"
    },
    "tags": []
   },
   "source": [
    "## Load function to query S3 bucket"
   ]
  },
  {
   "cell_type": "code",
   "execution_count": 3,
   "id": "79a88443",
   "metadata": {
    "execution": {
     "iopub.execute_input": "2024-01-24T20:14:41.253064Z",
     "iopub.status.busy": "2024-01-24T20:14:41.252783Z",
     "iopub.status.idle": "2024-01-24T20:14:41.258609Z",
     "shell.execute_reply": "2024-01-24T20:14:41.258240Z"
    },
    "papermill": {
     "duration": 0.015687,
     "end_time": "2024-01-24T20:14:41.259476",
     "exception": false,
     "start_time": "2024-01-24T20:14:41.243789",
     "status": "completed"
    },
    "tags": []
   },
   "outputs": [],
   "source": [
    "def get_matching_s3_keys(bucket, prefix='', suffix='', burstId='', version_num='', avoid_bursts=[]):\n",
    "    \"\"\"\n",
    "    Generate the keys in an S3 bucket.\n",
    "\n",
    "    :param bucket: Name of the S3 bucket.\n",
    "    :param prefix: Only fetch keys that start with this prefix.\n",
    "    :param suffix: Only fetch keys that end with this suffix.\n",
    "    :param burstId: Only fetch keys that match burstId.\n",
    "    :param burstId: Only fetch keys that match version num.\n",
    "    \"\"\"\n",
    "    s3 = boto3.client('s3', config=Config(signature_version=UNSIGNED))\n",
    "    kwargs = {'Bucket': bucket}\n",
    "\n",
    "    # If the prefix is a single string (not a tuple of strings), we can\n",
    "    # do the filtering directly in the S3 API.\n",
    "    # Efficiently capture only matches that share relevant filename prefix\n",
    "    if isinstance(prefix, str):\n",
    "        kwargs['Prefix'] = prefix + '/' + burstId\n",
    "\n",
    "    # # set versioning string\n",
    "    # version_num = '_v' + version_num + '_'\n",
    "\n",
    "    # Max query for `list_object_v2` is only 1000\n",
    "    # Need to institute while loop to circumvent\n",
    "    while True:\n",
    "        # 'Contents' contains information about the listed objects\n",
    "        # Sort by last modified in order to get most recent static layer\n",
    "        resp = s3.list_objects_v2(**kwargs)\n",
    "\n",
    "        try:\n",
    "            valid_results = resp['Contents']\n",
    "        except KeyError: \n",
    "            break\n",
    "            \n",
    "        get_last_modified = lambda valid_results: int(valid_results['LastModified'].strftime('%s'))\n",
    "        valid_results = [obj['Key'] for obj in sorted(valid_results, key=get_last_modified)]\n",
    "\n",
    "        # filter by suffix, version number, and remove legacy products\n",
    "        valid_results = [i for i in valid_results if i.endswith(suffix)]\n",
    "        valid_results = [i for i in valid_results if version_num in i]\n",
    "        valid_results = [i for i in valid_results if '_v0.0_202303' not in i]\n",
    "        if avoid_bursts != []:\n",
    "            if 'static' in prefix.lower() or 'static' in suffix.lower():\n",
    "                valid_results = [i.name.split(prefix)[1][:15].replace('-', \\\n",
    "                                 '_').lower() \\\n",
    "                                 for i in valid_results \\\n",
    "                                 if i not in avoid_bursts]\n",
    "        for key in valid_results:\n",
    "            yield key\n",
    "\n",
    "        # The S3 API is paginated, returning up to 1000 keys at a time.\n",
    "        # Pass the continuation token into the next response, until we\n",
    "        # reach the final page (when this field is missing).\n",
    "        try:\n",
    "            kwargs['ContinuationToken'] = resp['NextContinuationToken']\n",
    "        except KeyError:\n",
    "            break\n",
    "\n",
    "    return"
   ]
  },
  {
   "attachments": {},
   "cell_type": "markdown",
   "id": "1cd1ab24",
   "metadata": {
    "papermill": {
     "duration": 0.011686,
     "end_time": "2024-01-24T20:14:41.274722",
     "exception": false,
     "start_time": "2024-01-24T20:14:41.263036",
     "status": "completed"
    },
    "tags": []
   },
   "source": [
    "## Access or initiate validation table containing links to S3 bucket"
   ]
  },
  {
   "cell_type": "code",
   "execution_count": 4,
   "id": "60c8abf9",
   "metadata": {
    "execution": {
     "iopub.execute_input": "2024-01-24T20:14:41.423338Z",
     "iopub.status.busy": "2024-01-24T20:14:41.423092Z",
     "iopub.status.idle": "2024-01-24T20:14:41.428291Z",
     "shell.execute_reply": "2024-01-24T20:14:41.427923Z"
    },
    "papermill": {
     "duration": 0.018608,
     "end_time": "2024-01-24T20:14:41.429150",
     "exception": false,
     "start_time": "2024-01-24T20:14:41.410542",
     "status": "completed"
    },
    "tags": []
   },
   "outputs": [],
   "source": [
    "# access dataframe from file, if it exists\n",
    "if validation_csv.is_file():\n",
    "    df = pd.read_csv(validation_csv)\n",
    "    validation_bursts_df = gpd.GeoDataFrame(\n",
    "        df.loc[:, [c for c in df.columns if c != \"geometry\"]],\n",
    "        geometry=gpd.GeoSeries.from_wkt(df[\"geometry\"])\n",
    "        )\n",
    "else:\n",
    "    # otherwise, initialize dataframe\n",
    "    validation_bursts_df = gpd.GeoDataFrame()\n",
    "    # add placeholder columns\n",
    "    validation_bursts_df['burst_id'] = None\n",
    "    validation_bursts_df['date'] = None\n",
    "    validation_bursts_df['cslc_url'] = None\n",
    "    validation_bursts_df['cslc_static_url'] = None\n",
    "    validation_bursts_df['orbit_pass_direction'] = None\n",
    "    validation_bursts_df['frame_ids'] = None"
   ]
  },
  {
   "attachments": {},
   "cell_type": "markdown",
   "id": "966eecc7",
   "metadata": {
    "papermill": {
     "duration": 0.010256,
     "end_time": "2024-01-24T20:14:41.441267",
     "exception": false,
     "start_time": "2024-01-24T20:14:41.431011",
     "status": "completed"
    },
    "tags": []
   },
   "source": [
    "## Query server and build up validation table"
   ]
  },
  {
   "cell_type": "code",
   "execution_count": 5,
   "id": "ea0daf54",
   "metadata": {
    "execution": {
     "iopub.execute_input": "2024-01-24T20:14:41.578261Z",
     "iopub.status.busy": "2024-01-24T20:14:41.578024Z",
     "iopub.status.idle": "2024-01-24T20:14:51.273377Z",
     "shell.execute_reply": "2024-01-24T20:14:51.272849Z"
    },
    "papermill": {
     "duration": 9.820189,
     "end_time": "2024-01-24T20:14:51.274762",
     "exception": false,
     "start_time": "2024-01-24T20:14:41.454573",
     "status": "completed"
    },
    "tags": []
   },
   "outputs": [],
   "source": [
    "# get new bursts\n",
    "burstId_list_existing = pd.read_csv(orig_validation_bursts)['burst_id'].to_list()\n",
    "new_bursts = []\n",
    "cslc_static_url_base = 'OPERA_L2_CSLC-S1-STATIC_'\n",
    "for static_key in get_matching_s3_keys(bucket=bucket,\n",
    "                                       prefix=prefix,\n",
    "                                       suffix=static_suffix,\n",
    "                                       burstId=cslc_static_url_base,\n",
    "                                       version_num=version_num,\n",
    "                                       avoid_bursts=burstId_list_existing):\n",
    "    if static_key is not None:\n",
    "        cslc_static_burst = Path(static_key).name\n",
    "        cslc_static_burst = cslc_static_burst.split(cslc_static_url_base)\n",
    "        cslc_static_burst = cslc_static_burst[1][:15]\n",
    "        cslc_static_burst = cslc_static_burst.replace('-','_')\n",
    "        cslc_static_burst = cslc_static_burst.lower()\n",
    "        if cslc_static_burst not in new_bursts:\n",
    "            new_bursts.append(cslc_static_burst)\n",
    "\n",
    "# remove duplicates sanity check\n",
    "new_bursts = list(set(new_bursts))"
   ]
  },
  {
   "cell_type": "code",
   "execution_count": 6,
   "id": "d2f4bfdd",
   "metadata": {
    "execution": {
     "iopub.execute_input": "2024-01-24T20:14:51.310686Z",
     "iopub.status.busy": "2024-01-24T20:14:51.310490Z",
     "iopub.status.idle": "2024-01-24T20:14:51.331880Z",
     "shell.execute_reply": "2024-01-24T20:14:51.331452Z"
    },
    "papermill": {
     "duration": 0.027441,
     "end_time": "2024-01-24T20:14:51.332898",
     "exception": false,
     "start_time": "2024-01-24T20:14:51.305457",
     "status": "completed"
    },
    "tags": []
   },
   "outputs": [],
   "source": [
    "# update burst file\n",
    "update_burst_df = pd.read_csv(orig_validation_bursts)\n",
    "\n",
    "# prep list to append\n",
    "append_newbursts = [(i, 'Untitled') for i in new_bursts]\n",
    "df_append_newbursts = pd.DataFrame(append_newbursts, columns=['burst_id', 'cr_network'])\n",
    "\n",
    "# append to burst file\n",
    "update_burst_df = pd.concat([update_burst_df, df_append_newbursts], ignore_index=True)\n",
    "#removing duplcates\n",
    "update_burst_df  = update_burst_df.drop_duplicates(['burst_id', 'cr_network'])\n",
    "update_burst_df = update_burst_df.reset_index(drop=True)\n",
    "\n",
    "# save table to file\n",
    "update_burst_df.to_csv(validation_bursts, index=False)"
   ]
  },
  {
   "cell_type": "code",
   "execution_count": 7,
   "id": "96e32c9a",
   "metadata": {
    "execution": {
     "iopub.execute_input": "2024-01-24T20:14:51.445460Z",
     "iopub.status.busy": "2024-01-24T20:14:51.445328Z",
     "iopub.status.idle": "2024-01-24T20:14:51.449188Z",
     "shell.execute_reply": "2024-01-24T20:14:51.448843Z"
    },
    "papermill": {
     "duration": 0.115241,
     "end_time": "2024-01-24T20:14:51.450193",
     "exception": false,
     "start_time": "2024-01-24T20:14:51.334952",
     "status": "completed"
    },
    "tags": []
   },
   "outputs": [],
   "source": [
    "## Access premade, static table containing all bursts identified for CSLC Cal/Val activities\n",
    "\n",
    "# read list of bursts used for validation\n",
    "if validation_bursts.is_file():\n",
    "    df = pd.read_csv(validation_bursts)\n",
    "    burstId_list = df['burst_id'].to_list()\n",
    "else:\n",
    "    raise Exception(f'Expected burst record {validation_bursts.absolute()} '\n",
    "                    'not found. Check working directory.')"
   ]
  },
  {
   "cell_type": "code",
   "execution_count": 8,
   "id": "762faf89",
   "metadata": {
    "execution": {
     "iopub.execute_input": "2024-01-24T20:14:51.461062Z",
     "iopub.status.busy": "2024-01-24T20:14:51.460929Z",
     "iopub.status.idle": "2024-01-24T20:14:53.887813Z",
     "shell.execute_reply": "2024-01-24T20:14:53.887206Z"
    },
    "papermill": {
     "duration": 2.436873,
     "end_time": "2024-01-24T20:14:53.889161",
     "exception": false,
     "start_time": "2024-01-24T20:14:51.452288",
     "status": "completed"
    },
    "tags": []
   },
   "outputs": [],
   "source": [
    "## Access json matching bursts to frame IDs\n",
    "\n",
    "import requests\n",
    "from io import BytesIO\n",
    "import zipfile\n",
    "import json\n",
    "\n",
    "# URL of the ZIP file containing the JSON file\n",
    "repo_zip_url = 'https://github.com/opera-adt/burst_db/releases/download/v0.3.1/opera-s1-disp-burst-to-frame-0.3.1.json.zip'\n",
    "\n",
    "# Download the ZIP file\n",
    "response = requests.get(repo_zip_url)\n",
    "zip_data = BytesIO(response.content)\n",
    "\n",
    "# Extract the JSON file from the ZIP archive\n",
    "with zipfile.ZipFile(zip_data, 'r') as zip_ref:\n",
    "    # Assuming your JSON file is named 'data.json' within the ZIP\n",
    "    json_data = zip_ref.read('opera-s1-disp-burst-to-frame.json')\n",
    "\n",
    "# Load the JSON data\n",
    "burst_to_frame_json = json.loads(json_data.decode('utf-8'))['data']"
   ]
  },
  {
   "cell_type": "code",
   "execution_count": 9,
   "id": "f935d834",
   "metadata": {
    "execution": {
     "iopub.execute_input": "2024-01-24T20:14:53.921614Z",
     "iopub.status.busy": "2024-01-24T20:14:53.921393Z",
     "iopub.status.idle": "2024-01-25T04:31:46.834649Z",
     "shell.execute_reply": "2024-01-25T04:31:46.834045Z"
    },
    "papermill": {
     "duration": 29812.917934,
     "end_time": "2024-01-25T04:31:46.836257",
     "exception": false,
     "start_time": "2024-01-24T20:14:53.918323",
     "status": "completed"
    },
    "tags": []
   },
   "outputs": [
    {
     "name": "stdout",
     "output_type": "stream",
     "text": [
      "BurstID: t004_006658_iw3, sensor: S1A\n"
     ]
    },
    {
     "name": "stdout",
     "output_type": "stream",
     "text": [
      "BurstID: t004_006658_iw3, sensor: S1B\n"
     ]
    },
    {
     "name": "stdout",
     "output_type": "stream",
     "text": [
      "BurstID: t004_006660_iw3, sensor: S1A\n"
     ]
    },
    {
     "name": "stdout",
     "output_type": "stream",
     "text": [
      "BurstID: t004_006660_iw3, sensor: S1B\n"
     ]
    },
    {
     "name": "stdout",
     "output_type": "stream",
     "text": [
      "BurstID: t034_071054_iw2, sensor: S1A\n"
     ]
    },
    {
     "name": "stdout",
     "output_type": "stream",
     "text": [
      "BurstID: t034_071054_iw2, sensor: S1B\n"
     ]
    },
    {
     "name": "stdout",
     "output_type": "stream",
     "text": [
      "BurstID: t034_071054_iw3, sensor: S1A\n"
     ]
    },
    {
     "name": "stdout",
     "output_type": "stream",
     "text": [
      "BurstID: t034_071054_iw3, sensor: S1B\n"
     ]
    },
    {
     "name": "stdout",
     "output_type": "stream",
     "text": [
      "BurstID: t034_071087_iw3, sensor: S1A\n"
     ]
    },
    {
     "name": "stdout",
     "output_type": "stream",
     "text": [
      "BurstID: t034_071087_iw3, sensor: S1B\n"
     ]
    },
    {
     "name": "stdout",
     "output_type": "stream",
     "text": [
      "BurstID: t034_071088_iw2, sensor: S1A\n"
     ]
    },
    {
     "name": "stdout",
     "output_type": "stream",
     "text": [
      "BurstID: t034_071088_iw2, sensor: S1B\n"
     ]
    },
    {
     "name": "stdout",
     "output_type": "stream",
     "text": [
      "BurstID: t034_071089_iw2, sensor: S1A\n"
     ]
    },
    {
     "name": "stdout",
     "output_type": "stream",
     "text": [
      "BurstID: t034_071089_iw2, sensor: S1B\n"
     ]
    },
    {
     "name": "stdout",
     "output_type": "stream",
     "text": [
      "BurstID: t042_088922_iw1, sensor: S1A\n"
     ]
    },
    {
     "name": "stdout",
     "output_type": "stream",
     "text": [
      "BurstID: t042_088922_iw1, sensor: S1B\n"
     ]
    },
    {
     "name": "stdout",
     "output_type": "stream",
     "text": [
      "BurstID: t042_088925_iw1, sensor: S1A\n"
     ]
    },
    {
     "name": "stdout",
     "output_type": "stream",
     "text": [
      "BurstID: t042_088925_iw1, sensor: S1B\n"
     ]
    },
    {
     "name": "stdout",
     "output_type": "stream",
     "text": [
      "BurstID: t042_088926_iw1, sensor: S1A\n"
     ]
    },
    {
     "name": "stdout",
     "output_type": "stream",
     "text": [
      "BurstID: t042_088926_iw1, sensor: S1B\n"
     ]
    },
    {
     "name": "stdout",
     "output_type": "stream",
     "text": [
      "BurstID: t044_093110_iw1, sensor: S1A\n"
     ]
    },
    {
     "name": "stdout",
     "output_type": "stream",
     "text": [
      "BurstID: t044_093110_iw1, sensor: S1B\n"
     ]
    },
    {
     "name": "stdout",
     "output_type": "stream",
     "text": [
      "BurstID: t064_135518_iw1, sensor: S1A\n"
     ]
    },
    {
     "name": "stdout",
     "output_type": "stream",
     "text": [
      "BurstID: t064_135518_iw1, sensor: S1B\n"
     ]
    },
    {
     "name": "stdout",
     "output_type": "stream",
     "text": [
      "BurstID: t064_135523_iw1, sensor: S1A\n"
     ]
    },
    {
     "name": "stdout",
     "output_type": "stream",
     "text": [
      "BurstID: t064_135523_iw1, sensor: S1B\n"
     ]
    },
    {
     "name": "stdout",
     "output_type": "stream",
     "text": [
      "BurstID: t064_135523_iw2, sensor: S1A\n"
     ]
    },
    {
     "name": "stdout",
     "output_type": "stream",
     "text": [
      "BurstID: t064_135523_iw2, sensor: S1B\n"
     ]
    },
    {
     "name": "stdout",
     "output_type": "stream",
     "text": [
      "BurstID: t071_151224_iw2, sensor: S1A\n"
     ]
    },
    {
     "name": "stdout",
     "output_type": "stream",
     "text": [
      "BurstID: t071_151224_iw2, sensor: S1B\n"
     ]
    },
    {
     "name": "stdout",
     "output_type": "stream",
     "text": [
      "BurstID: t071_151228_iw1, sensor: S1A\n"
     ]
    },
    {
     "name": "stdout",
     "output_type": "stream",
     "text": [
      "BurstID: t071_151228_iw1, sensor: S1B\n"
     ]
    },
    {
     "name": "stdout",
     "output_type": "stream",
     "text": [
      "BurstID: t071_151228_iw3, sensor: S1A\n"
     ]
    },
    {
     "name": "stdout",
     "output_type": "stream",
     "text": [
      "BurstID: t071_151228_iw3, sensor: S1B\n"
     ]
    },
    {
     "name": "stdout",
     "output_type": "stream",
     "text": [
      "BurstID: t071_151230_iw2, sensor: S1A\n"
     ]
    },
    {
     "name": "stdout",
     "output_type": "stream",
     "text": [
      "BurstID: t071_151230_iw2, sensor: S1B\n"
     ]
    },
    {
     "name": "stdout",
     "output_type": "stream",
     "text": [
      "BurstID: t087_185682_iw1, sensor: S1A\n"
     ]
    },
    {
     "name": "stdout",
     "output_type": "stream",
     "text": [
      "BurstID: t087_185682_iw1, sensor: S1B\n"
     ]
    },
    {
     "name": "stdout",
     "output_type": "stream",
     "text": [
      "BurstID: t087_185682_iw2, sensor: S1A\n"
     ]
    },
    {
     "name": "stdout",
     "output_type": "stream",
     "text": [
      "BurstID: t087_185682_iw2, sensor: S1B\n"
     ]
    },
    {
     "name": "stdout",
     "output_type": "stream",
     "text": [
      "BurstID: t087_185683_iw1, sensor: S1A\n"
     ]
    },
    {
     "name": "stdout",
     "output_type": "stream",
     "text": [
      "BurstID: t087_185683_iw1, sensor: S1B\n"
     ]
    },
    {
     "name": "stdout",
     "output_type": "stream",
     "text": [
      "BurstID: t087_185683_iw2, sensor: S1A\n"
     ]
    },
    {
     "name": "stdout",
     "output_type": "stream",
     "text": [
      "BurstID: t087_185683_iw2, sensor: S1B\n"
     ]
    },
    {
     "name": "stdout",
     "output_type": "stream",
     "text": [
      "BurstID: t094_200136_iw2, sensor: S1A\n"
     ]
    },
    {
     "name": "stdout",
     "output_type": "stream",
     "text": [
      "BurstID: t094_200136_iw2, sensor: S1B\n"
     ]
    },
    {
     "name": "stdout",
     "output_type": "stream",
     "text": [
      "BurstID: t094_200136_iw3, sensor: S1A\n"
     ]
    },
    {
     "name": "stdout",
     "output_type": "stream",
     "text": [
      "BurstID: t094_200136_iw3, sensor: S1B\n"
     ]
    },
    {
     "name": "stdout",
     "output_type": "stream",
     "text": [
      "BurstID: t098_209315_iw1, sensor: S1A\n"
     ]
    },
    {
     "name": "stdout",
     "output_type": "stream",
     "text": [
      "BurstID: t098_209315_iw1, sensor: S1B\n"
     ]
    },
    {
     "name": "stdout",
     "output_type": "stream",
     "text": [
      "BurstID: t098_209318_iw1, sensor: S1A\n"
     ]
    },
    {
     "name": "stdout",
     "output_type": "stream",
     "text": [
      "BurstID: t098_209318_iw1, sensor: S1B\n"
     ]
    },
    {
     "name": "stdout",
     "output_type": "stream",
     "text": [
      "BurstID: t106_225749_iw1, sensor: S1A\n"
     ]
    },
    {
     "name": "stdout",
     "output_type": "stream",
     "text": [
      "BurstID: t106_225749_iw1, sensor: S1B\n"
     ]
    },
    {
     "name": "stdout",
     "output_type": "stream",
     "text": [
      "BurstID: t107_227886_iw3, sensor: S1A\n"
     ]
    },
    {
     "name": "stdout",
     "output_type": "stream",
     "text": [
      "BurstID: t107_227886_iw3, sensor: S1B\n"
     ]
    },
    {
     "name": "stdout",
     "output_type": "stream",
     "text": [
      "BurstID: t107_227888_iw2, sensor: S1A\n"
     ]
    },
    {
     "name": "stdout",
     "output_type": "stream",
     "text": [
      "BurstID: t107_227888_iw2, sensor: S1B\n"
     ]
    },
    {
     "name": "stdout",
     "output_type": "stream",
     "text": [
      "BurstID: t107_227889_iw1, sensor: S1A\n"
     ]
    },
    {
     "name": "stdout",
     "output_type": "stream",
     "text": [
      "BurstID: t107_227889_iw1, sensor: S1B\n"
     ]
    },
    {
     "name": "stdout",
     "output_type": "stream",
     "text": [
      "BurstID: t115_245670_iw2, sensor: S1A\n"
     ]
    },
    {
     "name": "stdout",
     "output_type": "stream",
     "text": [
      "BurstID: t115_245670_iw2, sensor: S1B\n"
     ]
    },
    {
     "name": "stdout",
     "output_type": "stream",
     "text": [
      "BurstID: t124_264304_iw2, sensor: S1A\n"
     ]
    },
    {
     "name": "stdout",
     "output_type": "stream",
     "text": [
      "BurstID: t124_264304_iw2, sensor: S1B\n"
     ]
    },
    {
     "name": "stdout",
     "output_type": "stream",
     "text": [
      "BurstID: t124_264304_iw3, sensor: S1A\n"
     ]
    },
    {
     "name": "stdout",
     "output_type": "stream",
     "text": [
      "BurstID: t124_264304_iw3, sensor: S1B\n"
     ]
    },
    {
     "name": "stdout",
     "output_type": "stream",
     "text": [
      "BurstID: t124_264305_iw2, sensor: S1A\n"
     ]
    },
    {
     "name": "stdout",
     "output_type": "stream",
     "text": [
      "BurstID: t124_264305_iw2, sensor: S1B\n"
     ]
    },
    {
     "name": "stdout",
     "output_type": "stream",
     "text": [
      "BurstID: t124_264305_iw3, sensor: S1A\n"
     ]
    },
    {
     "name": "stdout",
     "output_type": "stream",
     "text": [
      "BurstID: t124_264305_iw3, sensor: S1B\n"
     ]
    },
    {
     "name": "stdout",
     "output_type": "stream",
     "text": [
      "BurstID: t124_264306_iw2, sensor: S1A\n"
     ]
    },
    {
     "name": "stdout",
     "output_type": "stream",
     "text": [
      "BurstID: t124_264306_iw2, sensor: S1B\n"
     ]
    },
    {
     "name": "stdout",
     "output_type": "stream",
     "text": [
      "BurstID: t124_264306_iw3, sensor: S1A\n"
     ]
    },
    {
     "name": "stdout",
     "output_type": "stream",
     "text": [
      "BurstID: t124_264306_iw3, sensor: S1B\n"
     ]
    },
    {
     "name": "stdout",
     "output_type": "stream",
     "text": [
      "BurstID: t124_264307_iw2, sensor: S1A\n"
     ]
    },
    {
     "name": "stdout",
     "output_type": "stream",
     "text": [
      "BurstID: t124_264307_iw2, sensor: S1B\n"
     ]
    },
    {
     "name": "stdout",
     "output_type": "stream",
     "text": [
      "BurstID: t124_264518_iw1, sensor: S1A\n"
     ]
    },
    {
     "name": "stdout",
     "output_type": "stream",
     "text": [
      "BurstID: t124_264518_iw1, sensor: S1B\n"
     ]
    },
    {
     "name": "stdout",
     "output_type": "stream",
     "text": [
      "BurstID: t131_279917_iw1, sensor: S1A\n"
     ]
    },
    {
     "name": "stdout",
     "output_type": "stream",
     "text": [
      "BurstID: t131_279917_iw1, sensor: S1B\n"
     ]
    },
    {
     "name": "stdout",
     "output_type": "stream",
     "text": [
      "BurstID: t135_287926_iw3, sensor: S1A\n"
     ]
    },
    {
     "name": "stdout",
     "output_type": "stream",
     "text": [
      "BurstID: t135_287926_iw3, sensor: S1B\n"
     ]
    },
    {
     "name": "stdout",
     "output_type": "stream",
     "text": [
      "BurstID: t135_287927_iw2, sensor: S1A\n"
     ]
    },
    {
     "name": "stdout",
     "output_type": "stream",
     "text": [
      "BurstID: t135_287927_iw2, sensor: S1B\n"
     ]
    },
    {
     "name": "stdout",
     "output_type": "stream",
     "text": [
      "BurstID: t137_292329_iw3, sensor: S1A\n"
     ]
    },
    {
     "name": "stdout",
     "output_type": "stream",
     "text": [
      "BurstID: t137_292329_iw3, sensor: S1B\n"
     ]
    },
    {
     "name": "stdout",
     "output_type": "stream",
     "text": [
      "BurstID: t137_292330_iw1, sensor: S1A\n"
     ]
    },
    {
     "name": "stdout",
     "output_type": "stream",
     "text": [
      "BurstID: t137_292330_iw1, sensor: S1B\n"
     ]
    },
    {
     "name": "stdout",
     "output_type": "stream",
     "text": [
      "BurstID: t137_292331_iw1, sensor: S1A\n"
     ]
    },
    {
     "name": "stdout",
     "output_type": "stream",
     "text": [
      "BurstID: t137_292331_iw1, sensor: S1B\n"
     ]
    },
    {
     "name": "stdout",
     "output_type": "stream",
     "text": [
      "BurstID: t137_292384_iw1, sensor: S1A\n"
     ]
    },
    {
     "name": "stdout",
     "output_type": "stream",
     "text": [
      "BurstID: t137_292384_iw1, sensor: S1B\n"
     ]
    },
    {
     "name": "stdout",
     "output_type": "stream",
     "text": [
      "BurstID: t143_305904_iw1, sensor: S1A\n"
     ]
    },
    {
     "name": "stdout",
     "output_type": "stream",
     "text": [
      "BurstID: t143_305904_iw1, sensor: S1B\n"
     ]
    },
    {
     "name": "stdout",
     "output_type": "stream",
     "text": [
      "BurstID: t143_305904_iw2, sensor: S1A\n"
     ]
    },
    {
     "name": "stdout",
     "output_type": "stream",
     "text": [
      "BurstID: t143_305904_iw2, sensor: S1B\n"
     ]
    },
    {
     "name": "stdout",
     "output_type": "stream",
     "text": [
      "BurstID: t143_305905_iw1, sensor: S1A\n"
     ]
    },
    {
     "name": "stdout",
     "output_type": "stream",
     "text": [
      "BurstID: t143_305905_iw1, sensor: S1B\n"
     ]
    },
    {
     "name": "stdout",
     "output_type": "stream",
     "text": [
      "BurstID: t144_308014_iw2, sensor: S1A\n"
     ]
    },
    {
     "name": "stdout",
     "output_type": "stream",
     "text": [
      "BurstID: t144_308014_iw2, sensor: S1B\n"
     ]
    },
    {
     "name": "stdout",
     "output_type": "stream",
     "text": [
      "BurstID: t160_342208_iw3, sensor: S1A\n"
     ]
    },
    {
     "name": "stdout",
     "output_type": "stream",
     "text": [
      "BurstID: t160_342208_iw3, sensor: S1B\n"
     ]
    },
    {
     "name": "stdout",
     "output_type": "stream",
     "text": [
      "BurstID: t160_342212_iw1, sensor: S1A\n"
     ]
    },
    {
     "name": "stdout",
     "output_type": "stream",
     "text": [
      "BurstID: t160_342212_iw1, sensor: S1B\n"
     ]
    },
    {
     "name": "stdout",
     "output_type": "stream",
     "text": [
      "BurstID: t160_342201_iw3, sensor: S1A\n"
     ]
    },
    {
     "name": "stdout",
     "output_type": "stream",
     "text": [
      "BurstID: t160_342201_iw3, sensor: S1B\n"
     ]
    },
    {
     "name": "stdout",
     "output_type": "stream",
     "text": [
      "BurstID: t071_151233_iw3, sensor: S1A\n"
     ]
    },
    {
     "name": "stdout",
     "output_type": "stream",
     "text": [
      "BurstID: t071_151233_iw3, sensor: S1B\n"
     ]
    },
    {
     "name": "stdout",
     "output_type": "stream",
     "text": [
      "BurstID: t137_292379_iw1, sensor: S1A\n"
     ]
    },
    {
     "name": "stdout",
     "output_type": "stream",
     "text": [
      "BurstID: t137_292379_iw1, sensor: S1B\n"
     ]
    },
    {
     "name": "stdout",
     "output_type": "stream",
     "text": [
      "BurstID: t004_006657_iw3, sensor: S1A\n"
     ]
    },
    {
     "name": "stdout",
     "output_type": "stream",
     "text": [
      "BurstID: t004_006657_iw3, sensor: S1B\n"
     ]
    },
    {
     "name": "stdout",
     "output_type": "stream",
     "text": [
      "BurstID: t044_093114_iw1, sensor: S1A\n"
     ]
    },
    {
     "name": "stdout",
     "output_type": "stream",
     "text": [
      "BurstID: t044_093114_iw1, sensor: S1B\n"
     ]
    },
    {
     "name": "stdout",
     "output_type": "stream",
     "text": [
      "BurstID: t064_135517_iw3, sensor: S1A\n"
     ]
    },
    {
     "name": "stdout",
     "output_type": "stream",
     "text": [
      "BurstID: t064_135517_iw3, sensor: S1B\n"
     ]
    },
    {
     "name": "stdout",
     "output_type": "stream",
     "text": [
      "BurstID: t131_279931_iw2, sensor: S1A\n"
     ]
    },
    {
     "name": "stdout",
     "output_type": "stream",
     "text": [
      "BurstID: t131_279931_iw2, sensor: S1B\n"
     ]
    },
    {
     "name": "stdout",
     "output_type": "stream",
     "text": [
      "BurstID: t071_151219_iw2, sensor: S1A\n"
     ]
    },
    {
     "name": "stdout",
     "output_type": "stream",
     "text": [
      "BurstID: t071_151219_iw2, sensor: S1B\n"
     ]
    },
    {
     "name": "stdout",
     "output_type": "stream",
     "text": [
      "BurstID: t124_264523_iw2, sensor: S1A\n"
     ]
    },
    {
     "name": "stdout",
     "output_type": "stream",
     "text": [
      "BurstID: t124_264523_iw2, sensor: S1B\n"
     ]
    },
    {
     "name": "stdout",
     "output_type": "stream",
     "text": [
      "BurstID: t071_151175_iw1, sensor: S1A\n"
     ]
    },
    {
     "name": "stdout",
     "output_type": "stream",
     "text": [
      "BurstID: t071_151175_iw1, sensor: S1B\n"
     ]
    },
    {
     "name": "stdout",
     "output_type": "stream",
     "text": [
      "BurstID: t064_135515_iw3, sensor: S1A\n"
     ]
    },
    {
     "name": "stdout",
     "output_type": "stream",
     "text": [
      "BurstID: t064_135515_iw3, sensor: S1B\n"
     ]
    },
    {
     "name": "stdout",
     "output_type": "stream",
     "text": [
      "BurstID: t087_185687_iw3, sensor: S1A\n"
     ]
    },
    {
     "name": "stdout",
     "output_type": "stream",
     "text": [
      "BurstID: t087_185687_iw3, sensor: S1B\n"
     ]
    },
    {
     "name": "stdout",
     "output_type": "stream",
     "text": [
      "BurstID: t034_071091_iw2, sensor: S1A\n"
     ]
    },
    {
     "name": "stdout",
     "output_type": "stream",
     "text": [
      "BurstID: t034_071091_iw2, sensor: S1B\n"
     ]
    },
    {
     "name": "stdout",
     "output_type": "stream",
     "text": [
      "BurstID: t115_245669_iw3, sensor: S1A\n"
     ]
    },
    {
     "name": "stdout",
     "output_type": "stream",
     "text": [
      "BurstID: t115_245669_iw3, sensor: S1B\n"
     ]
    },
    {
     "name": "stdout",
     "output_type": "stream",
     "text": [
      "BurstID: t071_151160_iw1, sensor: S1A\n"
     ]
    },
    {
     "name": "stdout",
     "output_type": "stream",
     "text": [
      "BurstID: t071_151160_iw1, sensor: S1B\n"
     ]
    },
    {
     "name": "stdout",
     "output_type": "stream",
     "text": [
      "BurstID: t135_287930_iw2, sensor: S1A\n"
     ]
    },
    {
     "name": "stdout",
     "output_type": "stream",
     "text": [
      "BurstID: t135_287930_iw2, sensor: S1B\n"
     ]
    },
    {
     "name": "stdout",
     "output_type": "stream",
     "text": [
      "BurstID: t071_151167_iw3, sensor: S1A\n"
     ]
    },
    {
     "name": "stdout",
     "output_type": "stream",
     "text": [
      "BurstID: t071_151167_iw3, sensor: S1B\n"
     ]
    },
    {
     "name": "stdout",
     "output_type": "stream",
     "text": [
      "BurstID: t034_071059_iw2, sensor: S1A\n"
     ]
    },
    {
     "name": "stdout",
     "output_type": "stream",
     "text": [
      "BurstID: t034_071059_iw2, sensor: S1B\n"
     ]
    },
    {
     "name": "stdout",
     "output_type": "stream",
     "text": [
      "BurstID: t034_071084_iw1, sensor: S1A\n"
     ]
    },
    {
     "name": "stdout",
     "output_type": "stream",
     "text": [
      "BurstID: t034_071084_iw1, sensor: S1B\n"
     ]
    },
    {
     "name": "stdout",
     "output_type": "stream",
     "text": [
      "BurstID: t071_151157_iw1, sensor: S1A\n"
     ]
    },
    {
     "name": "stdout",
     "output_type": "stream",
     "text": [
      "BurstID: t071_151157_iw1, sensor: S1B\n",
      "BurstID: t137_292325_iw1, sensor: S1A\n"
     ]
    },
    {
     "name": "stdout",
     "output_type": "stream",
     "text": [
      "BurstID: t137_292325_iw1, sensor: S1B\n"
     ]
    },
    {
     "name": "stdout",
     "output_type": "stream",
     "text": [
      "BurstID: t143_305902_iw3, sensor: S1A\n"
     ]
    },
    {
     "name": "stdout",
     "output_type": "stream",
     "text": [
      "BurstID: t143_305902_iw3, sensor: S1B\n"
     ]
    },
    {
     "name": "stdout",
     "output_type": "stream",
     "text": [
      "BurstID: t064_135536_iw1, sensor: S1A\n"
     ]
    },
    {
     "name": "stdout",
     "output_type": "stream",
     "text": [
      "BurstID: t064_135536_iw1, sensor: S1B\n"
     ]
    },
    {
     "name": "stdout",
     "output_type": "stream",
     "text": [
      "BurstID: t135_287929_iw2, sensor: S1A\n"
     ]
    },
    {
     "name": "stdout",
     "output_type": "stream",
     "text": [
      "BurstID: t135_287929_iw2, sensor: S1B\n"
     ]
    },
    {
     "name": "stdout",
     "output_type": "stream",
     "text": [
      "BurstID: t034_071053_iw2, sensor: S1A\n"
     ]
    },
    {
     "name": "stdout",
     "output_type": "stream",
     "text": [
      "BurstID: t034_071053_iw2, sensor: S1B\n"
     ]
    },
    {
     "name": "stdout",
     "output_type": "stream",
     "text": [
      "BurstID: t131_279924_iw1, sensor: S1A\n"
     ]
    },
    {
     "name": "stdout",
     "output_type": "stream",
     "text": [
      "BurstID: t131_279924_iw1, sensor: S1B\n"
     ]
    },
    {
     "name": "stdout",
     "output_type": "stream",
     "text": [
      "BurstID: t160_342210_iw2, sensor: S1A\n"
     ]
    },
    {
     "name": "stdout",
     "output_type": "stream",
     "text": [
      "BurstID: t160_342210_iw2, sensor: S1B\n"
     ]
    },
    {
     "name": "stdout",
     "output_type": "stream",
     "text": [
      "BurstID: t034_071052_iw2, sensor: S1A\n"
     ]
    },
    {
     "name": "stdout",
     "output_type": "stream",
     "text": [
      "BurstID: t034_071052_iw2, sensor: S1B\n"
     ]
    },
    {
     "name": "stdout",
     "output_type": "stream",
     "text": [
      "BurstID: t056_119002_iw1, sensor: S1A\n"
     ]
    },
    {
     "name": "stdout",
     "output_type": "stream",
     "text": [
      "BurstID: t056_119002_iw1, sensor: S1B\n"
     ]
    },
    {
     "name": "stdout",
     "output_type": "stream",
     "text": [
      "BurstID: t131_279916_iw2, sensor: S1A\n"
     ]
    },
    {
     "name": "stdout",
     "output_type": "stream",
     "text": [
      "BurstID: t131_279916_iw2, sensor: S1B\n"
     ]
    },
    {
     "name": "stdout",
     "output_type": "stream",
     "text": [
      "BurstID: t098_209313_iw1, sensor: S1A\n"
     ]
    },
    {
     "name": "stdout",
     "output_type": "stream",
     "text": [
      "BurstID: t098_209313_iw1, sensor: S1B\n"
     ]
    },
    {
     "name": "stdout",
     "output_type": "stream",
     "text": [
      "BurstID: t094_200145_iw3, sensor: S1A\n"
     ]
    },
    {
     "name": "stdout",
     "output_type": "stream",
     "text": [
      "BurstID: t094_200145_iw3, sensor: S1B\n"
     ]
    },
    {
     "name": "stdout",
     "output_type": "stream",
     "text": [
      "BurstID: t071_151232_iw3, sensor: S1A\n"
     ]
    },
    {
     "name": "stdout",
     "output_type": "stream",
     "text": [
      "BurstID: t071_151232_iw3, sensor: S1B\n"
     ]
    },
    {
     "name": "stdout",
     "output_type": "stream",
     "text": [
      "BurstID: t071_151161_iw2, sensor: S1A\n"
     ]
    },
    {
     "name": "stdout",
     "output_type": "stream",
     "text": [
      "BurstID: t071_151161_iw2, sensor: S1B\n"
     ]
    },
    {
     "name": "stdout",
     "output_type": "stream",
     "text": [
      "BurstID: t056_118998_iw3, sensor: S1A\n"
     ]
    },
    {
     "name": "stdout",
     "output_type": "stream",
     "text": [
      "BurstID: t056_118998_iw3, sensor: S1B\n"
     ]
    },
    {
     "name": "stdout",
     "output_type": "stream",
     "text": [
      "BurstID: t064_135527_iw2, sensor: S1A\n"
     ]
    },
    {
     "name": "stdout",
     "output_type": "stream",
     "text": [
      "BurstID: t064_135527_iw2, sensor: S1B\n"
     ]
    },
    {
     "name": "stdout",
     "output_type": "stream",
     "text": [
      "BurstID: t131_279911_iw2, sensor: S1A\n"
     ]
    },
    {
     "name": "stdout",
     "output_type": "stream",
     "text": [
      "BurstID: t131_279911_iw2, sensor: S1B\n"
     ]
    },
    {
     "name": "stdout",
     "output_type": "stream",
     "text": [
      "BurstID: t056_119002_iw2, sensor: S1A\n"
     ]
    },
    {
     "name": "stdout",
     "output_type": "stream",
     "text": [
      "BurstID: t056_119002_iw2, sensor: S1B\n"
     ]
    },
    {
     "name": "stdout",
     "output_type": "stream",
     "text": [
      "BurstID: t064_135519_iw3, sensor: S1A\n"
     ]
    },
    {
     "name": "stdout",
     "output_type": "stream",
     "text": [
      "BurstID: t064_135519_iw3, sensor: S1B\n"
     ]
    },
    {
     "name": "stdout",
     "output_type": "stream",
     "text": [
      "BurstID: t034_071063_iw1, sensor: S1A\n"
     ]
    },
    {
     "name": "stdout",
     "output_type": "stream",
     "text": [
      "BurstID: t034_071063_iw1, sensor: S1B\n"
     ]
    },
    {
     "name": "stdout",
     "output_type": "stream",
     "text": [
      "BurstID: t064_135526_iw2, sensor: S1A\n"
     ]
    },
    {
     "name": "stdout",
     "output_type": "stream",
     "text": [
      "BurstID: t064_135526_iw2, sensor: S1B\n"
     ]
    },
    {
     "name": "stdout",
     "output_type": "stream",
     "text": [
      "BurstID: t094_200143_iw2, sensor: S1A\n"
     ]
    },
    {
     "name": "stdout",
     "output_type": "stream",
     "text": [
      "BurstID: t094_200143_iw2, sensor: S1B\n"
     ]
    },
    {
     "name": "stdout",
     "output_type": "stream",
     "text": [
      "BurstID: t064_135519_iw1, sensor: S1A\n"
     ]
    },
    {
     "name": "stdout",
     "output_type": "stream",
     "text": [
      "BurstID: t064_135519_iw1, sensor: S1B\n"
     ]
    },
    {
     "name": "stdout",
     "output_type": "stream",
     "text": [
      "BurstID: t071_151221_iw1, sensor: S1A\n"
     ]
    },
    {
     "name": "stdout",
     "output_type": "stream",
     "text": [
      "BurstID: t071_151221_iw1, sensor: S1B\n"
     ]
    },
    {
     "name": "stdout",
     "output_type": "stream",
     "text": [
      "BurstID: t064_135512_iw1, sensor: S1A\n"
     ]
    },
    {
     "name": "stdout",
     "output_type": "stream",
     "text": [
      "BurstID: t064_135512_iw1, sensor: S1B\n"
     ]
    },
    {
     "name": "stdout",
     "output_type": "stream",
     "text": [
      "BurstID: t098_209308_iw3, sensor: S1A\n"
     ]
    },
    {
     "name": "stdout",
     "output_type": "stream",
     "text": [
      "BurstID: t098_209308_iw3, sensor: S1B\n"
     ]
    },
    {
     "name": "stdout",
     "output_type": "stream",
     "text": [
      "BurstID: t004_006652_iw2, sensor: S1A\n"
     ]
    },
    {
     "name": "stdout",
     "output_type": "stream",
     "text": [
      "BurstID: t004_006652_iw2, sensor: S1B\n"
     ]
    },
    {
     "name": "stdout",
     "output_type": "stream",
     "text": [
      "BurstID: t106_225755_iw1, sensor: S1A\n"
     ]
    },
    {
     "name": "stdout",
     "output_type": "stream",
     "text": [
      "BurstID: t106_225755_iw1, sensor: S1B\n"
     ]
    },
    {
     "name": "stdout",
     "output_type": "stream",
     "text": [
      "BurstID: t143_305905_iw2, sensor: S1A\n"
     ]
    },
    {
     "name": "stdout",
     "output_type": "stream",
     "text": [
      "BurstID: t143_305905_iw2, sensor: S1B\n"
     ]
    },
    {
     "name": "stdout",
     "output_type": "stream",
     "text": [
      "BurstID: t143_305904_iw1, sensor: S1A\n"
     ]
    },
    {
     "name": "stdout",
     "output_type": "stream",
     "text": [
      "BurstID: t143_305904_iw1, sensor: S1B\n"
     ]
    },
    {
     "name": "stdout",
     "output_type": "stream",
     "text": [
      "BurstID: t160_342214_iw1, sensor: S1A\n"
     ]
    },
    {
     "name": "stdout",
     "output_type": "stream",
     "text": [
      "BurstID: t160_342214_iw1, sensor: S1B\n"
     ]
    },
    {
     "name": "stdout",
     "output_type": "stream",
     "text": [
      "BurstID: t094_200138_iw3, sensor: S1A\n"
     ]
    },
    {
     "name": "stdout",
     "output_type": "stream",
     "text": [
      "BurstID: t094_200138_iw3, sensor: S1B\n"
     ]
    },
    {
     "name": "stdout",
     "output_type": "stream",
     "text": [
      "BurstID: t004_006662_iw1, sensor: S1A\n"
     ]
    },
    {
     "name": "stdout",
     "output_type": "stream",
     "text": [
      "BurstID: t004_006662_iw1, sensor: S1B\n"
     ]
    },
    {
     "name": "stdout",
     "output_type": "stream",
     "text": [
      "BurstID: t115_245665_iw3, sensor: S1A\n"
     ]
    },
    {
     "name": "stdout",
     "output_type": "stream",
     "text": [
      "BurstID: t115_245665_iw3, sensor: S1B\n"
     ]
    },
    {
     "name": "stdout",
     "output_type": "stream",
     "text": [
      "BurstID: t160_342220_iw3, sensor: S1A\n"
     ]
    },
    {
     "name": "stdout",
     "output_type": "stream",
     "text": [
      "BurstID: t160_342220_iw3, sensor: S1B\n"
     ]
    },
    {
     "name": "stdout",
     "output_type": "stream",
     "text": [
      "BurstID: t056_118992_iw2, sensor: S1A\n"
     ]
    },
    {
     "name": "stdout",
     "output_type": "stream",
     "text": [
      "BurstID: t056_118992_iw2, sensor: S1B\n"
     ]
    },
    {
     "name": "stdout",
     "output_type": "stream",
     "text": [
      "BurstID: t106_225740_iw1, sensor: S1A\n"
     ]
    },
    {
     "name": "stdout",
     "output_type": "stream",
     "text": [
      "BurstID: t106_225740_iw1, sensor: S1B\n"
     ]
    },
    {
     "name": "stdout",
     "output_type": "stream",
     "text": [
      "BurstID: t004_006656_iw3, sensor: S1A\n"
     ]
    },
    {
     "name": "stdout",
     "output_type": "stream",
     "text": [
      "BurstID: t004_006656_iw3, sensor: S1B\n"
     ]
    },
    {
     "name": "stdout",
     "output_type": "stream",
     "text": [
      "BurstID: t124_264303_iw2, sensor: S1A\n"
     ]
    },
    {
     "name": "stdout",
     "output_type": "stream",
     "text": [
      "BurstID: t124_264303_iw2, sensor: S1B\n"
     ]
    },
    {
     "name": "stdout",
     "output_type": "stream",
     "text": [
      "BurstID: t071_151219_iw1, sensor: S1A\n"
     ]
    },
    {
     "name": "stdout",
     "output_type": "stream",
     "text": [
      "BurstID: t071_151219_iw1, sensor: S1B\n"
     ]
    },
    {
     "name": "stdout",
     "output_type": "stream",
     "text": [
      "BurstID: t151_322390_iw2, sensor: S1A\n"
     ]
    },
    {
     "name": "stdout",
     "output_type": "stream",
     "text": [
      "BurstID: t151_322390_iw2, sensor: S1B\n",
      "BurstID: t124_264307_iw1, sensor: S1A\n"
     ]
    },
    {
     "name": "stdout",
     "output_type": "stream",
     "text": [
      "BurstID: t124_264307_iw1, sensor: S1B\n"
     ]
    },
    {
     "name": "stdout",
     "output_type": "stream",
     "text": [
      "BurstID: t098_209325_iw1, sensor: S1A\n"
     ]
    },
    {
     "name": "stdout",
     "output_type": "stream",
     "text": [
      "BurstID: t098_209325_iw1, sensor: S1B\n"
     ]
    },
    {
     "name": "stdout",
     "output_type": "stream",
     "text": [
      "BurstID: t144_308016_iw1, sensor: S1A\n"
     ]
    },
    {
     "name": "stdout",
     "output_type": "stream",
     "text": [
      "BurstID: t144_308016_iw1, sensor: S1B\n"
     ]
    },
    {
     "name": "stdout",
     "output_type": "stream",
     "text": [
      "BurstID: t094_200134_iw3, sensor: S1A\n"
     ]
    },
    {
     "name": "stdout",
     "output_type": "stream",
     "text": [
      "BurstID: t094_200134_iw3, sensor: S1B\n"
     ]
    },
    {
     "name": "stdout",
     "output_type": "stream",
     "text": [
      "BurstID: t151_322407_iw2, sensor: S1A\n"
     ]
    },
    {
     "name": "stdout",
     "output_type": "stream",
     "text": [
      "BurstID: t151_322407_iw2, sensor: S1B\n"
     ]
    },
    {
     "name": "stdout",
     "output_type": "stream",
     "text": [
      "BurstID: t071_151165_iw2, sensor: S1A\n"
     ]
    },
    {
     "name": "stdout",
     "output_type": "stream",
     "text": [
      "BurstID: t071_151165_iw2, sensor: S1B\n"
     ]
    },
    {
     "name": "stdout",
     "output_type": "stream",
     "text": [
      "BurstID: t151_322395_iw1, sensor: S1A\n"
     ]
    },
    {
     "name": "stdout",
     "output_type": "stream",
     "text": [
      "BurstID: t151_322395_iw1, sensor: S1B\n"
     ]
    },
    {
     "name": "stdout",
     "output_type": "stream",
     "text": [
      "BurstID: t087_185681_iw2, sensor: S1A\n"
     ]
    },
    {
     "name": "stdout",
     "output_type": "stream",
     "text": [
      "BurstID: t087_185681_iw2, sensor: S1B\n"
     ]
    },
    {
     "name": "stdout",
     "output_type": "stream",
     "text": [
      "BurstID: t044_093114_iw2, sensor: S1A\n"
     ]
    },
    {
     "name": "stdout",
     "output_type": "stream",
     "text": [
      "BurstID: t044_093114_iw2, sensor: S1B\n"
     ]
    },
    {
     "name": "stdout",
     "output_type": "stream",
     "text": [
      "BurstID: t042_088928_iw1, sensor: S1A\n"
     ]
    },
    {
     "name": "stdout",
     "output_type": "stream",
     "text": [
      "BurstID: t042_088928_iw1, sensor: S1B\n"
     ]
    },
    {
     "name": "stdout",
     "output_type": "stream",
     "text": [
      "BurstID: t106_225747_iw1, sensor: S1A\n"
     ]
    },
    {
     "name": "stdout",
     "output_type": "stream",
     "text": [
      "BurstID: t106_225747_iw1, sensor: S1B\n"
     ]
    },
    {
     "name": "stdout",
     "output_type": "stream",
     "text": [
      "BurstID: t034_071097_iw3, sensor: S1A\n"
     ]
    },
    {
     "name": "stdout",
     "output_type": "stream",
     "text": [
      "BurstID: t034_071097_iw3, sensor: S1B\n"
     ]
    },
    {
     "name": "stdout",
     "output_type": "stream",
     "text": [
      "BurstID: t160_342218_iw1, sensor: S1A\n"
     ]
    },
    {
     "name": "stdout",
     "output_type": "stream",
     "text": [
      "BurstID: t160_342218_iw1, sensor: S1B\n"
     ]
    },
    {
     "name": "stdout",
     "output_type": "stream",
     "text": [
      "BurstID: t137_292383_iw1, sensor: S1A\n"
     ]
    },
    {
     "name": "stdout",
     "output_type": "stream",
     "text": [
      "BurstID: t137_292383_iw1, sensor: S1B\n"
     ]
    },
    {
     "name": "stdout",
     "output_type": "stream",
     "text": [
      "BurstID: t124_264304_iw3, sensor: S1A\n"
     ]
    },
    {
     "name": "stdout",
     "output_type": "stream",
     "text": [
      "BurstID: t124_264304_iw3, sensor: S1B\n"
     ]
    },
    {
     "name": "stdout",
     "output_type": "stream",
     "text": [
      "BurstID: t034_071056_iw3, sensor: S1A\n"
     ]
    },
    {
     "name": "stdout",
     "output_type": "stream",
     "text": [
      "BurstID: t034_071056_iw3, sensor: S1B\n"
     ]
    },
    {
     "name": "stdout",
     "output_type": "stream",
     "text": [
      "BurstID: t064_135513_iw3, sensor: S1A\n"
     ]
    },
    {
     "name": "stdout",
     "output_type": "stream",
     "text": [
      "BurstID: t064_135513_iw3, sensor: S1B\n"
     ]
    },
    {
     "name": "stdout",
     "output_type": "stream",
     "text": [
      "BurstID: t131_279921_iw2, sensor: S1A\n"
     ]
    },
    {
     "name": "stdout",
     "output_type": "stream",
     "text": [
      "BurstID: t131_279921_iw2, sensor: S1B\n"
     ]
    },
    {
     "name": "stdout",
     "output_type": "stream",
     "text": [
      "BurstID: t056_118994_iw1, sensor: S1A\n"
     ]
    },
    {
     "name": "stdout",
     "output_type": "stream",
     "text": [
      "BurstID: t056_118994_iw1, sensor: S1B\n"
     ]
    },
    {
     "name": "stdout",
     "output_type": "stream",
     "text": [
      "BurstID: t107_227880_iw1, sensor: S1A\n"
     ]
    },
    {
     "name": "stdout",
     "output_type": "stream",
     "text": [
      "BurstID: t107_227880_iw1, sensor: S1B\n"
     ]
    },
    {
     "name": "stdout",
     "output_type": "stream",
     "text": [
      "BurstID: t131_279923_iw3, sensor: S1A\n"
     ]
    },
    {
     "name": "stdout",
     "output_type": "stream",
     "text": [
      "BurstID: t131_279923_iw3, sensor: S1B\n"
     ]
    },
    {
     "name": "stdout",
     "output_type": "stream",
     "text": [
      "BurstID: t004_006656_iw2, sensor: S1A\n"
     ]
    },
    {
     "name": "stdout",
     "output_type": "stream",
     "text": [
      "BurstID: t004_006656_iw2, sensor: S1B\n"
     ]
    },
    {
     "name": "stdout",
     "output_type": "stream",
     "text": [
      "BurstID: t044_093107_iw2, sensor: S1A\n"
     ]
    },
    {
     "name": "stdout",
     "output_type": "stream",
     "text": [
      "BurstID: t044_093107_iw2, sensor: S1B\n"
     ]
    },
    {
     "name": "stdout",
     "output_type": "stream",
     "text": [
      "BurstID: t124_264518_iw2, sensor: S1A\n"
     ]
    },
    {
     "name": "stdout",
     "output_type": "stream",
     "text": [
      "BurstID: t124_264518_iw2, sensor: S1B\n"
     ]
    },
    {
     "name": "stdout",
     "output_type": "stream",
     "text": [
      "BurstID: t065_137849_iw1, sensor: S1A\n"
     ]
    },
    {
     "name": "stdout",
     "output_type": "stream",
     "text": [
      "BurstID: t065_137849_iw1, sensor: S1B\n"
     ]
    },
    {
     "name": "stdout",
     "output_type": "stream",
     "text": [
      "BurstID: t106_225749_iw1, sensor: S1A\n"
     ]
    },
    {
     "name": "stdout",
     "output_type": "stream",
     "text": [
      "BurstID: t106_225749_iw1, sensor: S1B\n"
     ]
    },
    {
     "name": "stdout",
     "output_type": "stream",
     "text": [
      "BurstID: t071_151223_iw1, sensor: S1A\n"
     ]
    },
    {
     "name": "stdout",
     "output_type": "stream",
     "text": [
      "BurstID: t071_151223_iw1, sensor: S1B\n"
     ]
    },
    {
     "name": "stdout",
     "output_type": "stream",
     "text": [
      "BurstID: t065_137841_iw1, sensor: S1A\n"
     ]
    },
    {
     "name": "stdout",
     "output_type": "stream",
     "text": [
      "BurstID: t065_137841_iw1, sensor: S1B\n"
     ]
    },
    {
     "name": "stdout",
     "output_type": "stream",
     "text": [
      "BurstID: t160_342226_iw2, sensor: S1A\n"
     ]
    },
    {
     "name": "stdout",
     "output_type": "stream",
     "text": [
      "BurstID: t160_342226_iw2, sensor: S1B\n"
     ]
    },
    {
     "name": "stdout",
     "output_type": "stream",
     "text": [
      "BurstID: t071_151163_iw1, sensor: S1A\n"
     ]
    },
    {
     "name": "stdout",
     "output_type": "stream",
     "text": [
      "BurstID: t071_151163_iw1, sensor: S1B\n"
     ]
    },
    {
     "name": "stdout",
     "output_type": "stream",
     "text": [
      "BurstID: t098_209320_iw2, sensor: S1A\n"
     ]
    },
    {
     "name": "stdout",
     "output_type": "stream",
     "text": [
      "BurstID: t098_209320_iw2, sensor: S1B\n"
     ]
    },
    {
     "name": "stdout",
     "output_type": "stream",
     "text": [
      "BurstID: t107_227891_iw2, sensor: S1A\n"
     ]
    },
    {
     "name": "stdout",
     "output_type": "stream",
     "text": [
      "BurstID: t107_227891_iw2, sensor: S1B\n"
     ]
    },
    {
     "name": "stdout",
     "output_type": "stream",
     "text": [
      "BurstID: t143_305906_iw3, sensor: S1A\n"
     ]
    },
    {
     "name": "stdout",
     "output_type": "stream",
     "text": [
      "BurstID: t143_305906_iw3, sensor: S1B\n"
     ]
    },
    {
     "name": "stdout",
     "output_type": "stream",
     "text": [
      "BurstID: t115_245667_iw3, sensor: S1A\n"
     ]
    },
    {
     "name": "stdout",
     "output_type": "stream",
     "text": [
      "BurstID: t115_245667_iw3, sensor: S1B\n"
     ]
    },
    {
     "name": "stdout",
     "output_type": "stream",
     "text": [
      "BurstID: t124_264308_iw2, sensor: S1A\n"
     ]
    },
    {
     "name": "stdout",
     "output_type": "stream",
     "text": [
      "BurstID: t124_264308_iw2, sensor: S1B\n"
     ]
    },
    {
     "name": "stdout",
     "output_type": "stream",
     "text": [
      "BurstID: t131_279916_iw1, sensor: S1A\n"
     ]
    },
    {
     "name": "stdout",
     "output_type": "stream",
     "text": [
      "BurstID: t131_279916_iw1, sensor: S1B\n"
     ]
    },
    {
     "name": "stdout",
     "output_type": "stream",
     "text": [
      "BurstID: t137_292381_iw3, sensor: S1A\n"
     ]
    },
    {
     "name": "stdout",
     "output_type": "stream",
     "text": [
      "BurstID: t137_292381_iw3, sensor: S1B\n"
     ]
    },
    {
     "name": "stdout",
     "output_type": "stream",
     "text": [
      "BurstID: t143_305905_iw3, sensor: S1A\n"
     ]
    },
    {
     "name": "stdout",
     "output_type": "stream",
     "text": [
      "BurstID: t143_305905_iw3, sensor: S1B\n"
     ]
    },
    {
     "name": "stdout",
     "output_type": "stream",
     "text": [
      "BurstID: t071_151215_iw3, sensor: S1A\n"
     ]
    },
    {
     "name": "stdout",
     "output_type": "stream",
     "text": [
      "BurstID: t071_151215_iw3, sensor: S1B\n"
     ]
    },
    {
     "name": "stdout",
     "output_type": "stream",
     "text": [
      "BurstID: t034_071047_iw1, sensor: S1A\n"
     ]
    },
    {
     "name": "stdout",
     "output_type": "stream",
     "text": [
      "BurstID: t034_071047_iw1, sensor: S1B\n"
     ]
    },
    {
     "name": "stdout",
     "output_type": "stream",
     "text": [
      "BurstID: t131_279923_iw1, sensor: S1A\n"
     ]
    },
    {
     "name": "stdout",
     "output_type": "stream",
     "text": [
      "BurstID: t131_279923_iw1, sensor: S1B\n"
     ]
    },
    {
     "name": "stdout",
     "output_type": "stream",
     "text": [
      "BurstID: t094_200141_iw3, sensor: S1A\n"
     ]
    },
    {
     "name": "stdout",
     "output_type": "stream",
     "text": [
      "BurstID: t094_200141_iw3, sensor: S1B\n"
     ]
    },
    {
     "name": "stdout",
     "output_type": "stream",
     "text": [
      "BurstID: t042_088921_iw3, sensor: S1A\n"
     ]
    },
    {
     "name": "stdout",
     "output_type": "stream",
     "text": [
      "BurstID: t042_088921_iw3, sensor: S1B\n"
     ]
    },
    {
     "name": "stdout",
     "output_type": "stream",
     "text": [
      "BurstID: t044_093110_iw1, sensor: S1A\n"
     ]
    },
    {
     "name": "stdout",
     "output_type": "stream",
     "text": [
      "BurstID: t044_093110_iw1, sensor: S1B\n"
     ]
    },
    {
     "name": "stdout",
     "output_type": "stream",
     "text": [
      "BurstID: t135_287929_iw1, sensor: S1A\n"
     ]
    },
    {
     "name": "stdout",
     "output_type": "stream",
     "text": [
      "BurstID: t135_287929_iw1, sensor: S1B\n"
     ]
    },
    {
     "name": "stdout",
     "output_type": "stream",
     "text": [
      "BurstID: t098_209325_iw2, sensor: S1A\n"
     ]
    },
    {
     "name": "stdout",
     "output_type": "stream",
     "text": [
      "BurstID: t098_209325_iw2, sensor: S1B\n"
     ]
    },
    {
     "name": "stdout",
     "output_type": "stream",
     "text": [
      "BurstID: t071_151228_iw1, sensor: S1A\n"
     ]
    },
    {
     "name": "stdout",
     "output_type": "stream",
     "text": [
      "BurstID: t071_151228_iw1, sensor: S1B\n"
     ]
    },
    {
     "name": "stdout",
     "output_type": "stream",
     "text": [
      "BurstID: t064_135531_iw1, sensor: S1A\n"
     ]
    },
    {
     "name": "stdout",
     "output_type": "stream",
     "text": [
      "BurstID: t064_135531_iw1, sensor: S1B\n"
     ]
    },
    {
     "name": "stdout",
     "output_type": "stream",
     "text": [
      "BurstID: t115_245672_iw1, sensor: S1A\n"
     ]
    },
    {
     "name": "stdout",
     "output_type": "stream",
     "text": [
      "BurstID: t115_245672_iw1, sensor: S1B\n"
     ]
    },
    {
     "name": "stdout",
     "output_type": "stream",
     "text": [
      "BurstID: t071_151156_iw1, sensor: S1A\n"
     ]
    },
    {
     "name": "stdout",
     "output_type": "stream",
     "text": [
      "BurstID: t071_151156_iw1, sensor: S1B\n",
      "BurstID: t034_071093_iw1, sensor: S1A\n"
     ]
    },
    {
     "name": "stdout",
     "output_type": "stream",
     "text": [
      "BurstID: t034_071093_iw1, sensor: S1B\n"
     ]
    },
    {
     "name": "stdout",
     "output_type": "stream",
     "text": [
      "BurstID: t071_151170_iw2, sensor: S1A\n"
     ]
    },
    {
     "name": "stdout",
     "output_type": "stream",
     "text": [
      "BurstID: t071_151170_iw2, sensor: S1B\n"
     ]
    },
    {
     "name": "stdout",
     "output_type": "stream",
     "text": [
      "BurstID: t004_006652_iw1, sensor: S1A\n"
     ]
    },
    {
     "name": "stdout",
     "output_type": "stream",
     "text": [
      "BurstID: t004_006652_iw1, sensor: S1B\n"
     ]
    },
    {
     "name": "stdout",
     "output_type": "stream",
     "text": [
      "BurstID: t034_071097_iw1, sensor: S1A\n"
     ]
    },
    {
     "name": "stdout",
     "output_type": "stream",
     "text": [
      "BurstID: t034_071097_iw1, sensor: S1B\n"
     ]
    },
    {
     "name": "stdout",
     "output_type": "stream",
     "text": [
      "BurstID: t151_322400_iw3, sensor: S1A\n"
     ]
    },
    {
     "name": "stdout",
     "output_type": "stream",
     "text": [
      "BurstID: t151_322400_iw3, sensor: S1B\n"
     ]
    },
    {
     "name": "stdout",
     "output_type": "stream",
     "text": [
      "BurstID: t144_308013_iw2, sensor: S1A\n"
     ]
    },
    {
     "name": "stdout",
     "output_type": "stream",
     "text": [
      "BurstID: t144_308013_iw2, sensor: S1B\n"
     ]
    },
    {
     "name": "stdout",
     "output_type": "stream",
     "text": [
      "BurstID: t135_287933_iw1, sensor: S1A\n"
     ]
    },
    {
     "name": "stdout",
     "output_type": "stream",
     "text": [
      "BurstID: t135_287933_iw1, sensor: S1B\n"
     ]
    },
    {
     "name": "stdout",
     "output_type": "stream",
     "text": [
      "BurstID: t124_264313_iw3, sensor: S1A\n"
     ]
    },
    {
     "name": "stdout",
     "output_type": "stream",
     "text": [
      "BurstID: t124_264313_iw3, sensor: S1B\n"
     ]
    },
    {
     "name": "stdout",
     "output_type": "stream",
     "text": [
      "BurstID: t137_292384_iw3, sensor: S1A\n"
     ]
    },
    {
     "name": "stdout",
     "output_type": "stream",
     "text": [
      "BurstID: t137_292384_iw3, sensor: S1B\n"
     ]
    },
    {
     "name": "stdout",
     "output_type": "stream",
     "text": [
      "BurstID: t056_118999_iw3, sensor: S1A\n"
     ]
    },
    {
     "name": "stdout",
     "output_type": "stream",
     "text": [
      "BurstID: t056_118999_iw3, sensor: S1B\n"
     ]
    },
    {
     "name": "stdout",
     "output_type": "stream",
     "text": [
      "BurstID: t034_071062_iw1, sensor: S1A\n"
     ]
    },
    {
     "name": "stdout",
     "output_type": "stream",
     "text": [
      "BurstID: t034_071062_iw1, sensor: S1B\n"
     ]
    },
    {
     "name": "stdout",
     "output_type": "stream",
     "text": [
      "BurstID: t160_342212_iw3, sensor: S1A\n"
     ]
    },
    {
     "name": "stdout",
     "output_type": "stream",
     "text": [
      "BurstID: t160_342212_iw3, sensor: S1B\n"
     ]
    },
    {
     "name": "stdout",
     "output_type": "stream",
     "text": [
      "BurstID: t115_245666_iw1, sensor: S1A\n"
     ]
    },
    {
     "name": "stdout",
     "output_type": "stream",
     "text": [
      "BurstID: t115_245666_iw1, sensor: S1B\n"
     ]
    },
    {
     "name": "stdout",
     "output_type": "stream",
     "text": [
      "BurstID: t131_279927_iw2, sensor: S1A\n"
     ]
    },
    {
     "name": "stdout",
     "output_type": "stream",
     "text": [
      "BurstID: t131_279927_iw2, sensor: S1B\n"
     ]
    },
    {
     "name": "stdout",
     "output_type": "stream",
     "text": [
      "BurstID: t071_151166_iw2, sensor: S1A\n"
     ]
    },
    {
     "name": "stdout",
     "output_type": "stream",
     "text": [
      "BurstID: t071_151166_iw2, sensor: S1B\n"
     ]
    },
    {
     "name": "stdout",
     "output_type": "stream",
     "text": [
      "BurstID: t064_135532_iw3, sensor: S1A\n"
     ]
    },
    {
     "name": "stdout",
     "output_type": "stream",
     "text": [
      "BurstID: t064_135532_iw3, sensor: S1B\n"
     ]
    },
    {
     "name": "stdout",
     "output_type": "stream",
     "text": [
      "BurstID: t107_227893_iw1, sensor: S1A\n"
     ]
    },
    {
     "name": "stdout",
     "output_type": "stream",
     "text": [
      "BurstID: t107_227893_iw1, sensor: S1B\n"
     ]
    },
    {
     "name": "stdout",
     "output_type": "stream",
     "text": [
      "BurstID: t065_137846_iw2, sensor: S1A\n"
     ]
    },
    {
     "name": "stdout",
     "output_type": "stream",
     "text": [
      "BurstID: t065_137846_iw2, sensor: S1B\n"
     ]
    },
    {
     "name": "stdout",
     "output_type": "stream",
     "text": [
      "BurstID: t071_151235_iw2, sensor: S1A\n"
     ]
    },
    {
     "name": "stdout",
     "output_type": "stream",
     "text": [
      "BurstID: t071_151235_iw2, sensor: S1B\n"
     ]
    },
    {
     "name": "stdout",
     "output_type": "stream",
     "text": [
      "BurstID: t115_245671_iw1, sensor: S1A\n"
     ]
    },
    {
     "name": "stdout",
     "output_type": "stream",
     "text": [
      "BurstID: t115_245671_iw1, sensor: S1B\n"
     ]
    },
    {
     "name": "stdout",
     "output_type": "stream",
     "text": [
      "BurstID: t087_185681_iw3, sensor: S1A\n"
     ]
    },
    {
     "name": "stdout",
     "output_type": "stream",
     "text": [
      "BurstID: t087_185681_iw3, sensor: S1B\n"
     ]
    },
    {
     "name": "stdout",
     "output_type": "stream",
     "text": [
      "BurstID: t094_200139_iw3, sensor: S1A\n"
     ]
    },
    {
     "name": "stdout",
     "output_type": "stream",
     "text": [
      "BurstID: t094_200139_iw3, sensor: S1B\n"
     ]
    },
    {
     "name": "stdout",
     "output_type": "stream",
     "text": [
      "BurstID: t034_071092_iw2, sensor: S1A\n"
     ]
    },
    {
     "name": "stdout",
     "output_type": "stream",
     "text": [
      "BurstID: t034_071092_iw2, sensor: S1B\n"
     ]
    },
    {
     "name": "stdout",
     "output_type": "stream",
     "text": [
      "BurstID: t135_287928_iw1, sensor: S1A\n"
     ]
    },
    {
     "name": "stdout",
     "output_type": "stream",
     "text": [
      "BurstID: t135_287928_iw1, sensor: S1B\n"
     ]
    },
    {
     "name": "stdout",
     "output_type": "stream",
     "text": [
      "BurstID: t056_118989_iw2, sensor: S1A\n"
     ]
    },
    {
     "name": "stdout",
     "output_type": "stream",
     "text": [
      "BurstID: t056_118989_iw2, sensor: S1B\n"
     ]
    },
    {
     "name": "stdout",
     "output_type": "stream",
     "text": [
      "BurstID: t106_225753_iw2, sensor: S1A\n"
     ]
    },
    {
     "name": "stdout",
     "output_type": "stream",
     "text": [
      "BurstID: t106_225753_iw2, sensor: S1B\n"
     ]
    },
    {
     "name": "stdout",
     "output_type": "stream",
     "text": [
      "BurstID: t137_292388_iw3, sensor: S1A\n"
     ]
    },
    {
     "name": "stdout",
     "output_type": "stream",
     "text": [
      "BurstID: t137_292388_iw3, sensor: S1B\n"
     ]
    },
    {
     "name": "stdout",
     "output_type": "stream",
     "text": [
      "BurstID: t004_006663_iw2, sensor: S1A\n"
     ]
    },
    {
     "name": "stdout",
     "output_type": "stream",
     "text": [
      "BurstID: t004_006663_iw2, sensor: S1B\n"
     ]
    },
    {
     "name": "stdout",
     "output_type": "stream",
     "text": [
      "BurstID: t098_209324_iw3, sensor: S1A\n"
     ]
    },
    {
     "name": "stdout",
     "output_type": "stream",
     "text": [
      "BurstID: t098_209324_iw3, sensor: S1B\n"
     ]
    },
    {
     "name": "stdout",
     "output_type": "stream",
     "text": [
      "BurstID: t107_227881_iw3, sensor: S1A\n"
     ]
    },
    {
     "name": "stdout",
     "output_type": "stream",
     "text": [
      "BurstID: t107_227881_iw3, sensor: S1B\n"
     ]
    },
    {
     "name": "stdout",
     "output_type": "stream",
     "text": [
      "BurstID: t124_264519_iw3, sensor: S1A\n"
     ]
    },
    {
     "name": "stdout",
     "output_type": "stream",
     "text": [
      "BurstID: t124_264519_iw3, sensor: S1B\n"
     ]
    },
    {
     "name": "stdout",
     "output_type": "stream",
     "text": [
      "BurstID: t034_071099_iw1, sensor: S1A\n"
     ]
    },
    {
     "name": "stdout",
     "output_type": "stream",
     "text": [
      "BurstID: t034_071099_iw1, sensor: S1B\n"
     ]
    },
    {
     "name": "stdout",
     "output_type": "stream",
     "text": [
      "BurstID: t135_287924_iw1, sensor: S1A\n"
     ]
    },
    {
     "name": "stdout",
     "output_type": "stream",
     "text": [
      "BurstID: t135_287924_iw1, sensor: S1B\n"
     ]
    },
    {
     "name": "stdout",
     "output_type": "stream",
     "text": [
      "BurstID: t124_264305_iw2, sensor: S1A\n"
     ]
    },
    {
     "name": "stdout",
     "output_type": "stream",
     "text": [
      "BurstID: t124_264305_iw2, sensor: S1B\n"
     ]
    },
    {
     "name": "stdout",
     "output_type": "stream",
     "text": [
      "BurstID: t151_322396_iw2, sensor: S1A\n"
     ]
    },
    {
     "name": "stdout",
     "output_type": "stream",
     "text": [
      "BurstID: t151_322396_iw2, sensor: S1B\n"
     ]
    },
    {
     "name": "stdout",
     "output_type": "stream",
     "text": [
      "BurstID: t115_245665_iw2, sensor: S1A\n"
     ]
    },
    {
     "name": "stdout",
     "output_type": "stream",
     "text": [
      "BurstID: t115_245665_iw2, sensor: S1B\n"
     ]
    },
    {
     "name": "stdout",
     "output_type": "stream",
     "text": [
      "BurstID: t107_227892_iw2, sensor: S1A\n"
     ]
    },
    {
     "name": "stdout",
     "output_type": "stream",
     "text": [
      "BurstID: t107_227892_iw2, sensor: S1B\n"
     ]
    },
    {
     "name": "stdout",
     "output_type": "stream",
     "text": [
      "BurstID: t064_135520_iw3, sensor: S1A\n"
     ]
    },
    {
     "name": "stdout",
     "output_type": "stream",
     "text": [
      "BurstID: t064_135520_iw3, sensor: S1B\n"
     ]
    },
    {
     "name": "stdout",
     "output_type": "stream",
     "text": [
      "BurstID: t071_151223_iw2, sensor: S1A\n"
     ]
    },
    {
     "name": "stdout",
     "output_type": "stream",
     "text": [
      "BurstID: t071_151223_iw2, sensor: S1B\n"
     ]
    },
    {
     "name": "stdout",
     "output_type": "stream",
     "text": [
      "BurstID: t106_225741_iw2, sensor: S1A\n"
     ]
    },
    {
     "name": "stdout",
     "output_type": "stream",
     "text": [
      "BurstID: t106_225741_iw2, sensor: S1B\n"
     ]
    },
    {
     "name": "stdout",
     "output_type": "stream",
     "text": [
      "BurstID: t042_088920_iw3, sensor: S1A\n"
     ]
    },
    {
     "name": "stdout",
     "output_type": "stream",
     "text": [
      "BurstID: t042_088920_iw3, sensor: S1B\n"
     ]
    },
    {
     "name": "stdout",
     "output_type": "stream",
     "text": [
      "BurstID: t071_151226_iw1, sensor: S1A\n"
     ]
    },
    {
     "name": "stdout",
     "output_type": "stream",
     "text": [
      "BurstID: t071_151226_iw1, sensor: S1B\n"
     ]
    },
    {
     "name": "stdout",
     "output_type": "stream",
     "text": [
      "BurstID: t107_227891_iw1, sensor: S1A\n"
     ]
    },
    {
     "name": "stdout",
     "output_type": "stream",
     "text": [
      "BurstID: t107_227891_iw1, sensor: S1B\n"
     ]
    },
    {
     "name": "stdout",
     "output_type": "stream",
     "text": [
      "BurstID: t071_151228_iw3, sensor: S1A\n"
     ]
    },
    {
     "name": "stdout",
     "output_type": "stream",
     "text": [
      "BurstID: t071_151228_iw3, sensor: S1B\n"
     ]
    },
    {
     "name": "stdout",
     "output_type": "stream",
     "text": [
      "BurstID: t034_071055_iw1, sensor: S1A\n"
     ]
    },
    {
     "name": "stdout",
     "output_type": "stream",
     "text": [
      "BurstID: t034_071055_iw1, sensor: S1B\n"
     ]
    },
    {
     "name": "stdout",
     "output_type": "stream",
     "text": [
      "BurstID: t151_322398_iw3, sensor: S1A\n"
     ]
    },
    {
     "name": "stdout",
     "output_type": "stream",
     "text": [
      "BurstID: t151_322398_iw3, sensor: S1B\n"
     ]
    },
    {
     "name": "stdout",
     "output_type": "stream",
     "text": [
      "BurstID: t106_225737_iw1, sensor: S1A\n"
     ]
    },
    {
     "name": "stdout",
     "output_type": "stream",
     "text": [
      "BurstID: t106_225737_iw1, sensor: S1B\n"
     ]
    },
    {
     "name": "stdout",
     "output_type": "stream",
     "text": [
      "BurstID: t094_200142_iw1, sensor: S1A\n"
     ]
    },
    {
     "name": "stdout",
     "output_type": "stream",
     "text": [
      "BurstID: t094_200142_iw1, sensor: S1B\n"
     ]
    },
    {
     "name": "stdout",
     "output_type": "stream",
     "text": [
      "BurstID: t034_071056_iw1, sensor: S1A\n"
     ]
    },
    {
     "name": "stdout",
     "output_type": "stream",
     "text": [
      "BurstID: t034_071056_iw1, sensor: S1B\n"
     ]
    },
    {
     "name": "stdout",
     "output_type": "stream",
     "text": [
      "BurstID: t071_151218_iw1, sensor: S1A\n"
     ]
    },
    {
     "name": "stdout",
     "output_type": "stream",
     "text": [
      "BurstID: t071_151218_iw1, sensor: S1B\n"
     ]
    },
    {
     "name": "stdout",
     "output_type": "stream",
     "text": [
      "BurstID: t034_071088_iw2, sensor: S1A\n"
     ]
    },
    {
     "name": "stdout",
     "output_type": "stream",
     "text": [
      "BurstID: t034_071088_iw2, sensor: S1B\n"
     ]
    },
    {
     "name": "stdout",
     "output_type": "stream",
     "text": [
      "BurstID: t071_151219_iw3, sensor: S1A\n"
     ]
    },
    {
     "name": "stdout",
     "output_type": "stream",
     "text": [
      "BurstID: t071_151219_iw3, sensor: S1B\n"
     ]
    },
    {
     "name": "stdout",
     "output_type": "stream",
     "text": [
      "BurstID: t137_292382_iw1, sensor: S1A\n"
     ]
    },
    {
     "name": "stdout",
     "output_type": "stream",
     "text": [
      "BurstID: t137_292382_iw1, sensor: S1B\n"
     ]
    },
    {
     "name": "stdout",
     "output_type": "stream",
     "text": [
      "BurstID: t137_292383_iw3, sensor: S1A\n"
     ]
    },
    {
     "name": "stdout",
     "output_type": "stream",
     "text": [
      "BurstID: t137_292383_iw3, sensor: S1B\n"
     ]
    },
    {
     "name": "stdout",
     "output_type": "stream",
     "text": [
      "BurstID: t034_071049_iw2, sensor: S1A\n"
     ]
    },
    {
     "name": "stdout",
     "output_type": "stream",
     "text": [
      "BurstID: t034_071049_iw2, sensor: S1B\n"
     ]
    },
    {
     "name": "stdout",
     "output_type": "stream",
     "text": [
      "BurstID: t056_118991_iw1, sensor: S1A\n"
     ]
    },
    {
     "name": "stdout",
     "output_type": "stream",
     "text": [
      "BurstID: t056_118991_iw1, sensor: S1B\n"
     ]
    },
    {
     "name": "stdout",
     "output_type": "stream",
     "text": [
      "BurstID: t064_135508_iw2, sensor: S1A\n"
     ]
    },
    {
     "name": "stdout",
     "output_type": "stream",
     "text": [
      "BurstID: t064_135508_iw2, sensor: S1B\n"
     ]
    },
    {
     "name": "stdout",
     "output_type": "stream",
     "text": [
      "BurstID: t107_227889_iw2, sensor: S1A\n"
     ]
    },
    {
     "name": "stdout",
     "output_type": "stream",
     "text": [
      "BurstID: t107_227889_iw2, sensor: S1B\n"
     ]
    },
    {
     "name": "stdout",
     "output_type": "stream",
     "text": [
      "BurstID: t098_209311_iw3, sensor: S1A\n"
     ]
    },
    {
     "name": "stdout",
     "output_type": "stream",
     "text": [
      "BurstID: t098_209311_iw3, sensor: S1B\n"
     ]
    },
    {
     "name": "stdout",
     "output_type": "stream",
     "text": [
      "BurstID: t106_225756_iw1, sensor: S1A\n"
     ]
    },
    {
     "name": "stdout",
     "output_type": "stream",
     "text": [
      "BurstID: t106_225756_iw1, sensor: S1B\n"
     ]
    },
    {
     "name": "stdout",
     "output_type": "stream",
     "text": [
      "BurstID: t064_135519_iw2, sensor: S1A\n"
     ]
    },
    {
     "name": "stdout",
     "output_type": "stream",
     "text": [
      "BurstID: t064_135519_iw2, sensor: S1B\n"
     ]
    },
    {
     "name": "stdout",
     "output_type": "stream",
     "text": [
      "BurstID: t071_151169_iw2, sensor: S1A\n"
     ]
    },
    {
     "name": "stdout",
     "output_type": "stream",
     "text": [
      "BurstID: t071_151169_iw2, sensor: S1B\n"
     ]
    },
    {
     "name": "stdout",
     "output_type": "stream",
     "text": [
      "BurstID: t151_322409_iw1, sensor: S1A\n"
     ]
    },
    {
     "name": "stdout",
     "output_type": "stream",
     "text": [
      "BurstID: t151_322409_iw1, sensor: S1B\n"
     ]
    },
    {
     "name": "stdout",
     "output_type": "stream",
     "text": [
      "BurstID: t044_093105_iw1, sensor: S1A\n"
     ]
    },
    {
     "name": "stdout",
     "output_type": "stream",
     "text": [
      "BurstID: t044_093105_iw1, sensor: S1B\n"
     ]
    },
    {
     "name": "stdout",
     "output_type": "stream",
     "text": [
      "BurstID: t115_245674_iw3, sensor: S1A\n"
     ]
    },
    {
     "name": "stdout",
     "output_type": "stream",
     "text": [
      "BurstID: t115_245674_iw3, sensor: S1B\n"
     ]
    },
    {
     "name": "stdout",
     "output_type": "stream",
     "text": [
      "BurstID: t124_264521_iw2, sensor: S1A\n"
     ]
    },
    {
     "name": "stdout",
     "output_type": "stream",
     "text": [
      "BurstID: t124_264521_iw2, sensor: S1B\n"
     ]
    },
    {
     "name": "stdout",
     "output_type": "stream",
     "text": [
      "BurstID: t115_245673_iw3, sensor: S1A\n"
     ]
    },
    {
     "name": "stdout",
     "output_type": "stream",
     "text": [
      "BurstID: t115_245673_iw3, sensor: S1B\n"
     ]
    },
    {
     "name": "stdout",
     "output_type": "stream",
     "text": [
      "BurstID: t042_088927_iw2, sensor: S1A\n"
     ]
    },
    {
     "name": "stdout",
     "output_type": "stream",
     "text": [
      "BurstID: t042_088927_iw2, sensor: S1B\n"
     ]
    },
    {
     "name": "stdout",
     "output_type": "stream",
     "text": [
      "BurstID: t034_071049_iw1, sensor: S1A\n"
     ]
    },
    {
     "name": "stdout",
     "output_type": "stream",
     "text": [
      "BurstID: t034_071049_iw1, sensor: S1B\n"
     ]
    },
    {
     "name": "stdout",
     "output_type": "stream",
     "text": [
      "BurstID: t151_322391_iw3, sensor: S1A\n"
     ]
    },
    {
     "name": "stdout",
     "output_type": "stream",
     "text": [
      "BurstID: t151_322391_iw3, sensor: S1B\n",
      "BurstID: t106_225745_iw2, sensor: S1A\n"
     ]
    },
    {
     "name": "stdout",
     "output_type": "stream",
     "text": [
      "BurstID: t106_225745_iw2, sensor: S1B\n"
     ]
    },
    {
     "name": "stdout",
     "output_type": "stream",
     "text": [
      "BurstID: t124_264520_iw1, sensor: S1A\n"
     ]
    },
    {
     "name": "stdout",
     "output_type": "stream",
     "text": [
      "BurstID: t124_264520_iw1, sensor: S1B\n"
     ]
    },
    {
     "name": "stdout",
     "output_type": "stream",
     "text": [
      "BurstID: t071_151216_iw1, sensor: S1A\n"
     ]
    },
    {
     "name": "stdout",
     "output_type": "stream",
     "text": [
      "BurstID: t071_151216_iw1, sensor: S1B\n"
     ]
    },
    {
     "name": "stdout",
     "output_type": "stream",
     "text": [
      "BurstID: t034_071048_iw3, sensor: S1A\n"
     ]
    },
    {
     "name": "stdout",
     "output_type": "stream",
     "text": [
      "BurstID: t034_071048_iw3, sensor: S1B\n"
     ]
    },
    {
     "name": "stdout",
     "output_type": "stream",
     "text": [
      "BurstID: t071_151227_iw3, sensor: S1A\n"
     ]
    },
    {
     "name": "stdout",
     "output_type": "stream",
     "text": [
      "BurstID: t071_151227_iw3, sensor: S1B\n"
     ]
    },
    {
     "name": "stdout",
     "output_type": "stream",
     "text": [
      "BurstID: t042_088922_iw3, sensor: S1A\n"
     ]
    },
    {
     "name": "stdout",
     "output_type": "stream",
     "text": [
      "BurstID: t042_088922_iw3, sensor: S1B\n"
     ]
    },
    {
     "name": "stdout",
     "output_type": "stream",
     "text": [
      "BurstID: t106_225745_iw3, sensor: S1A\n"
     ]
    },
    {
     "name": "stdout",
     "output_type": "stream",
     "text": [
      "BurstID: t106_225745_iw3, sensor: S1B\n"
     ]
    },
    {
     "name": "stdout",
     "output_type": "stream",
     "text": [
      "BurstID: t094_200129_iw2, sensor: S1A\n"
     ]
    },
    {
     "name": "stdout",
     "output_type": "stream",
     "text": [
      "BurstID: t094_200129_iw2, sensor: S1B\n"
     ]
    },
    {
     "name": "stdout",
     "output_type": "stream",
     "text": [
      "BurstID: t004_006645_iw1, sensor: S1A\n"
     ]
    },
    {
     "name": "stdout",
     "output_type": "stream",
     "text": [
      "BurstID: t004_006645_iw1, sensor: S1B\n"
     ]
    },
    {
     "name": "stdout",
     "output_type": "stream",
     "text": [
      "BurstID: t056_118984_iw1, sensor: S1A\n"
     ]
    },
    {
     "name": "stdout",
     "output_type": "stream",
     "text": [
      "BurstID: t056_118984_iw1, sensor: S1B\n"
     ]
    },
    {
     "name": "stdout",
     "output_type": "stream",
     "text": [
      "BurstID: t124_264523_iw3, sensor: S1A\n"
     ]
    },
    {
     "name": "stdout",
     "output_type": "stream",
     "text": [
      "BurstID: t124_264523_iw3, sensor: S1B\n"
     ]
    },
    {
     "name": "stdout",
     "output_type": "stream",
     "text": [
      "BurstID: t107_227880_iw2, sensor: S1A\n"
     ]
    },
    {
     "name": "stdout",
     "output_type": "stream",
     "text": [
      "BurstID: t107_227880_iw2, sensor: S1B\n"
     ]
    },
    {
     "name": "stdout",
     "output_type": "stream",
     "text": [
      "BurstID: t064_135523_iw1, sensor: S1A\n"
     ]
    },
    {
     "name": "stdout",
     "output_type": "stream",
     "text": [
      "BurstID: t064_135523_iw1, sensor: S1B\n"
     ]
    },
    {
     "name": "stdout",
     "output_type": "stream",
     "text": [
      "BurstID: t137_292330_iw2, sensor: S1A\n"
     ]
    },
    {
     "name": "stdout",
     "output_type": "stream",
     "text": [
      "BurstID: t137_292330_iw2, sensor: S1B\n"
     ]
    },
    {
     "name": "stdout",
     "output_type": "stream",
     "text": [
      "BurstID: t065_137844_iw2, sensor: S1A\n"
     ]
    },
    {
     "name": "stdout",
     "output_type": "stream",
     "text": [
      "BurstID: t065_137844_iw2, sensor: S1B\n"
     ]
    },
    {
     "name": "stdout",
     "output_type": "stream",
     "text": [
      "BurstID: t071_151159_iw1, sensor: S1A\n"
     ]
    },
    {
     "name": "stdout",
     "output_type": "stream",
     "text": [
      "BurstID: t071_151159_iw1, sensor: S1B\n",
      "BurstID: t064_135522_iw1, sensor: S1A\n"
     ]
    },
    {
     "name": "stdout",
     "output_type": "stream",
     "text": [
      "BurstID: t064_135522_iw1, sensor: S1B\n"
     ]
    },
    {
     "name": "stdout",
     "output_type": "stream",
     "text": [
      "BurstID: t107_227894_iw2, sensor: S1A\n"
     ]
    },
    {
     "name": "stdout",
     "output_type": "stream",
     "text": [
      "BurstID: t107_227894_iw2, sensor: S1B\n"
     ]
    },
    {
     "name": "stdout",
     "output_type": "stream",
     "text": [
      "BurstID: t056_118982_iw2, sensor: S1A\n"
     ]
    },
    {
     "name": "stdout",
     "output_type": "stream",
     "text": [
      "BurstID: t056_118982_iw2, sensor: S1B\n"
     ]
    },
    {
     "name": "stdout",
     "output_type": "stream",
     "text": [
      "BurstID: t135_287931_iw1, sensor: S1A\n"
     ]
    },
    {
     "name": "stdout",
     "output_type": "stream",
     "text": [
      "BurstID: t135_287931_iw1, sensor: S1B\n"
     ]
    },
    {
     "name": "stdout",
     "output_type": "stream",
     "text": [
      "BurstID: t151_322399_iw3, sensor: S1A\n"
     ]
    },
    {
     "name": "stdout",
     "output_type": "stream",
     "text": [
      "BurstID: t151_322399_iw3, sensor: S1B\n"
     ]
    },
    {
     "name": "stdout",
     "output_type": "stream",
     "text": [
      "BurstID: t044_093114_iw3, sensor: S1A\n"
     ]
    },
    {
     "name": "stdout",
     "output_type": "stream",
     "text": [
      "BurstID: t044_093114_iw3, sensor: S1B\n"
     ]
    },
    {
     "name": "stdout",
     "output_type": "stream",
     "text": [
      "BurstID: t135_287918_iw3, sensor: S1A\n",
      "BurstID: t135_287918_iw3, sensor: S1B\n"
     ]
    },
    {
     "name": "stdout",
     "output_type": "stream",
     "text": [
      "BurstID: t160_342211_iw2, sensor: S1A\n"
     ]
    },
    {
     "name": "stdout",
     "output_type": "stream",
     "text": [
      "BurstID: t160_342211_iw2, sensor: S1B\n"
     ]
    },
    {
     "name": "stdout",
     "output_type": "stream",
     "text": [
      "BurstID: t151_322406_iw2, sensor: S1A\n"
     ]
    },
    {
     "name": "stdout",
     "output_type": "stream",
     "text": [
      "BurstID: t151_322406_iw2, sensor: S1B\n"
     ]
    },
    {
     "name": "stdout",
     "output_type": "stream",
     "text": [
      "BurstID: t151_322392_iw3, sensor: S1A\n"
     ]
    },
    {
     "name": "stdout",
     "output_type": "stream",
     "text": [
      "BurstID: t151_322392_iw3, sensor: S1B\n"
     ]
    },
    {
     "name": "stdout",
     "output_type": "stream",
     "text": [
      "BurstID: t056_118981_iw2, sensor: S1A\n"
     ]
    },
    {
     "name": "stdout",
     "output_type": "stream",
     "text": [
      "BurstID: t056_118981_iw2, sensor: S1B\n"
     ]
    },
    {
     "name": "stdout",
     "output_type": "stream",
     "text": [
      "BurstID: t094_200135_iw3, sensor: S1A\n"
     ]
    },
    {
     "name": "stdout",
     "output_type": "stream",
     "text": [
      "BurstID: t094_200135_iw3, sensor: S1B\n"
     ]
    },
    {
     "name": "stdout",
     "output_type": "stream",
     "text": [
      "BurstID: t143_305899_iw3, sensor: S1A\n"
     ]
    },
    {
     "name": "stdout",
     "output_type": "stream",
     "text": [
      "BurstID: t143_305899_iw3, sensor: S1B\n"
     ]
    },
    {
     "name": "stdout",
     "output_type": "stream",
     "text": [
      "BurstID: t160_342224_iw2, sensor: S1A\n"
     ]
    },
    {
     "name": "stdout",
     "output_type": "stream",
     "text": [
      "BurstID: t160_342224_iw2, sensor: S1B\n"
     ]
    },
    {
     "name": "stdout",
     "output_type": "stream",
     "text": [
      "BurstID: t098_209325_iw3, sensor: S1A\n"
     ]
    },
    {
     "name": "stdout",
     "output_type": "stream",
     "text": [
      "BurstID: t098_209325_iw3, sensor: S1B\n"
     ]
    },
    {
     "name": "stdout",
     "output_type": "stream",
     "text": [
      "BurstID: t107_227890_iw2, sensor: S1A\n"
     ]
    },
    {
     "name": "stdout",
     "output_type": "stream",
     "text": [
      "BurstID: t107_227890_iw2, sensor: S1B\n"
     ]
    },
    {
     "name": "stdout",
     "output_type": "stream",
     "text": [
      "BurstID: t034_071059_iw1, sensor: S1A\n"
     ]
    },
    {
     "name": "stdout",
     "output_type": "stream",
     "text": [
      "BurstID: t034_071059_iw1, sensor: S1B\n"
     ]
    },
    {
     "name": "stdout",
     "output_type": "stream",
     "text": [
      "BurstID: t106_225757_iw1, sensor: S1A\n"
     ]
    },
    {
     "name": "stdout",
     "output_type": "stream",
     "text": [
      "BurstID: t106_225757_iw1, sensor: S1B\n"
     ]
    },
    {
     "name": "stdout",
     "output_type": "stream",
     "text": [
      "BurstID: t064_135508_iw1, sensor: S1A\n"
     ]
    },
    {
     "name": "stdout",
     "output_type": "stream",
     "text": [
      "BurstID: t064_135508_iw1, sensor: S1B\n"
     ]
    },
    {
     "name": "stdout",
     "output_type": "stream",
     "text": [
      "BurstID: t151_322393_iw3, sensor: S1A\n"
     ]
    },
    {
     "name": "stdout",
     "output_type": "stream",
     "text": [
      "BurstID: t151_322393_iw3, sensor: S1B\n"
     ]
    },
    {
     "name": "stdout",
     "output_type": "stream",
     "text": [
      "BurstID: t137_292385_iw2, sensor: S1A\n"
     ]
    },
    {
     "name": "stdout",
     "output_type": "stream",
     "text": [
      "BurstID: t137_292385_iw2, sensor: S1B\n"
     ]
    },
    {
     "name": "stdout",
     "output_type": "stream",
     "text": [
      "BurstID: t071_151220_iw1, sensor: S1A\n"
     ]
    },
    {
     "name": "stdout",
     "output_type": "stream",
     "text": [
      "BurstID: t071_151220_iw1, sensor: S1B\n"
     ]
    },
    {
     "name": "stdout",
     "output_type": "stream",
     "text": [
      "BurstID: t064_135524_iw3, sensor: S1A\n"
     ]
    },
    {
     "name": "stdout",
     "output_type": "stream",
     "text": [
      "BurstID: t064_135524_iw3, sensor: S1B\n"
     ]
    },
    {
     "name": "stdout",
     "output_type": "stream",
     "text": [
      "BurstID: t135_287926_iw3, sensor: S1A\n"
     ]
    },
    {
     "name": "stdout",
     "output_type": "stream",
     "text": [
      "BurstID: t135_287926_iw3, sensor: S1B\n"
     ]
    },
    {
     "name": "stdout",
     "output_type": "stream",
     "text": [
      "BurstID: t144_308019_iw1, sensor: S1A\n"
     ]
    },
    {
     "name": "stdout",
     "output_type": "stream",
     "text": [
      "BurstID: t144_308019_iw1, sensor: S1B\n"
     ]
    },
    {
     "name": "stdout",
     "output_type": "stream",
     "text": [
      "BurstID: t098_209319_iw2, sensor: S1A\n"
     ]
    },
    {
     "name": "stdout",
     "output_type": "stream",
     "text": [
      "BurstID: t098_209319_iw2, sensor: S1B\n"
     ]
    },
    {
     "name": "stdout",
     "output_type": "stream",
     "text": [
      "BurstID: t004_006658_iw2, sensor: S1A\n"
     ]
    },
    {
     "name": "stdout",
     "output_type": "stream",
     "text": [
      "BurstID: t004_006658_iw2, sensor: S1B\n"
     ]
    },
    {
     "name": "stdout",
     "output_type": "stream",
     "text": [
      "BurstID: t115_245664_iw3, sensor: S1A\n"
     ]
    },
    {
     "name": "stdout",
     "output_type": "stream",
     "text": [
      "BurstID: t115_245664_iw3, sensor: S1B\n"
     ]
    },
    {
     "name": "stdout",
     "output_type": "stream",
     "text": [
      "BurstID: t098_209309_iw1, sensor: S1A\n"
     ]
    },
    {
     "name": "stdout",
     "output_type": "stream",
     "text": [
      "BurstID: t098_209309_iw1, sensor: S1B\n"
     ]
    },
    {
     "name": "stdout",
     "output_type": "stream",
     "text": [
      "BurstID: t064_135533_iw3, sensor: S1A\n"
     ]
    },
    {
     "name": "stdout",
     "output_type": "stream",
     "text": [
      "BurstID: t064_135533_iw3, sensor: S1B\n"
     ]
    },
    {
     "name": "stdout",
     "output_type": "stream",
     "text": [
      "BurstID: t106_225752_iw3, sensor: S1A\n"
     ]
    },
    {
     "name": "stdout",
     "output_type": "stream",
     "text": [
      "BurstID: t106_225752_iw3, sensor: S1B\n"
     ]
    },
    {
     "name": "stdout",
     "output_type": "stream",
     "text": [
      "BurstID: t106_225753_iw1, sensor: S1A\n"
     ]
    },
    {
     "name": "stdout",
     "output_type": "stream",
     "text": [
      "BurstID: t106_225753_iw1, sensor: S1B\n"
     ]
    },
    {
     "name": "stdout",
     "output_type": "stream",
     "text": [
      "BurstID: t034_071050_iw3, sensor: S1A\n"
     ]
    },
    {
     "name": "stdout",
     "output_type": "stream",
     "text": [
      "BurstID: t034_071050_iw3, sensor: S1B\n"
     ]
    },
    {
     "name": "stdout",
     "output_type": "stream",
     "text": [
      "BurstID: t144_308021_iw1, sensor: S1A\n"
     ]
    },
    {
     "name": "stdout",
     "output_type": "stream",
     "text": [
      "BurstID: t144_308021_iw1, sensor: S1B\n"
     ]
    },
    {
     "name": "stdout",
     "output_type": "stream",
     "text": [
      "BurstID: t034_071054_iw2, sensor: S1A\n"
     ]
    },
    {
     "name": "stdout",
     "output_type": "stream",
     "text": [
      "BurstID: t034_071054_iw2, sensor: S1B\n"
     ]
    },
    {
     "name": "stdout",
     "output_type": "stream",
     "text": [
      "BurstID: t137_292379_iw3, sensor: S1A\n"
     ]
    },
    {
     "name": "stdout",
     "output_type": "stream",
     "text": [
      "BurstID: t137_292379_iw3, sensor: S1B\n"
     ]
    },
    {
     "name": "stdout",
     "output_type": "stream",
     "text": [
      "BurstID: t107_227892_iw3, sensor: S1A\n"
     ]
    },
    {
     "name": "stdout",
     "output_type": "stream",
     "text": [
      "BurstID: t107_227892_iw3, sensor: S1B\n"
     ]
    },
    {
     "name": "stdout",
     "output_type": "stream",
     "text": [
      "BurstID: t131_279928_iw2, sensor: S1A\n"
     ]
    },
    {
     "name": "stdout",
     "output_type": "stream",
     "text": [
      "BurstID: t131_279928_iw2, sensor: S1B\n"
     ]
    },
    {
     "name": "stdout",
     "output_type": "stream",
     "text": [
      "BurstID: t151_322407_iw1, sensor: S1A\n"
     ]
    },
    {
     "name": "stdout",
     "output_type": "stream",
     "text": [
      "BurstID: t151_322407_iw1, sensor: S1B\n"
     ]
    },
    {
     "name": "stdout",
     "output_type": "stream",
     "text": [
      "BurstID: t124_264298_iw3, sensor: S1A\n"
     ]
    },
    {
     "name": "stdout",
     "output_type": "stream",
     "text": [
      "BurstID: t124_264298_iw3, sensor: S1B\n"
     ]
    },
    {
     "name": "stdout",
     "output_type": "stream",
     "text": [
      "BurstID: t004_006656_iw1, sensor: S1A\n"
     ]
    },
    {
     "name": "stdout",
     "output_type": "stream",
     "text": [
      "BurstID: t004_006656_iw1, sensor: S1B\n"
     ]
    },
    {
     "name": "stdout",
     "output_type": "stream",
     "text": [
      "BurstID: t124_264308_iw1, sensor: S1A\n"
     ]
    },
    {
     "name": "stdout",
     "output_type": "stream",
     "text": [
      "BurstID: t124_264308_iw1, sensor: S1B\n"
     ]
    },
    {
     "name": "stdout",
     "output_type": "stream",
     "text": [
      "BurstID: t160_342201_iw1, sensor: S1A\n"
     ]
    },
    {
     "name": "stdout",
     "output_type": "stream",
     "text": [
      "BurstID: t160_342201_iw1, sensor: S1B\n"
     ]
    },
    {
     "name": "stdout",
     "output_type": "stream",
     "text": [
      "BurstID: t034_071085_iw2, sensor: S1A\n"
     ]
    },
    {
     "name": "stdout",
     "output_type": "stream",
     "text": [
      "BurstID: t034_071085_iw2, sensor: S1B\n"
     ]
    },
    {
     "name": "stdout",
     "output_type": "stream",
     "text": [
      "BurstID: t094_200137_iw2, sensor: S1A\n"
     ]
    },
    {
     "name": "stdout",
     "output_type": "stream",
     "text": [
      "BurstID: t094_200137_iw2, sensor: S1B\n"
     ]
    },
    {
     "name": "stdout",
     "output_type": "stream",
     "text": [
      "BurstID: t124_264524_iw2, sensor: S1A\n"
     ]
    },
    {
     "name": "stdout",
     "output_type": "stream",
     "text": [
      "BurstID: t124_264524_iw2, sensor: S1B\n"
     ]
    },
    {
     "name": "stdout",
     "output_type": "stream",
     "text": [
      "BurstID: t034_071100_iw3, sensor: S1A\n"
     ]
    },
    {
     "name": "stdout",
     "output_type": "stream",
     "text": [
      "BurstID: t034_071100_iw3, sensor: S1B\n"
     ]
    },
    {
     "name": "stdout",
     "output_type": "stream",
     "text": [
      "BurstID: t106_225751_iw1, sensor: S1A\n"
     ]
    },
    {
     "name": "stdout",
     "output_type": "stream",
     "text": [
      "BurstID: t106_225751_iw1, sensor: S1B\n"
     ]
    },
    {
     "name": "stdout",
     "output_type": "stream",
     "text": [
      "BurstID: t004_006661_iw1, sensor: S1A\n"
     ]
    },
    {
     "name": "stdout",
     "output_type": "stream",
     "text": [
      "BurstID: t004_006661_iw1, sensor: S1B\n"
     ]
    },
    {
     "name": "stdout",
     "output_type": "stream",
     "text": [
      "BurstID: t056_118999_iw2, sensor: S1A\n"
     ]
    },
    {
     "name": "stdout",
     "output_type": "stream",
     "text": [
      "BurstID: t056_118999_iw2, sensor: S1B\n"
     ]
    },
    {
     "name": "stdout",
     "output_type": "stream",
     "text": [
      "BurstID: t034_071090_iw3, sensor: S1A\n"
     ]
    },
    {
     "name": "stdout",
     "output_type": "stream",
     "text": [
      "BurstID: t034_071090_iw3, sensor: S1B\n"
     ]
    },
    {
     "name": "stdout",
     "output_type": "stream",
     "text": [
      "BurstID: t071_151215_iw1, sensor: S1A\n"
     ]
    },
    {
     "name": "stdout",
     "output_type": "stream",
     "text": [
      "BurstID: t071_151215_iw1, sensor: S1B\n"
     ]
    },
    {
     "name": "stdout",
     "output_type": "stream",
     "text": [
      "BurstID: t098_209323_iw1, sensor: S1A\n"
     ]
    },
    {
     "name": "stdout",
     "output_type": "stream",
     "text": [
      "BurstID: t098_209323_iw1, sensor: S1B\n"
     ]
    },
    {
     "name": "stdout",
     "output_type": "stream",
     "text": [
      "BurstID: t124_264304_iw2, sensor: S1A\n"
     ]
    },
    {
     "name": "stdout",
     "output_type": "stream",
     "text": [
      "BurstID: t124_264304_iw2, sensor: S1B\n"
     ]
    },
    {
     "name": "stdout",
     "output_type": "stream",
     "text": [
      "BurstID: t137_292380_iw1, sensor: S1A\n"
     ]
    },
    {
     "name": "stdout",
     "output_type": "stream",
     "text": [
      "BurstID: t137_292380_iw1, sensor: S1B\n"
     ]
    },
    {
     "name": "stdout",
     "output_type": "stream",
     "text": [
      "BurstID: t124_264296_iw3, sensor: S1A\n"
     ]
    },
    {
     "name": "stdout",
     "output_type": "stream",
     "text": [
      "BurstID: t124_264296_iw3, sensor: S1B\n"
     ]
    },
    {
     "name": "stdout",
     "output_type": "stream",
     "text": [
      "BurstID: t131_279932_iw3, sensor: S1A\n"
     ]
    },
    {
     "name": "stdout",
     "output_type": "stream",
     "text": [
      "BurstID: t131_279932_iw3, sensor: S1B\n"
     ]
    },
    {
     "name": "stdout",
     "output_type": "stream",
     "text": [
      "BurstID: t034_071048_iw1, sensor: S1A\n"
     ]
    },
    {
     "name": "stdout",
     "output_type": "stream",
     "text": [
      "BurstID: t034_071048_iw1, sensor: S1B\n"
     ]
    },
    {
     "name": "stdout",
     "output_type": "stream",
     "text": [
      "BurstID: t131_279909_iw2, sensor: S1A\n"
     ]
    },
    {
     "name": "stdout",
     "output_type": "stream",
     "text": [
      "BurstID: t131_279909_iw2, sensor: S1B\n"
     ]
    },
    {
     "name": "stdout",
     "output_type": "stream",
     "text": [
      "BurstID: t106_225742_iw1, sensor: S1A\n"
     ]
    },
    {
     "name": "stdout",
     "output_type": "stream",
     "text": [
      "BurstID: t106_225742_iw1, sensor: S1B\n"
     ]
    },
    {
     "name": "stdout",
     "output_type": "stream",
     "text": [
      "BurstID: t098_209323_iw2, sensor: S1A\n"
     ]
    },
    {
     "name": "stdout",
     "output_type": "stream",
     "text": [
      "BurstID: t098_209323_iw2, sensor: S1B\n"
     ]
    },
    {
     "name": "stdout",
     "output_type": "stream",
     "text": [
      "BurstID: t135_287926_iw2, sensor: S1A\n"
     ]
    },
    {
     "name": "stdout",
     "output_type": "stream",
     "text": [
      "BurstID: t135_287926_iw2, sensor: S1B\n"
     ]
    },
    {
     "name": "stdout",
     "output_type": "stream",
     "text": [
      "BurstID: t107_227888_iw2, sensor: S1A\n"
     ]
    },
    {
     "name": "stdout",
     "output_type": "stream",
     "text": [
      "BurstID: t107_227888_iw2, sensor: S1B\n"
     ]
    },
    {
     "name": "stdout",
     "output_type": "stream",
     "text": [
      "BurstID: t144_308012_iw3, sensor: S1A\n"
     ]
    },
    {
     "name": "stdout",
     "output_type": "stream",
     "text": [
      "BurstID: t144_308012_iw3, sensor: S1B\n"
     ]
    },
    {
     "name": "stdout",
     "output_type": "stream",
     "text": [
      "BurstID: t143_305900_iw2, sensor: S1A\n"
     ]
    },
    {
     "name": "stdout",
     "output_type": "stream",
     "text": [
      "BurstID: t143_305900_iw2, sensor: S1B\n"
     ]
    },
    {
     "name": "stdout",
     "output_type": "stream",
     "text": [
      "BurstID: t160_342222_iw2, sensor: S1A\n"
     ]
    },
    {
     "name": "stdout",
     "output_type": "stream",
     "text": [
      "BurstID: t160_342222_iw2, sensor: S1B\n"
     ]
    },
    {
     "name": "stdout",
     "output_type": "stream",
     "text": [
      "BurstID: t131_279913_iw1, sensor: S1A\n"
     ]
    },
    {
     "name": "stdout",
     "output_type": "stream",
     "text": [
      "BurstID: t131_279913_iw1, sensor: S1B\n"
     ]
    },
    {
     "name": "stdout",
     "output_type": "stream",
     "text": [
      "BurstID: t004_006654_iw3, sensor: S1A\n"
     ]
    },
    {
     "name": "stdout",
     "output_type": "stream",
     "text": [
      "BurstID: t004_006654_iw3, sensor: S1B\n"
     ]
    },
    {
     "name": "stdout",
     "output_type": "stream",
     "text": [
      "BurstID: t124_264521_iw1, sensor: S1A\n"
     ]
    },
    {
     "name": "stdout",
     "output_type": "stream",
     "text": [
      "BurstID: t124_264521_iw1, sensor: S1B\n"
     ]
    },
    {
     "name": "stdout",
     "output_type": "stream",
     "text": [
      "BurstID: t044_093110_iw2, sensor: S1A\n"
     ]
    },
    {
     "name": "stdout",
     "output_type": "stream",
     "text": [
      "BurstID: t044_093110_iw2, sensor: S1B\n"
     ]
    },
    {
     "name": "stdout",
     "output_type": "stream",
     "text": [
      "BurstID: t042_088928_iw3, sensor: S1A\n"
     ]
    },
    {
     "name": "stdout",
     "output_type": "stream",
     "text": [
      "BurstID: t042_088928_iw3, sensor: S1B\n"
     ]
    },
    {
     "name": "stdout",
     "output_type": "stream",
     "text": [
      "BurstID: t065_137847_iw2, sensor: S1A\n"
     ]
    },
    {
     "name": "stdout",
     "output_type": "stream",
     "text": [
      "BurstID: t065_137847_iw2, sensor: S1B\n"
     ]
    },
    {
     "name": "stdout",
     "output_type": "stream",
     "text": [
      "BurstID: t124_264314_iw1, sensor: S1A\n"
     ]
    },
    {
     "name": "stdout",
     "output_type": "stream",
     "text": [
      "BurstID: t124_264314_iw1, sensor: S1B\n"
     ]
    },
    {
     "name": "stdout",
     "output_type": "stream",
     "text": [
      "BurstID: t131_279912_iw2, sensor: S1A\n"
     ]
    },
    {
     "name": "stdout",
     "output_type": "stream",
     "text": [
      "BurstID: t131_279912_iw2, sensor: S1B\n"
     ]
    },
    {
     "name": "stdout",
     "output_type": "stream",
     "text": [
      "BurstID: t107_227887_iw1, sensor: S1A\n"
     ]
    },
    {
     "name": "stdout",
     "output_type": "stream",
     "text": [
      "BurstID: t107_227887_iw1, sensor: S1B\n"
     ]
    },
    {
     "name": "stdout",
     "output_type": "stream",
     "text": [
      "BurstID: t160_342207_iw2, sensor: S1A\n"
     ]
    },
    {
     "name": "stdout",
     "output_type": "stream",
     "text": [
      "BurstID: t160_342207_iw2, sensor: S1B\n"
     ]
    },
    {
     "name": "stdout",
     "output_type": "stream",
     "text": [
      "BurstID: t071_151177_iw1, sensor: S1A\n"
     ]
    },
    {
     "name": "stdout",
     "output_type": "stream",
     "text": [
      "BurstID: t071_151177_iw1, sensor: S1B\n"
     ]
    },
    {
     "name": "stdout",
     "output_type": "stream",
     "text": [
      "BurstID: t056_118994_iw2, sensor: S1A\n"
     ]
    },
    {
     "name": "stdout",
     "output_type": "stream",
     "text": [
      "BurstID: t056_118994_iw2, sensor: S1B\n"
     ]
    },
    {
     "name": "stdout",
     "output_type": "stream",
     "text": [
      "BurstID: t131_279929_iw2, sensor: S1A\n"
     ]
    },
    {
     "name": "stdout",
     "output_type": "stream",
     "text": [
      "BurstID: t131_279929_iw2, sensor: S1B\n"
     ]
    },
    {
     "name": "stdout",
     "output_type": "stream",
     "text": [
      "BurstID: t056_118992_iw3, sensor: S1A\n"
     ]
    },
    {
     "name": "stdout",
     "output_type": "stream",
     "text": [
      "BurstID: t056_118992_iw3, sensor: S1B\n"
     ]
    },
    {
     "name": "stdout",
     "output_type": "stream",
     "text": [
      "BurstID: t098_209312_iw1, sensor: S1A\n"
     ]
    },
    {
     "name": "stdout",
     "output_type": "stream",
     "text": [
      "BurstID: t098_209312_iw1, sensor: S1B\n"
     ]
    },
    {
     "name": "stdout",
     "output_type": "stream",
     "text": [
      "BurstID: t071_151222_iw1, sensor: S1A\n"
     ]
    },
    {
     "name": "stdout",
     "output_type": "stream",
     "text": [
      "BurstID: t071_151222_iw1, sensor: S1B\n"
     ]
    },
    {
     "name": "stdout",
     "output_type": "stream",
     "text": [
      "BurstID: t094_200136_iw3, sensor: S1A\n"
     ]
    },
    {
     "name": "stdout",
     "output_type": "stream",
     "text": [
      "BurstID: t094_200136_iw3, sensor: S1B\n"
     ]
    },
    {
     "name": "stdout",
     "output_type": "stream",
     "text": [
      "BurstID: t160_342209_iw1, sensor: S1A\n"
     ]
    },
    {
     "name": "stdout",
     "output_type": "stream",
     "text": [
      "BurstID: t160_342209_iw1, sensor: S1B\n"
     ]
    },
    {
     "name": "stdout",
     "output_type": "stream",
     "text": [
      "BurstID: t160_342219_iw1, sensor: S1A\n"
     ]
    },
    {
     "name": "stdout",
     "output_type": "stream",
     "text": [
      "BurstID: t160_342219_iw1, sensor: S1B\n"
     ]
    },
    {
     "name": "stdout",
     "output_type": "stream",
     "text": [
      "BurstID: t098_209314_iw2, sensor: S1A\n"
     ]
    },
    {
     "name": "stdout",
     "output_type": "stream",
     "text": [
      "BurstID: t098_209314_iw2, sensor: S1B\n"
     ]
    },
    {
     "name": "stdout",
     "output_type": "stream",
     "text": [
      "BurstID: t098_209315_iw1, sensor: S1A\n"
     ]
    },
    {
     "name": "stdout",
     "output_type": "stream",
     "text": [
      "BurstID: t098_209315_iw1, sensor: S1B\n"
     ]
    },
    {
     "name": "stdout",
     "output_type": "stream",
     "text": [
      "BurstID: t034_071047_iw3, sensor: S1A\n"
     ]
    },
    {
     "name": "stdout",
     "output_type": "stream",
     "text": [
      "BurstID: t034_071047_iw3, sensor: S1B\n"
     ]
    },
    {
     "name": "stdout",
     "output_type": "stream",
     "text": [
      "BurstID: t143_305900_iw1, sensor: S1A\n"
     ]
    },
    {
     "name": "stdout",
     "output_type": "stream",
     "text": [
      "BurstID: t143_305900_iw1, sensor: S1B\n"
     ]
    },
    {
     "name": "stdout",
     "output_type": "stream",
     "text": [
      "BurstID: t034_071049_iw3, sensor: S1A\n"
     ]
    },
    {
     "name": "stdout",
     "output_type": "stream",
     "text": [
      "BurstID: t034_071049_iw3, sensor: S1B\n"
     ]
    },
    {
     "name": "stdout",
     "output_type": "stream",
     "text": [
      "BurstID: t034_071089_iw1, sensor: S1A\n"
     ]
    },
    {
     "name": "stdout",
     "output_type": "stream",
     "text": [
      "BurstID: t034_071089_iw1, sensor: S1B\n"
     ]
    },
    {
     "name": "stdout",
     "output_type": "stream",
     "text": [
      "BurstID: t071_151232_iw2, sensor: S1A\n"
     ]
    },
    {
     "name": "stdout",
     "output_type": "stream",
     "text": [
      "BurstID: t071_151232_iw2, sensor: S1B\n"
     ]
    },
    {
     "name": "stdout",
     "output_type": "stream",
     "text": [
      "BurstID: t056_118986_iw3, sensor: S1A\n"
     ]
    },
    {
     "name": "stdout",
     "output_type": "stream",
     "text": [
      "BurstID: t056_118986_iw3, sensor: S1B\n"
     ]
    },
    {
     "name": "stdout",
     "output_type": "stream",
     "text": [
      "BurstID: t124_264306_iw1, sensor: S1A\n"
     ]
    },
    {
     "name": "stdout",
     "output_type": "stream",
     "text": [
      "BurstID: t124_264306_iw1, sensor: S1B\n"
     ]
    },
    {
     "name": "stdout",
     "output_type": "stream",
     "text": [
      "BurstID: t034_071098_iw2, sensor: S1A\n"
     ]
    },
    {
     "name": "stdout",
     "output_type": "stream",
     "text": [
      "BurstID: t034_071098_iw2, sensor: S1B\n"
     ]
    },
    {
     "name": "stdout",
     "output_type": "stream",
     "text": [
      "BurstID: t034_071086_iw1, sensor: S1A\n"
     ]
    },
    {
     "name": "stdout",
     "output_type": "stream",
     "text": [
      "BurstID: t034_071086_iw1, sensor: S1B\n"
     ]
    },
    {
     "name": "stdout",
     "output_type": "stream",
     "text": [
      "BurstID: t071_151225_iw3, sensor: S1A\n"
     ]
    },
    {
     "name": "stdout",
     "output_type": "stream",
     "text": [
      "BurstID: t071_151225_iw3, sensor: S1B\n"
     ]
    },
    {
     "name": "stdout",
     "output_type": "stream",
     "text": [
      "BurstID: t107_227887_iw3, sensor: S1A\n"
     ]
    },
    {
     "name": "stdout",
     "output_type": "stream",
     "text": [
      "BurstID: t107_227887_iw3, sensor: S1B\n"
     ]
    },
    {
     "name": "stdout",
     "output_type": "stream",
     "text": [
      "BurstID: t160_342217_iw1, sensor: S1A\n"
     ]
    },
    {
     "name": "stdout",
     "output_type": "stream",
     "text": [
      "BurstID: t160_342217_iw1, sensor: S1B\n"
     ]
    },
    {
     "name": "stdout",
     "output_type": "stream",
     "text": [
      "BurstID: t064_135516_iw3, sensor: S1A\n"
     ]
    },
    {
     "name": "stdout",
     "output_type": "stream",
     "text": [
      "BurstID: t064_135516_iw3, sensor: S1B\n"
     ]
    },
    {
     "name": "stdout",
     "output_type": "stream",
     "text": [
      "BurstID: t044_093111_iw3, sensor: S1A\n"
     ]
    },
    {
     "name": "stdout",
     "output_type": "stream",
     "text": [
      "BurstID: t044_093111_iw3, sensor: S1B\n"
     ]
    },
    {
     "name": "stdout",
     "output_type": "stream",
     "text": [
      "BurstID: t004_006651_iw1, sensor: S1A\n"
     ]
    },
    {
     "name": "stdout",
     "output_type": "stream",
     "text": [
      "BurstID: t004_006651_iw1, sensor: S1B\n"
     ]
    },
    {
     "name": "stdout",
     "output_type": "stream",
     "text": [
      "BurstID: t034_071089_iw2, sensor: S1A\n"
     ]
    },
    {
     "name": "stdout",
     "output_type": "stream",
     "text": [
      "BurstID: t034_071089_iw2, sensor: S1B\n"
     ]
    },
    {
     "name": "stdout",
     "output_type": "stream",
     "text": [
      "BurstID: t056_118995_iw3, sensor: S1A\n"
     ]
    },
    {
     "name": "stdout",
     "output_type": "stream",
     "text": [
      "BurstID: t056_118995_iw3, sensor: S1B\n"
     ]
    },
    {
     "name": "stdout",
     "output_type": "stream",
     "text": [
      "BurstID: t034_071060_iw1, sensor: S1A\n"
     ]
    },
    {
     "name": "stdout",
     "output_type": "stream",
     "text": [
      "BurstID: t034_071060_iw1, sensor: S1B\n"
     ]
    },
    {
     "name": "stdout",
     "output_type": "stream",
     "text": [
      "BurstID: t087_185686_iw2, sensor: S1A\n"
     ]
    },
    {
     "name": "stdout",
     "output_type": "stream",
     "text": [
      "BurstID: t087_185686_iw2, sensor: S1B\n"
     ]
    },
    {
     "name": "stdout",
     "output_type": "stream",
     "text": [
      "BurstID: t098_209317_iw1, sensor: S1A\n"
     ]
    },
    {
     "name": "stdout",
     "output_type": "stream",
     "text": [
      "BurstID: t098_209317_iw1, sensor: S1B\n"
     ]
    },
    {
     "name": "stdout",
     "output_type": "stream",
     "text": [
      "BurstID: t151_322410_iw3, sensor: S1A\n"
     ]
    },
    {
     "name": "stdout",
     "output_type": "stream",
     "text": [
      "BurstID: t151_322410_iw3, sensor: S1B\n"
     ]
    },
    {
     "name": "stdout",
     "output_type": "stream",
     "text": [
      "BurstID: t056_118983_iw2, sensor: S1A\n"
     ]
    },
    {
     "name": "stdout",
     "output_type": "stream",
     "text": [
      "BurstID: t056_118983_iw2, sensor: S1B\n"
     ]
    },
    {
     "name": "stdout",
     "output_type": "stream",
     "text": [
      "BurstID: t071_151226_iw2, sensor: S1A\n"
     ]
    },
    {
     "name": "stdout",
     "output_type": "stream",
     "text": [
      "BurstID: t071_151226_iw2, sensor: S1B\n"
     ]
    },
    {
     "name": "stdout",
     "output_type": "stream",
     "text": [
      "BurstID: t004_006661_iw3, sensor: S1A\n"
     ]
    },
    {
     "name": "stdout",
     "output_type": "stream",
     "text": [
      "BurstID: t004_006661_iw3, sensor: S1B\n"
     ]
    },
    {
     "name": "stdout",
     "output_type": "stream",
     "text": [
      "BurstID: t135_287921_iw2, sensor: S1A\n"
     ]
    },
    {
     "name": "stdout",
     "output_type": "stream",
     "text": [
      "BurstID: t135_287921_iw2, sensor: S1B\n"
     ]
    },
    {
     "name": "stdout",
     "output_type": "stream",
     "text": [
      "BurstID: t131_279917_iw2, sensor: S1A\n"
     ]
    },
    {
     "name": "stdout",
     "output_type": "stream",
     "text": [
      "BurstID: t131_279917_iw2, sensor: S1B\n"
     ]
    },
    {
     "name": "stdout",
     "output_type": "stream",
     "text": [
      "BurstID: t071_151157_iw3, sensor: S1A\n"
     ]
    },
    {
     "name": "stdout",
     "output_type": "stream",
     "text": [
      "BurstID: t071_151157_iw3, sensor: S1B\n",
      "BurstID: t071_151168_iw1, sensor: S1A\n"
     ]
    },
    {
     "name": "stdout",
     "output_type": "stream",
     "text": [
      "BurstID: t071_151168_iw1, sensor: S1B\n"
     ]
    },
    {
     "name": "stdout",
     "output_type": "stream",
     "text": [
      "BurstID: t094_200140_iw2, sensor: S1A\n"
     ]
    },
    {
     "name": "stdout",
     "output_type": "stream",
     "text": [
      "BurstID: t094_200140_iw2, sensor: S1B\n"
     ]
    },
    {
     "name": "stdout",
     "output_type": "stream",
     "text": [
      "BurstID: t034_071096_iw2, sensor: S1A\n"
     ]
    },
    {
     "name": "stdout",
     "output_type": "stream",
     "text": [
      "BurstID: t034_071096_iw2, sensor: S1B\n"
     ]
    },
    {
     "name": "stdout",
     "output_type": "stream",
     "text": [
      "BurstID: t094_200131_iw3, sensor: S1A\n"
     ]
    },
    {
     "name": "stdout",
     "output_type": "stream",
     "text": [
      "BurstID: t094_200131_iw3, sensor: S1B\n"
     ]
    },
    {
     "name": "stdout",
     "output_type": "stream",
     "text": [
      "BurstID: t137_292324_iw3, sensor: S1A\n"
     ]
    },
    {
     "name": "stdout",
     "output_type": "stream",
     "text": [
      "BurstID: t137_292324_iw3, sensor: S1B\n"
     ]
    },
    {
     "name": "stdout",
     "output_type": "stream",
     "text": [
      "BurstID: t135_287920_iw1, sensor: S1A\n",
      "BurstID: t135_287920_iw1, sensor: S1B\n"
     ]
    },
    {
     "name": "stdout",
     "output_type": "stream",
     "text": [
      "BurstID: t094_200137_iw3, sensor: S1A\n"
     ]
    },
    {
     "name": "stdout",
     "output_type": "stream",
     "text": [
      "BurstID: t094_200137_iw3, sensor: S1B\n"
     ]
    },
    {
     "name": "stdout",
     "output_type": "stream",
     "text": [
      "BurstID: t042_088925_iw1, sensor: S1A\n"
     ]
    },
    {
     "name": "stdout",
     "output_type": "stream",
     "text": [
      "BurstID: t042_088925_iw1, sensor: S1B\n"
     ]
    },
    {
     "name": "stdout",
     "output_type": "stream",
     "text": [
      "BurstID: t004_006653_iw1, sensor: S1A\n"
     ]
    },
    {
     "name": "stdout",
     "output_type": "stream",
     "text": [
      "BurstID: t004_006653_iw1, sensor: S1B\n"
     ]
    },
    {
     "name": "stdout",
     "output_type": "stream",
     "text": [
      "BurstID: t064_135535_iw2, sensor: S1A\n"
     ]
    },
    {
     "name": "stdout",
     "output_type": "stream",
     "text": [
      "BurstID: t064_135535_iw2, sensor: S1B\n"
     ]
    },
    {
     "name": "stdout",
     "output_type": "stream",
     "text": [
      "BurstID: t098_209312_iw3, sensor: S1A\n"
     ]
    },
    {
     "name": "stdout",
     "output_type": "stream",
     "text": [
      "BurstID: t098_209312_iw3, sensor: S1B\n"
     ]
    },
    {
     "name": "stdout",
     "output_type": "stream",
     "text": [
      "BurstID: t131_279912_iw1, sensor: S1A\n"
     ]
    },
    {
     "name": "stdout",
     "output_type": "stream",
     "text": [
      "BurstID: t131_279912_iw1, sensor: S1B\n"
     ]
    },
    {
     "name": "stdout",
     "output_type": "stream",
     "text": [
      "BurstID: t056_118982_iw3, sensor: S1A\n"
     ]
    },
    {
     "name": "stdout",
     "output_type": "stream",
     "text": [
      "BurstID: t056_118982_iw3, sensor: S1B\n"
     ]
    },
    {
     "name": "stdout",
     "output_type": "stream",
     "text": [
      "BurstID: t124_264304_iw1, sensor: S1A\n"
     ]
    },
    {
     "name": "stdout",
     "output_type": "stream",
     "text": [
      "BurstID: t124_264304_iw1, sensor: S1B\n"
     ]
    },
    {
     "name": "stdout",
     "output_type": "stream",
     "text": [
      "BurstID: t064_135521_iw3, sensor: S1A\n"
     ]
    },
    {
     "name": "stdout",
     "output_type": "stream",
     "text": [
      "BurstID: t064_135521_iw3, sensor: S1B\n"
     ]
    },
    {
     "name": "stdout",
     "output_type": "stream",
     "text": [
      "BurstID: t124_264310_iw1, sensor: S1A\n"
     ]
    },
    {
     "name": "stdout",
     "output_type": "stream",
     "text": [
      "BurstID: t124_264310_iw1, sensor: S1B\n"
     ]
    },
    {
     "name": "stdout",
     "output_type": "stream",
     "text": [
      "BurstID: t042_088927_iw3, sensor: S1A\n"
     ]
    },
    {
     "name": "stdout",
     "output_type": "stream",
     "text": [
      "BurstID: t042_088927_iw3, sensor: S1B\n"
     ]
    },
    {
     "name": "stdout",
     "output_type": "stream",
     "text": [
      "BurstID: t071_151220_iw3, sensor: S1A\n"
     ]
    },
    {
     "name": "stdout",
     "output_type": "stream",
     "text": [
      "BurstID: t071_151220_iw3, sensor: S1B\n"
     ]
    },
    {
     "name": "stdout",
     "output_type": "stream",
     "text": [
      "BurstID: t071_151176_iw1, sensor: S1A\n"
     ]
    },
    {
     "name": "stdout",
     "output_type": "stream",
     "text": [
      "BurstID: t071_151176_iw1, sensor: S1B\n"
     ]
    },
    {
     "name": "stdout",
     "output_type": "stream",
     "text": [
      "BurstID: t094_200132_iw2, sensor: S1A\n"
     ]
    },
    {
     "name": "stdout",
     "output_type": "stream",
     "text": [
      "BurstID: t094_200132_iw2, sensor: S1B\n"
     ]
    },
    {
     "name": "stdout",
     "output_type": "stream",
     "text": [
      "BurstID: t042_088929_iw3, sensor: S1A\n"
     ]
    },
    {
     "name": "stdout",
     "output_type": "stream",
     "text": [
      "BurstID: t042_088929_iw3, sensor: S1B\n"
     ]
    },
    {
     "name": "stdout",
     "output_type": "stream",
     "text": [
      "BurstID: t151_322410_iw1, sensor: S1A\n"
     ]
    },
    {
     "name": "stdout",
     "output_type": "stream",
     "text": [
      "BurstID: t151_322410_iw1, sensor: S1B\n"
     ]
    },
    {
     "name": "stdout",
     "output_type": "stream",
     "text": [
      "BurstID: t137_292331_iw2, sensor: S1A\n"
     ]
    },
    {
     "name": "stdout",
     "output_type": "stream",
     "text": [
      "BurstID: t137_292331_iw2, sensor: S1B\n"
     ]
    },
    {
     "name": "stdout",
     "output_type": "stream",
     "text": [
      "BurstID: t094_200136_iw1, sensor: S1A\n"
     ]
    },
    {
     "name": "stdout",
     "output_type": "stream",
     "text": [
      "BurstID: t094_200136_iw1, sensor: S1B\n"
     ]
    },
    {
     "name": "stdout",
     "output_type": "stream",
     "text": [
      "BurstID: t107_227888_iw1, sensor: S1A\n"
     ]
    },
    {
     "name": "stdout",
     "output_type": "stream",
     "text": [
      "BurstID: t107_227888_iw1, sensor: S1B\n"
     ]
    },
    {
     "name": "stdout",
     "output_type": "stream",
     "text": [
      "BurstID: t071_151170_iw1, sensor: S1A\n"
     ]
    },
    {
     "name": "stdout",
     "output_type": "stream",
     "text": [
      "BurstID: t071_151170_iw1, sensor: S1B\n"
     ]
    },
    {
     "name": "stdout",
     "output_type": "stream",
     "text": [
      "BurstID: t131_279917_iw1, sensor: S1A\n"
     ]
    },
    {
     "name": "stdout",
     "output_type": "stream",
     "text": [
      "BurstID: t131_279917_iw1, sensor: S1B\n"
     ]
    },
    {
     "name": "stdout",
     "output_type": "stream",
     "text": [
      "BurstID: t056_118995_iw2, sensor: S1A\n"
     ]
    },
    {
     "name": "stdout",
     "output_type": "stream",
     "text": [
      "BurstID: t056_118995_iw2, sensor: S1B\n"
     ]
    },
    {
     "name": "stdout",
     "output_type": "stream",
     "text": [
      "BurstID: t115_245676_iw1, sensor: S1A\n"
     ]
    },
    {
     "name": "stdout",
     "output_type": "stream",
     "text": [
      "BurstID: t115_245676_iw1, sensor: S1B\n"
     ]
    },
    {
     "name": "stdout",
     "output_type": "stream",
     "text": [
      "BurstID: t137_292334_iw3, sensor: S1A\n"
     ]
    },
    {
     "name": "stdout",
     "output_type": "stream",
     "text": [
      "BurstID: t137_292334_iw3, sensor: S1B\n"
     ]
    },
    {
     "name": "stdout",
     "output_type": "stream",
     "text": [
      "BurstID: t106_225748_iw1, sensor: S1A\n"
     ]
    },
    {
     "name": "stdout",
     "output_type": "stream",
     "text": [
      "BurstID: t106_225748_iw1, sensor: S1B\n"
     ]
    },
    {
     "name": "stdout",
     "output_type": "stream",
     "text": [
      "BurstID: t004_006647_iw2, sensor: S1A\n"
     ]
    },
    {
     "name": "stdout",
     "output_type": "stream",
     "text": [
      "BurstID: t004_006647_iw2, sensor: S1B\n"
     ]
    },
    {
     "name": "stdout",
     "output_type": "stream",
     "text": [
      "BurstID: t135_287934_iw2, sensor: S1A\n",
      "BurstID: t135_287934_iw2, sensor: S1B\n"
     ]
    },
    {
     "name": "stdout",
     "output_type": "stream",
     "text": [
      "BurstID: t106_225749_iw3, sensor: S1A\n"
     ]
    },
    {
     "name": "stdout",
     "output_type": "stream",
     "text": [
      "BurstID: t106_225749_iw3, sensor: S1B\n"
     ]
    },
    {
     "name": "stdout",
     "output_type": "stream",
     "text": [
      "BurstID: t064_135528_iw2, sensor: S1A\n"
     ]
    },
    {
     "name": "stdout",
     "output_type": "stream",
     "text": [
      "BurstID: t064_135528_iw2, sensor: S1B\n"
     ]
    },
    {
     "name": "stdout",
     "output_type": "stream",
     "text": [
      "BurstID: t137_292386_iw2, sensor: S1A\n"
     ]
    },
    {
     "name": "stdout",
     "output_type": "stream",
     "text": [
      "BurstID: t137_292386_iw2, sensor: S1B\n"
     ]
    },
    {
     "name": "stdout",
     "output_type": "stream",
     "text": [
      "BurstID: t034_071094_iw2, sensor: S1A\n"
     ]
    },
    {
     "name": "stdout",
     "output_type": "stream",
     "text": [
      "BurstID: t034_071094_iw2, sensor: S1B\n"
     ]
    },
    {
     "name": "stdout",
     "output_type": "stream",
     "text": [
      "BurstID: t071_151164_iw1, sensor: S1A\n"
     ]
    },
    {
     "name": "stdout",
     "output_type": "stream",
     "text": [
      "BurstID: t071_151164_iw1, sensor: S1B\n"
     ]
    },
    {
     "name": "stdout",
     "output_type": "stream",
     "text": [
      "BurstID: t065_137842_iw1, sensor: S1A\n"
     ]
    },
    {
     "name": "stdout",
     "output_type": "stream",
     "text": [
      "BurstID: t065_137842_iw1, sensor: S1B\n"
     ]
    },
    {
     "name": "stdout",
     "output_type": "stream",
     "text": [
      "BurstID: t135_287922_iw1, sensor: S1A\n"
     ]
    },
    {
     "name": "stdout",
     "output_type": "stream",
     "text": [
      "BurstID: t135_287922_iw1, sensor: S1B\n"
     ]
    },
    {
     "name": "stdout",
     "output_type": "stream",
     "text": [
      "BurstID: t071_151218_iw2, sensor: S1A\n"
     ]
    },
    {
     "name": "stdout",
     "output_type": "stream",
     "text": [
      "BurstID: t071_151218_iw2, sensor: S1B\n"
     ]
    },
    {
     "name": "stdout",
     "output_type": "stream",
     "text": [
      "BurstID: t071_151162_iw3, sensor: S1A\n"
     ]
    },
    {
     "name": "stdout",
     "output_type": "stream",
     "text": [
      "BurstID: t071_151162_iw3, sensor: S1B\n"
     ]
    },
    {
     "name": "stdout",
     "output_type": "stream",
     "text": [
      "BurstID: t160_342206_iw1, sensor: S1A\n"
     ]
    },
    {
     "name": "stdout",
     "output_type": "stream",
     "text": [
      "BurstID: t160_342206_iw1, sensor: S1B\n"
     ]
    },
    {
     "name": "stdout",
     "output_type": "stream",
     "text": [
      "BurstID: t064_135509_iw3, sensor: S1A\n"
     ]
    },
    {
     "name": "stdout",
     "output_type": "stream",
     "text": [
      "BurstID: t064_135509_iw3, sensor: S1B\n"
     ]
    },
    {
     "name": "stdout",
     "output_type": "stream",
     "text": [
      "BurstID: t098_209322_iw2, sensor: S1A\n"
     ]
    },
    {
     "name": "stdout",
     "output_type": "stream",
     "text": [
      "BurstID: t098_209322_iw2, sensor: S1B\n"
     ]
    },
    {
     "name": "stdout",
     "output_type": "stream",
     "text": [
      "BurstID: t064_135534_iw1, sensor: S1A\n"
     ]
    },
    {
     "name": "stdout",
     "output_type": "stream",
     "text": [
      "BurstID: t064_135534_iw1, sensor: S1B\n"
     ]
    },
    {
     "name": "stdout",
     "output_type": "stream",
     "text": [
      "BurstID: t004_006646_iw1, sensor: S1A\n"
     ]
    },
    {
     "name": "stdout",
     "output_type": "stream",
     "text": [
      "BurstID: t004_006646_iw1, sensor: S1B\n"
     ]
    },
    {
     "name": "stdout",
     "output_type": "stream",
     "text": [
      "BurstID: t071_151216_iw3, sensor: S1A\n"
     ]
    },
    {
     "name": "stdout",
     "output_type": "stream",
     "text": [
      "BurstID: t071_151216_iw3, sensor: S1B\n"
     ]
    },
    {
     "name": "stdout",
     "output_type": "stream",
     "text": [
      "BurstID: t056_119003_iw1, sensor: S1A\n"
     ]
    },
    {
     "name": "stdout",
     "output_type": "stream",
     "text": [
      "BurstID: t056_119003_iw1, sensor: S1B\n"
     ]
    },
    {
     "name": "stdout",
     "output_type": "stream",
     "text": [
      "BurstID: t042_088929_iw2, sensor: S1A\n"
     ]
    },
    {
     "name": "stdout",
     "output_type": "stream",
     "text": [
      "BurstID: t042_088929_iw2, sensor: S1B\n"
     ]
    },
    {
     "name": "stdout",
     "output_type": "stream",
     "text": [
      "BurstID: t106_225744_iw2, sensor: S1A\n"
     ]
    },
    {
     "name": "stdout",
     "output_type": "stream",
     "text": [
      "BurstID: t106_225744_iw2, sensor: S1B\n"
     ]
    },
    {
     "name": "stdout",
     "output_type": "stream",
     "text": [
      "BurstID: t064_135533_iw1, sensor: S1A\n"
     ]
    },
    {
     "name": "stdout",
     "output_type": "stream",
     "text": [
      "BurstID: t064_135533_iw1, sensor: S1B\n"
     ]
    },
    {
     "name": "stdout",
     "output_type": "stream",
     "text": [
      "BurstID: t160_342204_iw2, sensor: S1A\n"
     ]
    },
    {
     "name": "stdout",
     "output_type": "stream",
     "text": [
      "BurstID: t160_342204_iw2, sensor: S1B\n"
     ]
    },
    {
     "name": "stdout",
     "output_type": "stream",
     "text": [
      "BurstID: t144_308010_iw1, sensor: S1A\n"
     ]
    },
    {
     "name": "stdout",
     "output_type": "stream",
     "text": [
      "BurstID: t144_308010_iw1, sensor: S1B\n"
     ]
    },
    {
     "name": "stdout",
     "output_type": "stream",
     "text": [
      "BurstID: t071_151159_iw3, sensor: S1A\n"
     ]
    },
    {
     "name": "stdout",
     "output_type": "stream",
     "text": [
      "BurstID: t071_151159_iw3, sensor: S1B\n"
     ]
    },
    {
     "name": "stdout",
     "output_type": "stream",
     "text": [
      "BurstID: t071_151175_iw2, sensor: S1A\n"
     ]
    },
    {
     "name": "stdout",
     "output_type": "stream",
     "text": [
      "BurstID: t071_151175_iw2, sensor: S1B\n"
     ]
    },
    {
     "name": "stdout",
     "output_type": "stream",
     "text": [
      "BurstID: t160_342205_iw2, sensor: S1A\n"
     ]
    },
    {
     "name": "stdout",
     "output_type": "stream",
     "text": [
      "BurstID: t160_342205_iw2, sensor: S1B\n"
     ]
    },
    {
     "name": "stdout",
     "output_type": "stream",
     "text": [
      "BurstID: t131_279929_iw1, sensor: S1A\n"
     ]
    },
    {
     "name": "stdout",
     "output_type": "stream",
     "text": [
      "BurstID: t131_279929_iw1, sensor: S1B\n"
     ]
    },
    {
     "name": "stdout",
     "output_type": "stream",
     "text": [
      "BurstID: t064_135530_iw1, sensor: S1A\n"
     ]
    },
    {
     "name": "stdout",
     "output_type": "stream",
     "text": [
      "BurstID: t064_135530_iw1, sensor: S1B\n"
     ]
    },
    {
     "name": "stdout",
     "output_type": "stream",
     "text": [
      "BurstID: t094_200139_iw1, sensor: S1A\n"
     ]
    },
    {
     "name": "stdout",
     "output_type": "stream",
     "text": [
      "BurstID: t094_200139_iw1, sensor: S1B\n"
     ]
    },
    {
     "name": "stdout",
     "output_type": "stream",
     "text": [
      "BurstID: t106_225749_iw2, sensor: S1A\n"
     ]
    },
    {
     "name": "stdout",
     "output_type": "stream",
     "text": [
      "BurstID: t106_225749_iw2, sensor: S1B\n"
     ]
    },
    {
     "name": "stdout",
     "output_type": "stream",
     "text": [
      "BurstID: t135_287919_iw1, sensor: S1A\n"
     ]
    },
    {
     "name": "stdout",
     "output_type": "stream",
     "text": [
      "BurstID: t135_287919_iw1, sensor: S1B\n"
     ]
    },
    {
     "name": "stdout",
     "output_type": "stream",
     "text": [
      "BurstID: t135_287920_iw3, sensor: S1A\n",
      "BurstID: t135_287920_iw3, sensor: S1B\n"
     ]
    },
    {
     "name": "stdout",
     "output_type": "stream",
     "text": [
      "BurstID: t144_308011_iw1, sensor: S1A\n"
     ]
    },
    {
     "name": "stdout",
     "output_type": "stream",
     "text": [
      "BurstID: t144_308011_iw1, sensor: S1B\n"
     ]
    },
    {
     "name": "stdout",
     "output_type": "stream",
     "text": [
      "BurstID: t098_209318_iw2, sensor: S1A\n"
     ]
    },
    {
     "name": "stdout",
     "output_type": "stream",
     "text": [
      "BurstID: t098_209318_iw2, sensor: S1B\n"
     ]
    },
    {
     "name": "stdout",
     "output_type": "stream",
     "text": [
      "BurstID: t115_245673_iw2, sensor: S1A\n"
     ]
    },
    {
     "name": "stdout",
     "output_type": "stream",
     "text": [
      "BurstID: t115_245673_iw2, sensor: S1B\n"
     ]
    },
    {
     "name": "stdout",
     "output_type": "stream",
     "text": [
      "BurstID: t106_225744_iw3, sensor: S1A\n"
     ]
    },
    {
     "name": "stdout",
     "output_type": "stream",
     "text": [
      "BurstID: t106_225744_iw3, sensor: S1B\n"
     ]
    },
    {
     "name": "stdout",
     "output_type": "stream",
     "text": [
      "BurstID: t094_200145_iw1, sensor: S1A\n"
     ]
    },
    {
     "name": "stdout",
     "output_type": "stream",
     "text": [
      "BurstID: t094_200145_iw1, sensor: S1B\n"
     ]
    },
    {
     "name": "stdout",
     "output_type": "stream",
     "text": [
      "BurstID: t160_342208_iw3, sensor: S1A\n"
     ]
    },
    {
     "name": "stdout",
     "output_type": "stream",
     "text": [
      "BurstID: t160_342208_iw3, sensor: S1B\n"
     ]
    },
    {
     "name": "stdout",
     "output_type": "stream",
     "text": [
      "BurstID: t042_088923_iw3, sensor: S1A\n"
     ]
    },
    {
     "name": "stdout",
     "output_type": "stream",
     "text": [
      "BurstID: t042_088923_iw3, sensor: S1B\n"
     ]
    },
    {
     "name": "stdout",
     "output_type": "stream",
     "text": [
      "BurstID: t094_200131_iw1, sensor: S1A\n"
     ]
    },
    {
     "name": "stdout",
     "output_type": "stream",
     "text": [
      "BurstID: t094_200131_iw1, sensor: S1B\n"
     ]
    },
    {
     "name": "stdout",
     "output_type": "stream",
     "text": [
      "BurstID: t151_322402_iw3, sensor: S1A\n"
     ]
    },
    {
     "name": "stdout",
     "output_type": "stream",
     "text": [
      "BurstID: t151_322402_iw3, sensor: S1B\n"
     ]
    },
    {
     "name": "stdout",
     "output_type": "stream",
     "text": [
      "BurstID: t034_071095_iw3, sensor: S1A\n"
     ]
    },
    {
     "name": "stdout",
     "output_type": "stream",
     "text": [
      "BurstID: t034_071095_iw3, sensor: S1B\n"
     ]
    },
    {
     "name": "stdout",
     "output_type": "stream",
     "text": [
      "BurstID: t144_308019_iw3, sensor: S1A\n"
     ]
    },
    {
     "name": "stdout",
     "output_type": "stream",
     "text": [
      "BurstID: t144_308019_iw3, sensor: S1B\n"
     ]
    },
    {
     "name": "stdout",
     "output_type": "stream",
     "text": [
      "BurstID: t071_151172_iw1, sensor: S1A\n"
     ]
    },
    {
     "name": "stdout",
     "output_type": "stream",
     "text": [
      "BurstID: t071_151172_iw1, sensor: S1B\n"
     ]
    },
    {
     "name": "stdout",
     "output_type": "stream",
     "text": [
      "BurstID: t135_287918_iw2, sensor: S1A\n",
      "BurstID: t135_287918_iw2, sensor: S1B\n"
     ]
    },
    {
     "name": "stdout",
     "output_type": "stream",
     "text": [
      "BurstID: t160_342226_iw3, sensor: S1A\n"
     ]
    },
    {
     "name": "stdout",
     "output_type": "stream",
     "text": [
      "BurstID: t160_342226_iw3, sensor: S1B\n"
     ]
    },
    {
     "name": "stdout",
     "output_type": "stream",
     "text": [
      "BurstID: t131_279911_iw3, sensor: S1A\n"
     ]
    },
    {
     "name": "stdout",
     "output_type": "stream",
     "text": [
      "BurstID: t131_279911_iw3, sensor: S1B\n"
     ]
    },
    {
     "name": "stdout",
     "output_type": "stream",
     "text": [
      "BurstID: t144_308018_iw3, sensor: S1A\n"
     ]
    },
    {
     "name": "stdout",
     "output_type": "stream",
     "text": [
      "BurstID: t144_308018_iw3, sensor: S1B\n"
     ]
    },
    {
     "name": "stdout",
     "output_type": "stream",
     "text": [
      "BurstID: t056_118983_iw1, sensor: S1A\n"
     ]
    },
    {
     "name": "stdout",
     "output_type": "stream",
     "text": [
      "BurstID: t056_118983_iw1, sensor: S1B\n"
     ]
    },
    {
     "name": "stdout",
     "output_type": "stream",
     "text": [
      "BurstID: t131_279918_iw3, sensor: S1A\n"
     ]
    },
    {
     "name": "stdout",
     "output_type": "stream",
     "text": [
      "BurstID: t131_279918_iw3, sensor: S1B\n"
     ]
    },
    {
     "name": "stdout",
     "output_type": "stream",
     "text": [
      "BurstID: t131_279910_iw2, sensor: S1A\n"
     ]
    },
    {
     "name": "stdout",
     "output_type": "stream",
     "text": [
      "BurstID: t131_279910_iw2, sensor: S1B\n"
     ]
    },
    {
     "name": "stdout",
     "output_type": "stream",
     "text": [
      "BurstID: t064_135529_iw2, sensor: S1A\n"
     ]
    },
    {
     "name": "stdout",
     "output_type": "stream",
     "text": [
      "BurstID: t064_135529_iw2, sensor: S1B\n"
     ]
    },
    {
     "name": "stdout",
     "output_type": "stream",
     "text": [
      "BurstID: t056_118995_iw1, sensor: S1A\n"
     ]
    },
    {
     "name": "stdout",
     "output_type": "stream",
     "text": [
      "BurstID: t056_118995_iw1, sensor: S1B\n"
     ]
    },
    {
     "name": "stdout",
     "output_type": "stream",
     "text": [
      "BurstID: t065_137840_iw1, sensor: S1A\n"
     ]
    },
    {
     "name": "stdout",
     "output_type": "stream",
     "text": [
      "BurstID: t065_137840_iw1, sensor: S1B\n"
     ]
    },
    {
     "name": "stdout",
     "output_type": "stream",
     "text": [
      "BurstID: t160_342216_iw1, sensor: S1A\n"
     ]
    },
    {
     "name": "stdout",
     "output_type": "stream",
     "text": [
      "BurstID: t160_342216_iw1, sensor: S1B\n"
     ]
    },
    {
     "name": "stdout",
     "output_type": "stream",
     "text": [
      "BurstID: t137_292385_iw3, sensor: S1A\n"
     ]
    },
    {
     "name": "stdout",
     "output_type": "stream",
     "text": [
      "BurstID: t137_292385_iw3, sensor: S1B\n"
     ]
    },
    {
     "name": "stdout",
     "output_type": "stream",
     "text": [
      "BurstID: t137_292326_iw3, sensor: S1A\n"
     ]
    },
    {
     "name": "stdout",
     "output_type": "stream",
     "text": [
      "BurstID: t137_292326_iw3, sensor: S1B\n"
     ]
    },
    {
     "name": "stdout",
     "output_type": "stream",
     "text": [
      "BurstID: t064_135523_iw2, sensor: S1A\n"
     ]
    },
    {
     "name": "stdout",
     "output_type": "stream",
     "text": [
      "BurstID: t064_135523_iw2, sensor: S1B\n"
     ]
    },
    {
     "name": "stdout",
     "output_type": "stream",
     "text": [
      "BurstID: t064_135522_iw3, sensor: S1A\n"
     ]
    },
    {
     "name": "stdout",
     "output_type": "stream",
     "text": [
      "BurstID: t064_135522_iw3, sensor: S1B\n"
     ]
    },
    {
     "name": "stdout",
     "output_type": "stream",
     "text": [
      "BurstID: t107_227890_iw3, sensor: S1A\n"
     ]
    },
    {
     "name": "stdout",
     "output_type": "stream",
     "text": [
      "BurstID: t107_227890_iw3, sensor: S1B\n"
     ]
    },
    {
     "name": "stdout",
     "output_type": "stream",
     "text": [
      "BurstID: t065_137839_iw3, sensor: S1A\n"
     ]
    },
    {
     "name": "stdout",
     "output_type": "stream",
     "text": [
      "BurstID: t065_137839_iw3, sensor: S1B\n"
     ]
    },
    {
     "name": "stdout",
     "output_type": "stream",
     "text": [
      "BurstID: t143_305907_iw3, sensor: S1A\n"
     ]
    },
    {
     "name": "stdout",
     "output_type": "stream",
     "text": [
      "BurstID: t143_305907_iw3, sensor: S1B\n"
     ]
    },
    {
     "name": "stdout",
     "output_type": "stream",
     "text": [
      "BurstID: t056_118989_iw1, sensor: S1A\n"
     ]
    },
    {
     "name": "stdout",
     "output_type": "stream",
     "text": [
      "BurstID: t056_118989_iw1, sensor: S1B\n"
     ]
    },
    {
     "name": "stdout",
     "output_type": "stream",
     "text": [
      "BurstID: t044_093106_iw2, sensor: S1A\n"
     ]
    },
    {
     "name": "stdout",
     "output_type": "stream",
     "text": [
      "BurstID: t044_093106_iw2, sensor: S1B\n"
     ]
    },
    {
     "name": "stdout",
     "output_type": "stream",
     "text": [
      "BurstID: t137_292328_iw1, sensor: S1A\n"
     ]
    },
    {
     "name": "stdout",
     "output_type": "stream",
     "text": [
      "BurstID: t137_292328_iw1, sensor: S1B\n"
     ]
    },
    {
     "name": "stdout",
     "output_type": "stream",
     "text": [
      "BurstID: t034_071063_iw3, sensor: S1A\n"
     ]
    },
    {
     "name": "stdout",
     "output_type": "stream",
     "text": [
      "BurstID: t034_071063_iw3, sensor: S1B\n"
     ]
    },
    {
     "name": "stdout",
     "output_type": "stream",
     "text": [
      "BurstID: t107_227884_iw2, sensor: S1A\n"
     ]
    },
    {
     "name": "stdout",
     "output_type": "stream",
     "text": [
      "BurstID: t107_227884_iw2, sensor: S1B\n"
     ]
    },
    {
     "name": "stdout",
     "output_type": "stream",
     "text": [
      "BurstID: t034_071053_iw3, sensor: S1A\n"
     ]
    },
    {
     "name": "stdout",
     "output_type": "stream",
     "text": [
      "BurstID: t034_071053_iw3, sensor: S1B\n"
     ]
    },
    {
     "name": "stdout",
     "output_type": "stream",
     "text": [
      "BurstID: t065_137846_iw3, sensor: S1A\n"
     ]
    },
    {
     "name": "stdout",
     "output_type": "stream",
     "text": [
      "BurstID: t065_137846_iw3, sensor: S1B\n"
     ]
    },
    {
     "name": "stdout",
     "output_type": "stream",
     "text": [
      "BurstID: t071_151227_iw2, sensor: S1A\n"
     ]
    },
    {
     "name": "stdout",
     "output_type": "stream",
     "text": [
      "BurstID: t071_151227_iw2, sensor: S1B\n"
     ]
    },
    {
     "name": "stdout",
     "output_type": "stream",
     "text": [
      "BurstID: t160_342204_iw3, sensor: S1A\n"
     ]
    },
    {
     "name": "stdout",
     "output_type": "stream",
     "text": [
      "BurstID: t160_342204_iw3, sensor: S1B\n"
     ]
    },
    {
     "name": "stdout",
     "output_type": "stream",
     "text": [
      "BurstID: t087_185677_iw2, sensor: S1A\n"
     ]
    },
    {
     "name": "stdout",
     "output_type": "stream",
     "text": [
      "BurstID: t087_185677_iw2, sensor: S1B\n"
     ]
    },
    {
     "name": "stdout",
     "output_type": "stream",
     "text": [
      "BurstID: t151_322400_iw1, sensor: S1A\n"
     ]
    },
    {
     "name": "stdout",
     "output_type": "stream",
     "text": [
      "BurstID: t151_322400_iw1, sensor: S1B\n"
     ]
    },
    {
     "name": "stdout",
     "output_type": "stream",
     "text": [
      "BurstID: t004_006655_iw3, sensor: S1A\n"
     ]
    },
    {
     "name": "stdout",
     "output_type": "stream",
     "text": [
      "BurstID: t004_006655_iw3, sensor: S1B\n"
     ]
    },
    {
     "name": "stdout",
     "output_type": "stream",
     "text": [
      "BurstID: t056_118997_iw3, sensor: S1A\n"
     ]
    },
    {
     "name": "stdout",
     "output_type": "stream",
     "text": [
      "BurstID: t056_118997_iw3, sensor: S1B\n"
     ]
    },
    {
     "name": "stdout",
     "output_type": "stream",
     "text": [
      "BurstID: t160_342203_iw1, sensor: S1A\n"
     ]
    },
    {
     "name": "stdout",
     "output_type": "stream",
     "text": [
      "BurstID: t160_342203_iw1, sensor: S1B\n"
     ]
    },
    {
     "name": "stdout",
     "output_type": "stream",
     "text": [
      "BurstID: t131_279933_iw2, sensor: S1A\n"
     ]
    },
    {
     "name": "stdout",
     "output_type": "stream",
     "text": [
      "BurstID: t131_279933_iw2, sensor: S1B\n"
     ]
    },
    {
     "name": "stdout",
     "output_type": "stream",
     "text": [
      "BurstID: t107_227878_iw3, sensor: S1A\n"
     ]
    },
    {
     "name": "stdout",
     "output_type": "stream",
     "text": [
      "BurstID: t107_227878_iw3, sensor: S1B\n"
     ]
    },
    {
     "name": "stdout",
     "output_type": "stream",
     "text": [
      "BurstID: t107_227892_iw1, sensor: S1A\n"
     ]
    },
    {
     "name": "stdout",
     "output_type": "stream",
     "text": [
      "BurstID: t107_227892_iw1, sensor: S1B\n"
     ]
    },
    {
     "name": "stdout",
     "output_type": "stream",
     "text": [
      "BurstID: t034_071099_iw2, sensor: S1A\n"
     ]
    },
    {
     "name": "stdout",
     "output_type": "stream",
     "text": [
      "BurstID: t034_071099_iw2, sensor: S1B\n"
     ]
    },
    {
     "name": "stdout",
     "output_type": "stream",
     "text": [
      "BurstID: t071_151163_iw2, sensor: S1A\n"
     ]
    },
    {
     "name": "stdout",
     "output_type": "stream",
     "text": [
      "BurstID: t071_151163_iw2, sensor: S1B\n"
     ]
    },
    {
     "name": "stdout",
     "output_type": "stream",
     "text": [
      "BurstID: t042_088919_iw2, sensor: S1A\n"
     ]
    },
    {
     "name": "stdout",
     "output_type": "stream",
     "text": [
      "BurstID: t042_088919_iw2, sensor: S1B\n"
     ]
    },
    {
     "name": "stdout",
     "output_type": "stream",
     "text": [
      "BurstID: t064_135534_iw2, sensor: S1A\n"
     ]
    },
    {
     "name": "stdout",
     "output_type": "stream",
     "text": [
      "BurstID: t064_135534_iw2, sensor: S1B\n"
     ]
    },
    {
     "name": "stdout",
     "output_type": "stream",
     "text": [
      "BurstID: t094_200128_iw2, sensor: S1A\n"
     ]
    },
    {
     "name": "stdout",
     "output_type": "stream",
     "text": [
      "BurstID: t094_200128_iw2, sensor: S1B\n"
     ]
    },
    {
     "name": "stdout",
     "output_type": "stream",
     "text": [
      "BurstID: t115_245667_iw1, sensor: S1A\n"
     ]
    },
    {
     "name": "stdout",
     "output_type": "stream",
     "text": [
      "BurstID: t115_245667_iw1, sensor: S1B\n"
     ]
    },
    {
     "name": "stdout",
     "output_type": "stream",
     "text": [
      "BurstID: t151_322406_iw1, sensor: S1A\n"
     ]
    },
    {
     "name": "stdout",
     "output_type": "stream",
     "text": [
      "BurstID: t151_322406_iw1, sensor: S1B\n"
     ]
    },
    {
     "name": "stdout",
     "output_type": "stream",
     "text": [
      "BurstID: t056_118985_iw1, sensor: S1A\n"
     ]
    },
    {
     "name": "stdout",
     "output_type": "stream",
     "text": [
      "BurstID: t056_118985_iw1, sensor: S1B\n"
     ]
    },
    {
     "name": "stdout",
     "output_type": "stream",
     "text": [
      "BurstID: t094_200133_iw1, sensor: S1A\n"
     ]
    },
    {
     "name": "stdout",
     "output_type": "stream",
     "text": [
      "BurstID: t094_200133_iw1, sensor: S1B\n"
     ]
    },
    {
     "name": "stdout",
     "output_type": "stream",
     "text": [
      "BurstID: t137_292325_iw2, sensor: S1A\n"
     ]
    },
    {
     "name": "stdout",
     "output_type": "stream",
     "text": [
      "BurstID: t137_292325_iw2, sensor: S1B\n"
     ]
    },
    {
     "name": "stdout",
     "output_type": "stream",
     "text": [
      "BurstID: t034_071091_iw1, sensor: S1A\n"
     ]
    },
    {
     "name": "stdout",
     "output_type": "stream",
     "text": [
      "BurstID: t034_071091_iw1, sensor: S1B\n"
     ]
    },
    {
     "name": "stdout",
     "output_type": "stream",
     "text": [
      "BurstID: t064_135510_iw3, sensor: S1A\n"
     ]
    },
    {
     "name": "stdout",
     "output_type": "stream",
     "text": [
      "BurstID: t064_135510_iw3, sensor: S1B\n"
     ]
    },
    {
     "name": "stdout",
     "output_type": "stream",
     "text": [
      "BurstID: t004_006649_iw2, sensor: S1A\n"
     ]
    },
    {
     "name": "stdout",
     "output_type": "stream",
     "text": [
      "BurstID: t004_006649_iw2, sensor: S1B\n"
     ]
    },
    {
     "name": "stdout",
     "output_type": "stream",
     "text": [
      "BurstID: t151_322394_iw1, sensor: S1A\n"
     ]
    },
    {
     "name": "stdout",
     "output_type": "stream",
     "text": [
      "BurstID: t151_322394_iw1, sensor: S1B\n"
     ]
    },
    {
     "name": "stdout",
     "output_type": "stream",
     "text": [
      "BurstID: t098_209317_iw3, sensor: S1A\n"
     ]
    },
    {
     "name": "stdout",
     "output_type": "stream",
     "text": [
      "BurstID: t098_209317_iw3, sensor: S1B\n"
     ]
    },
    {
     "name": "stdout",
     "output_type": "stream",
     "text": [
      "BurstID: t160_342213_iw2, sensor: S1A\n"
     ]
    },
    {
     "name": "stdout",
     "output_type": "stream",
     "text": [
      "BurstID: t160_342213_iw2, sensor: S1B\n"
     ]
    },
    {
     "name": "stdout",
     "output_type": "stream",
     "text": [
      "BurstID: t124_264297_iw1, sensor: S1A\n"
     ]
    },
    {
     "name": "stdout",
     "output_type": "stream",
     "text": [
      "BurstID: t124_264297_iw1, sensor: S1B\n"
     ]
    },
    {
     "name": "stdout",
     "output_type": "stream",
     "text": [
      "BurstID: t131_279925_iw3, sensor: S1A\n"
     ]
    },
    {
     "name": "stdout",
     "output_type": "stream",
     "text": [
      "BurstID: t131_279925_iw3, sensor: S1B\n"
     ]
    },
    {
     "name": "stdout",
     "output_type": "stream",
     "text": [
      "BurstID: t160_342215_iw2, sensor: S1A\n"
     ]
    },
    {
     "name": "stdout",
     "output_type": "stream",
     "text": [
      "BurstID: t160_342215_iw2, sensor: S1B\n"
     ]
    },
    {
     "name": "stdout",
     "output_type": "stream",
     "text": [
      "BurstID: t106_225745_iw1, sensor: S1A\n"
     ]
    },
    {
     "name": "stdout",
     "output_type": "stream",
     "text": [
      "BurstID: t106_225745_iw1, sensor: S1B\n"
     ]
    },
    {
     "name": "stdout",
     "output_type": "stream",
     "text": [
      "BurstID: t115_245670_iw3, sensor: S1A\n"
     ]
    },
    {
     "name": "stdout",
     "output_type": "stream",
     "text": [
      "BurstID: t115_245670_iw3, sensor: S1B\n"
     ]
    },
    {
     "name": "stdout",
     "output_type": "stream",
     "text": [
      "BurstID: t034_071083_iw2, sensor: S1A\n"
     ]
    },
    {
     "name": "stdout",
     "output_type": "stream",
     "text": [
      "BurstID: t034_071083_iw2, sensor: S1B\n"
     ]
    },
    {
     "name": "stdout",
     "output_type": "stream",
     "text": [
      "BurstID: t098_209324_iw1, sensor: S1A\n"
     ]
    },
    {
     "name": "stdout",
     "output_type": "stream",
     "text": [
      "BurstID: t098_209324_iw1, sensor: S1B\n"
     ]
    },
    {
     "name": "stdout",
     "output_type": "stream",
     "text": [
      "BurstID: t056_118997_iw2, sensor: S1A\n"
     ]
    },
    {
     "name": "stdout",
     "output_type": "stream",
     "text": [
      "BurstID: t056_118997_iw2, sensor: S1B\n"
     ]
    },
    {
     "name": "stdout",
     "output_type": "stream",
     "text": [
      "BurstID: t056_119002_iw3, sensor: S1A\n"
     ]
    },
    {
     "name": "stdout",
     "output_type": "stream",
     "text": [
      "BurstID: t056_119002_iw3, sensor: S1B\n"
     ]
    },
    {
     "name": "stdout",
     "output_type": "stream",
     "text": [
      "BurstID: t071_151168_iw3, sensor: S1A\n"
     ]
    },
    {
     "name": "stdout",
     "output_type": "stream",
     "text": [
      "BurstID: t071_151168_iw3, sensor: S1B\n"
     ]
    },
    {
     "name": "stdout",
     "output_type": "stream",
     "text": [
      "BurstID: t034_071092_iw3, sensor: S1A\n"
     ]
    },
    {
     "name": "stdout",
     "output_type": "stream",
     "text": [
      "BurstID: t034_071092_iw3, sensor: S1B\n"
     ]
    },
    {
     "name": "stdout",
     "output_type": "stream",
     "text": [
      "BurstID: t071_151228_iw2, sensor: S1A\n"
     ]
    },
    {
     "name": "stdout",
     "output_type": "stream",
     "text": [
      "BurstID: t071_151228_iw2, sensor: S1B\n"
     ]
    },
    {
     "name": "stdout",
     "output_type": "stream",
     "text": [
      "BurstID: t107_227877_iw1, sensor: S1A\n"
     ]
    },
    {
     "name": "stdout",
     "output_type": "stream",
     "text": [
      "BurstID: t107_227877_iw1, sensor: S1B\n"
     ]
    },
    {
     "name": "stdout",
     "output_type": "stream",
     "text": [
      "BurstID: t160_342202_iw2, sensor: S1A\n"
     ]
    },
    {
     "name": "stdout",
     "output_type": "stream",
     "text": [
      "BurstID: t160_342202_iw2, sensor: S1B\n"
     ]
    },
    {
     "name": "stdout",
     "output_type": "stream",
     "text": [
      "BurstID: t144_308009_iw3, sensor: S1A\n"
     ]
    },
    {
     "name": "stdout",
     "output_type": "stream",
     "text": [
      "BurstID: t144_308009_iw3, sensor: S1B\n"
     ]
    },
    {
     "name": "stdout",
     "output_type": "stream",
     "text": [
      "BurstID: t071_151159_iw2, sensor: S1A\n"
     ]
    },
    {
     "name": "stdout",
     "output_type": "stream",
     "text": [
      "BurstID: t071_151159_iw2, sensor: S1B\n",
      "BurstID: t115_245667_iw2, sensor: S1A\n"
     ]
    },
    {
     "name": "stdout",
     "output_type": "stream",
     "text": [
      "BurstID: t115_245667_iw2, sensor: S1B\n"
     ]
    },
    {
     "name": "stdout",
     "output_type": "stream",
     "text": [
      "BurstID: t107_227889_iw3, sensor: S1A\n"
     ]
    },
    {
     "name": "stdout",
     "output_type": "stream",
     "text": [
      "BurstID: t107_227889_iw3, sensor: S1B\n"
     ]
    },
    {
     "name": "stdout",
     "output_type": "stream",
     "text": [
      "BurstID: t137_292379_iw2, sensor: S1A\n"
     ]
    },
    {
     "name": "stdout",
     "output_type": "stream",
     "text": [
      "BurstID: t137_292379_iw2, sensor: S1B\n"
     ]
    },
    {
     "name": "stdout",
     "output_type": "stream",
     "text": [
      "BurstID: t144_308016_iw3, sensor: S1A\n"
     ]
    },
    {
     "name": "stdout",
     "output_type": "stream",
     "text": [
      "BurstID: t144_308016_iw3, sensor: S1B\n"
     ]
    },
    {
     "name": "stdout",
     "output_type": "stream",
     "text": [
      "BurstID: t135_287925_iw3, sensor: S1A\n"
     ]
    },
    {
     "name": "stdout",
     "output_type": "stream",
     "text": [
      "BurstID: t135_287925_iw3, sensor: S1B\n"
     ]
    },
    {
     "name": "stdout",
     "output_type": "stream",
     "text": [
      "BurstID: t034_071063_iw2, sensor: S1A\n"
     ]
    },
    {
     "name": "stdout",
     "output_type": "stream",
     "text": [
      "BurstID: t034_071063_iw2, sensor: S1B\n"
     ]
    },
    {
     "name": "stdout",
     "output_type": "stream",
     "text": [
      "BurstID: t071_151176_iw3, sensor: S1A\n"
     ]
    },
    {
     "name": "stdout",
     "output_type": "stream",
     "text": [
      "BurstID: t071_151176_iw3, sensor: S1B\n"
     ]
    },
    {
     "name": "stdout",
     "output_type": "stream",
     "text": [
      "BurstID: t160_342211_iw1, sensor: S1A\n"
     ]
    },
    {
     "name": "stdout",
     "output_type": "stream",
     "text": [
      "BurstID: t160_342211_iw1, sensor: S1B\n"
     ]
    },
    {
     "name": "stdout",
     "output_type": "stream",
     "text": [
      "BurstID: t034_071083_iw3, sensor: S1A\n"
     ]
    },
    {
     "name": "stdout",
     "output_type": "stream",
     "text": [
      "BurstID: t034_071083_iw3, sensor: S1B\n"
     ]
    },
    {
     "name": "stdout",
     "output_type": "stream",
     "text": [
      "BurstID: t064_135509_iw2, sensor: S1A\n"
     ]
    },
    {
     "name": "stdout",
     "output_type": "stream",
     "text": [
      "BurstID: t064_135509_iw2, sensor: S1B\n"
     ]
    },
    {
     "name": "stdout",
     "output_type": "stream",
     "text": [
      "BurstID: t131_279934_iw3, sensor: S1A\n"
     ]
    },
    {
     "name": "stdout",
     "output_type": "stream",
     "text": [
      "BurstID: t131_279934_iw3, sensor: S1B\n"
     ]
    },
    {
     "name": "stdout",
     "output_type": "stream",
     "text": [
      "BurstID: t034_071100_iw1, sensor: S1A\n"
     ]
    },
    {
     "name": "stdout",
     "output_type": "stream",
     "text": [
      "BurstID: t034_071100_iw1, sensor: S1B\n"
     ]
    },
    {
     "name": "stdout",
     "output_type": "stream",
     "text": [
      "BurstID: t034_071097_iw2, sensor: S1A\n"
     ]
    },
    {
     "name": "stdout",
     "output_type": "stream",
     "text": [
      "BurstID: t034_071097_iw2, sensor: S1B\n"
     ]
    },
    {
     "name": "stdout",
     "output_type": "stream",
     "text": [
      "BurstID: t143_305901_iw2, sensor: S1A\n"
     ]
    },
    {
     "name": "stdout",
     "output_type": "stream",
     "text": [
      "BurstID: t143_305901_iw2, sensor: S1B\n"
     ]
    },
    {
     "name": "stdout",
     "output_type": "stream",
     "text": [
      "BurstID: t064_135518_iw2, sensor: S1A\n"
     ]
    },
    {
     "name": "stdout",
     "output_type": "stream",
     "text": [
      "BurstID: t064_135518_iw2, sensor: S1B\n"
     ]
    },
    {
     "name": "stdout",
     "output_type": "stream",
     "text": [
      "BurstID: t071_151158_iw2, sensor: S1A\n"
     ]
    },
    {
     "name": "stdout",
     "output_type": "stream",
     "text": [
      "BurstID: t071_151158_iw2, sensor: S1B\n"
     ]
    },
    {
     "name": "stdout",
     "output_type": "stream",
     "text": [
      "BurstID: t044_093105_iw2, sensor: S1A\n"
     ]
    },
    {
     "name": "stdout",
     "output_type": "stream",
     "text": [
      "BurstID: t044_093105_iw2, sensor: S1B\n"
     ]
    },
    {
     "name": "stdout",
     "output_type": "stream",
     "text": [
      "BurstID: t094_200127_iw2, sensor: S1A\n"
     ]
    },
    {
     "name": "stdout",
     "output_type": "stream",
     "text": [
      "BurstID: t094_200127_iw2, sensor: S1B\n"
     ]
    },
    {
     "name": "stdout",
     "output_type": "stream",
     "text": [
      "BurstID: t071_151156_iw2, sensor: S1A\n"
     ]
    },
    {
     "name": "stdout",
     "output_type": "stream",
     "text": [
      "BurstID: t071_151156_iw2, sensor: S1B\n",
      "BurstID: t137_292335_iw3, sensor: S1A\n"
     ]
    },
    {
     "name": "stdout",
     "output_type": "stream",
     "text": [
      "BurstID: t137_292335_iw3, sensor: S1B\n"
     ]
    },
    {
     "name": "stdout",
     "output_type": "stream",
     "text": [
      "BurstID: t137_292336_iw1, sensor: S1A\n"
     ]
    },
    {
     "name": "stdout",
     "output_type": "stream",
     "text": [
      "BurstID: t137_292336_iw1, sensor: S1B\n"
     ]
    },
    {
     "name": "stdout",
     "output_type": "stream",
     "text": [
      "BurstID: t044_093113_iw1, sensor: S1A\n"
     ]
    },
    {
     "name": "stdout",
     "output_type": "stream",
     "text": [
      "BurstID: t044_093113_iw1, sensor: S1B\n"
     ]
    },
    {
     "name": "stdout",
     "output_type": "stream",
     "text": [
      "BurstID: t064_135530_iw2, sensor: S1A\n"
     ]
    },
    {
     "name": "stdout",
     "output_type": "stream",
     "text": [
      "BurstID: t064_135530_iw2, sensor: S1B\n"
     ]
    },
    {
     "name": "stdout",
     "output_type": "stream",
     "text": [
      "BurstID: t124_264306_iw2, sensor: S1A\n"
     ]
    },
    {
     "name": "stdout",
     "output_type": "stream",
     "text": [
      "BurstID: t124_264306_iw2, sensor: S1B\n"
     ]
    },
    {
     "name": "stdout",
     "output_type": "stream",
     "text": [
      "BurstID: t034_071090_iw1, sensor: S1A\n"
     ]
    },
    {
     "name": "stdout",
     "output_type": "stream",
     "text": [
      "BurstID: t034_071090_iw1, sensor: S1B\n"
     ]
    },
    {
     "name": "stdout",
     "output_type": "stream",
     "text": [
      "BurstID: t124_264518_iw1, sensor: S1A\n"
     ]
    },
    {
     "name": "stdout",
     "output_type": "stream",
     "text": [
      "BurstID: t124_264518_iw1, sensor: S1B\n"
     ]
    },
    {
     "name": "stdout",
     "output_type": "stream",
     "text": [
      "BurstID: t143_305902_iw1, sensor: S1A\n"
     ]
    },
    {
     "name": "stdout",
     "output_type": "stream",
     "text": [
      "BurstID: t143_305902_iw1, sensor: S1B\n"
     ]
    },
    {
     "name": "stdout",
     "output_type": "stream",
     "text": [
      "BurstID: t124_264309_iw3, sensor: S1A\n"
     ]
    },
    {
     "name": "stdout",
     "output_type": "stream",
     "text": [
      "BurstID: t124_264309_iw3, sensor: S1B\n"
     ]
    },
    {
     "name": "stdout",
     "output_type": "stream",
     "text": [
      "BurstID: t160_342208_iw2, sensor: S1A\n"
     ]
    },
    {
     "name": "stdout",
     "output_type": "stream",
     "text": [
      "BurstID: t160_342208_iw2, sensor: S1B\n"
     ]
    },
    {
     "name": "stdout",
     "output_type": "stream",
     "text": [
      "BurstID: t106_225743_iw2, sensor: S1A\n"
     ]
    },
    {
     "name": "stdout",
     "output_type": "stream",
     "text": [
      "BurstID: t106_225743_iw2, sensor: S1B\n"
     ]
    },
    {
     "name": "stdout",
     "output_type": "stream",
     "text": [
      "BurstID: t098_209309_iw2, sensor: S1A\n"
     ]
    },
    {
     "name": "stdout",
     "output_type": "stream",
     "text": [
      "BurstID: t098_209309_iw2, sensor: S1B\n"
     ]
    },
    {
     "name": "stdout",
     "output_type": "stream",
     "text": [
      "BurstID: t106_225756_iw2, sensor: S1A\n"
     ]
    },
    {
     "name": "stdout",
     "output_type": "stream",
     "text": [
      "BurstID: t106_225756_iw2, sensor: S1B\n"
     ]
    },
    {
     "name": "stdout",
     "output_type": "stream",
     "text": [
      "BurstID: t151_322397_iw2, sensor: S1A\n"
     ]
    },
    {
     "name": "stdout",
     "output_type": "stream",
     "text": [
      "BurstID: t151_322397_iw2, sensor: S1B\n"
     ]
    },
    {
     "name": "stdout",
     "output_type": "stream",
     "text": [
      "BurstID: t004_006659_iw1, sensor: S1A\n"
     ]
    },
    {
     "name": "stdout",
     "output_type": "stream",
     "text": [
      "BurstID: t004_006659_iw1, sensor: S1B\n"
     ]
    },
    {
     "name": "stdout",
     "output_type": "stream",
     "text": [
      "BurstID: t056_118988_iw2, sensor: S1A\n"
     ]
    },
    {
     "name": "stdout",
     "output_type": "stream",
     "text": [
      "BurstID: t056_118988_iw2, sensor: S1B\n"
     ]
    },
    {
     "name": "stdout",
     "output_type": "stream",
     "text": [
      "BurstID: t064_135532_iw1, sensor: S1A\n"
     ]
    },
    {
     "name": "stdout",
     "output_type": "stream",
     "text": [
      "BurstID: t064_135532_iw1, sensor: S1B\n"
     ]
    },
    {
     "name": "stdout",
     "output_type": "stream",
     "text": [
      "BurstID: t094_200132_iw3, sensor: S1A\n"
     ]
    },
    {
     "name": "stdout",
     "output_type": "stream",
     "text": [
      "BurstID: t094_200132_iw3, sensor: S1B\n"
     ]
    },
    {
     "name": "stdout",
     "output_type": "stream",
     "text": [
      "BurstID: t160_342222_iw3, sensor: S1A\n"
     ]
    },
    {
     "name": "stdout",
     "output_type": "stream",
     "text": [
      "BurstID: t160_342222_iw3, sensor: S1B\n"
     ]
    },
    {
     "name": "stdout",
     "output_type": "stream",
     "text": [
      "BurstID: t131_279920_iw3, sensor: S1A\n"
     ]
    },
    {
     "name": "stdout",
     "output_type": "stream",
     "text": [
      "BurstID: t131_279920_iw3, sensor: S1B\n"
     ]
    },
    {
     "name": "stdout",
     "output_type": "stream",
     "text": [
      "BurstID: t137_292381_iw2, sensor: S1A\n"
     ]
    },
    {
     "name": "stdout",
     "output_type": "stream",
     "text": [
      "BurstID: t137_292381_iw2, sensor: S1B\n"
     ]
    },
    {
     "name": "stdout",
     "output_type": "stream",
     "text": [
      "BurstID: t071_151178_iw3, sensor: S1A\n"
     ]
    },
    {
     "name": "stdout",
     "output_type": "stream",
     "text": [
      "BurstID: t071_151178_iw3, sensor: S1B\n"
     ]
    },
    {
     "name": "stdout",
     "output_type": "stream",
     "text": [
      "BurstID: t107_227893_iw3, sensor: S1A\n"
     ]
    },
    {
     "name": "stdout",
     "output_type": "stream",
     "text": [
      "BurstID: t107_227893_iw3, sensor: S1B\n"
     ]
    },
    {
     "name": "stdout",
     "output_type": "stream",
     "text": [
      "BurstID: t087_185683_iw3, sensor: S1A\n"
     ]
    },
    {
     "name": "stdout",
     "output_type": "stream",
     "text": [
      "BurstID: t087_185683_iw3, sensor: S1B\n"
     ]
    },
    {
     "name": "stdout",
     "output_type": "stream",
     "text": [
      "BurstID: t064_135534_iw3, sensor: S1A\n"
     ]
    },
    {
     "name": "stdout",
     "output_type": "stream",
     "text": [
      "BurstID: t064_135534_iw3, sensor: S1B\n"
     ]
    },
    {
     "name": "stdout",
     "output_type": "stream",
     "text": [
      "BurstID: t064_135513_iw1, sensor: S1A\n"
     ]
    },
    {
     "name": "stdout",
     "output_type": "stream",
     "text": [
      "BurstID: t064_135513_iw1, sensor: S1B\n"
     ]
    },
    {
     "name": "stdout",
     "output_type": "stream",
     "text": [
      "BurstID: t071_151158_iw1, sensor: S1A\n"
     ]
    },
    {
     "name": "stdout",
     "output_type": "stream",
     "text": [
      "BurstID: t071_151158_iw1, sensor: S1B\n",
      "BurstID: t135_287929_iw3, sensor: S1A\n"
     ]
    },
    {
     "name": "stdout",
     "output_type": "stream",
     "text": [
      "BurstID: t135_287929_iw3, sensor: S1B\n"
     ]
    },
    {
     "name": "stdout",
     "output_type": "stream",
     "text": [
      "BurstID: t160_342220_iw2, sensor: S1A\n"
     ]
    },
    {
     "name": "stdout",
     "output_type": "stream",
     "text": [
      "BurstID: t160_342220_iw2, sensor: S1B\n"
     ]
    },
    {
     "name": "stdout",
     "output_type": "stream",
     "text": [
      "BurstID: t151_322401_iw1, sensor: S1A\n"
     ]
    },
    {
     "name": "stdout",
     "output_type": "stream",
     "text": [
      "BurstID: t151_322401_iw1, sensor: S1B\n"
     ]
    },
    {
     "name": "stdout",
     "output_type": "stream",
     "text": [
      "BurstID: t115_245674_iw2, sensor: S1A\n"
     ]
    },
    {
     "name": "stdout",
     "output_type": "stream",
     "text": [
      "BurstID: t115_245674_iw2, sensor: S1B\n"
     ]
    },
    {
     "name": "stdout",
     "output_type": "stream",
     "text": [
      "BurstID: t107_227885_iw2, sensor: S1A\n"
     ]
    },
    {
     "name": "stdout",
     "output_type": "stream",
     "text": [
      "BurstID: t107_227885_iw2, sensor: S1B\n"
     ]
    },
    {
     "name": "stdout",
     "output_type": "stream",
     "text": [
      "BurstID: t034_071055_iw3, sensor: S1A\n"
     ]
    },
    {
     "name": "stdout",
     "output_type": "stream",
     "text": [
      "BurstID: t034_071055_iw3, sensor: S1B\n"
     ]
    },
    {
     "name": "stdout",
     "output_type": "stream",
     "text": [
      "BurstID: t064_135518_iw3, sensor: S1A\n"
     ]
    },
    {
     "name": "stdout",
     "output_type": "stream",
     "text": [
      "BurstID: t064_135518_iw3, sensor: S1B\n"
     ]
    },
    {
     "name": "stdout",
     "output_type": "stream",
     "text": [
      "BurstID: t124_264302_iw2, sensor: S1A\n"
     ]
    },
    {
     "name": "stdout",
     "output_type": "stream",
     "text": [
      "BurstID: t124_264302_iw2, sensor: S1B\n"
     ]
    },
    {
     "name": "stdout",
     "output_type": "stream",
     "text": [
      "BurstID: t004_006663_iw3, sensor: S1A\n"
     ]
    },
    {
     "name": "stdout",
     "output_type": "stream",
     "text": [
      "BurstID: t004_006663_iw3, sensor: S1B\n"
     ]
    },
    {
     "name": "stdout",
     "output_type": "stream",
     "text": [
      "BurstID: t004_006651_iw3, sensor: S1A\n"
     ]
    },
    {
     "name": "stdout",
     "output_type": "stream",
     "text": [
      "BurstID: t004_006651_iw3, sensor: S1B\n"
     ]
    },
    {
     "name": "stdout",
     "output_type": "stream",
     "text": [
      "BurstID: t160_342223_iw2, sensor: S1A\n"
     ]
    },
    {
     "name": "stdout",
     "output_type": "stream",
     "text": [
      "BurstID: t160_342223_iw2, sensor: S1B\n"
     ]
    },
    {
     "name": "stdout",
     "output_type": "stream",
     "text": [
      "BurstID: t056_119000_iw3, sensor: S1A\n"
     ]
    },
    {
     "name": "stdout",
     "output_type": "stream",
     "text": [
      "BurstID: t056_119000_iw3, sensor: S1B\n"
     ]
    },
    {
     "name": "stdout",
     "output_type": "stream",
     "text": [
      "BurstID: t124_264311_iw2, sensor: S1A\n"
     ]
    },
    {
     "name": "stdout",
     "output_type": "stream",
     "text": [
      "BurstID: t124_264311_iw2, sensor: S1B\n"
     ]
    },
    {
     "name": "stdout",
     "output_type": "stream",
     "text": [
      "BurstID: t042_088928_iw2, sensor: S1A\n"
     ]
    },
    {
     "name": "stdout",
     "output_type": "stream",
     "text": [
      "BurstID: t042_088928_iw2, sensor: S1B\n"
     ]
    },
    {
     "name": "stdout",
     "output_type": "stream",
     "text": [
      "BurstID: t071_151163_iw3, sensor: S1A\n"
     ]
    },
    {
     "name": "stdout",
     "output_type": "stream",
     "text": [
      "BurstID: t071_151163_iw3, sensor: S1B\n"
     ]
    },
    {
     "name": "stdout",
     "output_type": "stream",
     "text": [
      "BurstID: t151_322412_iw1, sensor: S1A\n"
     ]
    },
    {
     "name": "stdout",
     "output_type": "stream",
     "text": [
      "BurstID: t151_322412_iw1, sensor: S1B\n"
     ]
    },
    {
     "name": "stdout",
     "output_type": "stream",
     "text": [
      "BurstID: t115_245670_iw1, sensor: S1A\n"
     ]
    },
    {
     "name": "stdout",
     "output_type": "stream",
     "text": [
      "BurstID: t115_245670_iw1, sensor: S1B\n"
     ]
    },
    {
     "name": "stdout",
     "output_type": "stream",
     "text": [
      "BurstID: t115_245666_iw2, sensor: S1A\n"
     ]
    },
    {
     "name": "stdout",
     "output_type": "stream",
     "text": [
      "BurstID: t115_245666_iw2, sensor: S1B\n"
     ]
    },
    {
     "name": "stdout",
     "output_type": "stream",
     "text": [
      "BurstID: t056_118986_iw2, sensor: S1A\n"
     ]
    },
    {
     "name": "stdout",
     "output_type": "stream",
     "text": [
      "BurstID: t056_118986_iw2, sensor: S1B\n"
     ]
    },
    {
     "name": "stdout",
     "output_type": "stream",
     "text": [
      "BurstID: t004_006657_iw2, sensor: S1A\n"
     ]
    },
    {
     "name": "stdout",
     "output_type": "stream",
     "text": [
      "BurstID: t004_006657_iw2, sensor: S1B\n"
     ]
    },
    {
     "name": "stdout",
     "output_type": "stream",
     "text": [
      "BurstID: t144_308010_iw2, sensor: S1A\n"
     ]
    },
    {
     "name": "stdout",
     "output_type": "stream",
     "text": [
      "BurstID: t144_308010_iw2, sensor: S1B\n"
     ]
    },
    {
     "name": "stdout",
     "output_type": "stream",
     "text": [
      "BurstID: t042_088930_iw1, sensor: S1A\n"
     ]
    },
    {
     "name": "stdout",
     "output_type": "stream",
     "text": [
      "BurstID: t042_088930_iw1, sensor: S1B\n"
     ]
    },
    {
     "name": "stdout",
     "output_type": "stream",
     "text": [
      "BurstID: t071_151222_iw3, sensor: S1A\n"
     ]
    },
    {
     "name": "stdout",
     "output_type": "stream",
     "text": [
      "BurstID: t071_151222_iw3, sensor: S1B\n"
     ]
    },
    {
     "name": "stdout",
     "output_type": "stream",
     "text": [
      "BurstID: t144_308016_iw2, sensor: S1A\n"
     ]
    },
    {
     "name": "stdout",
     "output_type": "stream",
     "text": [
      "BurstID: t144_308016_iw2, sensor: S1B\n"
     ]
    },
    {
     "name": "stdout",
     "output_type": "stream",
     "text": [
      "BurstID: t151_322408_iw1, sensor: S1A\n"
     ]
    },
    {
     "name": "stdout",
     "output_type": "stream",
     "text": [
      "BurstID: t151_322408_iw1, sensor: S1B\n"
     ]
    },
    {
     "name": "stdout",
     "output_type": "stream",
     "text": [
      "BurstID: t071_151172_iw2, sensor: S1A\n"
     ]
    },
    {
     "name": "stdout",
     "output_type": "stream",
     "text": [
      "BurstID: t071_151172_iw2, sensor: S1B\n"
     ]
    },
    {
     "name": "stdout",
     "output_type": "stream",
     "text": [
      "BurstID: t087_185689_iw1, sensor: S1A\n"
     ]
    },
    {
     "name": "stdout",
     "output_type": "stream",
     "text": [
      "BurstID: t087_185689_iw1, sensor: S1B\n"
     ]
    },
    {
     "name": "stdout",
     "output_type": "stream",
     "text": [
      "BurstID: t042_088920_iw2, sensor: S1A\n"
     ]
    },
    {
     "name": "stdout",
     "output_type": "stream",
     "text": [
      "BurstID: t042_088920_iw2, sensor: S1B\n"
     ]
    },
    {
     "name": "stdout",
     "output_type": "stream",
     "text": [
      "BurstID: t094_200130_iw3, sensor: S1A\n"
     ]
    },
    {
     "name": "stdout",
     "output_type": "stream",
     "text": [
      "BurstID: t094_200130_iw3, sensor: S1B\n"
     ]
    },
    {
     "name": "stdout",
     "output_type": "stream",
     "text": [
      "BurstID: t137_292335_iw1, sensor: S1A\n"
     ]
    },
    {
     "name": "stdout",
     "output_type": "stream",
     "text": [
      "BurstID: t137_292335_iw1, sensor: S1B\n"
     ]
    },
    {
     "name": "stdout",
     "output_type": "stream",
     "text": [
      "BurstID: t107_227877_iw2, sensor: S1A\n"
     ]
    },
    {
     "name": "stdout",
     "output_type": "stream",
     "text": [
      "BurstID: t107_227877_iw2, sensor: S1B\n"
     ]
    },
    {
     "name": "stdout",
     "output_type": "stream",
     "text": [
      "BurstID: t034_071089_iw3, sensor: S1A\n"
     ]
    },
    {
     "name": "stdout",
     "output_type": "stream",
     "text": [
      "BurstID: t034_071089_iw3, sensor: S1B\n"
     ]
    },
    {
     "name": "stdout",
     "output_type": "stream",
     "text": [
      "BurstID: t071_151164_iw2, sensor: S1A\n"
     ]
    },
    {
     "name": "stdout",
     "output_type": "stream",
     "text": [
      "BurstID: t071_151164_iw2, sensor: S1B\n"
     ]
    },
    {
     "name": "stdout",
     "output_type": "stream",
     "text": [
      "BurstID: t137_292388_iw2, sensor: S1A\n"
     ]
    },
    {
     "name": "stdout",
     "output_type": "stream",
     "text": [
      "BurstID: t137_292388_iw2, sensor: S1B\n"
     ]
    },
    {
     "name": "stdout",
     "output_type": "stream",
     "text": [
      "BurstID: t034_071046_iw2, sensor: S1A\n"
     ]
    },
    {
     "name": "stdout",
     "output_type": "stream",
     "text": [
      "BurstID: t034_071046_iw2, sensor: S1B\n"
     ]
    },
    {
     "name": "stdout",
     "output_type": "stream",
     "text": [
      "BurstID: t064_135514_iw3, sensor: S1A\n"
     ]
    },
    {
     "name": "stdout",
     "output_type": "stream",
     "text": [
      "BurstID: t064_135514_iw3, sensor: S1B\n"
     ]
    },
    {
     "name": "stdout",
     "output_type": "stream",
     "text": [
      "BurstID: t106_225741_iw3, sensor: S1A\n"
     ]
    },
    {
     "name": "stdout",
     "output_type": "stream",
     "text": [
      "BurstID: t106_225741_iw3, sensor: S1B\n"
     ]
    },
    {
     "name": "stdout",
     "output_type": "stream",
     "text": [
      "BurstID: t034_071090_iw2, sensor: S1A\n"
     ]
    },
    {
     "name": "stdout",
     "output_type": "stream",
     "text": [
      "BurstID: t034_071090_iw2, sensor: S1B\n"
     ]
    },
    {
     "name": "stdout",
     "output_type": "stream",
     "text": [
      "BurstID: t151_322394_iw2, sensor: S1A\n"
     ]
    },
    {
     "name": "stdout",
     "output_type": "stream",
     "text": [
      "BurstID: t151_322394_iw2, sensor: S1B\n"
     ]
    },
    {
     "name": "stdout",
     "output_type": "stream",
     "text": [
      "BurstID: t034_071087_iw2, sensor: S1A\n"
     ]
    },
    {
     "name": "stdout",
     "output_type": "stream",
     "text": [
      "BurstID: t034_071087_iw2, sensor: S1B\n"
     ]
    },
    {
     "name": "stdout",
     "output_type": "stream",
     "text": [
      "BurstID: t094_200128_iw3, sensor: S1A\n"
     ]
    },
    {
     "name": "stdout",
     "output_type": "stream",
     "text": [
      "BurstID: t094_200128_iw3, sensor: S1B\n"
     ]
    },
    {
     "name": "stdout",
     "output_type": "stream",
     "text": [
      "BurstID: t135_287931_iw2, sensor: S1A\n"
     ]
    },
    {
     "name": "stdout",
     "output_type": "stream",
     "text": [
      "BurstID: t135_287931_iw2, sensor: S1B\n"
     ]
    },
    {
     "name": "stdout",
     "output_type": "stream",
     "text": [
      "BurstID: t034_071058_iw1, sensor: S1A\n"
     ]
    },
    {
     "name": "stdout",
     "output_type": "stream",
     "text": [
      "BurstID: t034_071058_iw1, sensor: S1B\n"
     ]
    },
    {
     "name": "stdout",
     "output_type": "stream",
     "text": [
      "BurstID: t160_342222_iw1, sensor: S1A\n"
     ]
    },
    {
     "name": "stdout",
     "output_type": "stream",
     "text": [
      "BurstID: t160_342222_iw1, sensor: S1B\n"
     ]
    },
    {
     "name": "stdout",
     "output_type": "stream",
     "text": [
      "BurstID: t131_279915_iw3, sensor: S1A\n"
     ]
    },
    {
     "name": "stdout",
     "output_type": "stream",
     "text": [
      "BurstID: t131_279915_iw3, sensor: S1B\n"
     ]
    },
    {
     "name": "stdout",
     "output_type": "stream",
     "text": [
      "BurstID: t137_292330_iw1, sensor: S1A\n"
     ]
    },
    {
     "name": "stdout",
     "output_type": "stream",
     "text": [
      "BurstID: t137_292330_iw1, sensor: S1B\n"
     ]
    },
    {
     "name": "stdout",
     "output_type": "stream",
     "text": [
      "BurstID: t160_342200_iw2, sensor: S1A\n"
     ]
    },
    {
     "name": "stdout",
     "output_type": "stream",
     "text": [
      "BurstID: t160_342200_iw2, sensor: S1B\n"
     ]
    },
    {
     "name": "stdout",
     "output_type": "stream",
     "text": [
      "BurstID: t034_071057_iw2, sensor: S1A\n"
     ]
    },
    {
     "name": "stdout",
     "output_type": "stream",
     "text": [
      "BurstID: t034_071057_iw2, sensor: S1B\n"
     ]
    },
    {
     "name": "stdout",
     "output_type": "stream",
     "text": [
      "BurstID: t098_209317_iw2, sensor: S1A\n"
     ]
    },
    {
     "name": "stdout",
     "output_type": "stream",
     "text": [
      "BurstID: t098_209317_iw2, sensor: S1B\n"
     ]
    },
    {
     "name": "stdout",
     "output_type": "stream",
     "text": [
      "BurstID: t124_264312_iw1, sensor: S1A\n"
     ]
    },
    {
     "name": "stdout",
     "output_type": "stream",
     "text": [
      "BurstID: t124_264312_iw1, sensor: S1B\n"
     ]
    },
    {
     "name": "stdout",
     "output_type": "stream",
     "text": [
      "BurstID: t056_119004_iw2, sensor: S1A\n"
     ]
    },
    {
     "name": "stdout",
     "output_type": "stream",
     "text": [
      "BurstID: t056_119004_iw2, sensor: S1B\n"
     ]
    },
    {
     "name": "stdout",
     "output_type": "stream",
     "text": [
      "BurstID: t094_200130_iw2, sensor: S1A\n"
     ]
    },
    {
     "name": "stdout",
     "output_type": "stream",
     "text": [
      "BurstID: t094_200130_iw2, sensor: S1B\n"
     ]
    },
    {
     "name": "stdout",
     "output_type": "stream",
     "text": [
      "BurstID: t044_093107_iw1, sensor: S1A\n"
     ]
    },
    {
     "name": "stdout",
     "output_type": "stream",
     "text": [
      "BurstID: t044_093107_iw1, sensor: S1B\n"
     ]
    },
    {
     "name": "stdout",
     "output_type": "stream",
     "text": [
      "BurstID: t034_071045_iw3, sensor: S1A\n"
     ]
    },
    {
     "name": "stdout",
     "output_type": "stream",
     "text": [
      "BurstID: t034_071045_iw3, sensor: S1B\n"
     ]
    },
    {
     "name": "stdout",
     "output_type": "stream",
     "text": [
      "BurstID: t135_287927_iw1, sensor: S1A\n"
     ]
    },
    {
     "name": "stdout",
     "output_type": "stream",
     "text": [
      "BurstID: t135_287927_iw1, sensor: S1B\n"
     ]
    },
    {
     "name": "stdout",
     "output_type": "stream",
     "text": [
      "BurstID: t151_322399_iw1, sensor: S1A\n"
     ]
    },
    {
     "name": "stdout",
     "output_type": "stream",
     "text": [
      "BurstID: t151_322399_iw1, sensor: S1B\n"
     ]
    },
    {
     "name": "stdout",
     "output_type": "stream",
     "text": [
      "BurstID: t160_342226_iw1, sensor: S1A\n"
     ]
    },
    {
     "name": "stdout",
     "output_type": "stream",
     "text": [
      "BurstID: t160_342226_iw1, sensor: S1B\n"
     ]
    },
    {
     "name": "stdout",
     "output_type": "stream",
     "text": [
      "BurstID: t137_292333_iw2, sensor: S1A\n"
     ]
    },
    {
     "name": "stdout",
     "output_type": "stream",
     "text": [
      "BurstID: t137_292333_iw2, sensor: S1B\n"
     ]
    },
    {
     "name": "stdout",
     "output_type": "stream",
     "text": [
      "BurstID: t034_071060_iw3, sensor: S1A\n"
     ]
    },
    {
     "name": "stdout",
     "output_type": "stream",
     "text": [
      "BurstID: t034_071060_iw3, sensor: S1B\n"
     ]
    },
    {
     "name": "stdout",
     "output_type": "stream",
     "text": [
      "BurstID: t004_006650_iw1, sensor: S1A\n"
     ]
    },
    {
     "name": "stdout",
     "output_type": "stream",
     "text": [
      "BurstID: t004_006650_iw1, sensor: S1B\n"
     ]
    },
    {
     "name": "stdout",
     "output_type": "stream",
     "text": [
      "BurstID: t071_151223_iw3, sensor: S1A\n"
     ]
    },
    {
     "name": "stdout",
     "output_type": "stream",
     "text": [
      "BurstID: t071_151223_iw3, sensor: S1B\n"
     ]
    },
    {
     "name": "stdout",
     "output_type": "stream",
     "text": [
      "BurstID: t044_093109_iw2, sensor: S1A\n"
     ]
    },
    {
     "name": "stdout",
     "output_type": "stream",
     "text": [
      "BurstID: t044_093109_iw2, sensor: S1B\n"
     ]
    },
    {
     "name": "stdout",
     "output_type": "stream",
     "text": [
      "BurstID: t131_279916_iw3, sensor: S1A\n"
     ]
    },
    {
     "name": "stdout",
     "output_type": "stream",
     "text": [
      "BurstID: t131_279916_iw3, sensor: S1B\n"
     ]
    },
    {
     "name": "stdout",
     "output_type": "stream",
     "text": [
      "BurstID: t124_264303_iw1, sensor: S1A\n"
     ]
    },
    {
     "name": "stdout",
     "output_type": "stream",
     "text": [
      "BurstID: t124_264303_iw1, sensor: S1B\n"
     ]
    },
    {
     "name": "stdout",
     "output_type": "stream",
     "text": [
      "BurstID: t071_151155_iw2, sensor: S1A\n"
     ]
    },
    {
     "name": "stdout",
     "output_type": "stream",
     "text": [
      "BurstID: t071_151155_iw2, sensor: S1B\n",
      "BurstID: t106_225740_iw2, sensor: S1A\n"
     ]
    },
    {
     "name": "stdout",
     "output_type": "stream",
     "text": [
      "BurstID: t106_225740_iw2, sensor: S1B\n"
     ]
    },
    {
     "name": "stdout",
     "output_type": "stream",
     "text": [
      "BurstID: t107_227888_iw3, sensor: S1A\n"
     ]
    },
    {
     "name": "stdout",
     "output_type": "stream",
     "text": [
      "BurstID: t107_227888_iw3, sensor: S1B\n"
     ]
    },
    {
     "name": "stdout",
     "output_type": "stream",
     "text": [
      "BurstID: t034_071064_iw2, sensor: S1A\n",
      "BurstID: t034_071064_iw2, sensor: S1B\n"
     ]
    },
    {
     "name": "stdout",
     "output_type": "stream",
     "text": [
      "BurstID: t151_322396_iw1, sensor: S1A\n"
     ]
    },
    {
     "name": "stdout",
     "output_type": "stream",
     "text": [
      "BurstID: t151_322396_iw1, sensor: S1B\n"
     ]
    },
    {
     "name": "stdout",
     "output_type": "stream",
     "text": [
      "BurstID: t143_305908_iw2, sensor: S1A\n"
     ]
    },
    {
     "name": "stdout",
     "output_type": "stream",
     "text": [
      "BurstID: t143_305908_iw2, sensor: S1B\n"
     ]
    },
    {
     "name": "stdout",
     "output_type": "stream",
     "text": [
      "BurstID: t160_342207_iw1, sensor: S1A\n"
     ]
    },
    {
     "name": "stdout",
     "output_type": "stream",
     "text": [
      "BurstID: t160_342207_iw1, sensor: S1B\n"
     ]
    },
    {
     "name": "stdout",
     "output_type": "stream",
     "text": [
      "BurstID: t034_071084_iw3, sensor: S1A\n"
     ]
    },
    {
     "name": "stdout",
     "output_type": "stream",
     "text": [
      "BurstID: t034_071084_iw3, sensor: S1B\n"
     ]
    },
    {
     "name": "stdout",
     "output_type": "stream",
     "text": [
      "BurstID: t004_006652_iw3, sensor: S1A\n"
     ]
    },
    {
     "name": "stdout",
     "output_type": "stream",
     "text": [
      "BurstID: t004_006652_iw3, sensor: S1B\n"
     ]
    },
    {
     "name": "stdout",
     "output_type": "stream",
     "text": [
      "BurstID: t135_287924_iw2, sensor: S1A\n"
     ]
    },
    {
     "name": "stdout",
     "output_type": "stream",
     "text": [
      "BurstID: t135_287924_iw2, sensor: S1B\n"
     ]
    },
    {
     "name": "stdout",
     "output_type": "stream",
     "text": [
      "BurstID: t034_071098_iw1, sensor: S1A\n"
     ]
    },
    {
     "name": "stdout",
     "output_type": "stream",
     "text": [
      "BurstID: t034_071098_iw1, sensor: S1B\n"
     ]
    },
    {
     "name": "stdout",
     "output_type": "stream",
     "text": [
      "BurstID: t056_118984_iw2, sensor: S1A\n"
     ]
    },
    {
     "name": "stdout",
     "output_type": "stream",
     "text": [
      "BurstID: t056_118984_iw2, sensor: S1B\n"
     ]
    },
    {
     "name": "stdout",
     "output_type": "stream",
     "text": [
      "BurstID: t151_322395_iw2, sensor: S1A\n"
     ]
    },
    {
     "name": "stdout",
     "output_type": "stream",
     "text": [
      "BurstID: t151_322395_iw2, sensor: S1B\n"
     ]
    },
    {
     "name": "stdout",
     "output_type": "stream",
     "text": [
      "BurstID: t071_151164_iw3, sensor: S1A\n"
     ]
    },
    {
     "name": "stdout",
     "output_type": "stream",
     "text": [
      "BurstID: t071_151164_iw3, sensor: S1B\n"
     ]
    },
    {
     "name": "stdout",
     "output_type": "stream",
     "text": [
      "BurstID: t065_137845_iw2, sensor: S1A\n"
     ]
    },
    {
     "name": "stdout",
     "output_type": "stream",
     "text": [
      "BurstID: t065_137845_iw2, sensor: S1B\n"
     ]
    },
    {
     "name": "stdout",
     "output_type": "stream",
     "text": [
      "BurstID: t131_279914_iw1, sensor: S1A\n"
     ]
    },
    {
     "name": "stdout",
     "output_type": "stream",
     "text": [
      "BurstID: t131_279914_iw1, sensor: S1B\n"
     ]
    },
    {
     "name": "stdout",
     "output_type": "stream",
     "text": [
      "BurstID: t160_342212_iw2, sensor: S1A\n"
     ]
    },
    {
     "name": "stdout",
     "output_type": "stream",
     "text": [
      "BurstID: t160_342212_iw2, sensor: S1B\n"
     ]
    },
    {
     "name": "stdout",
     "output_type": "stream",
     "text": [
      "BurstID: t034_071046_iw1, sensor: S1A\n"
     ]
    },
    {
     "name": "stdout",
     "output_type": "stream",
     "text": [
      "BurstID: t034_071046_iw1, sensor: S1B\n"
     ]
    },
    {
     "name": "stdout",
     "output_type": "stream",
     "text": [
      "BurstID: t160_342221_iw1, sensor: S1A\n"
     ]
    },
    {
     "name": "stdout",
     "output_type": "stream",
     "text": [
      "BurstID: t160_342221_iw1, sensor: S1B\n"
     ]
    },
    {
     "name": "stdout",
     "output_type": "stream",
     "text": [
      "BurstID: t034_071096_iw1, sensor: S1A\n"
     ]
    },
    {
     "name": "stdout",
     "output_type": "stream",
     "text": [
      "BurstID: t034_071096_iw1, sensor: S1B\n"
     ]
    },
    {
     "name": "stdout",
     "output_type": "stream",
     "text": [
      "BurstID: t034_071085_iw1, sensor: S1A\n"
     ]
    },
    {
     "name": "stdout",
     "output_type": "stream",
     "text": [
      "BurstID: t034_071085_iw1, sensor: S1B\n"
     ]
    },
    {
     "name": "stdout",
     "output_type": "stream",
     "text": [
      "BurstID: t064_135528_iw1, sensor: S1A\n"
     ]
    },
    {
     "name": "stdout",
     "output_type": "stream",
     "text": [
      "BurstID: t064_135528_iw1, sensor: S1B\n"
     ]
    },
    {
     "name": "stdout",
     "output_type": "stream",
     "text": [
      "BurstID: t135_287930_iw3, sensor: S1A\n"
     ]
    },
    {
     "name": "stdout",
     "output_type": "stream",
     "text": [
      "BurstID: t135_287930_iw3, sensor: S1B\n"
     ]
    },
    {
     "name": "stdout",
     "output_type": "stream",
     "text": [
      "BurstID: t034_071058_iw3, sensor: S1A\n"
     ]
    },
    {
     "name": "stdout",
     "output_type": "stream",
     "text": [
      "BurstID: t034_071058_iw3, sensor: S1B\n"
     ]
    },
    {
     "name": "stdout",
     "output_type": "stream",
     "text": [
      "BurstID: t124_264309_iw2, sensor: S1A\n"
     ]
    },
    {
     "name": "stdout",
     "output_type": "stream",
     "text": [
      "BurstID: t124_264309_iw2, sensor: S1B\n"
     ]
    },
    {
     "name": "stdout",
     "output_type": "stream",
     "text": [
      "BurstID: t106_225746_iw2, sensor: S1A\n"
     ]
    },
    {
     "name": "stdout",
     "output_type": "stream",
     "text": [
      "BurstID: t106_225746_iw2, sensor: S1B\n"
     ]
    },
    {
     "name": "stdout",
     "output_type": "stream",
     "text": [
      "BurstID: t124_264522_iw1, sensor: S1A\n"
     ]
    },
    {
     "name": "stdout",
     "output_type": "stream",
     "text": [
      "BurstID: t124_264522_iw1, sensor: S1B\n"
     ]
    },
    {
     "name": "stdout",
     "output_type": "stream",
     "text": [
      "BurstID: t071_151169_iw1, sensor: S1A\n"
     ]
    },
    {
     "name": "stdout",
     "output_type": "stream",
     "text": [
      "BurstID: t071_151169_iw1, sensor: S1B\n"
     ]
    },
    {
     "name": "stdout",
     "output_type": "stream",
     "text": [
      "BurstID: t094_200128_iw1, sensor: S1A\n"
     ]
    },
    {
     "name": "stdout",
     "output_type": "stream",
     "text": [
      "BurstID: t094_200128_iw1, sensor: S1B\n"
     ]
    },
    {
     "name": "stdout",
     "output_type": "stream",
     "text": [
      "BurstID: t065_137843_iw1, sensor: S1A\n"
     ]
    },
    {
     "name": "stdout",
     "output_type": "stream",
     "text": [
      "BurstID: t065_137843_iw1, sensor: S1B\n"
     ]
    },
    {
     "name": "stdout",
     "output_type": "stream",
     "text": [
      "BurstID: t151_322411_iw1, sensor: S1A\n"
     ]
    },
    {
     "name": "stdout",
     "output_type": "stream",
     "text": [
      "BurstID: t151_322411_iw1, sensor: S1B\n"
     ]
    },
    {
     "name": "stdout",
     "output_type": "stream",
     "text": [
      "BurstID: t131_279913_iw3, sensor: S1A\n"
     ]
    },
    {
     "name": "stdout",
     "output_type": "stream",
     "text": [
      "BurstID: t131_279913_iw3, sensor: S1B\n"
     ]
    },
    {
     "name": "stdout",
     "output_type": "stream",
     "text": [
      "BurstID: t034_071062_iw3, sensor: S1A\n"
     ]
    },
    {
     "name": "stdout",
     "output_type": "stream",
     "text": [
      "BurstID: t034_071062_iw3, sensor: S1B\n"
     ]
    },
    {
     "name": "stdout",
     "output_type": "stream",
     "text": [
      "BurstID: t098_209323_iw3, sensor: S1A\n"
     ]
    },
    {
     "name": "stdout",
     "output_type": "stream",
     "text": [
      "BurstID: t098_209323_iw3, sensor: S1B\n"
     ]
    },
    {
     "name": "stdout",
     "output_type": "stream",
     "text": [
      "BurstID: t115_245669_iw1, sensor: S1A\n"
     ]
    },
    {
     "name": "stdout",
     "output_type": "stream",
     "text": [
      "BurstID: t115_245669_iw1, sensor: S1B\n"
     ]
    },
    {
     "name": "stdout",
     "output_type": "stream",
     "text": [
      "BurstID: t106_225737_iw3, sensor: S1A\n"
     ]
    },
    {
     "name": "stdout",
     "output_type": "stream",
     "text": [
      "BurstID: t106_225737_iw3, sensor: S1B\n"
     ]
    },
    {
     "name": "stdout",
     "output_type": "stream",
     "text": [
      "BurstID: t124_264524_iw3, sensor: S1A\n"
     ]
    },
    {
     "name": "stdout",
     "output_type": "stream",
     "text": [
      "BurstID: t124_264524_iw3, sensor: S1B\n"
     ]
    },
    {
     "name": "stdout",
     "output_type": "stream",
     "text": [
      "BurstID: t064_135524_iw2, sensor: S1A\n"
     ]
    },
    {
     "name": "stdout",
     "output_type": "stream",
     "text": [
      "BurstID: t064_135524_iw2, sensor: S1B\n"
     ]
    },
    {
     "name": "stdout",
     "output_type": "stream",
     "text": [
      "BurstID: t143_305902_iw2, sensor: S1A\n"
     ]
    },
    {
     "name": "stdout",
     "output_type": "stream",
     "text": [
      "BurstID: t143_305902_iw2, sensor: S1B\n"
     ]
    },
    {
     "name": "stdout",
     "output_type": "stream",
     "text": [
      "BurstID: t064_135511_iw3, sensor: S1A\n"
     ]
    },
    {
     "name": "stdout",
     "output_type": "stream",
     "text": [
      "BurstID: t064_135511_iw3, sensor: S1B\n"
     ]
    },
    {
     "name": "stdout",
     "output_type": "stream",
     "text": [
      "BurstID: t160_342224_iw3, sensor: S1A\n"
     ]
    },
    {
     "name": "stdout",
     "output_type": "stream",
     "text": [
      "BurstID: t160_342224_iw3, sensor: S1B\n"
     ]
    },
    {
     "name": "stdout",
     "output_type": "stream",
     "text": [
      "BurstID: t042_088923_iw2, sensor: S1A\n"
     ]
    },
    {
     "name": "stdout",
     "output_type": "stream",
     "text": [
      "BurstID: t042_088923_iw2, sensor: S1B\n"
     ]
    },
    {
     "name": "stdout",
     "output_type": "stream",
     "text": [
      "BurstID: t098_209316_iw1, sensor: S1A\n"
     ]
    },
    {
     "name": "stdout",
     "output_type": "stream",
     "text": [
      "BurstID: t098_209316_iw1, sensor: S1B\n"
     ]
    },
    {
     "name": "stdout",
     "output_type": "stream",
     "text": [
      "BurstID: t056_118989_iw3, sensor: S1A\n"
     ]
    },
    {
     "name": "stdout",
     "output_type": "stream",
     "text": [
      "BurstID: t056_118989_iw3, sensor: S1B\n"
     ]
    },
    {
     "name": "stdout",
     "output_type": "stream",
     "text": [
      "BurstID: t137_292327_iw2, sensor: S1A\n"
     ]
    },
    {
     "name": "stdout",
     "output_type": "stream",
     "text": [
      "BurstID: t137_292327_iw2, sensor: S1B\n"
     ]
    },
    {
     "name": "stdout",
     "output_type": "stream",
     "text": [
      "BurstID: t137_292335_iw2, sensor: S1A\n"
     ]
    },
    {
     "name": "stdout",
     "output_type": "stream",
     "text": [
      "BurstID: t137_292335_iw2, sensor: S1B\n"
     ]
    },
    {
     "name": "stdout",
     "output_type": "stream",
     "text": [
      "BurstID: t137_292388_iw1, sensor: S1A\n"
     ]
    },
    {
     "name": "stdout",
     "output_type": "stream",
     "text": [
      "BurstID: t137_292388_iw1, sensor: S1B\n"
     ]
    },
    {
     "name": "stdout",
     "output_type": "stream",
     "text": [
      "BurstID: t131_279914_iw2, sensor: S1A\n"
     ]
    },
    {
     "name": "stdout",
     "output_type": "stream",
     "text": [
      "BurstID: t131_279914_iw2, sensor: S1B\n"
     ]
    },
    {
     "name": "stdout",
     "output_type": "stream",
     "text": [
      "BurstID: t065_137838_iw3, sensor: S1A\n"
     ]
    },
    {
     "name": "stdout",
     "output_type": "stream",
     "text": [
      "BurstID: t065_137838_iw3, sensor: S1B\n"
     ]
    },
    {
     "name": "stdout",
     "output_type": "stream",
     "text": [
      "BurstID: t144_308019_iw2, sensor: S1A\n"
     ]
    },
    {
     "name": "stdout",
     "output_type": "stream",
     "text": [
      "BurstID: t144_308019_iw2, sensor: S1B\n"
     ]
    },
    {
     "name": "stdout",
     "output_type": "stream",
     "text": [
      "BurstID: t137_292330_iw3, sensor: S1A\n"
     ]
    },
    {
     "name": "stdout",
     "output_type": "stream",
     "text": [
      "BurstID: t137_292330_iw3, sensor: S1B\n"
     ]
    },
    {
     "name": "stdout",
     "output_type": "stream",
     "text": [
      "BurstID: t064_135525_iw2, sensor: S1A\n"
     ]
    },
    {
     "name": "stdout",
     "output_type": "stream",
     "text": [
      "BurstID: t064_135525_iw2, sensor: S1B\n"
     ]
    },
    {
     "name": "stdout",
     "output_type": "stream",
     "text": [
      "BurstID: t094_200137_iw1, sensor: S1A\n"
     ]
    },
    {
     "name": "stdout",
     "output_type": "stream",
     "text": [
      "BurstID: t094_200137_iw1, sensor: S1B\n"
     ]
    },
    {
     "name": "stdout",
     "output_type": "stream",
     "text": [
      "BurstID: t056_118993_iw1, sensor: S1A\n"
     ]
    },
    {
     "name": "stdout",
     "output_type": "stream",
     "text": [
      "BurstID: t056_118993_iw1, sensor: S1B\n"
     ]
    },
    {
     "name": "stdout",
     "output_type": "stream",
     "text": [
      "BurstID: t137_292329_iw3, sensor: S1A\n"
     ]
    },
    {
     "name": "stdout",
     "output_type": "stream",
     "text": [
      "BurstID: t137_292329_iw3, sensor: S1B\n"
     ]
    },
    {
     "name": "stdout",
     "output_type": "stream",
     "text": [
      "BurstID: t034_071059_iw3, sensor: S1A\n"
     ]
    },
    {
     "name": "stdout",
     "output_type": "stream",
     "text": [
      "BurstID: t034_071059_iw3, sensor: S1B\n"
     ]
    },
    {
     "name": "stdout",
     "output_type": "stream",
     "text": [
      "BurstID: t071_151168_iw2, sensor: S1A\n"
     ]
    },
    {
     "name": "stdout",
     "output_type": "stream",
     "text": [
      "BurstID: t071_151168_iw2, sensor: S1B\n"
     ]
    },
    {
     "name": "stdout",
     "output_type": "stream",
     "text": [
      "BurstID: t098_209322_iw1, sensor: S1A\n"
     ]
    },
    {
     "name": "stdout",
     "output_type": "stream",
     "text": [
      "BurstID: t098_209322_iw1, sensor: S1B\n"
     ]
    },
    {
     "name": "stdout",
     "output_type": "stream",
     "text": [
      "BurstID: t107_227882_iw3, sensor: S1A\n"
     ]
    },
    {
     "name": "stdout",
     "output_type": "stream",
     "text": [
      "BurstID: t107_227882_iw3, sensor: S1B\n"
     ]
    },
    {
     "name": "stdout",
     "output_type": "stream",
     "text": [
      "BurstID: t151_322414_iw1, sensor: S1A\n"
     ]
    },
    {
     "name": "stdout",
     "output_type": "stream",
     "text": [
      "BurstID: t151_322414_iw1, sensor: S1B\n"
     ]
    },
    {
     "name": "stdout",
     "output_type": "stream",
     "text": [
      "BurstID: t064_135513_iw2, sensor: S1A\n"
     ]
    },
    {
     "name": "stdout",
     "output_type": "stream",
     "text": [
      "BurstID: t064_135513_iw2, sensor: S1B\n"
     ]
    },
    {
     "name": "stdout",
     "output_type": "stream",
     "text": [
      "BurstID: t042_088926_iw2, sensor: S1A\n"
     ]
    },
    {
     "name": "stdout",
     "output_type": "stream",
     "text": [
      "BurstID: t042_088926_iw2, sensor: S1B\n"
     ]
    },
    {
     "name": "stdout",
     "output_type": "stream",
     "text": [
      "BurstID: t071_151215_iw2, sensor: S1A\n"
     ]
    },
    {
     "name": "stdout",
     "output_type": "stream",
     "text": [
      "BurstID: t071_151215_iw2, sensor: S1B\n"
     ]
    },
    {
     "name": "stdout",
     "output_type": "stream",
     "text": [
      "BurstID: t124_264312_iw2, sensor: S1A\n"
     ]
    },
    {
     "name": "stdout",
     "output_type": "stream",
     "text": [
      "BurstID: t124_264312_iw2, sensor: S1B\n"
     ]
    },
    {
     "name": "stdout",
     "output_type": "stream",
     "text": [
      "BurstID: t137_292331_iw3, sensor: S1A\n"
     ]
    },
    {
     "name": "stdout",
     "output_type": "stream",
     "text": [
      "BurstID: t137_292331_iw3, sensor: S1B\n"
     ]
    },
    {
     "name": "stdout",
     "output_type": "stream",
     "text": [
      "BurstID: t064_135512_iw3, sensor: S1A\n"
     ]
    },
    {
     "name": "stdout",
     "output_type": "stream",
     "text": [
      "BurstID: t064_135512_iw3, sensor: S1B\n"
     ]
    },
    {
     "name": "stdout",
     "output_type": "stream",
     "text": [
      "BurstID: t124_264519_iw2, sensor: S1A\n"
     ]
    },
    {
     "name": "stdout",
     "output_type": "stream",
     "text": [
      "BurstID: t124_264519_iw2, sensor: S1B\n"
     ]
    },
    {
     "name": "stdout",
     "output_type": "stream",
     "text": [
      "BurstID: t056_118999_iw1, sensor: S1A\n"
     ]
    },
    {
     "name": "stdout",
     "output_type": "stream",
     "text": [
      "BurstID: t056_118999_iw1, sensor: S1B\n"
     ]
    },
    {
     "name": "stdout",
     "output_type": "stream",
     "text": [
      "BurstID: t098_209308_iw1, sensor: S1A\n"
     ]
    },
    {
     "name": "stdout",
     "output_type": "stream",
     "text": [
      "BurstID: t098_209308_iw1, sensor: S1B\n"
     ]
    },
    {
     "name": "stdout",
     "output_type": "stream",
     "text": [
      "BurstID: t034_071092_iw1, sensor: S1A\n"
     ]
    },
    {
     "name": "stdout",
     "output_type": "stream",
     "text": [
      "BurstID: t034_071092_iw1, sensor: S1B\n"
     ]
    },
    {
     "name": "stdout",
     "output_type": "stream",
     "text": [
      "BurstID: t106_225741_iw1, sensor: S1A\n"
     ]
    },
    {
     "name": "stdout",
     "output_type": "stream",
     "text": [
      "BurstID: t106_225741_iw1, sensor: S1B\n"
     ]
    },
    {
     "name": "stdout",
     "output_type": "stream",
     "text": [
      "BurstID: t034_071050_iw1, sensor: S1A\n"
     ]
    },
    {
     "name": "stdout",
     "output_type": "stream",
     "text": [
      "BurstID: t034_071050_iw1, sensor: S1B\n"
     ]
    },
    {
     "name": "stdout",
     "output_type": "stream",
     "text": [
      "BurstID: t065_137842_iw2, sensor: S1A\n"
     ]
    },
    {
     "name": "stdout",
     "output_type": "stream",
     "text": [
      "BurstID: t065_137842_iw2, sensor: S1B\n"
     ]
    },
    {
     "name": "stdout",
     "output_type": "stream",
     "text": [
      "BurstID: t087_185690_iw1, sensor: S1A\n"
     ]
    },
    {
     "name": "stdout",
     "output_type": "stream",
     "text": [
      "BurstID: t087_185690_iw1, sensor: S1B\n"
     ]
    },
    {
     "name": "stdout",
     "output_type": "stream",
     "text": [
      "BurstID: t094_200129_iw1, sensor: S1A\n"
     ]
    },
    {
     "name": "stdout",
     "output_type": "stream",
     "text": [
      "BurstID: t094_200129_iw1, sensor: S1B\n"
     ]
    },
    {
     "name": "stdout",
     "output_type": "stream",
     "text": [
      "BurstID: t098_209311_iw1, sensor: S1A\n"
     ]
    },
    {
     "name": "stdout",
     "output_type": "stream",
     "text": [
      "BurstID: t098_209311_iw1, sensor: S1B\n"
     ]
    },
    {
     "name": "stdout",
     "output_type": "stream",
     "text": [
      "BurstID: t004_006660_iw3, sensor: S1A\n"
     ]
    },
    {
     "name": "stdout",
     "output_type": "stream",
     "text": [
      "BurstID: t004_006660_iw3, sensor: S1B\n"
     ]
    },
    {
     "name": "stdout",
     "output_type": "stream",
     "text": [
      "BurstID: t087_185687_iw1, sensor: S1A\n"
     ]
    },
    {
     "name": "stdout",
     "output_type": "stream",
     "text": [
      "BurstID: t087_185687_iw1, sensor: S1B\n"
     ]
    },
    {
     "name": "stdout",
     "output_type": "stream",
     "text": [
      "BurstID: t004_006648_iw3, sensor: S1A\n"
     ]
    },
    {
     "name": "stdout",
     "output_type": "stream",
     "text": [
      "BurstID: t004_006648_iw3, sensor: S1B\n"
     ]
    },
    {
     "name": "stdout",
     "output_type": "stream",
     "text": [
      "BurstID: t137_292384_iw2, sensor: S1A\n"
     ]
    },
    {
     "name": "stdout",
     "output_type": "stream",
     "text": [
      "BurstID: t137_292384_iw2, sensor: S1B\n"
     ]
    },
    {
     "name": "stdout",
     "output_type": "stream",
     "text": [
      "BurstID: t064_135523_iw3, sensor: S1A\n"
     ]
    },
    {
     "name": "stdout",
     "output_type": "stream",
     "text": [
      "BurstID: t064_135523_iw3, sensor: S1B\n"
     ]
    },
    {
     "name": "stdout",
     "output_type": "stream",
     "text": [
      "BurstID: t004_006648_iw1, sensor: S1A\n"
     ]
    },
    {
     "name": "stdout",
     "output_type": "stream",
     "text": [
      "BurstID: t004_006648_iw1, sensor: S1B\n"
     ]
    },
    {
     "name": "stdout",
     "output_type": "stream",
     "text": [
      "BurstID: t034_071096_iw3, sensor: S1A\n"
     ]
    },
    {
     "name": "stdout",
     "output_type": "stream",
     "text": [
      "BurstID: t034_071096_iw3, sensor: S1B\n"
     ]
    },
    {
     "name": "stdout",
     "output_type": "stream",
     "text": [
      "BurstID: t056_118987_iw2, sensor: S1A\n"
     ]
    },
    {
     "name": "stdout",
     "output_type": "stream",
     "text": [
      "BurstID: t056_118987_iw2, sensor: S1B\n"
     ]
    },
    {
     "name": "stdout",
     "output_type": "stream",
     "text": [
      "BurstID: t106_225754_iw3, sensor: S1A\n"
     ]
    },
    {
     "name": "stdout",
     "output_type": "stream",
     "text": [
      "BurstID: t106_225754_iw3, sensor: S1B\n"
     ]
    },
    {
     "name": "stdout",
     "output_type": "stream",
     "text": [
      "BurstID: t124_264516_iw3, sensor: S1A\n"
     ]
    },
    {
     "name": "stdout",
     "output_type": "stream",
     "text": [
      "BurstID: t124_264516_iw3, sensor: S1B\n"
     ]
    },
    {
     "name": "stdout",
     "output_type": "stream",
     "text": [
      "BurstID: t044_093106_iw3, sensor: S1A\n"
     ]
    },
    {
     "name": "stdout",
     "output_type": "stream",
     "text": [
      "BurstID: t044_093106_iw3, sensor: S1B\n"
     ]
    },
    {
     "name": "stdout",
     "output_type": "stream",
     "text": [
      "BurstID: t034_071055_iw2, sensor: S1A\n"
     ]
    },
    {
     "name": "stdout",
     "output_type": "stream",
     "text": [
      "BurstID: t034_071055_iw2, sensor: S1B\n"
     ]
    },
    {
     "name": "stdout",
     "output_type": "stream",
     "text": [
      "BurstID: t004_006654_iw2, sensor: S1A\n"
     ]
    },
    {
     "name": "stdout",
     "output_type": "stream",
     "text": [
      "BurstID: t004_006654_iw2, sensor: S1B\n"
     ]
    },
    {
     "name": "stdout",
     "output_type": "stream",
     "text": [
      "BurstID: t151_322405_iw3, sensor: S1A\n"
     ]
    },
    {
     "name": "stdout",
     "output_type": "stream",
     "text": [
      "BurstID: t151_322405_iw3, sensor: S1B\n"
     ]
    },
    {
     "name": "stdout",
     "output_type": "stream",
     "text": [
      "BurstID: t064_135515_iw1, sensor: S1A\n"
     ]
    },
    {
     "name": "stdout",
     "output_type": "stream",
     "text": [
      "BurstID: t064_135515_iw1, sensor: S1B\n"
     ]
    },
    {
     "name": "stdout",
     "output_type": "stream",
     "text": [
      "BurstID: t071_151222_iw2, sensor: S1A\n"
     ]
    },
    {
     "name": "stdout",
     "output_type": "stream",
     "text": [
      "BurstID: t071_151222_iw2, sensor: S1B\n"
     ]
    },
    {
     "name": "stdout",
     "output_type": "stream",
     "text": [
      "BurstID: t135_287925_iw2, sensor: S1A\n"
     ]
    },
    {
     "name": "stdout",
     "output_type": "stream",
     "text": [
      "BurstID: t135_287925_iw2, sensor: S1B\n"
     ]
    },
    {
     "name": "stdout",
     "output_type": "stream",
     "text": [
      "BurstID: t034_071088_iw1, sensor: S1A\n"
     ]
    },
    {
     "name": "stdout",
     "output_type": "stream",
     "text": [
      "BurstID: t034_071088_iw1, sensor: S1B\n"
     ]
    },
    {
     "name": "stdout",
     "output_type": "stream",
     "text": [
      "BurstID: t071_151160_iw3, sensor: S1A\n"
     ]
    },
    {
     "name": "stdout",
     "output_type": "stream",
     "text": [
      "BurstID: t071_151160_iw3, sensor: S1B\n"
     ]
    },
    {
     "name": "stdout",
     "output_type": "stream",
     "text": [
      "BurstID: t135_287931_iw3, sensor: S1A\n"
     ]
    },
    {
     "name": "stdout",
     "output_type": "stream",
     "text": [
      "BurstID: t135_287931_iw3, sensor: S1B\n"
     ]
    },
    {
     "name": "stdout",
     "output_type": "stream",
     "text": [
      "BurstID: t044_093108_iw1, sensor: S1A\n"
     ]
    },
    {
     "name": "stdout",
     "output_type": "stream",
     "text": [
      "BurstID: t044_093108_iw1, sensor: S1B\n"
     ]
    },
    {
     "name": "stdout",
     "output_type": "stream",
     "text": [
      "BurstID: t071_151174_iw2, sensor: S1A\n"
     ]
    },
    {
     "name": "stdout",
     "output_type": "stream",
     "text": [
      "BurstID: t071_151174_iw2, sensor: S1B\n"
     ]
    },
    {
     "name": "stdout",
     "output_type": "stream",
     "text": [
      "BurstID: t034_071093_iw3, sensor: S1A\n"
     ]
    },
    {
     "name": "stdout",
     "output_type": "stream",
     "text": [
      "BurstID: t034_071093_iw3, sensor: S1B\n"
     ]
    },
    {
     "name": "stdout",
     "output_type": "stream",
     "text": [
      "BurstID: t144_308017_iw3, sensor: S1A\n"
     ]
    },
    {
     "name": "stdout",
     "output_type": "stream",
     "text": [
      "BurstID: t144_308017_iw3, sensor: S1B\n"
     ]
    },
    {
     "name": "stdout",
     "output_type": "stream",
     "text": [
      "BurstID: t098_209313_iw2, sensor: S1A\n"
     ]
    },
    {
     "name": "stdout",
     "output_type": "stream",
     "text": [
      "BurstID: t098_209313_iw2, sensor: S1B\n"
     ]
    },
    {
     "name": "stdout",
     "output_type": "stream",
     "text": [
      "BurstID: t160_342209_iw3, sensor: S1A\n"
     ]
    },
    {
     "name": "stdout",
     "output_type": "stream",
     "text": [
      "BurstID: t160_342209_iw3, sensor: S1B\n"
     ]
    },
    {
     "name": "stdout",
     "output_type": "stream",
     "text": [
      "BurstID: t151_322412_iw2, sensor: S1A\n"
     ]
    },
    {
     "name": "stdout",
     "output_type": "stream",
     "text": [
      "BurstID: t151_322412_iw2, sensor: S1B\n"
     ]
    },
    {
     "name": "stdout",
     "output_type": "stream",
     "text": [
      "BurstID: t094_200130_iw1, sensor: S1A\n"
     ]
    },
    {
     "name": "stdout",
     "output_type": "stream",
     "text": [
      "BurstID: t094_200130_iw1, sensor: S1B\n"
     ]
    },
    {
     "name": "stdout",
     "output_type": "stream",
     "text": [
      "BurstID: t160_342201_iw2, sensor: S1A\n"
     ]
    },
    {
     "name": "stdout",
     "output_type": "stream",
     "text": [
      "BurstID: t160_342201_iw2, sensor: S1B\n"
     ]
    },
    {
     "name": "stdout",
     "output_type": "stream",
     "text": [
      "BurstID: t064_135533_iw2, sensor: S1A\n"
     ]
    },
    {
     "name": "stdout",
     "output_type": "stream",
     "text": [
      "BurstID: t064_135533_iw2, sensor: S1B\n"
     ]
    },
    {
     "name": "stdout",
     "output_type": "stream",
     "text": [
      "BurstID: t131_279930_iw2, sensor: S1A\n"
     ]
    },
    {
     "name": "stdout",
     "output_type": "stream",
     "text": [
      "BurstID: t131_279930_iw2, sensor: S1B\n"
     ]
    },
    {
     "name": "stdout",
     "output_type": "stream",
     "text": [
      "BurstID: t098_209319_iw1, sensor: S1A\n"
     ]
    },
    {
     "name": "stdout",
     "output_type": "stream",
     "text": [
      "BurstID: t098_209319_iw1, sensor: S1B\n"
     ]
    },
    {
     "name": "stdout",
     "output_type": "stream",
     "text": [
      "BurstID: t106_225754_iw2, sensor: S1A\n"
     ]
    },
    {
     "name": "stdout",
     "output_type": "stream",
     "text": [
      "BurstID: t106_225754_iw2, sensor: S1B\n"
     ]
    },
    {
     "name": "stdout",
     "output_type": "stream",
     "text": [
      "BurstID: t135_287920_iw2, sensor: S1A\n",
      "BurstID: t135_287920_iw2, sensor: S1B\n"
     ]
    },
    {
     "name": "stdout",
     "output_type": "stream",
     "text": [
      "BurstID: t124_264296_iw2, sensor: S1A\n"
     ]
    },
    {
     "name": "stdout",
     "output_type": "stream",
     "text": [
      "BurstID: t124_264296_iw2, sensor: S1B\n"
     ]
    },
    {
     "name": "stdout",
     "output_type": "stream",
     "text": [
      "BurstID: t004_006646_iw3, sensor: S1A\n"
     ]
    },
    {
     "name": "stdout",
     "output_type": "stream",
     "text": [
      "BurstID: t004_006646_iw3, sensor: S1B\n"
     ]
    },
    {
     "name": "stdout",
     "output_type": "stream",
     "text": [
      "BurstID: t094_200138_iw1, sensor: S1A\n"
     ]
    },
    {
     "name": "stdout",
     "output_type": "stream",
     "text": [
      "BurstID: t094_200138_iw1, sensor: S1B\n"
     ]
    },
    {
     "name": "stdout",
     "output_type": "stream",
     "text": [
      "BurstID: t071_151225_iw2, sensor: S1A\n"
     ]
    },
    {
     "name": "stdout",
     "output_type": "stream",
     "text": [
      "BurstID: t071_151225_iw2, sensor: S1B\n"
     ]
    },
    {
     "name": "stdout",
     "output_type": "stream",
     "text": [
      "BurstID: t065_137846_iw1, sensor: S1A\n"
     ]
    },
    {
     "name": "stdout",
     "output_type": "stream",
     "text": [
      "BurstID: t065_137846_iw1, sensor: S1B\n"
     ]
    },
    {
     "name": "stdout",
     "output_type": "stream",
     "text": [
      "BurstID: t124_264307_iw3, sensor: S1A\n"
     ]
    },
    {
     "name": "stdout",
     "output_type": "stream",
     "text": [
      "BurstID: t124_264307_iw3, sensor: S1B\n"
     ]
    },
    {
     "name": "stdout",
     "output_type": "stream",
     "text": [
      "BurstID: t135_287932_iw1, sensor: S1A\n"
     ]
    },
    {
     "name": "stdout",
     "output_type": "stream",
     "text": [
      "BurstID: t135_287932_iw1, sensor: S1B\n"
     ]
    },
    {
     "name": "stdout",
     "output_type": "stream",
     "text": [
      "BurstID: t094_200138_iw2, sensor: S1A\n"
     ]
    },
    {
     "name": "stdout",
     "output_type": "stream",
     "text": [
      "BurstID: t094_200138_iw2, sensor: S1B\n"
     ]
    },
    {
     "name": "stdout",
     "output_type": "stream",
     "text": [
      "BurstID: t143_305906_iw2, sensor: S1A\n"
     ]
    },
    {
     "name": "stdout",
     "output_type": "stream",
     "text": [
      "BurstID: t143_305906_iw2, sensor: S1B\n"
     ]
    },
    {
     "name": "stdout",
     "output_type": "stream",
     "text": [
      "BurstID: t144_308015_iw2, sensor: S1A\n"
     ]
    },
    {
     "name": "stdout",
     "output_type": "stream",
     "text": [
      "BurstID: t144_308015_iw2, sensor: S1B\n"
     ]
    },
    {
     "name": "stdout",
     "output_type": "stream",
     "text": [
      "BurstID: t124_264312_iw3, sensor: S1A\n"
     ]
    },
    {
     "name": "stdout",
     "output_type": "stream",
     "text": [
      "BurstID: t124_264312_iw3, sensor: S1B\n"
     ]
    },
    {
     "name": "stdout",
     "output_type": "stream",
     "text": [
      "BurstID: t151_322392_iw2, sensor: S1A\n"
     ]
    },
    {
     "name": "stdout",
     "output_type": "stream",
     "text": [
      "BurstID: t151_322392_iw2, sensor: S1B\n"
     ]
    },
    {
     "name": "stdout",
     "output_type": "stream",
     "text": [
      "BurstID: t034_071056_iw2, sensor: S1A\n"
     ]
    },
    {
     "name": "stdout",
     "output_type": "stream",
     "text": [
      "BurstID: t034_071056_iw2, sensor: S1B\n"
     ]
    },
    {
     "name": "stdout",
     "output_type": "stream",
     "text": [
      "BurstID: t131_279932_iw2, sensor: S1A\n"
     ]
    },
    {
     "name": "stdout",
     "output_type": "stream",
     "text": [
      "BurstID: t131_279932_iw2, sensor: S1B\n"
     ]
    },
    {
     "name": "stdout",
     "output_type": "stream",
     "text": [
      "BurstID: t034_071057_iw3, sensor: S1A\n"
     ]
    },
    {
     "name": "stdout",
     "output_type": "stream",
     "text": [
      "BurstID: t034_071057_iw3, sensor: S1B\n"
     ]
    },
    {
     "name": "stdout",
     "output_type": "stream",
     "text": [
      "BurstID: t144_308017_iw1, sensor: S1A\n"
     ]
    },
    {
     "name": "stdout",
     "output_type": "stream",
     "text": [
      "BurstID: t144_308017_iw1, sensor: S1B\n"
     ]
    },
    {
     "name": "stdout",
     "output_type": "stream",
     "text": [
      "BurstID: t094_200144_iw1, sensor: S1A\n"
     ]
    },
    {
     "name": "stdout",
     "output_type": "stream",
     "text": [
      "BurstID: t094_200144_iw1, sensor: S1B\n"
     ]
    },
    {
     "name": "stdout",
     "output_type": "stream",
     "text": [
      "BurstID: t094_200132_iw1, sensor: S1A\n"
     ]
    },
    {
     "name": "stdout",
     "output_type": "stream",
     "text": [
      "BurstID: t094_200132_iw1, sensor: S1B\n"
     ]
    },
    {
     "name": "stdout",
     "output_type": "stream",
     "text": [
      "BurstID: t151_322403_iw2, sensor: S1A\n"
     ]
    },
    {
     "name": "stdout",
     "output_type": "stream",
     "text": [
      "BurstID: t151_322403_iw2, sensor: S1B\n"
     ]
    },
    {
     "name": "stdout",
     "output_type": "stream",
     "text": [
      "BurstID: t131_279924_iw2, sensor: S1A\n"
     ]
    },
    {
     "name": "stdout",
     "output_type": "stream",
     "text": [
      "BurstID: t131_279924_iw2, sensor: S1B\n"
     ]
    },
    {
     "name": "stdout",
     "output_type": "stream",
     "text": [
      "BurstID: t056_118987_iw3, sensor: S1A\n"
     ]
    },
    {
     "name": "stdout",
     "output_type": "stream",
     "text": [
      "BurstID: t056_118987_iw3, sensor: S1B\n"
     ]
    },
    {
     "name": "stdout",
     "output_type": "stream",
     "text": [
      "BurstID: t087_185681_iw1, sensor: S1A\n"
     ]
    },
    {
     "name": "stdout",
     "output_type": "stream",
     "text": [
      "BurstID: t087_185681_iw1, sensor: S1B\n"
     ]
    },
    {
     "name": "stdout",
     "output_type": "stream",
     "text": [
      "BurstID: t137_292389_iw1, sensor: S1A\n"
     ]
    },
    {
     "name": "stdout",
     "output_type": "stream",
     "text": [
      "BurstID: t137_292389_iw1, sensor: S1B\n"
     ]
    },
    {
     "name": "stdout",
     "output_type": "stream",
     "text": [
      "BurstID: t106_225738_iw2, sensor: S1A\n"
     ]
    },
    {
     "name": "stdout",
     "output_type": "stream",
     "text": [
      "BurstID: t106_225738_iw2, sensor: S1B\n"
     ]
    },
    {
     "name": "stdout",
     "output_type": "stream",
     "text": [
      "BurstID: t115_245673_iw1, sensor: S1A\n"
     ]
    },
    {
     "name": "stdout",
     "output_type": "stream",
     "text": [
      "BurstID: t115_245673_iw1, sensor: S1B\n"
     ]
    },
    {
     "name": "stdout",
     "output_type": "stream",
     "text": [
      "BurstID: t004_006662_iw2, sensor: S1A\n"
     ]
    },
    {
     "name": "stdout",
     "output_type": "stream",
     "text": [
      "BurstID: t004_006662_iw2, sensor: S1B\n"
     ]
    },
    {
     "name": "stdout",
     "output_type": "stream",
     "text": [
      "BurstID: t064_135520_iw2, sensor: S1A\n"
     ]
    },
    {
     "name": "stdout",
     "output_type": "stream",
     "text": [
      "BurstID: t064_135520_iw2, sensor: S1B\n"
     ]
    },
    {
     "name": "stdout",
     "output_type": "stream",
     "text": [
      "BurstID: t044_093108_iw2, sensor: S1A\n"
     ]
    },
    {
     "name": "stdout",
     "output_type": "stream",
     "text": [
      "BurstID: t044_093108_iw2, sensor: S1B\n"
     ]
    },
    {
     "name": "stdout",
     "output_type": "stream",
     "text": [
      "BurstID: t124_264515_iw1, sensor: S1A\n"
     ]
    },
    {
     "name": "stdout",
     "output_type": "stream",
     "text": [
      "BurstID: t124_264515_iw1, sensor: S1B\n"
     ]
    },
    {
     "name": "stdout",
     "output_type": "stream",
     "text": [
      "BurstID: t094_200143_iw3, sensor: S1A\n"
     ]
    },
    {
     "name": "stdout",
     "output_type": "stream",
     "text": [
      "BurstID: t094_200143_iw3, sensor: S1B\n"
     ]
    },
    {
     "name": "stdout",
     "output_type": "stream",
     "text": [
      "BurstID: t071_151176_iw2, sensor: S1A\n"
     ]
    },
    {
     "name": "stdout",
     "output_type": "stream",
     "text": [
      "BurstID: t071_151176_iw2, sensor: S1B\n"
     ]
    },
    {
     "name": "stdout",
     "output_type": "stream",
     "text": [
      "BurstID: t151_322404_iw1, sensor: S1A\n"
     ]
    },
    {
     "name": "stdout",
     "output_type": "stream",
     "text": [
      "BurstID: t151_322404_iw1, sensor: S1B\n"
     ]
    },
    {
     "name": "stdout",
     "output_type": "stream",
     "text": [
      "BurstID: t131_279928_iw1, sensor: S1A\n"
     ]
    },
    {
     "name": "stdout",
     "output_type": "stream",
     "text": [
      "BurstID: t131_279928_iw1, sensor: S1B\n"
     ]
    },
    {
     "name": "stdout",
     "output_type": "stream",
     "text": [
      "BurstID: t144_308012_iw1, sensor: S1A\n"
     ]
    },
    {
     "name": "stdout",
     "output_type": "stream",
     "text": [
      "BurstID: t144_308012_iw1, sensor: S1B\n"
     ]
    },
    {
     "name": "stdout",
     "output_type": "stream",
     "text": [
      "BurstID: t034_071062_iw2, sensor: S1A\n"
     ]
    },
    {
     "name": "stdout",
     "output_type": "stream",
     "text": [
      "BurstID: t034_071062_iw2, sensor: S1B\n"
     ]
    },
    {
     "name": "stdout",
     "output_type": "stream",
     "text": [
      "BurstID: t107_227878_iw1, sensor: S1A\n"
     ]
    },
    {
     "name": "stdout",
     "output_type": "stream",
     "text": [
      "BurstID: t107_227878_iw1, sensor: S1B\n"
     ]
    },
    {
     "name": "stdout",
     "output_type": "stream",
     "text": [
      "BurstID: t151_322406_iw3, sensor: S1A\n"
     ]
    },
    {
     "name": "stdout",
     "output_type": "stream",
     "text": [
      "BurstID: t151_322406_iw3, sensor: S1B\n"
     ]
    },
    {
     "name": "stdout",
     "output_type": "stream",
     "text": [
      "BurstID: t034_071064_iw1, sensor: S1A\n"
     ]
    },
    {
     "name": "stdout",
     "output_type": "stream",
     "text": [
      "BurstID: t034_071064_iw1, sensor: S1B\n"
     ]
    },
    {
     "name": "stdout",
     "output_type": "stream",
     "text": [
      "BurstID: t151_322397_iw3, sensor: S1A\n"
     ]
    },
    {
     "name": "stdout",
     "output_type": "stream",
     "text": [
      "BurstID: t151_322397_iw3, sensor: S1B\n"
     ]
    },
    {
     "name": "stdout",
     "output_type": "stream",
     "text": [
      "BurstID: t087_185687_iw2, sensor: S1A\n"
     ]
    },
    {
     "name": "stdout",
     "output_type": "stream",
     "text": [
      "BurstID: t087_185687_iw2, sensor: S1B\n"
     ]
    },
    {
     "name": "stdout",
     "output_type": "stream",
     "text": [
      "BurstID: t124_264298_iw2, sensor: S1A\n"
     ]
    },
    {
     "name": "stdout",
     "output_type": "stream",
     "text": [
      "BurstID: t124_264298_iw2, sensor: S1B\n"
     ]
    },
    {
     "name": "stdout",
     "output_type": "stream",
     "text": [
      "BurstID: t124_264517_iw3, sensor: S1A\n"
     ]
    },
    {
     "name": "stdout",
     "output_type": "stream",
     "text": [
      "BurstID: t124_264517_iw3, sensor: S1B\n"
     ]
    },
    {
     "name": "stdout",
     "output_type": "stream",
     "text": [
      "BurstID: t137_292386_iw1, sensor: S1A\n"
     ]
    },
    {
     "name": "stdout",
     "output_type": "stream",
     "text": [
      "BurstID: t137_292386_iw1, sensor: S1B\n"
     ]
    },
    {
     "name": "stdout",
     "output_type": "stream",
     "text": [
      "BurstID: t106_225739_iw1, sensor: S1A\n"
     ]
    },
    {
     "name": "stdout",
     "output_type": "stream",
     "text": [
      "BurstID: t106_225739_iw1, sensor: S1B\n"
     ]
    },
    {
     "name": "stdout",
     "output_type": "stream",
     "text": [
      "BurstID: t106_225756_iw3, sensor: S1A\n"
     ]
    },
    {
     "name": "stdout",
     "output_type": "stream",
     "text": [
      "BurstID: t106_225756_iw3, sensor: S1B\n"
     ]
    },
    {
     "name": "stdout",
     "output_type": "stream",
     "text": [
      "BurstID: t071_151216_iw2, sensor: S1A\n"
     ]
    },
    {
     "name": "stdout",
     "output_type": "stream",
     "text": [
      "BurstID: t071_151216_iw2, sensor: S1B\n"
     ]
    },
    {
     "name": "stdout",
     "output_type": "stream",
     "text": [
      "BurstID: t004_006663_iw1, sensor: S1A\n"
     ]
    },
    {
     "name": "stdout",
     "output_type": "stream",
     "text": [
      "BurstID: t004_006663_iw1, sensor: S1B\n"
     ]
    },
    {
     "name": "stdout",
     "output_type": "stream",
     "text": [
      "BurstID: t064_135517_iw2, sensor: S1A\n"
     ]
    },
    {
     "name": "stdout",
     "output_type": "stream",
     "text": [
      "BurstID: t064_135517_iw2, sensor: S1B\n"
     ]
    },
    {
     "name": "stdout",
     "output_type": "stream",
     "text": [
      "BurstID: t094_200143_iw1, sensor: S1A\n"
     ]
    },
    {
     "name": "stdout",
     "output_type": "stream",
     "text": [
      "BurstID: t094_200143_iw1, sensor: S1B\n"
     ]
    },
    {
     "name": "stdout",
     "output_type": "stream",
     "text": [
      "BurstID: t064_135517_iw1, sensor: S1A\n"
     ]
    },
    {
     "name": "stdout",
     "output_type": "stream",
     "text": [
      "BurstID: t064_135517_iw1, sensor: S1B\n"
     ]
    },
    {
     "name": "stdout",
     "output_type": "stream",
     "text": [
      "BurstID: t151_322401_iw2, sensor: S1A\n"
     ]
    },
    {
     "name": "stdout",
     "output_type": "stream",
     "text": [
      "BurstID: t151_322401_iw2, sensor: S1B\n"
     ]
    },
    {
     "name": "stdout",
     "output_type": "stream",
     "text": [
      "BurstID: t115_245672_iw2, sensor: S1A\n"
     ]
    },
    {
     "name": "stdout",
     "output_type": "stream",
     "text": [
      "BurstID: t115_245672_iw2, sensor: S1B\n"
     ]
    },
    {
     "name": "stdout",
     "output_type": "stream",
     "text": [
      "BurstID: t107_227878_iw2, sensor: S1A\n"
     ]
    },
    {
     "name": "stdout",
     "output_type": "stream",
     "text": [
      "BurstID: t107_227878_iw2, sensor: S1B\n"
     ]
    },
    {
     "name": "stdout",
     "output_type": "stream",
     "text": [
      "BurstID: t071_151230_iw3, sensor: S1A\n"
     ]
    },
    {
     "name": "stdout",
     "output_type": "stream",
     "text": [
      "BurstID: t071_151230_iw3, sensor: S1B\n"
     ]
    },
    {
     "name": "stdout",
     "output_type": "stream",
     "text": [
      "BurstID: t151_322409_iw2, sensor: S1A\n"
     ]
    },
    {
     "name": "stdout",
     "output_type": "stream",
     "text": [
      "BurstID: t151_322409_iw2, sensor: S1B\n"
     ]
    },
    {
     "name": "stdout",
     "output_type": "stream",
     "text": [
      "BurstID: t137_292382_iw3, sensor: S1A\n"
     ]
    },
    {
     "name": "stdout",
     "output_type": "stream",
     "text": [
      "BurstID: t137_292382_iw3, sensor: S1B\n"
     ]
    },
    {
     "name": "stdout",
     "output_type": "stream",
     "text": [
      "BurstID: t071_151173_iw1, sensor: S1A\n"
     ]
    },
    {
     "name": "stdout",
     "output_type": "stream",
     "text": [
      "BurstID: t071_151173_iw1, sensor: S1B\n"
     ]
    },
    {
     "name": "stdout",
     "output_type": "stream",
     "text": [
      "BurstID: t042_088921_iw2, sensor: S1A\n"
     ]
    },
    {
     "name": "stdout",
     "output_type": "stream",
     "text": [
      "BurstID: t042_088921_iw2, sensor: S1B\n"
     ]
    },
    {
     "name": "stdout",
     "output_type": "stream",
     "text": [
      "BurstID: t034_071088_iw3, sensor: S1A\n"
     ]
    },
    {
     "name": "stdout",
     "output_type": "stream",
     "text": [
      "BurstID: t034_071088_iw3, sensor: S1B\n"
     ]
    },
    {
     "name": "stdout",
     "output_type": "stream",
     "text": [
      "BurstID: t065_137840_iw2, sensor: S1A\n"
     ]
    },
    {
     "name": "stdout",
     "output_type": "stream",
     "text": [
      "BurstID: t065_137840_iw2, sensor: S1B\n"
     ]
    },
    {
     "name": "stdout",
     "output_type": "stream",
     "text": [
      "BurstID: t107_227877_iw3, sensor: S1A\n"
     ]
    },
    {
     "name": "stdout",
     "output_type": "stream",
     "text": [
      "BurstID: t107_227877_iw3, sensor: S1B\n"
     ]
    },
    {
     "name": "stdout",
     "output_type": "stream",
     "text": [
      "BurstID: t160_342210_iw1, sensor: S1A\n"
     ]
    },
    {
     "name": "stdout",
     "output_type": "stream",
     "text": [
      "BurstID: t160_342210_iw1, sensor: S1B\n"
     ]
    },
    {
     "name": "stdout",
     "output_type": "stream",
     "text": [
      "BurstID: t144_308018_iw1, sensor: S1A\n"
     ]
    },
    {
     "name": "stdout",
     "output_type": "stream",
     "text": [
      "BurstID: t144_308018_iw1, sensor: S1B\n"
     ]
    },
    {
     "name": "stdout",
     "output_type": "stream",
     "text": [
      "BurstID: t137_292333_iw1, sensor: S1A\n"
     ]
    },
    {
     "name": "stdout",
     "output_type": "stream",
     "text": [
      "BurstID: t137_292333_iw1, sensor: S1B\n"
     ]
    },
    {
     "name": "stdout",
     "output_type": "stream",
     "text": [
      "BurstID: t144_308011_iw3, sensor: S1A\n"
     ]
    },
    {
     "name": "stdout",
     "output_type": "stream",
     "text": [
      "BurstID: t144_308011_iw3, sensor: S1B\n"
     ]
    },
    {
     "name": "stdout",
     "output_type": "stream",
     "text": [
      "BurstID: t106_225748_iw2, sensor: S1A\n"
     ]
    },
    {
     "name": "stdout",
     "output_type": "stream",
     "text": [
      "BurstID: t106_225748_iw2, sensor: S1B\n"
     ]
    },
    {
     "name": "stdout",
     "output_type": "stream",
     "text": [
      "BurstID: t042_088925_iw2, sensor: S1A\n"
     ]
    },
    {
     "name": "stdout",
     "output_type": "stream",
     "text": [
      "BurstID: t042_088925_iw2, sensor: S1B\n"
     ]
    },
    {
     "name": "stdout",
     "output_type": "stream",
     "text": [
      "BurstID: t071_151173_iw3, sensor: S1A\n"
     ]
    },
    {
     "name": "stdout",
     "output_type": "stream",
     "text": [
      "BurstID: t071_151173_iw3, sensor: S1B\n"
     ]
    },
    {
     "name": "stdout",
     "output_type": "stream",
     "text": [
      "BurstID: t034_071046_iw3, sensor: S1A\n"
     ]
    },
    {
     "name": "stdout",
     "output_type": "stream",
     "text": [
      "BurstID: t034_071046_iw3, sensor: S1B\n"
     ]
    },
    {
     "name": "stdout",
     "output_type": "stream",
     "text": [
      "BurstID: t071_151162_iw2, sensor: S1A\n"
     ]
    },
    {
     "name": "stdout",
     "output_type": "stream",
     "text": [
      "BurstID: t071_151162_iw2, sensor: S1B\n"
     ]
    },
    {
     "name": "stdout",
     "output_type": "stream",
     "text": [
      "BurstID: t094_200145_iw2, sensor: S1A\n"
     ]
    },
    {
     "name": "stdout",
     "output_type": "stream",
     "text": [
      "BurstID: t094_200145_iw2, sensor: S1B\n"
     ]
    },
    {
     "name": "stdout",
     "output_type": "stream",
     "text": [
      "BurstID: t137_292387_iw2, sensor: S1A\n"
     ]
    },
    {
     "name": "stdout",
     "output_type": "stream",
     "text": [
      "BurstID: t137_292387_iw2, sensor: S1B\n"
     ]
    },
    {
     "name": "stdout",
     "output_type": "stream",
     "text": [
      "BurstID: t124_264515_iw2, sensor: S1A\n"
     ]
    },
    {
     "name": "stdout",
     "output_type": "stream",
     "text": [
      "BurstID: t124_264515_iw2, sensor: S1B\n"
     ]
    },
    {
     "name": "stdout",
     "output_type": "stream",
     "text": [
      "BurstID: t004_006659_iw3, sensor: S1A\n"
     ]
    },
    {
     "name": "stdout",
     "output_type": "stream",
     "text": [
      "BurstID: t004_006659_iw3, sensor: S1B\n"
     ]
    },
    {
     "name": "stdout",
     "output_type": "stream",
     "text": [
      "BurstID: t124_264515_iw3, sensor: S1A\n"
     ]
    },
    {
     "name": "stdout",
     "output_type": "stream",
     "text": [
      "BurstID: t124_264515_iw3, sensor: S1B\n"
     ]
    },
    {
     "name": "stdout",
     "output_type": "stream",
     "text": [
      "BurstID: t137_292331_iw1, sensor: S1A\n"
     ]
    },
    {
     "name": "stdout",
     "output_type": "stream",
     "text": [
      "BurstID: t137_292331_iw1, sensor: S1B\n"
     ]
    },
    {
     "name": "stdout",
     "output_type": "stream",
     "text": [
      "BurstID: t098_209318_iw1, sensor: S1A\n"
     ]
    },
    {
     "name": "stdout",
     "output_type": "stream",
     "text": [
      "BurstID: t098_209318_iw1, sensor: S1B\n"
     ]
    },
    {
     "name": "stdout",
     "output_type": "stream",
     "text": [
      "BurstID: t056_118988_iw3, sensor: S1A\n"
     ]
    },
    {
     "name": "stdout",
     "output_type": "stream",
     "text": [
      "BurstID: t056_118988_iw3, sensor: S1B\n"
     ]
    },
    {
     "name": "stdout",
     "output_type": "stream",
     "text": [
      "BurstID: t071_151235_iw1, sensor: S1A\n"
     ]
    },
    {
     "name": "stdout",
     "output_type": "stream",
     "text": [
      "BurstID: t071_151235_iw1, sensor: S1B\n"
     ]
    },
    {
     "name": "stdout",
     "output_type": "stream",
     "text": [
      "BurstID: t071_151234_iw2, sensor: S1A\n"
     ]
    },
    {
     "name": "stdout",
     "output_type": "stream",
     "text": [
      "BurstID: t071_151234_iw2, sensor: S1B\n"
     ]
    },
    {
     "name": "stdout",
     "output_type": "stream",
     "text": [
      "BurstID: t042_088927_iw1, sensor: S1A\n"
     ]
    },
    {
     "name": "stdout",
     "output_type": "stream",
     "text": [
      "BurstID: t042_088927_iw1, sensor: S1B\n"
     ]
    },
    {
     "name": "stdout",
     "output_type": "stream",
     "text": [
      "BurstID: t034_071099_iw3, sensor: S1A\n"
     ]
    },
    {
     "name": "stdout",
     "output_type": "stream",
     "text": [
      "BurstID: t034_071099_iw3, sensor: S1B\n"
     ]
    },
    {
     "name": "stdout",
     "output_type": "stream",
     "text": [
      "BurstID: t064_135535_iw1, sensor: S1A\n"
     ]
    },
    {
     "name": "stdout",
     "output_type": "stream",
     "text": [
      "BurstID: t064_135535_iw1, sensor: S1B\n"
     ]
    },
    {
     "name": "stdout",
     "output_type": "stream",
     "text": [
      "BurstID: t065_137838_iw2, sensor: S1A\n"
     ]
    },
    {
     "name": "stdout",
     "output_type": "stream",
     "text": [
      "BurstID: t065_137838_iw2, sensor: S1B\n"
     ]
    },
    {
     "name": "stdout",
     "output_type": "stream",
     "text": [
      "BurstID: t071_151217_iw1, sensor: S1A\n"
     ]
    },
    {
     "name": "stdout",
     "output_type": "stream",
     "text": [
      "BurstID: t071_151217_iw1, sensor: S1B\n"
     ]
    },
    {
     "name": "stdout",
     "output_type": "stream",
     "text": [
      "BurstID: t094_200134_iw1, sensor: S1A\n"
     ]
    },
    {
     "name": "stdout",
     "output_type": "stream",
     "text": [
      "BurstID: t094_200134_iw1, sensor: S1B\n"
     ]
    },
    {
     "name": "stdout",
     "output_type": "stream",
     "text": [
      "BurstID: t151_322402_iw1, sensor: S1A\n"
     ]
    },
    {
     "name": "stdout",
     "output_type": "stream",
     "text": [
      "BurstID: t151_322402_iw1, sensor: S1B\n"
     ]
    },
    {
     "name": "stdout",
     "output_type": "stream",
     "text": [
      "BurstID: t087_185683_iw1, sensor: S1A\n"
     ]
    },
    {
     "name": "stdout",
     "output_type": "stream",
     "text": [
      "BurstID: t087_185683_iw1, sensor: S1B\n"
     ]
    },
    {
     "name": "stdout",
     "output_type": "stream",
     "text": [
      "BurstID: t004_006653_iw2, sensor: S1A\n"
     ]
    },
    {
     "name": "stdout",
     "output_type": "stream",
     "text": [
      "BurstID: t004_006653_iw2, sensor: S1B\n"
     ]
    },
    {
     "name": "stdout",
     "output_type": "stream",
     "text": [
      "BurstID: t135_287925_iw1, sensor: S1A\n"
     ]
    },
    {
     "name": "stdout",
     "output_type": "stream",
     "text": [
      "BurstID: t135_287925_iw1, sensor: S1B\n"
     ]
    },
    {
     "name": "stdout",
     "output_type": "stream",
     "text": [
      "BurstID: t160_342208_iw1, sensor: S1A\n"
     ]
    },
    {
     "name": "stdout",
     "output_type": "stream",
     "text": [
      "BurstID: t160_342208_iw1, sensor: S1B\n"
     ]
    },
    {
     "name": "stdout",
     "output_type": "stream",
     "text": [
      "BurstID: t056_119006_iw1, sensor: S1A\n"
     ]
    },
    {
     "name": "stdout",
     "output_type": "stream",
     "text": [
      "BurstID: t056_119006_iw1, sensor: S1B\n"
     ]
    },
    {
     "name": "stdout",
     "output_type": "stream",
     "text": [
      "BurstID: t004_006658_iw3, sensor: S1A\n"
     ]
    },
    {
     "name": "stdout",
     "output_type": "stream",
     "text": [
      "BurstID: t004_006658_iw3, sensor: S1B\n"
     ]
    },
    {
     "name": "stdout",
     "output_type": "stream",
     "text": [
      "BurstID: t071_151218_iw3, sensor: S1A\n"
     ]
    },
    {
     "name": "stdout",
     "output_type": "stream",
     "text": [
      "BurstID: t071_151218_iw3, sensor: S1B\n"
     ]
    },
    {
     "name": "stdout",
     "output_type": "stream",
     "text": [
      "BurstID: t131_279931_iw3, sensor: S1A\n"
     ]
    },
    {
     "name": "stdout",
     "output_type": "stream",
     "text": [
      "BurstID: t131_279931_iw3, sensor: S1B\n"
     ]
    },
    {
     "name": "stdout",
     "output_type": "stream",
     "text": [
      "BurstID: t107_227881_iw2, sensor: S1A\n"
     ]
    },
    {
     "name": "stdout",
     "output_type": "stream",
     "text": [
      "BurstID: t107_227881_iw2, sensor: S1B\n"
     ]
    },
    {
     "name": "stdout",
     "output_type": "stream",
     "text": [
      "BurstID: t056_118997_iw1, sensor: S1A\n"
     ]
    },
    {
     "name": "stdout",
     "output_type": "stream",
     "text": [
      "BurstID: t056_118997_iw1, sensor: S1B\n"
     ]
    },
    {
     "name": "stdout",
     "output_type": "stream",
     "text": [
      "BurstID: t106_225746_iw1, sensor: S1A\n"
     ]
    },
    {
     "name": "stdout",
     "output_type": "stream",
     "text": [
      "BurstID: t106_225746_iw1, sensor: S1B\n"
     ]
    },
    {
     "name": "stdout",
     "output_type": "stream",
     "text": [
      "BurstID: t107_227876_iw3, sensor: S1A\n"
     ]
    },
    {
     "name": "stdout",
     "output_type": "stream",
     "text": [
      "BurstID: t107_227876_iw3, sensor: S1B\n"
     ]
    },
    {
     "name": "stdout",
     "output_type": "stream",
     "text": [
      "BurstID: t124_264313_iw2, sensor: S1A\n"
     ]
    },
    {
     "name": "stdout",
     "output_type": "stream",
     "text": [
      "BurstID: t124_264313_iw2, sensor: S1B\n"
     ]
    },
    {
     "name": "stdout",
     "output_type": "stream",
     "text": [
      "BurstID: t131_279929_iw3, sensor: S1A\n"
     ]
    },
    {
     "name": "stdout",
     "output_type": "stream",
     "text": [
      "BurstID: t131_279929_iw3, sensor: S1B\n"
     ]
    },
    {
     "name": "stdout",
     "output_type": "stream",
     "text": [
      "BurstID: t124_264302_iw1, sensor: S1A\n"
     ]
    },
    {
     "name": "stdout",
     "output_type": "stream",
     "text": [
      "BurstID: t124_264302_iw1, sensor: S1B\n"
     ]
    },
    {
     "name": "stdout",
     "output_type": "stream",
     "text": [
      "BurstID: t064_135518_iw1, sensor: S1A\n"
     ]
    },
    {
     "name": "stdout",
     "output_type": "stream",
     "text": [
      "BurstID: t064_135518_iw1, sensor: S1B\n"
     ]
    },
    {
     "name": "stdout",
     "output_type": "stream",
     "text": [
      "BurstID: t064_135511_iw1, sensor: S1A\n"
     ]
    },
    {
     "name": "stdout",
     "output_type": "stream",
     "text": [
      "BurstID: t064_135511_iw1, sensor: S1B\n"
     ]
    },
    {
     "name": "stdout",
     "output_type": "stream",
     "text": [
      "BurstID: t004_006650_iw2, sensor: S1A\n"
     ]
    },
    {
     "name": "stdout",
     "output_type": "stream",
     "text": [
      "BurstID: t004_006650_iw2, sensor: S1B\n"
     ]
    },
    {
     "name": "stdout",
     "output_type": "stream",
     "text": [
      "BurstID: t064_135516_iw1, sensor: S1A\n"
     ]
    },
    {
     "name": "stdout",
     "output_type": "stream",
     "text": [
      "BurstID: t064_135516_iw1, sensor: S1B\n"
     ]
    },
    {
     "name": "stdout",
     "output_type": "stream",
     "text": [
      "BurstID: t124_264314_iw2, sensor: S1A\n"
     ]
    },
    {
     "name": "stdout",
     "output_type": "stream",
     "text": [
      "BurstID: t124_264314_iw2, sensor: S1B\n"
     ]
    },
    {
     "name": "stdout",
     "output_type": "stream",
     "text": [
      "BurstID: t071_151226_iw3, sensor: S1A\n"
     ]
    },
    {
     "name": "stdout",
     "output_type": "stream",
     "text": [
      "BurstID: t071_151226_iw3, sensor: S1B\n"
     ]
    },
    {
     "name": "stdout",
     "output_type": "stream",
     "text": [
      "BurstID: t137_292333_iw3, sensor: S1A\n"
     ]
    },
    {
     "name": "stdout",
     "output_type": "stream",
     "text": [
      "BurstID: t137_292333_iw3, sensor: S1B\n"
     ]
    },
    {
     "name": "stdout",
     "output_type": "stream",
     "text": [
      "BurstID: t056_118991_iw2, sensor: S1A\n"
     ]
    },
    {
     "name": "stdout",
     "output_type": "stream",
     "text": [
      "BurstID: t056_118991_iw2, sensor: S1B\n"
     ]
    },
    {
     "name": "stdout",
     "output_type": "stream",
     "text": [
      "BurstID: t056_119004_iw3, sensor: S1A\n"
     ]
    },
    {
     "name": "stdout",
     "output_type": "stream",
     "text": [
      "BurstID: t056_119004_iw3, sensor: S1B\n"
     ]
    },
    {
     "name": "stdout",
     "output_type": "stream",
     "text": [
      "BurstID: t151_322397_iw1, sensor: S1A\n"
     ]
    },
    {
     "name": "stdout",
     "output_type": "stream",
     "text": [
      "BurstID: t151_322397_iw1, sensor: S1B\n"
     ]
    },
    {
     "name": "stdout",
     "output_type": "stream",
     "text": [
      "BurstID: t004_006659_iw2, sensor: S1A\n"
     ]
    },
    {
     "name": "stdout",
     "output_type": "stream",
     "text": [
      "BurstID: t004_006659_iw2, sensor: S1B\n"
     ]
    },
    {
     "name": "stdout",
     "output_type": "stream",
     "text": [
      "BurstID: t131_279908_iw2, sensor: S1A\n"
     ]
    },
    {
     "name": "stdout",
     "output_type": "stream",
     "text": [
      "BurstID: t131_279908_iw2, sensor: S1B\n"
     ]
    },
    {
     "name": "stdout",
     "output_type": "stream",
     "text": [
      "BurstID: t107_227894_iw3, sensor: S1A\n"
     ]
    },
    {
     "name": "stdout",
     "output_type": "stream",
     "text": [
      "BurstID: t107_227894_iw3, sensor: S1B\n"
     ]
    },
    {
     "name": "stdout",
     "output_type": "stream",
     "text": [
      "BurstID: t115_245669_iw2, sensor: S1A\n"
     ]
    },
    {
     "name": "stdout",
     "output_type": "stream",
     "text": [
      "BurstID: t115_245669_iw2, sensor: S1B\n"
     ]
    },
    {
     "name": "stdout",
     "output_type": "stream",
     "text": [
      "BurstID: t106_225743_iw1, sensor: S1A\n"
     ]
    },
    {
     "name": "stdout",
     "output_type": "stream",
     "text": [
      "BurstID: t106_225743_iw1, sensor: S1B\n"
     ]
    },
    {
     "name": "stdout",
     "output_type": "stream",
     "text": [
      "BurstID: t034_071061_iw1, sensor: S1A\n"
     ]
    },
    {
     "name": "stdout",
     "output_type": "stream",
     "text": [
      "BurstID: t034_071061_iw1, sensor: S1B\n"
     ]
    },
    {
     "name": "stdout",
     "output_type": "stream",
     "text": [
      "BurstID: t131_279924_iw3, sensor: S1A\n"
     ]
    },
    {
     "name": "stdout",
     "output_type": "stream",
     "text": [
      "BurstID: t131_279924_iw3, sensor: S1B\n"
     ]
    },
    {
     "name": "stdout",
     "output_type": "stream",
     "text": [
      "BurstID: t131_279934_iw2, sensor: S1A\n"
     ]
    },
    {
     "name": "stdout",
     "output_type": "stream",
     "text": [
      "BurstID: t131_279934_iw2, sensor: S1B\n"
     ]
    },
    {
     "name": "stdout",
     "output_type": "stream",
     "text": [
      "BurstID: t071_151230_iw1, sensor: S1A\n"
     ]
    },
    {
     "name": "stdout",
     "output_type": "stream",
     "text": [
      "BurstID: t071_151230_iw1, sensor: S1B\n"
     ]
    },
    {
     "name": "stdout",
     "output_type": "stream",
     "text": [
      "BurstID: t135_287935_iw2, sensor: S1A\n",
      "BurstID: t135_287935_iw2, sensor: S1B\n"
     ]
    },
    {
     "name": "stdout",
     "output_type": "stream",
     "text": [
      "BurstID: t144_308013_iw1, sensor: S1A\n"
     ]
    },
    {
     "name": "stdout",
     "output_type": "stream",
     "text": [
      "BurstID: t144_308013_iw1, sensor: S1B\n"
     ]
    },
    {
     "name": "stdout",
     "output_type": "stream",
     "text": [
      "BurstID: t065_137844_iw3, sensor: S1A\n"
     ]
    },
    {
     "name": "stdout",
     "output_type": "stream",
     "text": [
      "BurstID: t065_137844_iw3, sensor: S1B\n"
     ]
    },
    {
     "name": "stdout",
     "output_type": "stream",
     "text": [
      "BurstID: t034_071051_iw1, sensor: S1A\n"
     ]
    },
    {
     "name": "stdout",
     "output_type": "stream",
     "text": [
      "BurstID: t034_071051_iw1, sensor: S1B\n"
     ]
    },
    {
     "name": "stdout",
     "output_type": "stream",
     "text": [
      "BurstID: t131_279922_iw2, sensor: S1A\n"
     ]
    },
    {
     "name": "stdout",
     "output_type": "stream",
     "text": [
      "BurstID: t131_279922_iw2, sensor: S1B\n"
     ]
    },
    {
     "name": "stdout",
     "output_type": "stream",
     "text": [
      "BurstID: t151_322408_iw2, sensor: S1A\n"
     ]
    },
    {
     "name": "stdout",
     "output_type": "stream",
     "text": [
      "BurstID: t151_322408_iw2, sensor: S1B\n"
     ]
    },
    {
     "name": "stdout",
     "output_type": "stream",
     "text": [
      "BurstID: t071_151230_iw2, sensor: S1A\n"
     ]
    },
    {
     "name": "stdout",
     "output_type": "stream",
     "text": [
      "BurstID: t071_151230_iw2, sensor: S1B\n"
     ]
    },
    {
     "name": "stdout",
     "output_type": "stream",
     "text": [
      "BurstID: t135_287919_iw2, sensor: S1A\n",
      "BurstID: t135_287919_iw2, sensor: S1B\n"
     ]
    },
    {
     "name": "stdout",
     "output_type": "stream",
     "text": [
      "BurstID: t098_209308_iw2, sensor: S1A\n"
     ]
    },
    {
     "name": "stdout",
     "output_type": "stream",
     "text": [
      "BurstID: t098_209308_iw2, sensor: S1B\n"
     ]
    },
    {
     "name": "stdout",
     "output_type": "stream",
     "text": [
      "BurstID: t106_225750_iw3, sensor: S1A\n"
     ]
    },
    {
     "name": "stdout",
     "output_type": "stream",
     "text": [
      "BurstID: t106_225750_iw3, sensor: S1B\n"
     ]
    },
    {
     "name": "stdout",
     "output_type": "stream",
     "text": [
      "BurstID: t131_279932_iw1, sensor: S1A\n"
     ]
    },
    {
     "name": "stdout",
     "output_type": "stream",
     "text": [
      "BurstID: t131_279932_iw1, sensor: S1B\n"
     ]
    },
    {
     "name": "stdout",
     "output_type": "stream",
     "text": [
      "BurstID: t137_292380_iw2, sensor: S1A\n"
     ]
    },
    {
     "name": "stdout",
     "output_type": "stream",
     "text": [
      "BurstID: t137_292380_iw2, sensor: S1B\n"
     ]
    },
    {
     "name": "stdout",
     "output_type": "stream",
     "text": [
      "BurstID: t160_342218_iw2, sensor: S1A\n"
     ]
    },
    {
     "name": "stdout",
     "output_type": "stream",
     "text": [
      "BurstID: t160_342218_iw2, sensor: S1B\n"
     ]
    },
    {
     "name": "stdout",
     "output_type": "stream",
     "text": [
      "BurstID: t071_151234_iw3, sensor: S1A\n"
     ]
    },
    {
     "name": "stdout",
     "output_type": "stream",
     "text": [
      "BurstID: t071_151234_iw3, sensor: S1B\n"
     ]
    },
    {
     "name": "stdout",
     "output_type": "stream",
     "text": [
      "BurstID: t160_342210_iw3, sensor: S1A\n"
     ]
    },
    {
     "name": "stdout",
     "output_type": "stream",
     "text": [
      "BurstID: t160_342210_iw3, sensor: S1B\n"
     ]
    },
    {
     "name": "stdout",
     "output_type": "stream",
     "text": [
      "BurstID: t151_322398_iw2, sensor: S1A\n"
     ]
    },
    {
     "name": "stdout",
     "output_type": "stream",
     "text": [
      "BurstID: t151_322398_iw2, sensor: S1B\n"
     ]
    },
    {
     "name": "stdout",
     "output_type": "stream",
     "text": [
      "BurstID: t131_279917_iw3, sensor: S1A\n"
     ]
    },
    {
     "name": "stdout",
     "output_type": "stream",
     "text": [
      "BurstID: t131_279917_iw3, sensor: S1B\n"
     ]
    },
    {
     "name": "stdout",
     "output_type": "stream",
     "text": [
      "BurstID: t071_151177_iw2, sensor: S1A\n"
     ]
    },
    {
     "name": "stdout",
     "output_type": "stream",
     "text": [
      "BurstID: t071_151177_iw2, sensor: S1B\n"
     ]
    },
    {
     "name": "stdout",
     "output_type": "stream",
     "text": [
      "BurstID: t098_209315_iw2, sensor: S1A\n"
     ]
    },
    {
     "name": "stdout",
     "output_type": "stream",
     "text": [
      "BurstID: t098_209315_iw2, sensor: S1B\n"
     ]
    },
    {
     "name": "stdout",
     "output_type": "stream",
     "text": [
      "BurstID: t144_308015_iw3, sensor: S1A\n"
     ]
    },
    {
     "name": "stdout",
     "output_type": "stream",
     "text": [
      "BurstID: t144_308015_iw3, sensor: S1B\n"
     ]
    },
    {
     "name": "stdout",
     "output_type": "stream",
     "text": [
      "BurstID: t137_292387_iw3, sensor: S1A\n"
     ]
    },
    {
     "name": "stdout",
     "output_type": "stream",
     "text": [
      "BurstID: t137_292387_iw3, sensor: S1B\n"
     ]
    },
    {
     "name": "stdout",
     "output_type": "stream",
     "text": [
      "BurstID: t042_088924_iw2, sensor: S1A\n"
     ]
    },
    {
     "name": "stdout",
     "output_type": "stream",
     "text": [
      "BurstID: t042_088924_iw2, sensor: S1B\n"
     ]
    },
    {
     "name": "stdout",
     "output_type": "stream",
     "text": [
      "BurstID: t144_308011_iw2, sensor: S1A\n"
     ]
    },
    {
     "name": "stdout",
     "output_type": "stream",
     "text": [
      "BurstID: t144_308011_iw2, sensor: S1B\n"
     ]
    },
    {
     "name": "stdout",
     "output_type": "stream",
     "text": [
      "BurstID: t071_151178_iw1, sensor: S1A\n"
     ]
    },
    {
     "name": "stdout",
     "output_type": "stream",
     "text": [
      "BurstID: t071_151178_iw1, sensor: S1B\n"
     ]
    },
    {
     "name": "stdout",
     "output_type": "stream",
     "text": [
      "BurstID: t131_279913_iw2, sensor: S1A\n"
     ]
    },
    {
     "name": "stdout",
     "output_type": "stream",
     "text": [
      "BurstID: t131_279913_iw2, sensor: S1B\n"
     ]
    },
    {
     "name": "stdout",
     "output_type": "stream",
     "text": [
      "BurstID: t131_279930_iw1, sensor: S1A\n"
     ]
    },
    {
     "name": "stdout",
     "output_type": "stream",
     "text": [
      "BurstID: t131_279930_iw1, sensor: S1B\n"
     ]
    },
    {
     "name": "stdout",
     "output_type": "stream",
     "text": [
      "BurstID: t071_151227_iw1, sensor: S1A\n"
     ]
    },
    {
     "name": "stdout",
     "output_type": "stream",
     "text": [
      "BurstID: t071_151227_iw1, sensor: S1B\n"
     ]
    },
    {
     "name": "stdout",
     "output_type": "stream",
     "text": [
      "BurstID: t115_245674_iw1, sensor: S1A\n"
     ]
    },
    {
     "name": "stdout",
     "output_type": "stream",
     "text": [
      "BurstID: t115_245674_iw1, sensor: S1B\n"
     ]
    },
    {
     "name": "stdout",
     "output_type": "stream",
     "text": [
      "BurstID: t004_006647_iw3, sensor: S1A\n"
     ]
    },
    {
     "name": "stdout",
     "output_type": "stream",
     "text": [
      "BurstID: t004_006647_iw3, sensor: S1B\n"
     ]
    },
    {
     "name": "stdout",
     "output_type": "stream",
     "text": [
      "BurstID: t034_071051_iw2, sensor: S1A\n"
     ]
    },
    {
     "name": "stdout",
     "output_type": "stream",
     "text": [
      "BurstID: t034_071051_iw2, sensor: S1B\n"
     ]
    },
    {
     "name": "stdout",
     "output_type": "stream",
     "text": [
      "BurstID: t160_342213_iw3, sensor: S1A\n"
     ]
    },
    {
     "name": "stdout",
     "output_type": "stream",
     "text": [
      "BurstID: t160_342213_iw3, sensor: S1B\n"
     ]
    },
    {
     "name": "stdout",
     "output_type": "stream",
     "text": [
      "BurstID: t087_185677_iw3, sensor: S1A\n"
     ]
    },
    {
     "name": "stdout",
     "output_type": "stream",
     "text": [
      "BurstID: t087_185677_iw3, sensor: S1B\n"
     ]
    },
    {
     "name": "stdout",
     "output_type": "stream",
     "text": [
      "BurstID: t135_287923_iw2, sensor: S1A\n"
     ]
    },
    {
     "name": "stdout",
     "output_type": "stream",
     "text": [
      "BurstID: t135_287923_iw2, sensor: S1B\n"
     ]
    },
    {
     "name": "stdout",
     "output_type": "stream",
     "text": [
      "BurstID: t160_342220_iw1, sensor: S1A\n"
     ]
    },
    {
     "name": "stdout",
     "output_type": "stream",
     "text": [
      "BurstID: t160_342220_iw1, sensor: S1B\n"
     ]
    },
    {
     "name": "stdout",
     "output_type": "stream",
     "text": [
      "BurstID: t094_200134_iw2, sensor: S1A\n"
     ]
    },
    {
     "name": "stdout",
     "output_type": "stream",
     "text": [
      "BurstID: t094_200134_iw2, sensor: S1B\n"
     ]
    },
    {
     "name": "stdout",
     "output_type": "stream",
     "text": [
      "BurstID: t064_135532_iw2, sensor: S1A\n"
     ]
    },
    {
     "name": "stdout",
     "output_type": "stream",
     "text": [
      "BurstID: t064_135532_iw2, sensor: S1B\n"
     ]
    },
    {
     "name": "stdout",
     "output_type": "stream",
     "text": [
      "BurstID: t143_305905_iw1, sensor: S1A\n"
     ]
    },
    {
     "name": "stdout",
     "output_type": "stream",
     "text": [
      "BurstID: t143_305905_iw1, sensor: S1B\n"
     ]
    },
    {
     "name": "stdout",
     "output_type": "stream",
     "text": [
      "BurstID: t131_279926_iw3, sensor: S1A\n"
     ]
    },
    {
     "name": "stdout",
     "output_type": "stream",
     "text": [
      "BurstID: t131_279926_iw3, sensor: S1B\n"
     ]
    },
    {
     "name": "stdout",
     "output_type": "stream",
     "text": [
      "BurstID: t071_151229_iw2, sensor: S1A\n"
     ]
    },
    {
     "name": "stdout",
     "output_type": "stream",
     "text": [
      "BurstID: t071_151229_iw2, sensor: S1B\n"
     ]
    },
    {
     "name": "stdout",
     "output_type": "stream",
     "text": [
      "BurstID: t056_119005_iw3, sensor: S1A\n"
     ]
    },
    {
     "name": "stdout",
     "output_type": "stream",
     "text": [
      "BurstID: t056_119005_iw3, sensor: S1B\n"
     ]
    },
    {
     "name": "stdout",
     "output_type": "stream",
     "text": [
      "BurstID: t071_151165_iw3, sensor: S1A\n"
     ]
    },
    {
     "name": "stdout",
     "output_type": "stream",
     "text": [
      "BurstID: t071_151165_iw3, sensor: S1B\n"
     ]
    },
    {
     "name": "stdout",
     "output_type": "stream",
     "text": [
      "BurstID: t056_119003_iw2, sensor: S1A\n"
     ]
    },
    {
     "name": "stdout",
     "output_type": "stream",
     "text": [
      "BurstID: t056_119003_iw2, sensor: S1B\n"
     ]
    },
    {
     "name": "stdout",
     "output_type": "stream",
     "text": [
      "BurstID: t098_209311_iw2, sensor: S1A\n"
     ]
    },
    {
     "name": "stdout",
     "output_type": "stream",
     "text": [
      "BurstID: t098_209311_iw2, sensor: S1B\n"
     ]
    },
    {
     "name": "stdout",
     "output_type": "stream",
     "text": [
      "BurstID: t151_322412_iw3, sensor: S1A\n"
     ]
    },
    {
     "name": "stdout",
     "output_type": "stream",
     "text": [
      "BurstID: t151_322412_iw3, sensor: S1B\n"
     ]
    },
    {
     "name": "stdout",
     "output_type": "stream",
     "text": [
      "BurstID: t106_225738_iw3, sensor: S1A\n"
     ]
    },
    {
     "name": "stdout",
     "output_type": "stream",
     "text": [
      "BurstID: t106_225738_iw3, sensor: S1B\n"
     ]
    },
    {
     "name": "stdout",
     "output_type": "stream",
     "text": [
      "BurstID: t124_264301_iw2, sensor: S1A\n"
     ]
    },
    {
     "name": "stdout",
     "output_type": "stream",
     "text": [
      "BurstID: t124_264301_iw2, sensor: S1B\n"
     ]
    },
    {
     "name": "stdout",
     "output_type": "stream",
     "text": [
      "BurstID: t042_088923_iw1, sensor: S1A\n"
     ]
    },
    {
     "name": "stdout",
     "output_type": "stream",
     "text": [
      "BurstID: t042_088923_iw1, sensor: S1B\n"
     ]
    },
    {
     "name": "stdout",
     "output_type": "stream",
     "text": [
      "BurstID: t137_292386_iw3, sensor: S1A\n"
     ]
    },
    {
     "name": "stdout",
     "output_type": "stream",
     "text": [
      "BurstID: t137_292386_iw3, sensor: S1B\n"
     ]
    },
    {
     "name": "stdout",
     "output_type": "stream",
     "text": [
      "BurstID: t098_209319_iw3, sensor: S1A\n"
     ]
    },
    {
     "name": "stdout",
     "output_type": "stream",
     "text": [
      "BurstID: t098_209319_iw3, sensor: S1B\n"
     ]
    },
    {
     "name": "stdout",
     "output_type": "stream",
     "text": [
      "BurstID: t160_342217_iw2, sensor: S1A\n"
     ]
    },
    {
     "name": "stdout",
     "output_type": "stream",
     "text": [
      "BurstID: t160_342217_iw2, sensor: S1B\n"
     ]
    },
    {
     "name": "stdout",
     "output_type": "stream",
     "text": [
      "BurstID: t056_118983_iw3, sensor: S1A\n"
     ]
    },
    {
     "name": "stdout",
     "output_type": "stream",
     "text": [
      "BurstID: t056_118983_iw3, sensor: S1B\n"
     ]
    },
    {
     "name": "stdout",
     "output_type": "stream",
     "text": [
      "BurstID: t056_119004_iw1, sensor: S1A\n"
     ]
    },
    {
     "name": "stdout",
     "output_type": "stream",
     "text": [
      "BurstID: t056_119004_iw1, sensor: S1B\n"
     ]
    },
    {
     "name": "stdout",
     "output_type": "stream",
     "text": [
      "BurstID: t115_245670_iw2, sensor: S1A\n"
     ]
    },
    {
     "name": "stdout",
     "output_type": "stream",
     "text": [
      "BurstID: t115_245670_iw2, sensor: S1B\n"
     ]
    },
    {
     "name": "stdout",
     "output_type": "stream",
     "text": [
      "BurstID: t160_342202_iw1, sensor: S1A\n"
     ]
    },
    {
     "name": "stdout",
     "output_type": "stream",
     "text": [
      "BurstID: t160_342202_iw1, sensor: S1B\n"
     ]
    },
    {
     "name": "stdout",
     "output_type": "stream",
     "text": [
      "BurstID: t124_264516_iw2, sensor: S1A\n"
     ]
    },
    {
     "name": "stdout",
     "output_type": "stream",
     "text": [
      "BurstID: t124_264516_iw2, sensor: S1B\n"
     ]
    },
    {
     "name": "stdout",
     "output_type": "stream",
     "text": [
      "BurstID: t124_264315_iw1, sensor: S1A\n"
     ]
    },
    {
     "name": "stdout",
     "output_type": "stream",
     "text": [
      "BurstID: t124_264315_iw1, sensor: S1B\n"
     ]
    },
    {
     "name": "stdout",
     "output_type": "stream",
     "text": [
      "BurstID: t137_292332_iw2, sensor: S1A\n"
     ]
    },
    {
     "name": "stdout",
     "output_type": "stream",
     "text": [
      "BurstID: t137_292332_iw2, sensor: S1B\n"
     ]
    },
    {
     "name": "stdout",
     "output_type": "stream",
     "text": [
      "BurstID: t071_151155_iw3, sensor: S1A\n"
     ]
    },
    {
     "name": "stdout",
     "output_type": "stream",
     "text": [
      "BurstID: t071_151155_iw3, sensor: S1B\n",
      "BurstID: t160_342218_iw3, sensor: S1A\n"
     ]
    },
    {
     "name": "stdout",
     "output_type": "stream",
     "text": [
      "BurstID: t160_342218_iw3, sensor: S1B\n"
     ]
    },
    {
     "name": "stdout",
     "output_type": "stream",
     "text": [
      "BurstID: t004_006660_iw1, sensor: S1A\n"
     ]
    },
    {
     "name": "stdout",
     "output_type": "stream",
     "text": [
      "BurstID: t004_006660_iw1, sensor: S1B\n"
     ]
    },
    {
     "name": "stdout",
     "output_type": "stream",
     "text": [
      "BurstID: t160_342223_iw3, sensor: S1A\n"
     ]
    },
    {
     "name": "stdout",
     "output_type": "stream",
     "text": [
      "BurstID: t160_342223_iw3, sensor: S1B\n"
     ]
    },
    {
     "name": "stdout",
     "output_type": "stream",
     "text": [
      "BurstID: t071_151221_iw2, sensor: S1A\n"
     ]
    },
    {
     "name": "stdout",
     "output_type": "stream",
     "text": [
      "BurstID: t071_151221_iw2, sensor: S1B\n"
     ]
    },
    {
     "name": "stdout",
     "output_type": "stream",
     "text": [
      "BurstID: t107_227884_iw3, sensor: S1A\n"
     ]
    },
    {
     "name": "stdout",
     "output_type": "stream",
     "text": [
      "BurstID: t107_227884_iw3, sensor: S1B\n"
     ]
    },
    {
     "name": "stdout",
     "output_type": "stream",
     "text": [
      "BurstID: t064_135527_iw1, sensor: S1A\n"
     ]
    },
    {
     "name": "stdout",
     "output_type": "stream",
     "text": [
      "BurstID: t064_135527_iw1, sensor: S1B\n"
     ]
    },
    {
     "name": "stdout",
     "output_type": "stream",
     "text": [
      "BurstID: t098_209321_iw2, sensor: S1A\n"
     ]
    },
    {
     "name": "stdout",
     "output_type": "stream",
     "text": [
      "BurstID: t098_209321_iw2, sensor: S1B\n"
     ]
    },
    {
     "name": "stdout",
     "output_type": "stream",
     "text": [
      "BurstID: t042_088921_iw1, sensor: S1A\n"
     ]
    },
    {
     "name": "stdout",
     "output_type": "stream",
     "text": [
      "BurstID: t042_088921_iw1, sensor: S1B\n"
     ]
    },
    {
     "name": "stdout",
     "output_type": "stream",
     "text": [
      "BurstID: t144_308020_iw1, sensor: S1A\n"
     ]
    },
    {
     "name": "stdout",
     "output_type": "stream",
     "text": [
      "BurstID: t144_308020_iw1, sensor: S1B\n"
     ]
    },
    {
     "name": "stdout",
     "output_type": "stream",
     "text": [
      "BurstID: t071_151232_iw1, sensor: S1A\n"
     ]
    },
    {
     "name": "stdout",
     "output_type": "stream",
     "text": [
      "BurstID: t071_151232_iw1, sensor: S1B\n"
     ]
    },
    {
     "name": "stdout",
     "output_type": "stream",
     "text": [
      "BurstID: t094_200127_iw3, sensor: S1A\n"
     ]
    },
    {
     "name": "stdout",
     "output_type": "stream",
     "text": [
      "BurstID: t094_200127_iw3, sensor: S1B\n"
     ]
    },
    {
     "name": "stdout",
     "output_type": "stream",
     "text": [
      "BurstID: t056_118984_iw3, sensor: S1A\n"
     ]
    },
    {
     "name": "stdout",
     "output_type": "stream",
     "text": [
      "BurstID: t056_118984_iw3, sensor: S1B\n"
     ]
    },
    {
     "name": "stdout",
     "output_type": "stream",
     "text": [
      "BurstID: t143_305904_iw3, sensor: S1A\n"
     ]
    },
    {
     "name": "stdout",
     "output_type": "stream",
     "text": [
      "BurstID: t143_305904_iw3, sensor: S1B\n"
     ]
    },
    {
     "name": "stdout",
     "output_type": "stream",
     "text": [
      "BurstID: t160_342225_iw2, sensor: S1A\n"
     ]
    },
    {
     "name": "stdout",
     "output_type": "stream",
     "text": [
      "BurstID: t160_342225_iw2, sensor: S1B\n"
     ]
    },
    {
     "name": "stdout",
     "output_type": "stream",
     "text": [
      "BurstID: t131_279909_iw1, sensor: S1A\n"
     ]
    },
    {
     "name": "stdout",
     "output_type": "stream",
     "text": [
      "BurstID: t131_279909_iw1, sensor: S1B\n"
     ]
    },
    {
     "name": "stdout",
     "output_type": "stream",
     "text": [
      "BurstID: t160_342221_iw2, sensor: S1A\n"
     ]
    },
    {
     "name": "stdout",
     "output_type": "stream",
     "text": [
      "BurstID: t160_342221_iw2, sensor: S1B\n"
     ]
    },
    {
     "name": "stdout",
     "output_type": "stream",
     "text": [
      "BurstID: t135_287918_iw1, sensor: S1A\n",
      "BurstID: t135_287918_iw1, sensor: S1B\n"
     ]
    },
    {
     "name": "stdout",
     "output_type": "stream",
     "text": [
      "BurstID: t160_342202_iw3, sensor: S1A\n"
     ]
    },
    {
     "name": "stdout",
     "output_type": "stream",
     "text": [
      "BurstID: t160_342202_iw3, sensor: S1B\n"
     ]
    },
    {
     "name": "stdout",
     "output_type": "stream",
     "text": [
      "BurstID: t137_292326_iw1, sensor: S1A\n"
     ]
    },
    {
     "name": "stdout",
     "output_type": "stream",
     "text": [
      "BurstID: t137_292326_iw1, sensor: S1B\n"
     ]
    },
    {
     "name": "stdout",
     "output_type": "stream",
     "text": [
      "BurstID: t034_071057_iw1, sensor: S1A\n"
     ]
    },
    {
     "name": "stdout",
     "output_type": "stream",
     "text": [
      "BurstID: t034_071057_iw1, sensor: S1B\n"
     ]
    },
    {
     "name": "stdout",
     "output_type": "stream",
     "text": [
      "BurstID: t106_225742_iw3, sensor: S1A\n"
     ]
    },
    {
     "name": "stdout",
     "output_type": "stream",
     "text": [
      "BurstID: t106_225742_iw3, sensor: S1B\n"
     ]
    },
    {
     "name": "stdout",
     "output_type": "stream",
     "text": [
      "BurstID: t098_209318_iw3, sensor: S1A\n"
     ]
    },
    {
     "name": "stdout",
     "output_type": "stream",
     "text": [
      "BurstID: t098_209318_iw3, sensor: S1B\n"
     ]
    },
    {
     "name": "stdout",
     "output_type": "stream",
     "text": [
      "BurstID: t160_342213_iw1, sensor: S1A\n"
     ]
    },
    {
     "name": "stdout",
     "output_type": "stream",
     "text": [
      "BurstID: t160_342213_iw1, sensor: S1B\n"
     ]
    },
    {
     "name": "stdout",
     "output_type": "stream",
     "text": [
      "BurstID: t151_322413_iw1, sensor: S1A\n"
     ]
    },
    {
     "name": "stdout",
     "output_type": "stream",
     "text": [
      "BurstID: t151_322413_iw1, sensor: S1B\n"
     ]
    },
    {
     "name": "stdout",
     "output_type": "stream",
     "text": [
      "BurstID: t160_342217_iw3, sensor: S1A\n"
     ]
    },
    {
     "name": "stdout",
     "output_type": "stream",
     "text": [
      "BurstID: t160_342217_iw3, sensor: S1B\n"
     ]
    },
    {
     "name": "stdout",
     "output_type": "stream",
     "text": [
      "BurstID: t071_151166_iw3, sensor: S1A\n"
     ]
    },
    {
     "name": "stdout",
     "output_type": "stream",
     "text": [
      "BurstID: t071_151166_iw3, sensor: S1B\n"
     ]
    },
    {
     "name": "stdout",
     "output_type": "stream",
     "text": [
      "BurstID: t160_342216_iw2, sensor: S1A\n"
     ]
    },
    {
     "name": "stdout",
     "output_type": "stream",
     "text": [
      "BurstID: t160_342216_iw2, sensor: S1B\n"
     ]
    },
    {
     "name": "stdout",
     "output_type": "stream",
     "text": [
      "BurstID: t115_245672_iw3, sensor: S1A\n"
     ]
    },
    {
     "name": "stdout",
     "output_type": "stream",
     "text": [
      "BurstID: t115_245672_iw3, sensor: S1B\n"
     ]
    },
    {
     "name": "stdout",
     "output_type": "stream",
     "text": [
      "BurstID: t151_322398_iw1, sensor: S1A\n"
     ]
    },
    {
     "name": "stdout",
     "output_type": "stream",
     "text": [
      "BurstID: t151_322398_iw1, sensor: S1B\n"
     ]
    },
    {
     "name": "stdout",
     "output_type": "stream",
     "text": [
      "BurstID: t087_185686_iw1, sensor: S1A\n"
     ]
    },
    {
     "name": "stdout",
     "output_type": "stream",
     "text": [
      "BurstID: t087_185686_iw1, sensor: S1B\n"
     ]
    },
    {
     "name": "stdout",
     "output_type": "stream",
     "text": [
      "BurstID: t135_287921_iw1, sensor: S1A\n"
     ]
    },
    {
     "name": "stdout",
     "output_type": "stream",
     "text": [
      "BurstID: t135_287921_iw1, sensor: S1B\n"
     ]
    },
    {
     "name": "stdout",
     "output_type": "stream",
     "text": [
      "BurstID: t044_093113_iw3, sensor: S1A\n"
     ]
    },
    {
     "name": "stdout",
     "output_type": "stream",
     "text": [
      "BurstID: t044_093113_iw3, sensor: S1B\n"
     ]
    },
    {
     "name": "stdout",
     "output_type": "stream",
     "text": [
      "BurstID: t098_209310_iw1, sensor: S1A\n"
     ]
    },
    {
     "name": "stdout",
     "output_type": "stream",
     "text": [
      "BurstID: t098_209310_iw1, sensor: S1B\n"
     ]
    },
    {
     "name": "stdout",
     "output_type": "stream",
     "text": [
      "BurstID: t004_006662_iw3, sensor: S1A\n"
     ]
    },
    {
     "name": "stdout",
     "output_type": "stream",
     "text": [
      "BurstID: t004_006662_iw3, sensor: S1B\n"
     ]
    },
    {
     "name": "stdout",
     "output_type": "stream",
     "text": [
      "BurstID: t107_227883_iw2, sensor: S1A\n"
     ]
    },
    {
     "name": "stdout",
     "output_type": "stream",
     "text": [
      "BurstID: t107_227883_iw2, sensor: S1B\n"
     ]
    },
    {
     "name": "stdout",
     "output_type": "stream",
     "text": [
      "BurstID: t106_225751_iw2, sensor: S1A\n"
     ]
    },
    {
     "name": "stdout",
     "output_type": "stream",
     "text": [
      "BurstID: t106_225751_iw2, sensor: S1B\n"
     ]
    },
    {
     "name": "stdout",
     "output_type": "stream",
     "text": [
      "BurstID: t135_287921_iw3, sensor: S1A\n"
     ]
    },
    {
     "name": "stdout",
     "output_type": "stream",
     "text": [
      "BurstID: t135_287921_iw3, sensor: S1B\n"
     ]
    },
    {
     "name": "stdout",
     "output_type": "stream",
     "text": [
      "BurstID: t115_245666_iw3, sensor: S1A\n"
     ]
    },
    {
     "name": "stdout",
     "output_type": "stream",
     "text": [
      "BurstID: t115_245666_iw3, sensor: S1B\n"
     ]
    },
    {
     "name": "stdout",
     "output_type": "stream",
     "text": [
      "BurstID: t107_227886_iw3, sensor: S1A\n"
     ]
    },
    {
     "name": "stdout",
     "output_type": "stream",
     "text": [
      "BurstID: t107_227886_iw3, sensor: S1B\n"
     ]
    },
    {
     "name": "stdout",
     "output_type": "stream",
     "text": [
      "BurstID: t124_264301_iw1, sensor: S1A\n"
     ]
    },
    {
     "name": "stdout",
     "output_type": "stream",
     "text": [
      "BurstID: t124_264301_iw1, sensor: S1B\n"
     ]
    },
    {
     "name": "stdout",
     "output_type": "stream",
     "text": [
      "BurstID: t056_118998_iw2, sensor: S1A\n"
     ]
    },
    {
     "name": "stdout",
     "output_type": "stream",
     "text": [
      "BurstID: t056_118998_iw2, sensor: S1B\n"
     ]
    },
    {
     "name": "stdout",
     "output_type": "stream",
     "text": [
      "BurstID: t034_071094_iw1, sensor: S1A\n"
     ]
    },
    {
     "name": "stdout",
     "output_type": "stream",
     "text": [
      "BurstID: t034_071094_iw1, sensor: S1B\n"
     ]
    },
    {
     "name": "stdout",
     "output_type": "stream",
     "text": [
      "BurstID: t098_209321_iw3, sensor: S1A\n"
     ]
    },
    {
     "name": "stdout",
     "output_type": "stream",
     "text": [
      "BurstID: t098_209321_iw3, sensor: S1B\n"
     ]
    },
    {
     "name": "stdout",
     "output_type": "stream",
     "text": [
      "BurstID: t131_279918_iw1, sensor: S1A\n"
     ]
    },
    {
     "name": "stdout",
     "output_type": "stream",
     "text": [
      "BurstID: t131_279918_iw1, sensor: S1B\n"
     ]
    },
    {
     "name": "stdout",
     "output_type": "stream",
     "text": [
      "BurstID: t107_227880_iw3, sensor: S1A\n"
     ]
    },
    {
     "name": "stdout",
     "output_type": "stream",
     "text": [
      "BurstID: t107_227880_iw3, sensor: S1B\n"
     ]
    },
    {
     "name": "stdout",
     "output_type": "stream",
     "text": [
      "BurstID: t137_292334_iw2, sensor: S1A\n"
     ]
    },
    {
     "name": "stdout",
     "output_type": "stream",
     "text": [
      "BurstID: t137_292334_iw2, sensor: S1B\n"
     ]
    },
    {
     "name": "stdout",
     "output_type": "stream",
     "text": [
      "BurstID: t131_279922_iw1, sensor: S1A\n"
     ]
    },
    {
     "name": "stdout",
     "output_type": "stream",
     "text": [
      "BurstID: t131_279922_iw1, sensor: S1B\n"
     ]
    },
    {
     "name": "stdout",
     "output_type": "stream",
     "text": [
      "BurstID: t071_151170_iw3, sensor: S1A\n"
     ]
    },
    {
     "name": "stdout",
     "output_type": "stream",
     "text": [
      "BurstID: t071_151170_iw3, sensor: S1B\n"
     ]
    },
    {
     "name": "stdout",
     "output_type": "stream",
     "text": [
      "BurstID: t137_292380_iw3, sensor: S1A\n"
     ]
    },
    {
     "name": "stdout",
     "output_type": "stream",
     "text": [
      "BurstID: t137_292380_iw3, sensor: S1B\n"
     ]
    },
    {
     "name": "stdout",
     "output_type": "stream",
     "text": [
      "BurstID: t151_322410_iw2, sensor: S1A\n"
     ]
    },
    {
     "name": "stdout",
     "output_type": "stream",
     "text": [
      "BurstID: t151_322410_iw2, sensor: S1B\n"
     ]
    },
    {
     "name": "stdout",
     "output_type": "stream",
     "text": [
      "BurstID: t094_200142_iw2, sensor: S1A\n"
     ]
    },
    {
     "name": "stdout",
     "output_type": "stream",
     "text": [
      "BurstID: t094_200142_iw2, sensor: S1B\n"
     ]
    },
    {
     "name": "stdout",
     "output_type": "stream",
     "text": [
      "BurstID: t131_279920_iw1, sensor: S1A\n"
     ]
    },
    {
     "name": "stdout",
     "output_type": "stream",
     "text": [
      "BurstID: t131_279920_iw1, sensor: S1B\n"
     ]
    },
    {
     "name": "stdout",
     "output_type": "stream",
     "text": [
      "BurstID: t094_200133_iw2, sensor: S1A\n"
     ]
    },
    {
     "name": "stdout",
     "output_type": "stream",
     "text": [
      "BurstID: t094_200133_iw2, sensor: S1B\n"
     ]
    },
    {
     "name": "stdout",
     "output_type": "stream",
     "text": [
      "BurstID: t143_305903_iw2, sensor: S1A\n"
     ]
    },
    {
     "name": "stdout",
     "output_type": "stream",
     "text": [
      "BurstID: t143_305903_iw2, sensor: S1B\n"
     ]
    },
    {
     "name": "stdout",
     "output_type": "stream",
     "text": [
      "BurstID: t071_151166_iw1, sensor: S1A\n"
     ]
    },
    {
     "name": "stdout",
     "output_type": "stream",
     "text": [
      "BurstID: t071_151166_iw1, sensor: S1B\n"
     ]
    },
    {
     "name": "stdout",
     "output_type": "stream",
     "text": [
      "BurstID: t135_287923_iw3, sensor: S1A\n"
     ]
    },
    {
     "name": "stdout",
     "output_type": "stream",
     "text": [
      "BurstID: t135_287923_iw3, sensor: S1B\n"
     ]
    },
    {
     "name": "stdout",
     "output_type": "stream",
     "text": [
      "BurstID: t004_006654_iw1, sensor: S1A\n"
     ]
    },
    {
     "name": "stdout",
     "output_type": "stream",
     "text": [
      "BurstID: t004_006654_iw1, sensor: S1B\n"
     ]
    },
    {
     "name": "stdout",
     "output_type": "stream",
     "text": [
      "BurstID: t135_287936_iw1, sensor: S1A\n"
     ]
    },
    {
     "name": "stdout",
     "output_type": "stream",
     "text": [
      "BurstID: t135_287936_iw1, sensor: S1B\n"
     ]
    },
    {
     "name": "stdout",
     "output_type": "stream",
     "text": [
      "BurstID: t143_305908_iw3, sensor: S1A\n"
     ]
    },
    {
     "name": "stdout",
     "output_type": "stream",
     "text": [
      "BurstID: t143_305908_iw3, sensor: S1B\n"
     ]
    },
    {
     "name": "stdout",
     "output_type": "stream",
     "text": [
      "BurstID: t042_088924_iw3, sensor: S1A\n"
     ]
    },
    {
     "name": "stdout",
     "output_type": "stream",
     "text": [
      "BurstID: t042_088924_iw3, sensor: S1B\n"
     ]
    },
    {
     "name": "stdout",
     "output_type": "stream",
     "text": [
      "BurstID: t064_135507_iw3, sensor: S1A\n"
     ]
    },
    {
     "name": "stdout",
     "output_type": "stream",
     "text": [
      "BurstID: t064_135507_iw3, sensor: S1B\n"
     ]
    },
    {
     "name": "stdout",
     "output_type": "stream",
     "text": [
      "BurstID: t056_118994_iw3, sensor: S1A\n"
     ]
    },
    {
     "name": "stdout",
     "output_type": "stream",
     "text": [
      "BurstID: t056_118994_iw3, sensor: S1B\n"
     ]
    },
    {
     "name": "stdout",
     "output_type": "stream",
     "text": [
      "BurstID: t087_185688_iw2, sensor: S1A\n"
     ]
    },
    {
     "name": "stdout",
     "output_type": "stream",
     "text": [
      "BurstID: t087_185688_iw2, sensor: S1B\n"
     ]
    },
    {
     "name": "stdout",
     "output_type": "stream",
     "text": [
      "BurstID: t065_137848_iw2, sensor: S1A\n"
     ]
    },
    {
     "name": "stdout",
     "output_type": "stream",
     "text": [
      "BurstID: t065_137848_iw2, sensor: S1B\n"
     ]
    },
    {
     "name": "stdout",
     "output_type": "stream",
     "text": [
      "BurstID: t098_209310_iw2, sensor: S1A\n"
     ]
    },
    {
     "name": "stdout",
     "output_type": "stream",
     "text": [
      "BurstID: t098_209310_iw2, sensor: S1B\n"
     ]
    },
    {
     "name": "stdout",
     "output_type": "stream",
     "text": [
      "BurstID: t160_342215_iw3, sensor: S1A\n"
     ]
    },
    {
     "name": "stdout",
     "output_type": "stream",
     "text": [
      "BurstID: t160_342215_iw3, sensor: S1B\n"
     ]
    },
    {
     "name": "stdout",
     "output_type": "stream",
     "text": [
      "BurstID: t034_071098_iw3, sensor: S1A\n"
     ]
    },
    {
     "name": "stdout",
     "output_type": "stream",
     "text": [
      "BurstID: t034_071098_iw3, sensor: S1B\n"
     ]
    },
    {
     "name": "stdout",
     "output_type": "stream",
     "text": [
      "BurstID: t056_119000_iw2, sensor: S1A\n"
     ]
    },
    {
     "name": "stdout",
     "output_type": "stream",
     "text": [
      "BurstID: t056_119000_iw2, sensor: S1B\n"
     ]
    },
    {
     "name": "stdout",
     "output_type": "stream",
     "text": [
      "BurstID: t115_245668_iw3, sensor: S1A\n"
     ]
    },
    {
     "name": "stdout",
     "output_type": "stream",
     "text": [
      "BurstID: t115_245668_iw3, sensor: S1B\n"
     ]
    },
    {
     "name": "stdout",
     "output_type": "stream",
     "text": [
      "BurstID: t137_292328_iw3, sensor: S1A\n"
     ]
    },
    {
     "name": "stdout",
     "output_type": "stream",
     "text": [
      "BurstID: t137_292328_iw3, sensor: S1B\n"
     ]
    },
    {
     "name": "stdout",
     "output_type": "stream",
     "text": [
      "BurstID: t131_279925_iw2, sensor: S1A\n"
     ]
    },
    {
     "name": "stdout",
     "output_type": "stream",
     "text": [
      "BurstID: t131_279925_iw2, sensor: S1B\n"
     ]
    },
    {
     "name": "stdout",
     "output_type": "stream",
     "text": [
      "BurstID: t135_287935_iw1, sensor: S1A\n",
      "BurstID: t135_287935_iw1, sensor: S1B\n"
     ]
    },
    {
     "name": "stdout",
     "output_type": "stream",
     "text": [
      "BurstID: t160_342219_iw3, sensor: S1A\n"
     ]
    },
    {
     "name": "stdout",
     "output_type": "stream",
     "text": [
      "BurstID: t160_342219_iw3, sensor: S1B\n",
      "BurstID: t094_200140_iw1, sensor: S1A\n"
     ]
    },
    {
     "name": "stdout",
     "output_type": "stream",
     "text": [
      "BurstID: t094_200140_iw1, sensor: S1B\n"
     ]
    },
    {
     "name": "stdout",
     "output_type": "stream",
     "text": [
      "BurstID: t143_305906_iw1, sensor: S1A\n"
     ]
    },
    {
     "name": "stdout",
     "output_type": "stream",
     "text": [
      "BurstID: t143_305906_iw1, sensor: S1B\n"
     ]
    },
    {
     "name": "stdout",
     "output_type": "stream",
     "text": [
      "BurstID: t151_322409_iw3, sensor: S1A\n"
     ]
    },
    {
     "name": "stdout",
     "output_type": "stream",
     "text": [
      "BurstID: t151_322409_iw3, sensor: S1B\n"
     ]
    },
    {
     "name": "stdout",
     "output_type": "stream",
     "text": [
      "BurstID: t143_305901_iw1, sensor: S1A\n"
     ]
    },
    {
     "name": "stdout",
     "output_type": "stream",
     "text": [
      "BurstID: t143_305901_iw1, sensor: S1B\n"
     ]
    },
    {
     "name": "stdout",
     "output_type": "stream",
     "text": [
      "BurstID: t137_292332_iw3, sensor: S1A\n"
     ]
    },
    {
     "name": "stdout",
     "output_type": "stream",
     "text": [
      "BurstID: t137_292332_iw3, sensor: S1B\n"
     ]
    },
    {
     "name": "stdout",
     "output_type": "stream",
     "text": [
      "BurstID: t034_071048_iw2, sensor: S1A\n"
     ]
    },
    {
     "name": "stdout",
     "output_type": "stream",
     "text": [
      "BurstID: t034_071048_iw2, sensor: S1B\n"
     ]
    },
    {
     "name": "stdout",
     "output_type": "stream",
     "text": [
      "BurstID: t004_006653_iw3, sensor: S1A\n"
     ]
    },
    {
     "name": "stdout",
     "output_type": "stream",
     "text": [
      "BurstID: t004_006653_iw3, sensor: S1B\n"
     ]
    },
    {
     "name": "stdout",
     "output_type": "stream",
     "text": [
      "BurstID: t064_135531_iw3, sensor: S1A\n"
     ]
    },
    {
     "name": "stdout",
     "output_type": "stream",
     "text": [
      "BurstID: t064_135531_iw3, sensor: S1B\n"
     ]
    },
    {
     "name": "stdout",
     "output_type": "stream",
     "text": [
      "BurstID: t064_135520_iw1, sensor: S1A\n"
     ]
    },
    {
     "name": "stdout",
     "output_type": "stream",
     "text": [
      "BurstID: t064_135520_iw1, sensor: S1B\n"
     ]
    },
    {
     "name": "stdout",
     "output_type": "stream",
     "text": [
      "BurstID: t124_264518_iw3, sensor: S1A\n"
     ]
    },
    {
     "name": "stdout",
     "output_type": "stream",
     "text": [
      "BurstID: t124_264518_iw3, sensor: S1B\n"
     ]
    },
    {
     "name": "stdout",
     "output_type": "stream",
     "text": [
      "BurstID: t056_118990_iw1, sensor: S1A\n"
     ]
    },
    {
     "name": "stdout",
     "output_type": "stream",
     "text": [
      "BurstID: t056_118990_iw1, sensor: S1B\n"
     ]
    },
    {
     "name": "stdout",
     "output_type": "stream",
     "text": [
      "BurstID: t107_227885_iw3, sensor: S1A\n"
     ]
    },
    {
     "name": "stdout",
     "output_type": "stream",
     "text": [
      "BurstID: t107_227885_iw3, sensor: S1B\n"
     ]
    },
    {
     "name": "stdout",
     "output_type": "stream",
     "text": [
      "BurstID: t064_135529_iw1, sensor: S1A\n"
     ]
    },
    {
     "name": "stdout",
     "output_type": "stream",
     "text": [
      "BurstID: t064_135529_iw1, sensor: S1B\n"
     ]
    },
    {
     "name": "stdout",
     "output_type": "stream",
     "text": [
      "BurstID: t106_225750_iw1, sensor: S1A\n"
     ]
    },
    {
     "name": "stdout",
     "output_type": "stream",
     "text": [
      "BurstID: t106_225750_iw1, sensor: S1B\n"
     ]
    },
    {
     "name": "stdout",
     "output_type": "stream",
     "text": [
      "BurstID: t106_225752_iw2, sensor: S1A\n"
     ]
    },
    {
     "name": "stdout",
     "output_type": "stream",
     "text": [
      "BurstID: t106_225752_iw2, sensor: S1B\n"
     ]
    },
    {
     "name": "stdout",
     "output_type": "stream",
     "text": [
      "BurstID: t131_279919_iw3, sensor: S1A\n"
     ]
    },
    {
     "name": "stdout",
     "output_type": "stream",
     "text": [
      "BurstID: t131_279919_iw3, sensor: S1B\n"
     ]
    },
    {
     "name": "stdout",
     "output_type": "stream",
     "text": [
      "BurstID: t160_342223_iw1, sensor: S1A\n"
     ]
    },
    {
     "name": "stdout",
     "output_type": "stream",
     "text": [
      "BurstID: t160_342223_iw1, sensor: S1B\n"
     ]
    },
    {
     "name": "stdout",
     "output_type": "stream",
     "text": [
      "BurstID: t106_225743_iw3, sensor: S1A\n"
     ]
    },
    {
     "name": "stdout",
     "output_type": "stream",
     "text": [
      "BurstID: t106_225743_iw3, sensor: S1B\n"
     ]
    },
    {
     "name": "stdout",
     "output_type": "stream",
     "text": [
      "BurstID: t137_292334_iw1, sensor: S1A\n"
     ]
    },
    {
     "name": "stdout",
     "output_type": "stream",
     "text": [
      "BurstID: t137_292334_iw1, sensor: S1B\n"
     ]
    },
    {
     "name": "stdout",
     "output_type": "stream",
     "text": [
      "BurstID: t071_151233_iw1, sensor: S1A\n"
     ]
    },
    {
     "name": "stdout",
     "output_type": "stream",
     "text": [
      "BurstID: t071_151233_iw1, sensor: S1B\n"
     ]
    },
    {
     "name": "stdout",
     "output_type": "stream",
     "text": [
      "BurstID: t087_185688_iw3, sensor: S1A\n"
     ]
    },
    {
     "name": "stdout",
     "output_type": "stream",
     "text": [
      "BurstID: t087_185688_iw3, sensor: S1B\n"
     ]
    },
    {
     "name": "stdout",
     "output_type": "stream",
     "text": [
      "BurstID: t065_137845_iw3, sensor: S1A\n"
     ]
    },
    {
     "name": "stdout",
     "output_type": "stream",
     "text": [
      "BurstID: t065_137845_iw3, sensor: S1B\n"
     ]
    },
    {
     "name": "stdout",
     "output_type": "stream",
     "text": [
      "BurstID: t151_322405_iw2, sensor: S1A\n"
     ]
    },
    {
     "name": "stdout",
     "output_type": "stream",
     "text": [
      "BurstID: t151_322405_iw2, sensor: S1B\n"
     ]
    },
    {
     "name": "stdout",
     "output_type": "stream",
     "text": [
      "BurstID: t064_135510_iw2, sensor: S1A\n"
     ]
    },
    {
     "name": "stdout",
     "output_type": "stream",
     "text": [
      "BurstID: t064_135510_iw2, sensor: S1B\n"
     ]
    },
    {
     "name": "stdout",
     "output_type": "stream",
     "text": [
      "BurstID: t115_245675_iw2, sensor: S1A\n"
     ]
    },
    {
     "name": "stdout",
     "output_type": "stream",
     "text": [
      "BurstID: t115_245675_iw2, sensor: S1B\n"
     ]
    },
    {
     "name": "stdout",
     "output_type": "stream",
     "text": [
      "BurstID: t071_151171_iw2, sensor: S1A\n"
     ]
    },
    {
     "name": "stdout",
     "output_type": "stream",
     "text": [
      "BurstID: t071_151171_iw2, sensor: S1B\n"
     ]
    },
    {
     "name": "stdout",
     "output_type": "stream",
     "text": [
      "BurstID: t071_151234_iw1, sensor: S1A\n"
     ]
    },
    {
     "name": "stdout",
     "output_type": "stream",
     "text": [
      "BurstID: t071_151234_iw1, sensor: S1B\n"
     ]
    },
    {
     "name": "stdout",
     "output_type": "stream",
     "text": [
      "BurstID: t137_292326_iw2, sensor: S1A\n"
     ]
    },
    {
     "name": "stdout",
     "output_type": "stream",
     "text": [
      "BurstID: t137_292326_iw2, sensor: S1B\n"
     ]
    },
    {
     "name": "stdout",
     "output_type": "stream",
     "text": [
      "BurstID: t106_225750_iw2, sensor: S1A\n"
     ]
    },
    {
     "name": "stdout",
     "output_type": "stream",
     "text": [
      "BurstID: t106_225750_iw2, sensor: S1B\n"
     ]
    },
    {
     "name": "stdout",
     "output_type": "stream",
     "text": [
      "BurstID: t124_264520_iw3, sensor: S1A\n"
     ]
    },
    {
     "name": "stdout",
     "output_type": "stream",
     "text": [
      "BurstID: t124_264520_iw3, sensor: S1B\n"
     ]
    },
    {
     "name": "stdout",
     "output_type": "stream",
     "text": [
      "BurstID: t034_071061_iw3, sensor: S1A\n"
     ]
    },
    {
     "name": "stdout",
     "output_type": "stream",
     "text": [
      "BurstID: t034_071061_iw3, sensor: S1B\n"
     ]
    },
    {
     "name": "stdout",
     "output_type": "stream",
     "text": [
      "BurstID: t137_292325_iw3, sensor: S1A\n"
     ]
    },
    {
     "name": "stdout",
     "output_type": "stream",
     "text": [
      "BurstID: t137_292325_iw3, sensor: S1B\n"
     ]
    },
    {
     "name": "stdout",
     "output_type": "stream",
     "text": [
      "BurstID: t131_279930_iw3, sensor: S1A\n"
     ]
    },
    {
     "name": "stdout",
     "output_type": "stream",
     "text": [
      "BurstID: t131_279930_iw3, sensor: S1B\n"
     ]
    },
    {
     "name": "stdout",
     "output_type": "stream",
     "text": [
      "BurstID: t160_342215_iw1, sensor: S1A\n"
     ]
    },
    {
     "name": "stdout",
     "output_type": "stream",
     "text": [
      "BurstID: t160_342215_iw1, sensor: S1B\n"
     ]
    },
    {
     "name": "stdout",
     "output_type": "stream",
     "text": [
      "BurstID: t034_071051_iw3, sensor: S1A\n"
     ]
    },
    {
     "name": "stdout",
     "output_type": "stream",
     "text": [
      "BurstID: t034_071051_iw3, sensor: S1B\n"
     ]
    },
    {
     "name": "stdout",
     "output_type": "stream",
     "text": [
      "BurstID: t098_209320_iw3, sensor: S1A\n"
     ]
    },
    {
     "name": "stdout",
     "output_type": "stream",
     "text": [
      "BurstID: t098_209320_iw3, sensor: S1B\n"
     ]
    },
    {
     "name": "stdout",
     "output_type": "stream",
     "text": [
      "BurstID: t065_137847_iw3, sensor: S1A\n"
     ]
    },
    {
     "name": "stdout",
     "output_type": "stream",
     "text": [
      "BurstID: t065_137847_iw3, sensor: S1B\n"
     ]
    },
    {
     "name": "stdout",
     "output_type": "stream",
     "text": [
      "BurstID: t044_093111_iw1, sensor: S1A\n"
     ]
    },
    {
     "name": "stdout",
     "output_type": "stream",
     "text": [
      "BurstID: t044_093111_iw1, sensor: S1B\n"
     ]
    },
    {
     "name": "stdout",
     "output_type": "stream",
     "text": [
      "BurstID: t144_308020_iw3, sensor: S1A\n"
     ]
    },
    {
     "name": "stdout",
     "output_type": "stream",
     "text": [
      "BurstID: t144_308020_iw3, sensor: S1B\n"
     ]
    },
    {
     "name": "stdout",
     "output_type": "stream",
     "text": [
      "BurstID: t124_264517_iw2, sensor: S1A\n"
     ]
    },
    {
     "name": "stdout",
     "output_type": "stream",
     "text": [
      "BurstID: t124_264517_iw2, sensor: S1B\n"
     ]
    },
    {
     "name": "stdout",
     "output_type": "stream",
     "text": [
      "BurstID: t107_227879_iw3, sensor: S1A\n"
     ]
    },
    {
     "name": "stdout",
     "output_type": "stream",
     "text": [
      "BurstID: t107_227879_iw3, sensor: S1B\n"
     ]
    },
    {
     "name": "stdout",
     "output_type": "stream",
     "text": [
      "BurstID: t064_135515_iw2, sensor: S1A\n"
     ]
    },
    {
     "name": "stdout",
     "output_type": "stream",
     "text": [
      "BurstID: t064_135515_iw2, sensor: S1B\n"
     ]
    },
    {
     "name": "stdout",
     "output_type": "stream",
     "text": [
      "BurstID: t131_279926_iw1, sensor: S1A\n"
     ]
    },
    {
     "name": "stdout",
     "output_type": "stream",
     "text": [
      "BurstID: t131_279926_iw1, sensor: S1B\n"
     ]
    },
    {
     "name": "stdout",
     "output_type": "stream",
     "text": [
      "BurstID: t087_185682_iw2, sensor: S1A\n"
     ]
    },
    {
     "name": "stdout",
     "output_type": "stream",
     "text": [
      "BurstID: t087_185682_iw2, sensor: S1B\n"
     ]
    },
    {
     "name": "stdout",
     "output_type": "stream",
     "text": [
      "BurstID: t004_006651_iw2, sensor: S1A\n"
     ]
    },
    {
     "name": "stdout",
     "output_type": "stream",
     "text": [
      "BurstID: t004_006651_iw2, sensor: S1B\n"
     ]
    },
    {
     "name": "stdout",
     "output_type": "stream",
     "text": [
      "BurstID: t034_071058_iw2, sensor: S1A\n"
     ]
    },
    {
     "name": "stdout",
     "output_type": "stream",
     "text": [
      "BurstID: t034_071058_iw2, sensor: S1B\n"
     ]
    },
    {
     "name": "stdout",
     "output_type": "stream",
     "text": [
      "BurstID: t071_151156_iw3, sensor: S1A\n"
     ]
    },
    {
     "name": "stdout",
     "output_type": "stream",
     "text": [
      "BurstID: t071_151156_iw3, sensor: S1B\n",
      "BurstID: t106_225739_iw3, sensor: S1A\n"
     ]
    },
    {
     "name": "stdout",
     "output_type": "stream",
     "text": [
      "BurstID: t106_225739_iw3, sensor: S1B\n"
     ]
    },
    {
     "name": "stdout",
     "output_type": "stream",
     "text": [
      "BurstID: t135_287927_iw2, sensor: S1A\n"
     ]
    },
    {
     "name": "stdout",
     "output_type": "stream",
     "text": [
      "BurstID: t135_287927_iw2, sensor: S1B\n"
     ]
    },
    {
     "name": "stdout",
     "output_type": "stream",
     "text": [
      "BurstID: t064_135528_iw3, sensor: S1A\n"
     ]
    },
    {
     "name": "stdout",
     "output_type": "stream",
     "text": [
      "BurstID: t064_135528_iw3, sensor: S1B\n"
     ]
    },
    {
     "name": "stdout",
     "output_type": "stream",
     "text": [
      "BurstID: t131_279928_iw3, sensor: S1A\n"
     ]
    },
    {
     "name": "stdout",
     "output_type": "stream",
     "text": [
      "BurstID: t131_279928_iw3, sensor: S1B\n"
     ]
    },
    {
     "name": "stdout",
     "output_type": "stream",
     "text": [
      "BurstID: t087_185680_iw3, sensor: S1A\n"
     ]
    },
    {
     "name": "stdout",
     "output_type": "stream",
     "text": [
      "BurstID: t087_185680_iw3, sensor: S1B\n"
     ]
    },
    {
     "name": "stdout",
     "output_type": "stream",
     "text": [
      "BurstID: t098_209326_iw1, sensor: S1A\n",
      "BurstID: t098_209326_iw1, sensor: S1B\n"
     ]
    },
    {
     "name": "stdout",
     "output_type": "stream",
     "text": [
      "BurstID: t065_137844_iw1, sensor: S1A\n"
     ]
    },
    {
     "name": "stdout",
     "output_type": "stream",
     "text": [
      "BurstID: t065_137844_iw1, sensor: S1B\n"
     ]
    },
    {
     "name": "stdout",
     "output_type": "stream",
     "text": [
      "BurstID: t124_264298_iw1, sensor: S1A\n"
     ]
    },
    {
     "name": "stdout",
     "output_type": "stream",
     "text": [
      "BurstID: t124_264298_iw1, sensor: S1B\n"
     ]
    },
    {
     "name": "stdout",
     "output_type": "stream",
     "text": [
      "BurstID: t056_118993_iw2, sensor: S1A\n"
     ]
    },
    {
     "name": "stdout",
     "output_type": "stream",
     "text": [
      "BurstID: t056_118993_iw2, sensor: S1B\n"
     ]
    },
    {
     "name": "stdout",
     "output_type": "stream",
     "text": [
      "BurstID: t064_135514_iw1, sensor: S1A\n"
     ]
    },
    {
     "name": "stdout",
     "output_type": "stream",
     "text": [
      "BurstID: t064_135514_iw1, sensor: S1B\n"
     ]
    },
    {
     "name": "stdout",
     "output_type": "stream",
     "text": [
      "BurstID: t106_225751_iw3, sensor: S1A\n"
     ]
    },
    {
     "name": "stdout",
     "output_type": "stream",
     "text": [
      "BurstID: t106_225751_iw3, sensor: S1B\n"
     ]
    },
    {
     "name": "stdout",
     "output_type": "stream",
     "text": [
      "BurstID: t064_135521_iw1, sensor: S1A\n"
     ]
    },
    {
     "name": "stdout",
     "output_type": "stream",
     "text": [
      "BurstID: t064_135521_iw1, sensor: S1B\n"
     ]
    },
    {
     "name": "stdout",
     "output_type": "stream",
     "text": [
      "BurstID: t124_264522_iw3, sensor: S1A\n"
     ]
    },
    {
     "name": "stdout",
     "output_type": "stream",
     "text": [
      "BurstID: t124_264522_iw3, sensor: S1B\n"
     ]
    },
    {
     "name": "stdout",
     "output_type": "stream",
     "text": [
      "BurstID: t094_200142_iw3, sensor: S1A\n"
     ]
    },
    {
     "name": "stdout",
     "output_type": "stream",
     "text": [
      "BurstID: t094_200142_iw3, sensor: S1B\n"
     ]
    },
    {
     "name": "stdout",
     "output_type": "stream",
     "text": [
      "BurstID: t098_209324_iw2, sensor: S1A\n"
     ]
    },
    {
     "name": "stdout",
     "output_type": "stream",
     "text": [
      "BurstID: t098_209324_iw2, sensor: S1B\n"
     ]
    },
    {
     "name": "stdout",
     "output_type": "stream",
     "text": [
      "BurstID: t151_322394_iw3, sensor: S1A\n"
     ]
    },
    {
     "name": "stdout",
     "output_type": "stream",
     "text": [
      "BurstID: t151_322394_iw3, sensor: S1B\n"
     ]
    },
    {
     "name": "stdout",
     "output_type": "stream",
     "text": [
      "BurstID: t131_279921_iw3, sensor: S1A\n"
     ]
    },
    {
     "name": "stdout",
     "output_type": "stream",
     "text": [
      "BurstID: t131_279921_iw3, sensor: S1B\n"
     ]
    },
    {
     "name": "stdout",
     "output_type": "stream",
     "text": [
      "BurstID: t098_209322_iw3, sensor: S1A\n"
     ]
    },
    {
     "name": "stdout",
     "output_type": "stream",
     "text": [
      "BurstID: t098_209322_iw3, sensor: S1B\n"
     ]
    },
    {
     "name": "stdout",
     "output_type": "stream",
     "text": [
      "BurstID: t124_264297_iw3, sensor: S1A\n"
     ]
    },
    {
     "name": "stdout",
     "output_type": "stream",
     "text": [
      "BurstID: t124_264297_iw3, sensor: S1B\n"
     ]
    },
    {
     "name": "stdout",
     "output_type": "stream",
     "text": [
      "BurstID: t065_137845_iw1, sensor: S1A\n"
     ]
    },
    {
     "name": "stdout",
     "output_type": "stream",
     "text": [
      "BurstID: t065_137845_iw1, sensor: S1B\n"
     ]
    },
    {
     "name": "stdout",
     "output_type": "stream",
     "text": [
      "BurstID: t124_264310_iw3, sensor: S1A\n"
     ]
    },
    {
     "name": "stdout",
     "output_type": "stream",
     "text": [
      "BurstID: t124_264310_iw3, sensor: S1B\n"
     ]
    },
    {
     "name": "stdout",
     "output_type": "stream",
     "text": [
      "BurstID: t044_093112_iw3, sensor: S1A\n"
     ]
    },
    {
     "name": "stdout",
     "output_type": "stream",
     "text": [
      "BurstID: t044_093112_iw3, sensor: S1B\n"
     ]
    },
    {
     "name": "stdout",
     "output_type": "stream",
     "text": [
      "BurstID: t087_185679_iw1, sensor: S1A\n"
     ]
    },
    {
     "name": "stdout",
     "output_type": "stream",
     "text": [
      "BurstID: t087_185679_iw1, sensor: S1B\n"
     ]
    },
    {
     "name": "stdout",
     "output_type": "stream",
     "text": [
      "BurstID: t087_185678_iw3, sensor: S1A\n"
     ]
    },
    {
     "name": "stdout",
     "output_type": "stream",
     "text": [
      "BurstID: t087_185678_iw3, sensor: S1B\n"
     ]
    },
    {
     "name": "stdout",
     "output_type": "stream",
     "text": [
      "BurstID: t107_227893_iw2, sensor: S1A\n"
     ]
    },
    {
     "name": "stdout",
     "output_type": "stream",
     "text": [
      "BurstID: t107_227893_iw2, sensor: S1B\n"
     ]
    },
    {
     "name": "stdout",
     "output_type": "stream",
     "text": [
      "BurstID: t044_093109_iw3, sensor: S1A\n"
     ]
    },
    {
     "name": "stdout",
     "output_type": "stream",
     "text": [
      "BurstID: t044_093109_iw3, sensor: S1B\n"
     ]
    },
    {
     "name": "stdout",
     "output_type": "stream",
     "text": [
      "BurstID: t034_071052_iw3, sensor: S1A\n"
     ]
    },
    {
     "name": "stdout",
     "output_type": "stream",
     "text": [
      "BurstID: t034_071052_iw3, sensor: S1B\n"
     ]
    },
    {
     "name": "stdout",
     "output_type": "stream",
     "text": [
      "BurstID: t143_305901_iw3, sensor: S1A\n"
     ]
    },
    {
     "name": "stdout",
     "output_type": "stream",
     "text": [
      "BurstID: t143_305901_iw3, sensor: S1B\n"
     ]
    },
    {
     "name": "stdout",
     "output_type": "stream",
     "text": [
      "BurstID: t106_225753_iw3, sensor: S1A\n"
     ]
    },
    {
     "name": "stdout",
     "output_type": "stream",
     "text": [
      "BurstID: t106_225753_iw3, sensor: S1B\n"
     ]
    },
    {
     "name": "stdout",
     "output_type": "stream",
     "text": [
      "BurstID: t004_006660_iw2, sensor: S1A\n"
     ]
    },
    {
     "name": "stdout",
     "output_type": "stream",
     "text": [
      "BurstID: t004_006660_iw2, sensor: S1B\n"
     ]
    },
    {
     "name": "stdout",
     "output_type": "stream",
     "text": [
      "BurstID: t107_227886_iw1, sensor: S1A\n"
     ]
    },
    {
     "name": "stdout",
     "output_type": "stream",
     "text": [
      "BurstID: t107_227886_iw1, sensor: S1B\n"
     ]
    },
    {
     "name": "stdout",
     "output_type": "stream",
     "text": [
      "BurstID: t056_119003_iw3, sensor: S1A\n"
     ]
    },
    {
     "name": "stdout",
     "output_type": "stream",
     "text": [
      "BurstID: t056_119003_iw3, sensor: S1B\n"
     ]
    },
    {
     "name": "stdout",
     "output_type": "stream",
     "text": [
      "BurstID: t115_245671_iw3, sensor: S1A\n"
     ]
    },
    {
     "name": "stdout",
     "output_type": "stream",
     "text": [
      "BurstID: t115_245671_iw3, sensor: S1B\n"
     ]
    },
    {
     "name": "stdout",
     "output_type": "stream",
     "text": [
      "BurstID: t151_322392_iw1, sensor: S1A\n"
     ]
    },
    {
     "name": "stdout",
     "output_type": "stream",
     "text": [
      "BurstID: t151_322392_iw1, sensor: S1B\n"
     ]
    },
    {
     "name": "stdout",
     "output_type": "stream",
     "text": [
      "BurstID: t124_264520_iw2, sensor: S1A\n"
     ]
    },
    {
     "name": "stdout",
     "output_type": "stream",
     "text": [
      "BurstID: t124_264520_iw2, sensor: S1B\n"
     ]
    },
    {
     "name": "stdout",
     "output_type": "stream",
     "text": [
      "BurstID: t094_200136_iw2, sensor: S1A\n"
     ]
    },
    {
     "name": "stdout",
     "output_type": "stream",
     "text": [
      "BurstID: t094_200136_iw2, sensor: S1B\n"
     ]
    },
    {
     "name": "stdout",
     "output_type": "stream",
     "text": [
      "BurstID: t034_071091_iw3, sensor: S1A\n"
     ]
    },
    {
     "name": "stdout",
     "output_type": "stream",
     "text": [
      "BurstID: t034_071091_iw3, sensor: S1B\n"
     ]
    },
    {
     "name": "stdout",
     "output_type": "stream",
     "text": [
      "BurstID: t004_006655_iw1, sensor: S1A\n"
     ]
    },
    {
     "name": "stdout",
     "output_type": "stream",
     "text": [
      "BurstID: t004_006655_iw1, sensor: S1B\n"
     ]
    },
    {
     "name": "stdout",
     "output_type": "stream",
     "text": [
      "BurstID: t098_209314_iw3, sensor: S1A\n"
     ]
    },
    {
     "name": "stdout",
     "output_type": "stream",
     "text": [
      "BurstID: t098_209314_iw3, sensor: S1B\n"
     ]
    },
    {
     "name": "stdout",
     "output_type": "stream",
     "text": [
      "BurstID: t137_292385_iw1, sensor: S1A\n"
     ]
    },
    {
     "name": "stdout",
     "output_type": "stream",
     "text": [
      "BurstID: t137_292385_iw1, sensor: S1B\n"
     ]
    },
    {
     "name": "stdout",
     "output_type": "stream",
     "text": [
      "BurstID: t034_071086_iw3, sensor: S1A\n"
     ]
    },
    {
     "name": "stdout",
     "output_type": "stream",
     "text": [
      "BurstID: t034_071086_iw3, sensor: S1B\n"
     ]
    },
    {
     "name": "stdout",
     "output_type": "stream",
     "text": [
      "BurstID: t124_264309_iw1, sensor: S1A\n"
     ]
    },
    {
     "name": "stdout",
     "output_type": "stream",
     "text": [
      "BurstID: t124_264309_iw1, sensor: S1B\n"
     ]
    },
    {
     "name": "stdout",
     "output_type": "stream",
     "text": [
      "BurstID: t124_264313_iw1, sensor: S1A\n"
     ]
    },
    {
     "name": "stdout",
     "output_type": "stream",
     "text": [
      "BurstID: t124_264313_iw1, sensor: S1B\n"
     ]
    },
    {
     "name": "stdout",
     "output_type": "stream",
     "text": [
      "BurstID: t064_135529_iw3, sensor: S1A\n"
     ]
    },
    {
     "name": "stdout",
     "output_type": "stream",
     "text": [
      "BurstID: t064_135529_iw3, sensor: S1B\n"
     ]
    },
    {
     "name": "stdout",
     "output_type": "stream",
     "text": [
      "BurstID: t160_342224_iw1, sensor: S1A\n"
     ]
    },
    {
     "name": "stdout",
     "output_type": "stream",
     "text": [
      "BurstID: t160_342224_iw1, sensor: S1B\n"
     ]
    },
    {
     "name": "stdout",
     "output_type": "stream",
     "text": [
      "BurstID: t087_185683_iw2, sensor: S1A\n"
     ]
    },
    {
     "name": "stdout",
     "output_type": "stream",
     "text": [
      "BurstID: t087_185683_iw2, sensor: S1B\n"
     ]
    },
    {
     "name": "stdout",
     "output_type": "stream",
     "text": [
      "BurstID: t143_305903_iw1, sensor: S1A\n"
     ]
    },
    {
     "name": "stdout",
     "output_type": "stream",
     "text": [
      "BurstID: t143_305903_iw1, sensor: S1B\n"
     ]
    },
    {
     "name": "stdout",
     "output_type": "stream",
     "text": [
      "BurstID: t071_151221_iw3, sensor: S1A\n"
     ]
    },
    {
     "name": "stdout",
     "output_type": "stream",
     "text": [
      "BurstID: t071_151221_iw3, sensor: S1B\n"
     ]
    },
    {
     "name": "stdout",
     "output_type": "stream",
     "text": [
      "BurstID: t137_292383_iw2, sensor: S1A\n"
     ]
    },
    {
     "name": "stdout",
     "output_type": "stream",
     "text": [
      "BurstID: t137_292383_iw2, sensor: S1B\n"
     ]
    },
    {
     "name": "stdout",
     "output_type": "stream",
     "text": [
      "BurstID: t071_151155_iw1, sensor: S1A\n"
     ]
    },
    {
     "name": "stdout",
     "output_type": "stream",
     "text": [
      "BurstID: t071_151155_iw1, sensor: S1B\n",
      "BurstID: t131_279927_iw3, sensor: S1A\n"
     ]
    },
    {
     "name": "stdout",
     "output_type": "stream",
     "text": [
      "BurstID: t131_279927_iw3, sensor: S1B\n"
     ]
    },
    {
     "name": "stdout",
     "output_type": "stream",
     "text": [
      "BurstID: t107_227894_iw1, sensor: S1A\n"
     ]
    },
    {
     "name": "stdout",
     "output_type": "stream",
     "text": [
      "BurstID: t107_227894_iw1, sensor: S1B\n"
     ]
    },
    {
     "name": "stdout",
     "output_type": "stream",
     "text": [
      "BurstID: t064_135530_iw3, sensor: S1A\n"
     ]
    },
    {
     "name": "stdout",
     "output_type": "stream",
     "text": [
      "BurstID: t064_135530_iw3, sensor: S1B\n"
     ]
    },
    {
     "name": "stdout",
     "output_type": "stream",
     "text": [
      "BurstID: t137_292329_iw2, sensor: S1A\n"
     ]
    },
    {
     "name": "stdout",
     "output_type": "stream",
     "text": [
      "BurstID: t137_292329_iw2, sensor: S1B\n"
     ]
    },
    {
     "name": "stdout",
     "output_type": "stream",
     "text": [
      "BurstID: t064_135522_iw2, sensor: S1A\n"
     ]
    },
    {
     "name": "stdout",
     "output_type": "stream",
     "text": [
      "BurstID: t064_135522_iw2, sensor: S1B\n"
     ]
    },
    {
     "name": "stdout",
     "output_type": "stream",
     "text": [
      "BurstID: t124_264522_iw2, sensor: S1A\n"
     ]
    },
    {
     "name": "stdout",
     "output_type": "stream",
     "text": [
      "BurstID: t124_264522_iw2, sensor: S1B\n"
     ]
    },
    {
     "name": "stdout",
     "output_type": "stream",
     "text": [
      "BurstID: t034_071050_iw2, sensor: S1A\n"
     ]
    },
    {
     "name": "stdout",
     "output_type": "stream",
     "text": [
      "BurstID: t034_071050_iw2, sensor: S1B\n"
     ]
    },
    {
     "name": "stdout",
     "output_type": "stream",
     "text": [
      "BurstID: t004_006648_iw2, sensor: S1A\n"
     ]
    },
    {
     "name": "stdout",
     "output_type": "stream",
     "text": [
      "BurstID: t004_006648_iw2, sensor: S1B\n"
     ]
    },
    {
     "name": "stdout",
     "output_type": "stream",
     "text": [
      "BurstID: t056_118985_iw2, sensor: S1A\n"
     ]
    },
    {
     "name": "stdout",
     "output_type": "stream",
     "text": [
      "BurstID: t056_118985_iw2, sensor: S1B\n"
     ]
    },
    {
     "name": "stdout",
     "output_type": "stream",
     "text": [
      "BurstID: t087_185685_iw3, sensor: S1A\n"
     ]
    },
    {
     "name": "stdout",
     "output_type": "stream",
     "text": [
      "BurstID: t087_185685_iw3, sensor: S1B\n"
     ]
    },
    {
     "name": "stdout",
     "output_type": "stream",
     "text": [
      "BurstID: t004_006657_iw1, sensor: S1A\n"
     ]
    },
    {
     "name": "stdout",
     "output_type": "stream",
     "text": [
      "BurstID: t004_006657_iw1, sensor: S1B\n"
     ]
    },
    {
     "name": "stdout",
     "output_type": "stream",
     "text": [
      "BurstID: t106_225755_iw3, sensor: S1A\n"
     ]
    },
    {
     "name": "stdout",
     "output_type": "stream",
     "text": [
      "BurstID: t106_225755_iw3, sensor: S1B\n"
     ]
    },
    {
     "name": "stdout",
     "output_type": "stream",
     "text": [
      "BurstID: t107_227883_iw1, sensor: S1A\n"
     ]
    },
    {
     "name": "stdout",
     "output_type": "stream",
     "text": [
      "BurstID: t107_227883_iw1, sensor: S1B\n"
     ]
    },
    {
     "name": "stdout",
     "output_type": "stream",
     "text": [
      "BurstID: t131_279925_iw1, sensor: S1A\n"
     ]
    },
    {
     "name": "stdout",
     "output_type": "stream",
     "text": [
      "BurstID: t131_279925_iw1, sensor: S1B\n"
     ]
    },
    {
     "name": "stdout",
     "output_type": "stream",
     "text": [
      "BurstID: t131_279912_iw3, sensor: S1A\n"
     ]
    },
    {
     "name": "stdout",
     "output_type": "stream",
     "text": [
      "BurstID: t131_279912_iw3, sensor: S1B\n"
     ]
    },
    {
     "name": "stdout",
     "output_type": "stream",
     "text": [
      "BurstID: t065_137839_iw2, sensor: S1A\n"
     ]
    },
    {
     "name": "stdout",
     "output_type": "stream",
     "text": [
      "BurstID: t065_137839_iw2, sensor: S1B\n"
     ]
    },
    {
     "name": "stdout",
     "output_type": "stream",
     "text": [
      "BurstID: t124_264300_iw3, sensor: S1A\n"
     ]
    },
    {
     "name": "stdout",
     "output_type": "stream",
     "text": [
      "BurstID: t124_264300_iw3, sensor: S1B\n"
     ]
    },
    {
     "name": "stdout",
     "output_type": "stream",
     "text": [
      "BurstID: t124_264300_iw1, sensor: S1A\n"
     ]
    },
    {
     "name": "stdout",
     "output_type": "stream",
     "text": [
      "BurstID: t124_264300_iw1, sensor: S1B\n"
     ]
    },
    {
     "name": "stdout",
     "output_type": "stream",
     "text": [
      "BurstID: t135_287922_iw3, sensor: S1A\n"
     ]
    },
    {
     "name": "stdout",
     "output_type": "stream",
     "text": [
      "BurstID: t135_287922_iw3, sensor: S1B\n"
     ]
    },
    {
     "name": "stdout",
     "output_type": "stream",
     "text": [
      "BurstID: t135_287923_iw1, sensor: S1A\n"
     ]
    },
    {
     "name": "stdout",
     "output_type": "stream",
     "text": [
      "BurstID: t135_287923_iw1, sensor: S1B\n"
     ]
    },
    {
     "name": "stdout",
     "output_type": "stream",
     "text": [
      "BurstID: t034_071053_iw1, sensor: S1A\n"
     ]
    },
    {
     "name": "stdout",
     "output_type": "stream",
     "text": [
      "BurstID: t034_071053_iw1, sensor: S1B\n"
     ]
    },
    {
     "name": "stdout",
     "output_type": "stream",
     "text": [
      "BurstID: t137_292324_iw2, sensor: S1A\n"
     ]
    },
    {
     "name": "stdout",
     "output_type": "stream",
     "text": [
      "BurstID: t137_292324_iw2, sensor: S1B\n"
     ]
    },
    {
     "name": "stdout",
     "output_type": "stream",
     "text": [
      "BurstID: t124_264517_iw1, sensor: S1A\n"
     ]
    },
    {
     "name": "stdout",
     "output_type": "stream",
     "text": [
      "BurstID: t124_264517_iw1, sensor: S1B\n"
     ]
    },
    {
     "name": "stdout",
     "output_type": "stream",
     "text": [
      "BurstID: t144_308015_iw1, sensor: S1A\n"
     ]
    },
    {
     "name": "stdout",
     "output_type": "stream",
     "text": [
      "BurstID: t144_308015_iw1, sensor: S1B\n"
     ]
    },
    {
     "name": "stdout",
     "output_type": "stream",
     "text": [
      "BurstID: t137_292390_iw1, sensor: S1A\n"
     ]
    },
    {
     "name": "stdout",
     "output_type": "stream",
     "text": [
      "BurstID: t137_292390_iw1, sensor: S1B\n"
     ]
    },
    {
     "name": "stdout",
     "output_type": "stream",
     "text": [
      "BurstID: t056_118992_iw1, sensor: S1A\n"
     ]
    },
    {
     "name": "stdout",
     "output_type": "stream",
     "text": [
      "BurstID: t056_118992_iw1, sensor: S1B\n"
     ]
    },
    {
     "name": "stdout",
     "output_type": "stream",
     "text": [
      "BurstID: t056_118982_iw1, sensor: S1A\n"
     ]
    },
    {
     "name": "stdout",
     "output_type": "stream",
     "text": [
      "BurstID: t056_118982_iw1, sensor: S1B\n"
     ]
    },
    {
     "name": "stdout",
     "output_type": "stream",
     "text": [
      "BurstID: t131_279920_iw2, sensor: S1A\n"
     ]
    },
    {
     "name": "stdout",
     "output_type": "stream",
     "text": [
      "BurstID: t131_279920_iw2, sensor: S1B\n"
     ]
    },
    {
     "name": "stdout",
     "output_type": "stream",
     "text": [
      "BurstID: t065_137841_iw2, sensor: S1A\n"
     ]
    },
    {
     "name": "stdout",
     "output_type": "stream",
     "text": [
      "BurstID: t065_137841_iw2, sensor: S1B\n"
     ]
    },
    {
     "name": "stdout",
     "output_type": "stream",
     "text": [
      "BurstID: t071_151161_iw3, sensor: S1A\n"
     ]
    },
    {
     "name": "stdout",
     "output_type": "stream",
     "text": [
      "BurstID: t071_151161_iw3, sensor: S1B\n"
     ]
    },
    {
     "name": "stdout",
     "output_type": "stream",
     "text": [
      "BurstID: t151_322401_iw3, sensor: S1A\n"
     ]
    },
    {
     "name": "stdout",
     "output_type": "stream",
     "text": [
      "BurstID: t151_322401_iw3, sensor: S1B\n"
     ]
    },
    {
     "name": "stdout",
     "output_type": "stream",
     "text": [
      "BurstID: t107_227889_iw1, sensor: S1A\n"
     ]
    },
    {
     "name": "stdout",
     "output_type": "stream",
     "text": [
      "BurstID: t107_227889_iw1, sensor: S1B\n"
     ]
    },
    {
     "name": "stdout",
     "output_type": "stream",
     "text": [
      "BurstID: t087_185689_iw2, sensor: S1A\n"
     ]
    },
    {
     "name": "stdout",
     "output_type": "stream",
     "text": [
      "BurstID: t087_185689_iw2, sensor: S1B\n"
     ]
    },
    {
     "name": "stdout",
     "output_type": "stream",
     "text": [
      "BurstID: t135_287924_iw3, sensor: S1A\n"
     ]
    },
    {
     "name": "stdout",
     "output_type": "stream",
     "text": [
      "BurstID: t135_287924_iw3, sensor: S1B\n"
     ]
    },
    {
     "name": "stdout",
     "output_type": "stream",
     "text": [
      "BurstID: t064_135516_iw2, sensor: S1A\n"
     ]
    },
    {
     "name": "stdout",
     "output_type": "stream",
     "text": [
      "BurstID: t064_135516_iw2, sensor: S1B\n"
     ]
    },
    {
     "name": "stdout",
     "output_type": "stream",
     "text": [
      "BurstID: t056_119006_iw2, sensor: S1A\n"
     ]
    },
    {
     "name": "stdout",
     "output_type": "stream",
     "text": [
      "BurstID: t056_119006_iw2, sensor: S1B\n",
      "BurstID: t034_071094_iw3, sensor: S1A\n"
     ]
    },
    {
     "name": "stdout",
     "output_type": "stream",
     "text": [
      "BurstID: t034_071094_iw3, sensor: S1B\n"
     ]
    },
    {
     "name": "stdout",
     "output_type": "stream",
     "text": [
      "BurstID: t124_264516_iw1, sensor: S1A\n"
     ]
    },
    {
     "name": "stdout",
     "output_type": "stream",
     "text": [
      "BurstID: t124_264516_iw1, sensor: S1B\n"
     ]
    },
    {
     "name": "stdout",
     "output_type": "stream",
     "text": [
      "BurstID: t151_322402_iw2, sensor: S1A\n"
     ]
    },
    {
     "name": "stdout",
     "output_type": "stream",
     "text": [
      "BurstID: t151_322402_iw2, sensor: S1B\n"
     ]
    },
    {
     "name": "stdout",
     "output_type": "stream",
     "text": [
      "BurstID: t087_185678_iw2, sensor: S1A\n"
     ]
    },
    {
     "name": "stdout",
     "output_type": "stream",
     "text": [
      "BurstID: t087_185678_iw2, sensor: S1B\n"
     ]
    },
    {
     "name": "stdout",
     "output_type": "stream",
     "text": [
      "BurstID: t135_287933_iw3, sensor: S1A\n"
     ]
    },
    {
     "name": "stdout",
     "output_type": "stream",
     "text": [
      "BurstID: t135_287933_iw3, sensor: S1B\n"
     ]
    },
    {
     "name": "stdout",
     "output_type": "stream",
     "text": [
      "BurstID: t056_118998_iw1, sensor: S1A\n"
     ]
    },
    {
     "name": "stdout",
     "output_type": "stream",
     "text": [
      "BurstID: t056_118998_iw1, sensor: S1B\n"
     ]
    },
    {
     "name": "stdout",
     "output_type": "stream",
     "text": [
      "BurstID: t131_279915_iw2, sensor: S1A\n"
     ]
    },
    {
     "name": "stdout",
     "output_type": "stream",
     "text": [
      "BurstID: t131_279915_iw2, sensor: S1B\n"
     ]
    },
    {
     "name": "stdout",
     "output_type": "stream",
     "text": [
      "BurstID: t034_071093_iw2, sensor: S1A\n"
     ]
    },
    {
     "name": "stdout",
     "output_type": "stream",
     "text": [
      "BurstID: t034_071093_iw2, sensor: S1B\n"
     ]
    },
    {
     "name": "stdout",
     "output_type": "stream",
     "text": [
      "BurstID: t160_342225_iw3, sensor: S1A\n"
     ]
    },
    {
     "name": "stdout",
     "output_type": "stream",
     "text": [
      "BurstID: t160_342225_iw3, sensor: S1B\n"
     ]
    },
    {
     "name": "stdout",
     "output_type": "stream",
     "text": [
      "BurstID: t034_071054_iw3, sensor: S1A\n"
     ]
    },
    {
     "name": "stdout",
     "output_type": "stream",
     "text": [
      "BurstID: t034_071054_iw3, sensor: S1B\n"
     ]
    },
    {
     "name": "stdout",
     "output_type": "stream",
     "text": [
      "BurstID: t137_292329_iw1, sensor: S1A\n"
     ]
    },
    {
     "name": "stdout",
     "output_type": "stream",
     "text": [
      "BurstID: t137_292329_iw1, sensor: S1B\n"
     ]
    },
    {
     "name": "stdout",
     "output_type": "stream",
     "text": [
      "BurstID: t144_308020_iw2, sensor: S1A\n"
     ]
    },
    {
     "name": "stdout",
     "output_type": "stream",
     "text": [
      "BurstID: t144_308020_iw2, sensor: S1B\n"
     ]
    },
    {
     "name": "stdout",
     "output_type": "stream",
     "text": [
      "BurstID: t071_151224_iw2, sensor: S1A\n"
     ]
    },
    {
     "name": "stdout",
     "output_type": "stream",
     "text": [
      "BurstID: t071_151224_iw2, sensor: S1B\n"
     ]
    },
    {
     "name": "stdout",
     "output_type": "stream",
     "text": [
      "BurstID: t098_209314_iw1, sensor: S1A\n"
     ]
    },
    {
     "name": "stdout",
     "output_type": "stream",
     "text": [
      "BurstID: t098_209314_iw1, sensor: S1B\n"
     ]
    },
    {
     "name": "stdout",
     "output_type": "stream",
     "text": [
      "BurstID: t135_287934_iw1, sensor: S1A\n"
     ]
    },
    {
     "name": "stdout",
     "output_type": "stream",
     "text": [
      "BurstID: t135_287934_iw1, sensor: S1B\n"
     ]
    },
    {
     "name": "stdout",
     "output_type": "stream",
     "text": [
      "BurstID: t064_135526_iw1, sensor: S1A\n"
     ]
    },
    {
     "name": "stdout",
     "output_type": "stream",
     "text": [
      "BurstID: t064_135526_iw1, sensor: S1B\n"
     ]
    },
    {
     "name": "stdout",
     "output_type": "stream",
     "text": [
      "BurstID: t034_071083_iw1, sensor: S1A\n"
     ]
    },
    {
     "name": "stdout",
     "output_type": "stream",
     "text": [
      "BurstID: t034_071083_iw1, sensor: S1B\n"
     ]
    },
    {
     "name": "stdout",
     "output_type": "stream",
     "text": [
      "BurstID: t124_264303_iw3, sensor: S1A\n"
     ]
    },
    {
     "name": "stdout",
     "output_type": "stream",
     "text": [
      "BurstID: t124_264303_iw3, sensor: S1B\n"
     ]
    },
    {
     "name": "stdout",
     "output_type": "stream",
     "text": [
      "BurstID: t034_071095_iw2, sensor: S1A\n"
     ]
    },
    {
     "name": "stdout",
     "output_type": "stream",
     "text": [
      "BurstID: t034_071095_iw2, sensor: S1B\n"
     ]
    },
    {
     "name": "stdout",
     "output_type": "stream",
     "text": [
      "BurstID: t115_245668_iw1, sensor: S1A\n"
     ]
    },
    {
     "name": "stdout",
     "output_type": "stream",
     "text": [
      "BurstID: t115_245668_iw1, sensor: S1B\n"
     ]
    },
    {
     "name": "stdout",
     "output_type": "stream",
     "text": [
      "BurstID: t137_292332_iw1, sensor: S1A\n"
     ]
    },
    {
     "name": "stdout",
     "output_type": "stream",
     "text": [
      "BurstID: t137_292332_iw1, sensor: S1B\n"
     ]
    },
    {
     "name": "stdout",
     "output_type": "stream",
     "text": [
      "BurstID: t071_151231_iw1, sensor: S1A\n"
     ]
    },
    {
     "name": "stdout",
     "output_type": "stream",
     "text": [
      "BurstID: t071_151231_iw1, sensor: S1B\n"
     ]
    },
    {
     "name": "stdout",
     "output_type": "stream",
     "text": [
      "BurstID: t135_287932_iw2, sensor: S1A\n"
     ]
    },
    {
     "name": "stdout",
     "output_type": "stream",
     "text": [
      "BurstID: t135_287932_iw2, sensor: S1B\n"
     ]
    },
    {
     "name": "stdout",
     "output_type": "stream",
     "text": [
      "BurstID: t071_151175_iw3, sensor: S1A\n"
     ]
    },
    {
     "name": "stdout",
     "output_type": "stream",
     "text": [
      "BurstID: t071_151175_iw3, sensor: S1B\n"
     ]
    },
    {
     "name": "stdout",
     "output_type": "stream",
     "text": [
      "BurstID: t056_118986_iw1, sensor: S1A\n"
     ]
    },
    {
     "name": "stdout",
     "output_type": "stream",
     "text": [
      "BurstID: t056_118986_iw1, sensor: S1B\n"
     ]
    },
    {
     "name": "stdout",
     "output_type": "stream",
     "text": [
      "BurstID: t034_071095_iw1, sensor: S1A\n"
     ]
    },
    {
     "name": "stdout",
     "output_type": "stream",
     "text": [
      "BurstID: t034_071095_iw1, sensor: S1B\n"
     ]
    },
    {
     "name": "stdout",
     "output_type": "stream",
     "text": [
      "BurstID: t131_279927_iw1, sensor: S1A\n"
     ]
    },
    {
     "name": "stdout",
     "output_type": "stream",
     "text": [
      "BurstID: t131_279927_iw1, sensor: S1B\n"
     ]
    },
    {
     "name": "stdout",
     "output_type": "stream",
     "text": [
      "BurstID: t131_279919_iw2, sensor: S1A\n"
     ]
    },
    {
     "name": "stdout",
     "output_type": "stream",
     "text": [
      "BurstID: t131_279919_iw2, sensor: S1B\n"
     ]
    },
    {
     "name": "stdout",
     "output_type": "stream",
     "text": [
      "BurstID: t160_342225_iw1, sensor: S1A\n"
     ]
    },
    {
     "name": "stdout",
     "output_type": "stream",
     "text": [
      "BurstID: t160_342225_iw1, sensor: S1B\n"
     ]
    },
    {
     "name": "stdout",
     "output_type": "stream",
     "text": [
      "BurstID: t107_227884_iw1, sensor: S1A\n"
     ]
    },
    {
     "name": "stdout",
     "output_type": "stream",
     "text": [
      "BurstID: t107_227884_iw1, sensor: S1B\n"
     ]
    },
    {
     "name": "stdout",
     "output_type": "stream",
     "text": [
      "BurstID: t107_227882_iw2, sensor: S1A\n"
     ]
    },
    {
     "name": "stdout",
     "output_type": "stream",
     "text": [
      "BurstID: t107_227882_iw2, sensor: S1B\n"
     ]
    },
    {
     "name": "stdout",
     "output_type": "stream",
     "text": [
      "BurstID: t143_305903_iw3, sensor: S1A\n"
     ]
    },
    {
     "name": "stdout",
     "output_type": "stream",
     "text": [
      "BurstID: t143_305903_iw3, sensor: S1B\n"
     ]
    },
    {
     "name": "stdout",
     "output_type": "stream",
     "text": [
      "BurstID: t044_093109_iw1, sensor: S1A\n"
     ]
    },
    {
     "name": "stdout",
     "output_type": "stream",
     "text": [
      "BurstID: t044_093109_iw1, sensor: S1B\n"
     ]
    },
    {
     "name": "stdout",
     "output_type": "stream",
     "text": [
      "BurstID: t151_322413_iw3, sensor: S1A\n"
     ]
    },
    {
     "name": "stdout",
     "output_type": "stream",
     "text": [
      "BurstID: t151_322413_iw3, sensor: S1B\n"
     ]
    },
    {
     "name": "stdout",
     "output_type": "stream",
     "text": [
      "BurstID: t160_342206_iw3, sensor: S1A\n"
     ]
    },
    {
     "name": "stdout",
     "output_type": "stream",
     "text": [
      "BurstID: t160_342206_iw3, sensor: S1B\n"
     ]
    },
    {
     "name": "stdout",
     "output_type": "stream",
     "text": [
      "BurstID: t056_118990_iw2, sensor: S1A\n"
     ]
    },
    {
     "name": "stdout",
     "output_type": "stream",
     "text": [
      "BurstID: t056_118990_iw2, sensor: S1B\n"
     ]
    },
    {
     "name": "stdout",
     "output_type": "stream",
     "text": [
      "BurstID: t034_071085_iw3, sensor: S1A\n"
     ]
    },
    {
     "name": "stdout",
     "output_type": "stream",
     "text": [
      "BurstID: t034_071085_iw3, sensor: S1B\n"
     ]
    },
    {
     "name": "stdout",
     "output_type": "stream",
     "text": [
      "BurstID: t004_006655_iw2, sensor: S1A\n"
     ]
    },
    {
     "name": "stdout",
     "output_type": "stream",
     "text": [
      "BurstID: t004_006655_iw2, sensor: S1B\n"
     ]
    },
    {
     "name": "stdout",
     "output_type": "stream",
     "text": [
      "BurstID: t143_305899_iw1, sensor: S1A\n"
     ]
    },
    {
     "name": "stdout",
     "output_type": "stream",
     "text": [
      "BurstID: t143_305899_iw1, sensor: S1B\n"
     ]
    },
    {
     "name": "stdout",
     "output_type": "stream",
     "text": [
      "BurstID: t034_071087_iw1, sensor: S1A\n"
     ]
    },
    {
     "name": "stdout",
     "output_type": "stream",
     "text": [
      "BurstID: t034_071087_iw1, sensor: S1B\n"
     ]
    },
    {
     "name": "stdout",
     "output_type": "stream",
     "text": [
      "BurstID: t034_071052_iw1, sensor: S1A\n"
     ]
    },
    {
     "name": "stdout",
     "output_type": "stream",
     "text": [
      "BurstID: t034_071052_iw1, sensor: S1B\n"
     ]
    },
    {
     "name": "stdout",
     "output_type": "stream",
     "text": [
      "BurstID: t087_185686_iw3, sensor: S1A\n"
     ]
    },
    {
     "name": "stdout",
     "output_type": "stream",
     "text": [
      "BurstID: t087_185686_iw3, sensor: S1B\n"
     ]
    },
    {
     "name": "stdout",
     "output_type": "stream",
     "text": [
      "BurstID: t064_135511_iw2, sensor: S1A\n"
     ]
    },
    {
     "name": "stdout",
     "output_type": "stream",
     "text": [
      "BurstID: t064_135511_iw2, sensor: S1B\n"
     ]
    },
    {
     "name": "stdout",
     "output_type": "stream",
     "text": [
      "BurstID: t107_227881_iw1, sensor: S1A\n"
     ]
    },
    {
     "name": "stdout",
     "output_type": "stream",
     "text": [
      "BurstID: t107_227881_iw1, sensor: S1B\n"
     ]
    },
    {
     "name": "stdout",
     "output_type": "stream",
     "text": [
      "BurstID: t098_209316_iw3, sensor: S1A\n"
     ]
    },
    {
     "name": "stdout",
     "output_type": "stream",
     "text": [
      "BurstID: t098_209316_iw3, sensor: S1B\n"
     ]
    },
    {
     "name": "stdout",
     "output_type": "stream",
     "text": [
      "BurstID: t098_209321_iw1, sensor: S1A\n"
     ]
    },
    {
     "name": "stdout",
     "output_type": "stream",
     "text": [
      "BurstID: t098_209321_iw1, sensor: S1B\n"
     ]
    },
    {
     "name": "stdout",
     "output_type": "stream",
     "text": [
      "BurstID: t004_006658_iw1, sensor: S1A\n"
     ]
    },
    {
     "name": "stdout",
     "output_type": "stream",
     "text": [
      "BurstID: t004_006658_iw1, sensor: S1B\n"
     ]
    },
    {
     "name": "stdout",
     "output_type": "stream",
     "text": [
      "BurstID: t131_279919_iw1, sensor: S1A\n"
     ]
    },
    {
     "name": "stdout",
     "output_type": "stream",
     "text": [
      "BurstID: t131_279919_iw1, sensor: S1B\n"
     ]
    },
    {
     "name": "stdout",
     "output_type": "stream",
     "text": [
      "BurstID: t071_151160_iw2, sensor: S1A\n"
     ]
    },
    {
     "name": "stdout",
     "output_type": "stream",
     "text": [
      "BurstID: t071_151160_iw2, sensor: S1B\n",
      "BurstID: t071_151220_iw2, sensor: S1A\n"
     ]
    },
    {
     "name": "stdout",
     "output_type": "stream",
     "text": [
      "BurstID: t071_151220_iw2, sensor: S1B\n"
     ]
    },
    {
     "name": "stdout",
     "output_type": "stream",
     "text": [
      "BurstID: t137_292381_iw1, sensor: S1A\n"
     ]
    },
    {
     "name": "stdout",
     "output_type": "stream",
     "text": [
      "BurstID: t137_292381_iw1, sensor: S1B\n"
     ]
    },
    {
     "name": "stdout",
     "output_type": "stream",
     "text": [
      "BurstID: t004_006645_iw3, sensor: S1A\n"
     ]
    },
    {
     "name": "stdout",
     "output_type": "stream",
     "text": [
      "BurstID: t004_006645_iw3, sensor: S1B\n"
     ]
    },
    {
     "name": "stdout",
     "output_type": "stream",
     "text": [
      "BurstID: t034_071060_iw2, sensor: S1A\n"
     ]
    },
    {
     "name": "stdout",
     "output_type": "stream",
     "text": [
      "BurstID: t034_071060_iw2, sensor: S1B\n"
     ]
    },
    {
     "name": "stdout",
     "output_type": "stream",
     "text": [
      "BurstID: t087_185682_iw3, sensor: S1A\n"
     ]
    },
    {
     "name": "stdout",
     "output_type": "stream",
     "text": [
      "BurstID: t087_185682_iw3, sensor: S1B\n"
     ]
    },
    {
     "name": "stdout",
     "output_type": "stream",
     "text": [
      "BurstID: t144_308017_iw2, sensor: S1A\n"
     ]
    },
    {
     "name": "stdout",
     "output_type": "stream",
     "text": [
      "BurstID: t144_308017_iw2, sensor: S1B\n"
     ]
    },
    {
     "name": "stdout",
     "output_type": "stream",
     "text": [
      "BurstID: t151_322391_iw1, sensor: S1A\n"
     ]
    },
    {
     "name": "stdout",
     "output_type": "stream",
     "text": [
      "BurstID: t151_322391_iw1, sensor: S1B\n",
      "BurstID: t071_151169_iw3, sensor: S1A\n"
     ]
    },
    {
     "name": "stdout",
     "output_type": "stream",
     "text": [
      "BurstID: t071_151169_iw3, sensor: S1B\n"
     ]
    },
    {
     "name": "stdout",
     "output_type": "stream",
     "text": [
      "BurstID: t071_151157_iw2, sensor: S1A\n"
     ]
    },
    {
     "name": "stdout",
     "output_type": "stream",
     "text": [
      "BurstID: t071_151157_iw2, sensor: S1B\n",
      "BurstID: t004_006649_iw1, sensor: S1A\n"
     ]
    },
    {
     "name": "stdout",
     "output_type": "stream",
     "text": [
      "BurstID: t004_006649_iw1, sensor: S1B\n"
     ]
    },
    {
     "name": "stdout",
     "output_type": "stream",
     "text": [
      "BurstID: t064_135509_iw1, sensor: S1A\n"
     ]
    },
    {
     "name": "stdout",
     "output_type": "stream",
     "text": [
      "BurstID: t064_135509_iw1, sensor: S1B\n"
     ]
    },
    {
     "name": "stdout",
     "output_type": "stream",
     "text": [
      "BurstID: t151_322396_iw3, sensor: S1A\n"
     ]
    },
    {
     "name": "stdout",
     "output_type": "stream",
     "text": [
      "BurstID: t151_322396_iw3, sensor: S1B\n"
     ]
    },
    {
     "name": "stdout",
     "output_type": "stream",
     "text": [
      "BurstID: t137_292384_iw1, sensor: S1A\n"
     ]
    },
    {
     "name": "stdout",
     "output_type": "stream",
     "text": [
      "BurstID: t137_292384_iw1, sensor: S1B\n"
     ]
    },
    {
     "name": "stdout",
     "output_type": "stream",
     "text": [
      "BurstID: t065_137841_iw3, sensor: S1A\n"
     ]
    },
    {
     "name": "stdout",
     "output_type": "stream",
     "text": [
      "BurstID: t065_137841_iw3, sensor: S1B\n"
     ]
    },
    {
     "name": "stdout",
     "output_type": "stream",
     "text": [
      "BurstID: t106_225744_iw1, sensor: S1A\n"
     ]
    },
    {
     "name": "stdout",
     "output_type": "stream",
     "text": [
      "BurstID: t106_225744_iw1, sensor: S1B\n"
     ]
    },
    {
     "name": "stdout",
     "output_type": "stream",
     "text": [
      "BurstID: t151_322403_iw3, sensor: S1A\n"
     ]
    },
    {
     "name": "stdout",
     "output_type": "stream",
     "text": [
      "BurstID: t151_322403_iw3, sensor: S1B\n"
     ]
    },
    {
     "name": "stdout",
     "output_type": "stream",
     "text": [
      "BurstID: t004_006645_iw2, sensor: S1A\n"
     ]
    },
    {
     "name": "stdout",
     "output_type": "stream",
     "text": [
      "BurstID: t004_006645_iw2, sensor: S1B\n"
     ]
    },
    {
     "name": "stdout",
     "output_type": "stream",
     "text": [
      "BurstID: t131_279922_iw3, sensor: S1A\n"
     ]
    },
    {
     "name": "stdout",
     "output_type": "stream",
     "text": [
      "BurstID: t131_279922_iw3, sensor: S1B\n"
     ]
    },
    {
     "name": "stdout",
     "output_type": "stream",
     "text": [
      "BurstID: t151_322411_iw3, sensor: S1A\n"
     ]
    },
    {
     "name": "stdout",
     "output_type": "stream",
     "text": [
      "BurstID: t151_322411_iw3, sensor: S1B\n"
     ]
    },
    {
     "name": "stdout",
     "output_type": "stream",
     "text": [
      "BurstID: t071_151224_iw3, sensor: S1A\n"
     ]
    },
    {
     "name": "stdout",
     "output_type": "stream",
     "text": [
      "BurstID: t071_151224_iw3, sensor: S1B\n"
     ]
    },
    {
     "name": "stdout",
     "output_type": "stream",
     "text": [
      "BurstID: t131_279915_iw1, sensor: S1A\n"
     ]
    },
    {
     "name": "stdout",
     "output_type": "stream",
     "text": [
      "BurstID: t131_279915_iw1, sensor: S1B\n"
     ]
    },
    {
     "name": "stdout",
     "output_type": "stream",
     "text": [
      "BurstID: t042_088920_iw1, sensor: S1A\n"
     ]
    },
    {
     "name": "stdout",
     "output_type": "stream",
     "text": [
      "BurstID: t042_088920_iw1, sensor: S1B\n"
     ]
    },
    {
     "name": "stdout",
     "output_type": "stream",
     "text": [
      "BurstID: t160_342211_iw3, sensor: S1A\n"
     ]
    },
    {
     "name": "stdout",
     "output_type": "stream",
     "text": [
      "BurstID: t160_342211_iw3, sensor: S1B\n"
     ]
    },
    {
     "name": "stdout",
     "output_type": "stream",
     "text": [
      "BurstID: t094_200141_iw1, sensor: S1A\n"
     ]
    },
    {
     "name": "stdout",
     "output_type": "stream",
     "text": [
      "BurstID: t094_200141_iw1, sensor: S1B\n"
     ]
    },
    {
     "name": "stdout",
     "output_type": "stream",
     "text": [
      "BurstID: t004_006649_iw3, sensor: S1A\n"
     ]
    },
    {
     "name": "stdout",
     "output_type": "stream",
     "text": [
      "BurstID: t004_006649_iw3, sensor: S1B\n"
     ]
    },
    {
     "name": "stdout",
     "output_type": "stream",
     "text": [
      "BurstID: t094_200139_iw2, sensor: S1A\n"
     ]
    },
    {
     "name": "stdout",
     "output_type": "stream",
     "text": [
      "BurstID: t094_200139_iw2, sensor: S1B\n"
     ]
    },
    {
     "name": "stdout",
     "output_type": "stream",
     "text": [
      "BurstID: t106_225755_iw2, sensor: S1A\n"
     ]
    },
    {
     "name": "stdout",
     "output_type": "stream",
     "text": [
      "BurstID: t106_225755_iw2, sensor: S1B\n"
     ]
    },
    {
     "name": "stdout",
     "output_type": "stream",
     "text": [
      "BurstID: t056_118996_iw2, sensor: S1A\n"
     ]
    },
    {
     "name": "stdout",
     "output_type": "stream",
     "text": [
      "BurstID: t056_118996_iw2, sensor: S1B\n"
     ]
    },
    {
     "name": "stdout",
     "output_type": "stream",
     "text": [
      "BurstID: t071_151162_iw1, sensor: S1A\n"
     ]
    },
    {
     "name": "stdout",
     "output_type": "stream",
     "text": [
      "BurstID: t071_151162_iw1, sensor: S1B\n"
     ]
    },
    {
     "name": "stdout",
     "output_type": "stream",
     "text": [
      "BurstID: t071_151172_iw3, sensor: S1A\n"
     ]
    },
    {
     "name": "stdout",
     "output_type": "stream",
     "text": [
      "BurstID: t071_151172_iw3, sensor: S1B\n"
     ]
    },
    {
     "name": "stdout",
     "output_type": "stream",
     "text": [
      "BurstID: t064_135514_iw2, sensor: S1A\n"
     ]
    },
    {
     "name": "stdout",
     "output_type": "stream",
     "text": [
      "BurstID: t064_135514_iw2, sensor: S1B\n"
     ]
    },
    {
     "name": "stdout",
     "output_type": "stream",
     "text": [
      "BurstID: t107_227879_iw1, sensor: S1A\n"
     ]
    },
    {
     "name": "stdout",
     "output_type": "stream",
     "text": [
      "BurstID: t107_227879_iw1, sensor: S1B\n"
     ]
    },
    {
     "name": "stdout",
     "output_type": "stream",
     "text": [
      "BurstID: t124_264519_iw1, sensor: S1A\n"
     ]
    },
    {
     "name": "stdout",
     "output_type": "stream",
     "text": [
      "BurstID: t124_264519_iw1, sensor: S1B\n"
     ]
    },
    {
     "name": "stdout",
     "output_type": "stream",
     "text": [
      "BurstID: t160_342212_iw1, sensor: S1A\n"
     ]
    },
    {
     "name": "stdout",
     "output_type": "stream",
     "text": [
      "BurstID: t160_342212_iw1, sensor: S1B\n"
     ]
    },
    {
     "name": "stdout",
     "output_type": "stream",
     "text": [
      "BurstID: t034_071082_iw2, sensor: S1A\n"
     ]
    },
    {
     "name": "stdout",
     "output_type": "stream",
     "text": [
      "BurstID: t034_071082_iw2, sensor: S1B\n"
     ]
    },
    {
     "name": "stdout",
     "output_type": "stream",
     "text": [
      "BurstID: t124_264524_iw1, sensor: S1A\n"
     ]
    },
    {
     "name": "stdout",
     "output_type": "stream",
     "text": [
      "BurstID: t124_264524_iw1, sensor: S1B\n"
     ]
    },
    {
     "name": "stdout",
     "output_type": "stream",
     "text": [
      "BurstID: t151_322390_iw3, sensor: S1A\n"
     ]
    },
    {
     "name": "stdout",
     "output_type": "stream",
     "text": [
      "BurstID: t151_322390_iw3, sensor: S1B\n",
      "BurstID: t124_264299_iw3, sensor: S1A\n"
     ]
    },
    {
     "name": "stdout",
     "output_type": "stream",
     "text": [
      "BurstID: t124_264299_iw3, sensor: S1B\n"
     ]
    },
    {
     "name": "stdout",
     "output_type": "stream",
     "text": [
      "BurstID: t131_279918_iw2, sensor: S1A\n"
     ]
    },
    {
     "name": "stdout",
     "output_type": "stream",
     "text": [
      "BurstID: t131_279918_iw2, sensor: S1B\n"
     ]
    },
    {
     "name": "stdout",
     "output_type": "stream",
     "text": [
      "BurstID: t135_287932_iw3, sensor: S1A\n"
     ]
    },
    {
     "name": "stdout",
     "output_type": "stream",
     "text": [
      "BurstID: t135_287932_iw3, sensor: S1B\n"
     ]
    },
    {
     "name": "stdout",
     "output_type": "stream",
     "text": [
      "BurstID: t094_200144_iw3, sensor: S1A\n"
     ]
    },
    {
     "name": "stdout",
     "output_type": "stream",
     "text": [
      "BurstID: t094_200144_iw3, sensor: S1B\n"
     ]
    },
    {
     "name": "stdout",
     "output_type": "stream",
     "text": [
      "BurstID: t094_200135_iw2, sensor: S1A\n"
     ]
    },
    {
     "name": "stdout",
     "output_type": "stream",
     "text": [
      "BurstID: t094_200135_iw2, sensor: S1B\n"
     ]
    },
    {
     "name": "stdout",
     "output_type": "stream",
     "text": [
      "BurstID: t143_305904_iw2, sensor: S1A\n"
     ]
    },
    {
     "name": "stdout",
     "output_type": "stream",
     "text": [
      "BurstID: t143_305904_iw2, sensor: S1B\n"
     ]
    },
    {
     "name": "stdout",
     "output_type": "stream",
     "text": [
      "BurstID: t131_279911_iw1, sensor: S1A\n"
     ]
    },
    {
     "name": "stdout",
     "output_type": "stream",
     "text": [
      "BurstID: t131_279911_iw1, sensor: S1B\n"
     ]
    },
    {
     "name": "stdout",
     "output_type": "stream",
     "text": [
      "BurstID: t106_225754_iw1, sensor: S1A\n"
     ]
    },
    {
     "name": "stdout",
     "output_type": "stream",
     "text": [
      "BurstID: t106_225754_iw1, sensor: S1B\n"
     ]
    },
    {
     "name": "stdout",
     "output_type": "stream",
     "text": [
      "BurstID: t135_287919_iw3, sensor: S1A\n"
     ]
    },
    {
     "name": "stdout",
     "output_type": "stream",
     "text": [
      "BurstID: t135_287919_iw3, sensor: S1B\n"
     ]
    },
    {
     "name": "stdout",
     "output_type": "stream",
     "text": [
      "BurstID: t056_119001_iw1, sensor: S1A\n"
     ]
    },
    {
     "name": "stdout",
     "output_type": "stream",
     "text": [
      "BurstID: t056_119001_iw1, sensor: S1B\n"
     ]
    },
    {
     "name": "stdout",
     "output_type": "stream",
     "text": [
      "BurstID: t131_279909_iw3, sensor: S1A\n"
     ]
    },
    {
     "name": "stdout",
     "output_type": "stream",
     "text": [
      "BurstID: t131_279909_iw3, sensor: S1B\n"
     ]
    },
    {
     "name": "stdout",
     "output_type": "stream",
     "text": [
      "BurstID: t106_225738_iw1, sensor: S1A\n"
     ]
    },
    {
     "name": "stdout",
     "output_type": "stream",
     "text": [
      "BurstID: t106_225738_iw1, sensor: S1B\n"
     ]
    },
    {
     "name": "stdout",
     "output_type": "stream",
     "text": [
      "BurstID: t124_264300_iw2, sensor: S1A\n"
     ]
    },
    {
     "name": "stdout",
     "output_type": "stream",
     "text": [
      "BurstID: t124_264300_iw2, sensor: S1B\n"
     ]
    },
    {
     "name": "stdout",
     "output_type": "stream",
     "text": [
      "BurstID: t137_292390_iw2, sensor: S1A\n"
     ]
    },
    {
     "name": "stdout",
     "output_type": "stream",
     "text": [
      "BurstID: t137_292390_iw2, sensor: S1B\n"
     ]
    },
    {
     "name": "stdout",
     "output_type": "stream",
     "text": [
      "BurstID: t056_118996_iw1, sensor: S1A\n"
     ]
    },
    {
     "name": "stdout",
     "output_type": "stream",
     "text": [
      "BurstID: t056_118996_iw1, sensor: S1B\n"
     ]
    },
    {
     "name": "stdout",
     "output_type": "stream",
     "text": [
      "BurstID: t107_227890_iw1, sensor: S1A\n"
     ]
    },
    {
     "name": "stdout",
     "output_type": "stream",
     "text": [
      "BurstID: t107_227890_iw1, sensor: S1B\n"
     ]
    },
    {
     "name": "stdout",
     "output_type": "stream",
     "text": [
      "BurstID: t064_135535_iw3, sensor: S1A\n"
     ]
    },
    {
     "name": "stdout",
     "output_type": "stream",
     "text": [
      "BurstID: t064_135535_iw3, sensor: S1B\n"
     ]
    },
    {
     "name": "stdout",
     "output_type": "stream",
     "text": [
      "BurstID: t131_279934_iw1, sensor: S1A\n"
     ]
    },
    {
     "name": "stdout",
     "output_type": "stream",
     "text": [
      "BurstID: t131_279934_iw1, sensor: S1B\n"
     ]
    },
    {
     "name": "stdout",
     "output_type": "stream",
     "text": [
      "BurstID: t071_151174_iw3, sensor: S1A\n"
     ]
    },
    {
     "name": "stdout",
     "output_type": "stream",
     "text": [
      "BurstID: t071_151174_iw3, sensor: S1B\n"
     ]
    },
    {
     "name": "stdout",
     "output_type": "stream",
     "text": [
      "BurstID: t144_308010_iw3, sensor: S1A\n"
     ]
    },
    {
     "name": "stdout",
     "output_type": "stream",
     "text": [
      "BurstID: t144_308010_iw3, sensor: S1B\n"
     ]
    },
    {
     "name": "stdout",
     "output_type": "stream",
     "text": [
      "BurstID: t034_071082_iw3, sensor: S1A\n"
     ]
    },
    {
     "name": "stdout",
     "output_type": "stream",
     "text": [
      "BurstID: t034_071082_iw3, sensor: S1B\n"
     ]
    },
    {
     "name": "stdout",
     "output_type": "stream",
     "text": [
      "BurstID: t042_088922_iw2, sensor: S1A\n"
     ]
    },
    {
     "name": "stdout",
     "output_type": "stream",
     "text": [
      "BurstID: t042_088922_iw2, sensor: S1B\n"
     ]
    },
    {
     "name": "stdout",
     "output_type": "stream",
     "text": [
      "BurstID: t124_264308_iw3, sensor: S1A\n"
     ]
    },
    {
     "name": "stdout",
     "output_type": "stream",
     "text": [
      "BurstID: t124_264308_iw3, sensor: S1B\n"
     ]
    },
    {
     "name": "stdout",
     "output_type": "stream",
     "text": [
      "BurstID: t071_151171_iw3, sensor: S1A\n"
     ]
    },
    {
     "name": "stdout",
     "output_type": "stream",
     "text": [
      "BurstID: t071_151171_iw3, sensor: S1B\n"
     ]
    },
    {
     "name": "stdout",
     "output_type": "stream",
     "text": [
      "BurstID: t004_006664_iw1, sensor: S1A\n"
     ]
    },
    {
     "name": "stdout",
     "output_type": "stream",
     "text": [
      "BurstID: t004_006664_iw1, sensor: S1B\n"
     ]
    },
    {
     "name": "stdout",
     "output_type": "stream",
     "text": [
      "BurstID: t151_322395_iw3, sensor: S1A\n"
     ]
    },
    {
     "name": "stdout",
     "output_type": "stream",
     "text": [
      "BurstID: t151_322395_iw3, sensor: S1B\n"
     ]
    },
    {
     "name": "stdout",
     "output_type": "stream",
     "text": [
      "BurstID: t071_151161_iw1, sensor: S1A\n"
     ]
    },
    {
     "name": "stdout",
     "output_type": "stream",
     "text": [
      "BurstID: t071_151161_iw1, sensor: S1B\n"
     ]
    },
    {
     "name": "stdout",
     "output_type": "stream",
     "text": [
      "BurstID: t160_342206_iw2, sensor: S1A\n"
     ]
    },
    {
     "name": "stdout",
     "output_type": "stream",
     "text": [
      "BurstID: t160_342206_iw2, sensor: S1B\n"
     ]
    },
    {
     "name": "stdout",
     "output_type": "stream",
     "text": [
      "BurstID: t071_151171_iw1, sensor: S1A\n"
     ]
    },
    {
     "name": "stdout",
     "output_type": "stream",
     "text": [
      "BurstID: t071_151171_iw1, sensor: S1B\n"
     ]
    },
    {
     "name": "stdout",
     "output_type": "stream",
     "text": [
      "BurstID: t071_151231_iw3, sensor: S1A\n"
     ]
    },
    {
     "name": "stdout",
     "output_type": "stream",
     "text": [
      "BurstID: t071_151231_iw3, sensor: S1B\n"
     ]
    },
    {
     "name": "stdout",
     "output_type": "stream",
     "text": [
      "BurstID: t094_200131_iw2, sensor: S1A\n"
     ]
    },
    {
     "name": "stdout",
     "output_type": "stream",
     "text": [
      "BurstID: t094_200131_iw2, sensor: S1B\n"
     ]
    },
    {
     "name": "stdout",
     "output_type": "stream",
     "text": [
      "BurstID: t106_225752_iw1, sensor: S1A\n"
     ]
    },
    {
     "name": "stdout",
     "output_type": "stream",
     "text": [
      "BurstID: t106_225752_iw1, sensor: S1B\n"
     ]
    },
    {
     "name": "stdout",
     "output_type": "stream",
     "text": [
      "BurstID: t124_264311_iw3, sensor: S1A\n"
     ]
    },
    {
     "name": "stdout",
     "output_type": "stream",
     "text": [
      "BurstID: t124_264311_iw3, sensor: S1B\n"
     ]
    },
    {
     "name": "stdout",
     "output_type": "stream",
     "text": [
      "BurstID: t064_135507_iw2, sensor: S1A\n"
     ]
    },
    {
     "name": "stdout",
     "output_type": "stream",
     "text": [
      "BurstID: t064_135507_iw2, sensor: S1B\n"
     ]
    },
    {
     "name": "stdout",
     "output_type": "stream",
     "text": [
      "BurstID: t160_342221_iw3, sensor: S1A\n"
     ]
    },
    {
     "name": "stdout",
     "output_type": "stream",
     "text": [
      "BurstID: t160_342221_iw3, sensor: S1B\n"
     ]
    },
    {
     "name": "stdout",
     "output_type": "stream",
     "text": [
      "BurstID: t034_071087_iw3, sensor: S1A\n"
     ]
    },
    {
     "name": "stdout",
     "output_type": "stream",
     "text": [
      "BurstID: t034_071087_iw3, sensor: S1B\n"
     ]
    },
    {
     "name": "stdout",
     "output_type": "stream",
     "text": [
      "BurstID: t056_119001_iw3, sensor: S1A\n"
     ]
    },
    {
     "name": "stdout",
     "output_type": "stream",
     "text": [
      "BurstID: t056_119001_iw3, sensor: S1B\n"
     ]
    },
    {
     "name": "stdout",
     "output_type": "stream",
     "text": [
      "BurstID: t131_279910_iw1, sensor: S1A\n"
     ]
    },
    {
     "name": "stdout",
     "output_type": "stream",
     "text": [
      "BurstID: t131_279910_iw1, sensor: S1B\n"
     ]
    },
    {
     "name": "stdout",
     "output_type": "stream",
     "text": [
      "BurstID: t131_279908_iw3, sensor: S1A\n"
     ]
    },
    {
     "name": "stdout",
     "output_type": "stream",
     "text": [
      "BurstID: t131_279908_iw3, sensor: S1B\n"
     ]
    },
    {
     "name": "stdout",
     "output_type": "stream",
     "text": [
      "BurstID: t071_151231_iw2, sensor: S1A\n"
     ]
    },
    {
     "name": "stdout",
     "output_type": "stream",
     "text": [
      "BurstID: t071_151231_iw2, sensor: S1B\n"
     ]
    },
    {
     "name": "stdout",
     "output_type": "stream",
     "text": [
      "BurstID: t144_308014_iw3, sensor: S1A\n"
     ]
    },
    {
     "name": "stdout",
     "output_type": "stream",
     "text": [
      "BurstID: t144_308014_iw3, sensor: S1B\n"
     ]
    },
    {
     "name": "stdout",
     "output_type": "stream",
     "text": [
      "BurstID: t124_264307_iw2, sensor: S1A\n"
     ]
    },
    {
     "name": "stdout",
     "output_type": "stream",
     "text": [
      "BurstID: t124_264307_iw2, sensor: S1B\n"
     ]
    },
    {
     "name": "stdout",
     "output_type": "stream",
     "text": [
      "BurstID: t131_279933_iw1, sensor: S1A\n"
     ]
    },
    {
     "name": "stdout",
     "output_type": "stream",
     "text": [
      "BurstID: t131_279933_iw1, sensor: S1B\n"
     ]
    },
    {
     "name": "stdout",
     "output_type": "stream",
     "text": [
      "BurstID: t042_088922_iw1, sensor: S1A\n"
     ]
    },
    {
     "name": "stdout",
     "output_type": "stream",
     "text": [
      "BurstID: t042_088922_iw1, sensor: S1B\n"
     ]
    },
    {
     "name": "stdout",
     "output_type": "stream",
     "text": [
      "BurstID: t160_342219_iw2, sensor: S1A\n"
     ]
    },
    {
     "name": "stdout",
     "output_type": "stream",
     "text": [
      "BurstID: t160_342219_iw2, sensor: S1B\n"
     ]
    },
    {
     "name": "stdout",
     "output_type": "stream",
     "text": [
      "BurstID: t160_342216_iw3, sensor: S1A\n"
     ]
    },
    {
     "name": "stdout",
     "output_type": "stream",
     "text": [
      "BurstID: t160_342216_iw3, sensor: S1B\n"
     ]
    },
    {
     "name": "stdout",
     "output_type": "stream",
     "text": [
      "BurstID: t094_200127_iw1, sensor: S1A\n"
     ]
    },
    {
     "name": "stdout",
     "output_type": "stream",
     "text": [
      "BurstID: t094_200127_iw1, sensor: S1B\n"
     ]
    },
    {
     "name": "stdout",
     "output_type": "stream",
     "text": [
      "BurstID: t160_342209_iw2, sensor: S1A\n"
     ]
    },
    {
     "name": "stdout",
     "output_type": "stream",
     "text": [
      "BurstID: t160_342209_iw2, sensor: S1B\n"
     ]
    },
    {
     "name": "stdout",
     "output_type": "stream",
     "text": [
      "BurstID: t151_322391_iw2, sensor: S1A\n"
     ]
    },
    {
     "name": "stdout",
     "output_type": "stream",
     "text": [
      "BurstID: t151_322391_iw2, sensor: S1B\n",
      "BurstID: t160_342207_iw3, sensor: S1A\n"
     ]
    },
    {
     "name": "stdout",
     "output_type": "stream",
     "text": [
      "BurstID: t160_342207_iw3, sensor: S1B\n"
     ]
    },
    {
     "name": "stdout",
     "output_type": "stream",
     "text": [
      "BurstID: t131_279926_iw2, sensor: S1A\n"
     ]
    },
    {
     "name": "stdout",
     "output_type": "stream",
     "text": [
      "BurstID: t131_279926_iw2, sensor: S1B\n"
     ]
    },
    {
     "name": "stdout",
     "output_type": "stream",
     "text": [
      "BurstID: t087_185684_iw2, sensor: S1A\n"
     ]
    },
    {
     "name": "stdout",
     "output_type": "stream",
     "text": [
      "BurstID: t087_185684_iw2, sensor: S1B\n"
     ]
    },
    {
     "name": "stdout",
     "output_type": "stream",
     "text": [
      "BurstID: t143_305899_iw2, sensor: S1A\n"
     ]
    },
    {
     "name": "stdout",
     "output_type": "stream",
     "text": [
      "BurstID: t143_305899_iw2, sensor: S1B\n"
     ]
    },
    {
     "name": "stdout",
     "output_type": "stream",
     "text": [
      "BurstID: t071_151178_iw2, sensor: S1A\n"
     ]
    },
    {
     "name": "stdout",
     "output_type": "stream",
     "text": [
      "BurstID: t071_151178_iw2, sensor: S1B\n"
     ]
    },
    {
     "name": "stdout",
     "output_type": "stream",
     "text": [
      "BurstID: t071_151158_iw3, sensor: S1A\n"
     ]
    },
    {
     "name": "stdout",
     "output_type": "stream",
     "text": [
      "BurstID: t071_151158_iw3, sensor: S1B\n",
      "BurstID: t160_342205_iw1, sensor: S1A\n"
     ]
    },
    {
     "name": "stdout",
     "output_type": "stream",
     "text": [
      "BurstID: t160_342205_iw1, sensor: S1B\n"
     ]
    },
    {
     "name": "stdout",
     "output_type": "stream",
     "text": [
      "BurstID: t115_245668_iw2, sensor: S1A\n"
     ]
    },
    {
     "name": "stdout",
     "output_type": "stream",
     "text": [
      "BurstID: t115_245668_iw2, sensor: S1B\n"
     ]
    },
    {
     "name": "stdout",
     "output_type": "stream",
     "text": [
      "BurstID: t064_135526_iw3, sensor: S1A\n"
     ]
    },
    {
     "name": "stdout",
     "output_type": "stream",
     "text": [
      "BurstID: t064_135526_iw3, sensor: S1B\n"
     ]
    },
    {
     "name": "stdout",
     "output_type": "stream",
     "text": [
      "BurstID: t135_287922_iw2, sensor: S1A\n"
     ]
    },
    {
     "name": "stdout",
     "output_type": "stream",
     "text": [
      "BurstID: t135_287922_iw2, sensor: S1B\n"
     ]
    },
    {
     "name": "stdout",
     "output_type": "stream",
     "text": [
      "BurstID: t071_151174_iw1, sensor: S1A\n"
     ]
    },
    {
     "name": "stdout",
     "output_type": "stream",
     "text": [
      "BurstID: t071_151174_iw1, sensor: S1B\n"
     ]
    },
    {
     "name": "stdout",
     "output_type": "stream",
     "text": [
      "BurstID: t137_292328_iw2, sensor: S1A\n"
     ]
    },
    {
     "name": "stdout",
     "output_type": "stream",
     "text": [
      "BurstID: t137_292328_iw2, sensor: S1B\n"
     ]
    },
    {
     "name": "stdout",
     "output_type": "stream",
     "text": [
      "BurstID: t044_093113_iw2, sensor: S1A\n"
     ]
    },
    {
     "name": "stdout",
     "output_type": "stream",
     "text": [
      "BurstID: t044_093113_iw2, sensor: S1B\n"
     ]
    },
    {
     "name": "stdout",
     "output_type": "stream",
     "text": [
      "BurstID: t087_185690_iw3, sensor: S1A\n"
     ]
    },
    {
     "name": "stdout",
     "output_type": "stream",
     "text": [
      "BurstID: t087_185690_iw3, sensor: S1B\n"
     ]
    },
    {
     "name": "stdout",
     "output_type": "stream",
     "text": [
      "BurstID: t160_342227_iw1, sensor: S1A\n"
     ]
    },
    {
     "name": "stdout",
     "output_type": "stream",
     "text": [
      "BurstID: t160_342227_iw1, sensor: S1B\n"
     ]
    },
    {
     "name": "stdout",
     "output_type": "stream",
     "text": [
      "BurstID: t131_279921_iw1, sensor: S1A\n"
     ]
    },
    {
     "name": "stdout",
     "output_type": "stream",
     "text": [
      "BurstID: t131_279921_iw1, sensor: S1B\n"
     ]
    },
    {
     "name": "stdout",
     "output_type": "stream",
     "text": [
      "BurstID: t106_225739_iw2, sensor: S1A\n"
     ]
    },
    {
     "name": "stdout",
     "output_type": "stream",
     "text": [
      "BurstID: t106_225739_iw2, sensor: S1B\n"
     ]
    },
    {
     "name": "stdout",
     "output_type": "stream",
     "text": [
      "BurstID: t056_118985_iw3, sensor: S1A\n"
     ]
    },
    {
     "name": "stdout",
     "output_type": "stream",
     "text": [
      "BurstID: t056_118985_iw3, sensor: S1B\n"
     ]
    },
    {
     "name": "stdout",
     "output_type": "stream",
     "text": [
      "BurstID: t071_151177_iw3, sensor: S1A\n"
     ]
    },
    {
     "name": "stdout",
     "output_type": "stream",
     "text": [
      "BurstID: t071_151177_iw3, sensor: S1B\n"
     ]
    },
    {
     "name": "stdout",
     "output_type": "stream",
     "text": [
      "BurstID: t131_279914_iw3, sensor: S1A\n"
     ]
    },
    {
     "name": "stdout",
     "output_type": "stream",
     "text": [
      "BurstID: t131_279914_iw3, sensor: S1B\n"
     ]
    },
    {
     "name": "stdout",
     "output_type": "stream",
     "text": [
      "BurstID: t135_287935_iw3, sensor: S1A\n",
      "BurstID: t135_287935_iw3, sensor: S1B\n"
     ]
    },
    {
     "name": "stdout",
     "output_type": "stream",
     "text": [
      "BurstID: t160_342203_iw2, sensor: S1A\n"
     ]
    },
    {
     "name": "stdout",
     "output_type": "stream",
     "text": [
      "BurstID: t160_342203_iw2, sensor: S1B\n"
     ]
    },
    {
     "name": "stdout",
     "output_type": "stream",
     "text": [
      "BurstID: t098_209310_iw3, sensor: S1A\n"
     ]
    },
    {
     "name": "stdout",
     "output_type": "stream",
     "text": [
      "BurstID: t098_209310_iw3, sensor: S1B\n"
     ]
    },
    {
     "name": "stdout",
     "output_type": "stream",
     "text": [
      "BurstID: t094_200133_iw3, sensor: S1A\n"
     ]
    },
    {
     "name": "stdout",
     "output_type": "stream",
     "text": [
      "BurstID: t094_200133_iw3, sensor: S1B\n"
     ]
    },
    {
     "name": "stdout",
     "output_type": "stream",
     "text": [
      "BurstID: t064_135527_iw3, sensor: S1A\n"
     ]
    },
    {
     "name": "stdout",
     "output_type": "stream",
     "text": [
      "BurstID: t064_135527_iw3, sensor: S1B\n"
     ]
    },
    {
     "name": "stdout",
     "output_type": "stream",
     "text": [
      "BurstID: t044_093105_iw3, sensor: S1A\n"
     ]
    },
    {
     "name": "stdout",
     "output_type": "stream",
     "text": [
      "BurstID: t044_093105_iw3, sensor: S1B\n"
     ]
    },
    {
     "name": "stdout",
     "output_type": "stream",
     "text": [
      "BurstID: t137_292327_iw1, sensor: S1A\n"
     ]
    },
    {
     "name": "stdout",
     "output_type": "stream",
     "text": [
      "BurstID: t137_292327_iw1, sensor: S1B\n"
     ]
    },
    {
     "name": "stdout",
     "output_type": "stream",
     "text": [
      "BurstID: t056_118988_iw1, sensor: S1A\n"
     ]
    },
    {
     "name": "stdout",
     "output_type": "stream",
     "text": [
      "BurstID: t056_118988_iw1, sensor: S1B\n"
     ]
    },
    {
     "name": "stdout",
     "output_type": "stream",
     "text": [
      "BurstID: t065_137843_iw2, sensor: S1A\n"
     ]
    },
    {
     "name": "stdout",
     "output_type": "stream",
     "text": [
      "BurstID: t065_137843_iw2, sensor: S1B\n"
     ]
    },
    {
     "name": "stdout",
     "output_type": "stream",
     "text": [
      "BurstID: t151_322407_iw3, sensor: S1A\n"
     ]
    },
    {
     "name": "stdout",
     "output_type": "stream",
     "text": [
      "BurstID: t151_322407_iw3, sensor: S1B\n"
     ]
    },
    {
     "name": "stdout",
     "output_type": "stream",
     "text": [
      "BurstID: t144_308012_iw2, sensor: S1A\n"
     ]
    },
    {
     "name": "stdout",
     "output_type": "stream",
     "text": [
      "BurstID: t144_308012_iw2, sensor: S1B\n"
     ]
    },
    {
     "name": "stdout",
     "output_type": "stream",
     "text": [
      "BurstID: t124_264305_iw3, sensor: S1A\n"
     ]
    },
    {
     "name": "stdout",
     "output_type": "stream",
     "text": [
      "BurstID: t124_264305_iw3, sensor: S1B\n"
     ]
    },
    {
     "name": "stdout",
     "output_type": "stream",
     "text": [
      "BurstID: t065_137843_iw3, sensor: S1A\n"
     ]
    },
    {
     "name": "stdout",
     "output_type": "stream",
     "text": [
      "BurstID: t065_137843_iw3, sensor: S1B\n"
     ]
    },
    {
     "name": "stdout",
     "output_type": "stream",
     "text": [
      "BurstID: t064_135521_iw2, sensor: S1A\n"
     ]
    },
    {
     "name": "stdout",
     "output_type": "stream",
     "text": [
      "BurstID: t064_135521_iw2, sensor: S1B\n"
     ]
    },
    {
     "name": "stdout",
     "output_type": "stream",
     "text": [
      "BurstID: t131_279923_iw2, sensor: S1A\n"
     ]
    },
    {
     "name": "stdout",
     "output_type": "stream",
     "text": [
      "BurstID: t131_279923_iw2, sensor: S1B\n"
     ]
    },
    {
     "name": "stdout",
     "output_type": "stream",
     "text": [
      "BurstID: t042_088926_iw1, sensor: S1A\n"
     ]
    },
    {
     "name": "stdout",
     "output_type": "stream",
     "text": [
      "BurstID: t042_088926_iw1, sensor: S1B\n"
     ]
    },
    {
     "name": "stdout",
     "output_type": "stream",
     "text": [
      "BurstID: t034_071047_iw2, sensor: S1A\n"
     ]
    },
    {
     "name": "stdout",
     "output_type": "stream",
     "text": [
      "BurstID: t034_071047_iw2, sensor: S1B\n"
     ]
    },
    {
     "name": "stdout",
     "output_type": "stream",
     "text": [
      "BurstID: t124_264301_iw3, sensor: S1A\n"
     ]
    },
    {
     "name": "stdout",
     "output_type": "stream",
     "text": [
      "BurstID: t124_264301_iw3, sensor: S1B\n"
     ]
    },
    {
     "name": "stdout",
     "output_type": "stream",
     "text": [
      "BurstID: t087_185685_iw1, sensor: S1A\n"
     ]
    },
    {
     "name": "stdout",
     "output_type": "stream",
     "text": [
      "BurstID: t087_185685_iw1, sensor: S1B\n"
     ]
    },
    {
     "name": "stdout",
     "output_type": "stream",
     "text": [
      "BurstID: t044_093112_iw1, sensor: S1A\n"
     ]
    },
    {
     "name": "stdout",
     "output_type": "stream",
     "text": [
      "BurstID: t044_093112_iw1, sensor: S1B\n"
     ]
    },
    {
     "name": "stdout",
     "output_type": "stream",
     "text": [
      "BurstID: t115_245675_iw3, sensor: S1A\n"
     ]
    },
    {
     "name": "stdout",
     "output_type": "stream",
     "text": [
      "BurstID: t115_245675_iw3, sensor: S1B\n"
     ]
    },
    {
     "name": "stdout",
     "output_type": "stream",
     "text": [
      "BurstID: t107_227887_iw2, sensor: S1A\n"
     ]
    },
    {
     "name": "stdout",
     "output_type": "stream",
     "text": [
      "BurstID: t107_227887_iw2, sensor: S1B\n"
     ]
    },
    {
     "name": "stdout",
     "output_type": "stream",
     "text": [
      "BurstID: t143_305907_iw1, sensor: S1A\n"
     ]
    },
    {
     "name": "stdout",
     "output_type": "stream",
     "text": [
      "BurstID: t143_305907_iw1, sensor: S1B\n"
     ]
    },
    {
     "name": "stdout",
     "output_type": "stream",
     "text": [
      "BurstID: t151_322403_iw1, sensor: S1A\n"
     ]
    },
    {
     "name": "stdout",
     "output_type": "stream",
     "text": [
      "BurstID: t151_322403_iw1, sensor: S1B\n"
     ]
    },
    {
     "name": "stdout",
     "output_type": "stream",
     "text": [
      "BurstID: t004_006661_iw2, sensor: S1A\n"
     ]
    },
    {
     "name": "stdout",
     "output_type": "stream",
     "text": [
      "BurstID: t004_006661_iw2, sensor: S1B\n"
     ]
    },
    {
     "name": "stdout",
     "output_type": "stream",
     "text": [
      "BurstID: t071_151167_iw1, sensor: S1A\n"
     ]
    },
    {
     "name": "stdout",
     "output_type": "stream",
     "text": [
      "BurstID: t071_151167_iw1, sensor: S1B\n"
     ]
    },
    {
     "name": "stdout",
     "output_type": "stream",
     "text": [
      "BurstID: t144_308013_iw3, sensor: S1A\n"
     ]
    },
    {
     "name": "stdout",
     "output_type": "stream",
     "text": [
      "BurstID: t144_308013_iw3, sensor: S1B\n"
     ]
    },
    {
     "name": "stdout",
     "output_type": "stream",
     "text": [
      "BurstID: t087_185679_iw2, sensor: S1A\n"
     ]
    },
    {
     "name": "stdout",
     "output_type": "stream",
     "text": [
      "BurstID: t087_185679_iw2, sensor: S1B\n"
     ]
    },
    {
     "name": "stdout",
     "output_type": "stream",
     "text": [
      "BurstID: t135_287934_iw3, sensor: S1A\n",
      "BurstID: t135_287934_iw3, sensor: S1B\n"
     ]
    },
    {
     "name": "stdout",
     "output_type": "stream",
     "text": [
      "BurstID: t087_185679_iw3, sensor: S1A\n"
     ]
    },
    {
     "name": "stdout",
     "output_type": "stream",
     "text": [
      "BurstID: t087_185679_iw3, sensor: S1B\n"
     ]
    },
    {
     "name": "stdout",
     "output_type": "stream",
     "text": [
      "BurstID: t056_118987_iw1, sensor: S1A\n"
     ]
    },
    {
     "name": "stdout",
     "output_type": "stream",
     "text": [
      "BurstID: t056_118987_iw1, sensor: S1B\n"
     ]
    },
    {
     "name": "stdout",
     "output_type": "stream",
     "text": [
      "BurstID: t143_305908_iw1, sensor: S1A\n"
     ]
    },
    {
     "name": "stdout",
     "output_type": "stream",
     "text": [
      "BurstID: t143_305908_iw1, sensor: S1B\n"
     ]
    },
    {
     "name": "stdout",
     "output_type": "stream",
     "text": [
      "BurstID: t064_135531_iw2, sensor: S1A\n"
     ]
    },
    {
     "name": "stdout",
     "output_type": "stream",
     "text": [
      "BurstID: t064_135531_iw2, sensor: S1B\n"
     ]
    },
    {
     "name": "stdout",
     "output_type": "stream",
     "text": [
      "BurstID: t071_151167_iw2, sensor: S1A\n"
     ]
    },
    {
     "name": "stdout",
     "output_type": "stream",
     "text": [
      "BurstID: t071_151167_iw2, sensor: S1B\n"
     ]
    },
    {
     "name": "stdout",
     "output_type": "stream",
     "text": [
      "BurstID: t137_292389_iw2, sensor: S1A\n"
     ]
    },
    {
     "name": "stdout",
     "output_type": "stream",
     "text": [
      "BurstID: t137_292389_iw2, sensor: S1B\n"
     ]
    },
    {
     "name": "stdout",
     "output_type": "stream",
     "text": [
      "BurstID: t087_185680_iw2, sensor: S1A\n"
     ]
    },
    {
     "name": "stdout",
     "output_type": "stream",
     "text": [
      "BurstID: t087_185680_iw2, sensor: S1B\n"
     ]
    },
    {
     "name": "stdout",
     "output_type": "stream",
     "text": [
      "BurstID: t071_151224_iw1, sensor: S1A\n"
     ]
    },
    {
     "name": "stdout",
     "output_type": "stream",
     "text": [
      "BurstID: t071_151224_iw1, sensor: S1B\n"
     ]
    },
    {
     "name": "stdout",
     "output_type": "stream",
     "text": [
      "BurstID: t106_225746_iw3, sensor: S1A\n"
     ]
    },
    {
     "name": "stdout",
     "output_type": "stream",
     "text": [
      "BurstID: t106_225746_iw3, sensor: S1B\n"
     ]
    },
    {
     "name": "stdout",
     "output_type": "stream",
     "text": [
      "BurstID: t044_093108_iw3, sensor: S1A\n"
     ]
    },
    {
     "name": "stdout",
     "output_type": "stream",
     "text": [
      "BurstID: t044_093108_iw3, sensor: S1B\n"
     ]
    },
    {
     "name": "stdout",
     "output_type": "stream",
     "text": [
      "BurstID: t064_135510_iw1, sensor: S1A\n"
     ]
    },
    {
     "name": "stdout",
     "output_type": "stream",
     "text": [
      "BurstID: t064_135510_iw1, sensor: S1B\n"
     ]
    },
    {
     "name": "stdout",
     "output_type": "stream",
     "text": [
      "BurstID: t144_308018_iw2, sensor: S1A\n"
     ]
    },
    {
     "name": "stdout",
     "output_type": "stream",
     "text": [
      "BurstID: t144_308018_iw2, sensor: S1B\n"
     ]
    },
    {
     "name": "stdout",
     "output_type": "stream",
     "text": [
      "BurstID: t071_151165_iw1, sensor: S1A\n"
     ]
    },
    {
     "name": "stdout",
     "output_type": "stream",
     "text": [
      "BurstID: t071_151165_iw1, sensor: S1B\n"
     ]
    },
    {
     "name": "stdout",
     "output_type": "stream",
     "text": [
      "BurstID: t137_292382_iw2, sensor: S1A\n"
     ]
    },
    {
     "name": "stdout",
     "output_type": "stream",
     "text": [
      "BurstID: t137_292382_iw2, sensor: S1B\n"
     ]
    },
    {
     "name": "stdout",
     "output_type": "stream",
     "text": [
      "BurstID: t065_137842_iw3, sensor: S1A\n"
     ]
    },
    {
     "name": "stdout",
     "output_type": "stream",
     "text": [
      "BurstID: t065_137842_iw3, sensor: S1B\n"
     ]
    },
    {
     "name": "stdout",
     "output_type": "stream",
     "text": [
      "BurstID: t160_342214_iw3, sensor: S1A\n"
     ]
    },
    {
     "name": "stdout",
     "output_type": "stream",
     "text": [
      "BurstID: t160_342214_iw3, sensor: S1B\n"
     ]
    },
    {
     "name": "stdout",
     "output_type": "stream",
     "text": [
      "BurstID: t087_185690_iw2, sensor: S1A\n"
     ]
    },
    {
     "name": "stdout",
     "output_type": "stream",
     "text": [
      "BurstID: t087_185690_iw2, sensor: S1B\n"
     ]
    },
    {
     "name": "stdout",
     "output_type": "stream",
     "text": [
      "BurstID: t131_279931_iw1, sensor: S1A\n"
     ]
    },
    {
     "name": "stdout",
     "output_type": "stream",
     "text": [
      "BurstID: t131_279931_iw1, sensor: S1B\n"
     ]
    },
    {
     "name": "stdout",
     "output_type": "stream",
     "text": [
      "BurstID: t064_135512_iw2, sensor: S1A\n"
     ]
    },
    {
     "name": "stdout",
     "output_type": "stream",
     "text": [
      "BurstID: t064_135512_iw2, sensor: S1B\n"
     ]
    },
    {
     "name": "stdout",
     "output_type": "stream",
     "text": [
      "BurstID: t071_151217_iw2, sensor: S1A\n"
     ]
    },
    {
     "name": "stdout",
     "output_type": "stream",
     "text": [
      "BurstID: t071_151217_iw2, sensor: S1B\n"
     ]
    },
    {
     "name": "stdout",
     "output_type": "stream",
     "text": [
      "BurstID: t094_200129_iw3, sensor: S1A\n"
     ]
    },
    {
     "name": "stdout",
     "output_type": "stream",
     "text": [
      "BurstID: t094_200129_iw3, sensor: S1B\n"
     ]
    },
    {
     "name": "stdout",
     "output_type": "stream",
     "text": [
      "BurstID: t160_342203_iw3, sensor: S1A\n"
     ]
    },
    {
     "name": "stdout",
     "output_type": "stream",
     "text": [
      "BurstID: t160_342203_iw3, sensor: S1B\n"
     ]
    },
    {
     "name": "stdout",
     "output_type": "stream",
     "text": [
      "BurstID: t087_185684_iw1, sensor: S1A\n"
     ]
    },
    {
     "name": "stdout",
     "output_type": "stream",
     "text": [
      "BurstID: t087_185684_iw1, sensor: S1B\n"
     ]
    },
    {
     "name": "stdout",
     "output_type": "stream",
     "text": [
      "BurstID: t137_292387_iw1, sensor: S1A\n"
     ]
    },
    {
     "name": "stdout",
     "output_type": "stream",
     "text": [
      "BurstID: t137_292387_iw1, sensor: S1B\n"
     ]
    },
    {
     "name": "stdout",
     "output_type": "stream",
     "text": [
      "BurstID: t151_322408_iw3, sensor: S1A\n"
     ]
    },
    {
     "name": "stdout",
     "output_type": "stream",
     "text": [
      "BurstID: t151_322408_iw3, sensor: S1B\n"
     ]
    },
    {
     "name": "stdout",
     "output_type": "stream",
     "text": [
      "BurstID: t124_264302_iw3, sensor: S1A\n"
     ]
    },
    {
     "name": "stdout",
     "output_type": "stream",
     "text": [
      "BurstID: t124_264302_iw3, sensor: S1B\n"
     ]
    },
    {
     "name": "stdout",
     "output_type": "stream",
     "text": [
      "BurstID: t115_245665_iw1, sensor: S1A\n"
     ]
    },
    {
     "name": "stdout",
     "output_type": "stream",
     "text": [
      "BurstID: t115_245665_iw1, sensor: S1B\n"
     ]
    },
    {
     "name": "stdout",
     "output_type": "stream",
     "text": [
      "BurstID: t034_071054_iw1, sensor: S1A\n"
     ]
    },
    {
     "name": "stdout",
     "output_type": "stream",
     "text": [
      "BurstID: t034_071054_iw1, sensor: S1B\n"
     ]
    },
    {
     "name": "stdout",
     "output_type": "stream",
     "text": [
      "BurstID: t124_264311_iw1, sensor: S1A\n"
     ]
    },
    {
     "name": "stdout",
     "output_type": "stream",
     "text": [
      "BurstID: t124_264311_iw1, sensor: S1B\n"
     ]
    },
    {
     "name": "stdout",
     "output_type": "stream",
     "text": [
      "BurstID: t042_088925_iw3, sensor: S1A\n"
     ]
    },
    {
     "name": "stdout",
     "output_type": "stream",
     "text": [
      "BurstID: t042_088925_iw3, sensor: S1B\n"
     ]
    },
    {
     "name": "stdout",
     "output_type": "stream",
     "text": [
      "BurstID: t056_119001_iw2, sensor: S1A\n"
     ]
    },
    {
     "name": "stdout",
     "output_type": "stream",
     "text": [
      "BurstID: t056_119001_iw2, sensor: S1B\n"
     ]
    },
    {
     "name": "stdout",
     "output_type": "stream",
     "text": [
      "BurstID: t094_200135_iw1, sensor: S1A\n"
     ]
    },
    {
     "name": "stdout",
     "output_type": "stream",
     "text": [
      "BurstID: t094_200135_iw1, sensor: S1B\n"
     ]
    },
    {
     "name": "stdout",
     "output_type": "stream",
     "text": [
      "BurstID: t131_279933_iw3, sensor: S1A\n"
     ]
    },
    {
     "name": "stdout",
     "output_type": "stream",
     "text": [
      "BurstID: t131_279933_iw3, sensor: S1B\n"
     ]
    },
    {
     "name": "stdout",
     "output_type": "stream",
     "text": [
      "BurstID: t056_118990_iw3, sensor: S1A\n"
     ]
    },
    {
     "name": "stdout",
     "output_type": "stream",
     "text": [
      "BurstID: t056_118990_iw3, sensor: S1B\n"
     ]
    },
    {
     "name": "stdout",
     "output_type": "stream",
     "text": [
      "BurstID: t124_264521_iw3, sensor: S1A\n"
     ]
    },
    {
     "name": "stdout",
     "output_type": "stream",
     "text": [
      "BurstID: t124_264521_iw3, sensor: S1B\n"
     ]
    },
    {
     "name": "stdout",
     "output_type": "stream",
     "text": [
      "BurstID: t160_342204_iw1, sensor: S1A\n"
     ]
    },
    {
     "name": "stdout",
     "output_type": "stream",
     "text": [
      "BurstID: t160_342204_iw1, sensor: S1B\n"
     ]
    },
    {
     "name": "stdout",
     "output_type": "stream",
     "text": [
      "BurstID: t098_209320_iw1, sensor: S1A\n"
     ]
    },
    {
     "name": "stdout",
     "output_type": "stream",
     "text": [
      "BurstID: t098_209320_iw1, sensor: S1B\n"
     ]
    },
    {
     "name": "stdout",
     "output_type": "stream",
     "text": [
      "BurstID: t064_135525_iw1, sensor: S1A\n"
     ]
    },
    {
     "name": "stdout",
     "output_type": "stream",
     "text": [
      "BurstID: t064_135525_iw1, sensor: S1B\n"
     ]
    },
    {
     "name": "stdout",
     "output_type": "stream",
     "text": [
      "BurstID: t094_200144_iw2, sensor: S1A\n"
     ]
    },
    {
     "name": "stdout",
     "output_type": "stream",
     "text": [
      "BurstID: t094_200144_iw2, sensor: S1B\n"
     ]
    },
    {
     "name": "stdout",
     "output_type": "stream",
     "text": [
      "BurstID: t144_308014_iw2, sensor: S1A\n"
     ]
    },
    {
     "name": "stdout",
     "output_type": "stream",
     "text": [
      "BurstID: t144_308014_iw2, sensor: S1B\n"
     ]
    },
    {
     "name": "stdout",
     "output_type": "stream",
     "text": [
      "BurstID: t135_287930_iw1, sensor: S1A\n"
     ]
    },
    {
     "name": "stdout",
     "output_type": "stream",
     "text": [
      "BurstID: t135_287930_iw1, sensor: S1B\n"
     ]
    },
    {
     "name": "stdout",
     "output_type": "stream",
     "text": [
      "BurstID: t071_151225_iw1, sensor: S1A\n"
     ]
    },
    {
     "name": "stdout",
     "output_type": "stream",
     "text": [
      "BurstID: t071_151225_iw1, sensor: S1B\n"
     ]
    },
    {
     "name": "stdout",
     "output_type": "stream",
     "text": [
      "BurstID: t098_209312_iw2, sensor: S1A\n"
     ]
    },
    {
     "name": "stdout",
     "output_type": "stream",
     "text": [
      "BurstID: t098_209312_iw2, sensor: S1B\n"
     ]
    },
    {
     "name": "stdout",
     "output_type": "stream",
     "text": [
      "BurstID: t160_342214_iw2, sensor: S1A\n"
     ]
    },
    {
     "name": "stdout",
     "output_type": "stream",
     "text": [
      "BurstID: t160_342214_iw2, sensor: S1B\n"
     ]
    },
    {
     "name": "stdout",
     "output_type": "stream",
     "text": [
      "BurstID: t106_225740_iw3, sensor: S1A\n"
     ]
    },
    {
     "name": "stdout",
     "output_type": "stream",
     "text": [
      "BurstID: t106_225740_iw3, sensor: S1B\n"
     ]
    },
    {
     "name": "stdout",
     "output_type": "stream",
     "text": [
      "BurstID: t135_287928_iw3, sensor: S1A\n"
     ]
    },
    {
     "name": "stdout",
     "output_type": "stream",
     "text": [
      "BurstID: t135_287928_iw3, sensor: S1B\n"
     ]
    },
    {
     "name": "stdout",
     "output_type": "stream",
     "text": [
      "BurstID: t094_200140_iw3, sensor: S1A\n"
     ]
    },
    {
     "name": "stdout",
     "output_type": "stream",
     "text": [
      "BurstID: t094_200140_iw3, sensor: S1B\n"
     ]
    },
    {
     "name": "stdout",
     "output_type": "stream",
     "text": [
      "BurstID: t124_264310_iw2, sensor: S1A\n"
     ]
    },
    {
     "name": "stdout",
     "output_type": "stream",
     "text": [
      "BurstID: t124_264310_iw2, sensor: S1B\n"
     ]
    },
    {
     "name": "stdout",
     "output_type": "stream",
     "text": [
      "BurstID: t034_071064_iw3, sensor: S1A\n"
     ]
    },
    {
     "name": "stdout",
     "output_type": "stream",
     "text": [
      "BurstID: t034_071064_iw3, sensor: S1B\n"
     ]
    },
    {
     "name": "stdout",
     "output_type": "stream",
     "text": [
      "BurstID: t124_264306_iw3, sensor: S1A\n"
     ]
    },
    {
     "name": "stdout",
     "output_type": "stream",
     "text": [
      "BurstID: t124_264306_iw3, sensor: S1B\n"
     ]
    },
    {
     "name": "stdout",
     "output_type": "stream",
     "text": [
      "BurstID: t137_292378_iw3, sensor: S1A\n"
     ]
    },
    {
     "name": "stdout",
     "output_type": "stream",
     "text": [
      "BurstID: t137_292378_iw3, sensor: S1B\n"
     ]
    },
    {
     "name": "stdout",
     "output_type": "stream",
     "text": [
      "BurstID: t034_071061_iw2, sensor: S1A\n"
     ]
    },
    {
     "name": "stdout",
     "output_type": "stream",
     "text": [
      "BurstID: t034_071061_iw2, sensor: S1B\n"
     ]
    },
    {
     "name": "stdout",
     "output_type": "stream",
     "text": [
      "BurstID: t042_088919_iw3, sensor: S1A\n"
     ]
    },
    {
     "name": "stdout",
     "output_type": "stream",
     "text": [
      "BurstID: t042_088919_iw3, sensor: S1B\n"
     ]
    },
    {
     "name": "stdout",
     "output_type": "stream",
     "text": [
      "BurstID: t065_137840_iw3, sensor: S1A\n"
     ]
    },
    {
     "name": "stdout",
     "output_type": "stream",
     "text": [
      "BurstID: t065_137840_iw3, sensor: S1B\n"
     ]
    },
    {
     "name": "stdout",
     "output_type": "stream",
     "text": [
      "BurstID: t034_071084_iw2, sensor: S1A\n"
     ]
    },
    {
     "name": "stdout",
     "output_type": "stream",
     "text": [
      "BurstID: t034_071084_iw2, sensor: S1B\n"
     ]
    },
    {
     "name": "stdout",
     "output_type": "stream",
     "text": [
      "BurstID: t143_305907_iw2, sensor: S1A\n"
     ]
    },
    {
     "name": "stdout",
     "output_type": "stream",
     "text": [
      "BurstID: t143_305907_iw2, sensor: S1B\n"
     ]
    },
    {
     "name": "stdout",
     "output_type": "stream",
     "text": [
      "BurstID: t143_305900_iw3, sensor: S1A\n"
     ]
    },
    {
     "name": "stdout",
     "output_type": "stream",
     "text": [
      "BurstID: t143_305900_iw3, sensor: S1B\n"
     ]
    },
    {
     "name": "stdout",
     "output_type": "stream",
     "text": [
      "BurstID: t064_135508_iw3, sensor: S1A\n"
     ]
    },
    {
     "name": "stdout",
     "output_type": "stream",
     "text": [
      "BurstID: t064_135508_iw3, sensor: S1B\n"
     ]
    },
    {
     "name": "stdout",
     "output_type": "stream",
     "text": [
      "BurstID: t056_118993_iw3, sensor: S1A\n"
     ]
    },
    {
     "name": "stdout",
     "output_type": "stream",
     "text": [
      "BurstID: t056_118993_iw3, sensor: S1B\n"
     ]
    },
    {
     "name": "stdout",
     "output_type": "stream",
     "text": [
      "BurstID: t065_137848_iw3, sensor: S1A\n"
     ]
    },
    {
     "name": "stdout",
     "output_type": "stream",
     "text": [
      "BurstID: t065_137848_iw3, sensor: S1B\n"
     ]
    },
    {
     "name": "stdout",
     "output_type": "stream",
     "text": [
      "BurstID: t124_264523_iw1, sensor: S1A\n"
     ]
    },
    {
     "name": "stdout",
     "output_type": "stream",
     "text": [
      "BurstID: t124_264523_iw1, sensor: S1B\n"
     ]
    },
    {
     "name": "stdout",
     "output_type": "stream",
     "text": [
      "BurstID: t106_225742_iw2, sensor: S1A\n"
     ]
    },
    {
     "name": "stdout",
     "output_type": "stream",
     "text": [
      "BurstID: t106_225742_iw2, sensor: S1B\n"
     ]
    },
    {
     "name": "stdout",
     "output_type": "stream",
     "text": [
      "BurstID: t098_209315_iw3, sensor: S1A\n"
     ]
    },
    {
     "name": "stdout",
     "output_type": "stream",
     "text": [
      "BurstID: t098_209315_iw3, sensor: S1B\n"
     ]
    },
    {
     "name": "stdout",
     "output_type": "stream",
     "text": [
      "BurstID: t034_071082_iw1, sensor: S1A\n"
     ]
    },
    {
     "name": "stdout",
     "output_type": "stream",
     "text": [
      "BurstID: t034_071082_iw1, sensor: S1B\n"
     ]
    },
    {
     "name": "stdout",
     "output_type": "stream",
     "text": [
      "BurstID: t094_200146_iw1, sensor: S1A\n"
     ]
    },
    {
     "name": "stdout",
     "output_type": "stream",
     "text": [
      "BurstID: t094_200146_iw1, sensor: S1B\n"
     ]
    },
    {
     "name": "stdout",
     "output_type": "stream",
     "text": [
      "BurstID: t034_071086_iw2, sensor: S1A\n"
     ]
    },
    {
     "name": "stdout",
     "output_type": "stream",
     "text": [
      "BurstID: t034_071086_iw2, sensor: S1B\n"
     ]
    },
    {
     "name": "stdout",
     "output_type": "stream",
     "text": [
      "BurstID: t044_093110_iw3, sensor: S1A\n"
     ]
    },
    {
     "name": "stdout",
     "output_type": "stream",
     "text": [
      "BurstID: t044_093110_iw3, sensor: S1B\n"
     ]
    },
    {
     "name": "stdout",
     "output_type": "stream",
     "text": [
      "BurstID: t124_264314_iw3, sensor: S1A\n"
     ]
    },
    {
     "name": "stdout",
     "output_type": "stream",
     "text": [
      "BurstID: t124_264314_iw3, sensor: S1B\n"
     ]
    },
    {
     "name": "stdout",
     "output_type": "stream",
     "text": [
      "BurstID: t137_292389_iw3, sensor: S1A\n"
     ]
    },
    {
     "name": "stdout",
     "output_type": "stream",
     "text": [
      "BurstID: t137_292389_iw3, sensor: S1B\n"
     ]
    },
    {
     "name": "stdout",
     "output_type": "stream",
     "text": [
      "BurstID: t151_322399_iw2, sensor: S1A\n"
     ]
    },
    {
     "name": "stdout",
     "output_type": "stream",
     "text": [
      "BurstID: t151_322399_iw2, sensor: S1B\n"
     ]
    },
    {
     "name": "stdout",
     "output_type": "stream",
     "text": [
      "BurstID: t160_342200_iw3, sensor: S1A\n"
     ]
    },
    {
     "name": "stdout",
     "output_type": "stream",
     "text": [
      "BurstID: t160_342200_iw3, sensor: S1B\n"
     ]
    },
    {
     "name": "stdout",
     "output_type": "stream",
     "text": [
      "BurstID: t115_245675_iw1, sensor: S1A\n"
     ]
    },
    {
     "name": "stdout",
     "output_type": "stream",
     "text": [
      "BurstID: t115_245675_iw1, sensor: S1B\n"
     ]
    },
    {
     "name": "stdout",
     "output_type": "stream",
     "text": [
      "BurstID: t071_151233_iw2, sensor: S1A\n"
     ]
    },
    {
     "name": "stdout",
     "output_type": "stream",
     "text": [
      "BurstID: t071_151233_iw2, sensor: S1B\n"
     ]
    },
    {
     "name": "stdout",
     "output_type": "stream",
     "text": [
      "BurstID: t042_088924_iw1, sensor: S1A\n"
     ]
    },
    {
     "name": "stdout",
     "output_type": "stream",
     "text": [
      "BurstID: t042_088924_iw1, sensor: S1B\n"
     ]
    },
    {
     "name": "stdout",
     "output_type": "stream",
     "text": [
      "BurstID: t151_322393_iw1, sensor: S1A\n"
     ]
    },
    {
     "name": "stdout",
     "output_type": "stream",
     "text": [
      "BurstID: t151_322393_iw1, sensor: S1B\n"
     ]
    },
    {
     "name": "stdout",
     "output_type": "stream",
     "text": [
      "BurstID: t098_209313_iw3, sensor: S1A\n"
     ]
    },
    {
     "name": "stdout",
     "output_type": "stream",
     "text": [
      "BurstID: t098_209313_iw3, sensor: S1B\n"
     ]
    },
    {
     "name": "stdout",
     "output_type": "stream",
     "text": [
      "BurstID: t071_151173_iw2, sensor: S1A\n"
     ]
    },
    {
     "name": "stdout",
     "output_type": "stream",
     "text": [
      "BurstID: t071_151173_iw2, sensor: S1B\n"
     ]
    },
    {
     "name": "stdout",
     "output_type": "stream",
     "text": [
      "BurstID: t115_245671_iw2, sensor: S1A\n"
     ]
    },
    {
     "name": "stdout",
     "output_type": "stream",
     "text": [
      "BurstID: t115_245671_iw2, sensor: S1B\n"
     ]
    },
    {
     "name": "stdout",
     "output_type": "stream",
     "text": [
      "BurstID: t087_185680_iw1, sensor: S1A\n"
     ]
    },
    {
     "name": "stdout",
     "output_type": "stream",
     "text": [
      "BurstID: t087_185680_iw1, sensor: S1B\n"
     ]
    },
    {
     "name": "stdout",
     "output_type": "stream",
     "text": [
      "BurstID: t064_135524_iw1, sensor: S1A\n"
     ]
    },
    {
     "name": "stdout",
     "output_type": "stream",
     "text": [
      "BurstID: t064_135524_iw1, sensor: S1B\n"
     ]
    },
    {
     "name": "stdout",
     "output_type": "stream",
     "text": [
      "BurstID: t056_118991_iw3, sensor: S1A\n"
     ]
    },
    {
     "name": "stdout",
     "output_type": "stream",
     "text": [
      "BurstID: t056_118991_iw3, sensor: S1B\n"
     ]
    },
    {
     "name": "stdout",
     "output_type": "stream",
     "text": [
      "BurstID: t106_225747_iw3, sensor: S1A\n"
     ]
    },
    {
     "name": "stdout",
     "output_type": "stream",
     "text": [
      "BurstID: t106_225747_iw3, sensor: S1B\n"
     ]
    },
    {
     "name": "stdout",
     "output_type": "stream",
     "text": [
      "BurstID: t056_119000_iw1, sensor: S1A\n"
     ]
    },
    {
     "name": "stdout",
     "output_type": "stream",
     "text": [
      "BurstID: t056_119000_iw1, sensor: S1B\n"
     ]
    },
    {
     "name": "stdout",
     "output_type": "stream",
     "text": [
      "BurstID: t135_287926_iw1, sensor: S1A\n"
     ]
    },
    {
     "name": "stdout",
     "output_type": "stream",
     "text": [
      "BurstID: t135_287926_iw1, sensor: S1B\n"
     ]
    },
    {
     "name": "stdout",
     "output_type": "stream",
     "text": [
      "BurstID: t107_227883_iw3, sensor: S1A\n"
     ]
    },
    {
     "name": "stdout",
     "output_type": "stream",
     "text": [
      "BurstID: t107_227883_iw3, sensor: S1B\n"
     ]
    },
    {
     "name": "stdout",
     "output_type": "stream",
     "text": [
      "BurstID: t124_264297_iw2, sensor: S1A\n"
     ]
    },
    {
     "name": "stdout",
     "output_type": "stream",
     "text": [
      "BurstID: t124_264297_iw2, sensor: S1B\n"
     ]
    },
    {
     "name": "stdout",
     "output_type": "stream",
     "text": [
      "BurstID: t056_118981_iw3, sensor: S1A\n"
     ]
    },
    {
     "name": "stdout",
     "output_type": "stream",
     "text": [
      "BurstID: t056_118981_iw3, sensor: S1B\n"
     ]
    },
    {
     "name": "stdout",
     "output_type": "stream",
     "text": [
      "BurstID: t087_185688_iw1, sensor: S1A\n"
     ]
    },
    {
     "name": "stdout",
     "output_type": "stream",
     "text": [
      "BurstID: t087_185688_iw1, sensor: S1B\n"
     ]
    },
    {
     "name": "stdout",
     "output_type": "stream",
     "text": [
      "BurstID: t131_279935_iw1, sensor: S1A\n"
     ]
    },
    {
     "name": "stdout",
     "output_type": "stream",
     "text": [
      "BurstID: t131_279935_iw1, sensor: S1B\n"
     ]
    },
    {
     "name": "stdout",
     "output_type": "stream",
     "text": [
      "BurstID: t137_292327_iw3, sensor: S1A\n"
     ]
    },
    {
     "name": "stdout",
     "output_type": "stream",
     "text": [
      "BurstID: t137_292327_iw3, sensor: S1B\n"
     ]
    },
    {
     "name": "stdout",
     "output_type": "stream",
     "text": [
      "BurstID: t087_185689_iw3, sensor: S1A\n"
     ]
    },
    {
     "name": "stdout",
     "output_type": "stream",
     "text": [
      "BurstID: t087_185689_iw3, sensor: S1B\n"
     ]
    },
    {
     "name": "stdout",
     "output_type": "stream",
     "text": [
      "BurstID: t056_118996_iw3, sensor: S1A\n"
     ]
    },
    {
     "name": "stdout",
     "output_type": "stream",
     "text": [
      "BurstID: t056_118996_iw3, sensor: S1B\n"
     ]
    },
    {
     "name": "stdout",
     "output_type": "stream",
     "text": [
      "BurstID: t071_151229_iw1, sensor: S1A\n"
     ]
    },
    {
     "name": "stdout",
     "output_type": "stream",
     "text": [
      "BurstID: t071_151229_iw1, sensor: S1B\n"
     ]
    },
    {
     "name": "stdout",
     "output_type": "stream",
     "text": [
      "BurstID: t107_227885_iw1, sensor: S1A\n"
     ]
    },
    {
     "name": "stdout",
     "output_type": "stream",
     "text": [
      "BurstID: t107_227885_iw1, sensor: S1B\n"
     ]
    },
    {
     "name": "stdout",
     "output_type": "stream",
     "text": [
      "BurstID: t065_137838_iw1, sensor: S1A\n"
     ]
    },
    {
     "name": "stdout",
     "output_type": "stream",
     "text": [
      "BurstID: t065_137838_iw1, sensor: S1B\n"
     ]
    },
    {
     "name": "stdout",
     "output_type": "stream",
     "text": [
      "BurstID: t151_322413_iw2, sensor: S1A\n"
     ]
    },
    {
     "name": "stdout",
     "output_type": "stream",
     "text": [
      "BurstID: t151_322413_iw2, sensor: S1B\n"
     ]
    },
    {
     "name": "stdout",
     "output_type": "stream",
     "text": [
      "BurstID: t151_322411_iw2, sensor: S1A\n"
     ]
    },
    {
     "name": "stdout",
     "output_type": "stream",
     "text": [
      "BurstID: t151_322411_iw2, sensor: S1B\n"
     ]
    },
    {
     "name": "stdout",
     "output_type": "stream",
     "text": [
      "BurstID: t124_264305_iw1, sensor: S1A\n"
     ]
    },
    {
     "name": "stdout",
     "output_type": "stream",
     "text": [
      "BurstID: t124_264305_iw1, sensor: S1B\n"
     ]
    },
    {
     "name": "stdout",
     "output_type": "stream",
     "text": [
      "BurstID: t044_093107_iw3, sensor: S1A\n"
     ]
    },
    {
     "name": "stdout",
     "output_type": "stream",
     "text": [
      "BurstID: t044_093107_iw3, sensor: S1B\n"
     ]
    },
    {
     "name": "stdout",
     "output_type": "stream",
     "text": [
      "BurstID: t124_264296_iw1, sensor: S1A\n"
     ]
    },
    {
     "name": "stdout",
     "output_type": "stream",
     "text": [
      "BurstID: t124_264296_iw1, sensor: S1B\n"
     ]
    },
    {
     "name": "stdout",
     "output_type": "stream",
     "text": [
      "BurstID: t065_137848_iw1, sensor: S1A\n"
     ]
    },
    {
     "name": "stdout",
     "output_type": "stream",
     "text": [
      "BurstID: t065_137848_iw1, sensor: S1B\n"
     ]
    },
    {
     "name": "stdout",
     "output_type": "stream",
     "text": [
      "BurstID: t087_185685_iw2, sensor: S1A\n"
     ]
    },
    {
     "name": "stdout",
     "output_type": "stream",
     "text": [
      "BurstID: t087_185685_iw2, sensor: S1B\n"
     ]
    },
    {
     "name": "stdout",
     "output_type": "stream",
     "text": [
      "BurstID: t087_185678_iw1, sensor: S1A\n"
     ]
    },
    {
     "name": "stdout",
     "output_type": "stream",
     "text": [
      "BurstID: t087_185678_iw1, sensor: S1B\n"
     ]
    },
    {
     "name": "stdout",
     "output_type": "stream",
     "text": [
      "BurstID: t106_225737_iw2, sensor: S1A\n"
     ]
    },
    {
     "name": "stdout",
     "output_type": "stream",
     "text": [
      "BurstID: t106_225737_iw2, sensor: S1B\n"
     ]
    },
    {
     "name": "stdout",
     "output_type": "stream",
     "text": [
      "BurstID: t151_322393_iw2, sensor: S1A\n"
     ]
    },
    {
     "name": "stdout",
     "output_type": "stream",
     "text": [
      "BurstID: t151_322393_iw2, sensor: S1B\n"
     ]
    },
    {
     "name": "stdout",
     "output_type": "stream",
     "text": [
      "BurstID: t106_225747_iw2, sensor: S1A\n"
     ]
    },
    {
     "name": "stdout",
     "output_type": "stream",
     "text": [
      "BurstID: t106_225747_iw2, sensor: S1B\n"
     ]
    },
    {
     "name": "stdout",
     "output_type": "stream",
     "text": [
      "BurstID: t124_264299_iw2, sensor: S1A\n"
     ]
    },
    {
     "name": "stdout",
     "output_type": "stream",
     "text": [
      "BurstID: t124_264299_iw2, sensor: S1B\n"
     ]
    },
    {
     "name": "stdout",
     "output_type": "stream",
     "text": [
      "BurstID: t135_287933_iw2, sensor: S1A\n"
     ]
    },
    {
     "name": "stdout",
     "output_type": "stream",
     "text": [
      "BurstID: t135_287933_iw2, sensor: S1B\n"
     ]
    },
    {
     "name": "stdout",
     "output_type": "stream",
     "text": [
      "BurstID: t106_225748_iw3, sensor: S1A\n"
     ]
    },
    {
     "name": "stdout",
     "output_type": "stream",
     "text": [
      "BurstID: t106_225748_iw3, sensor: S1B\n"
     ]
    },
    {
     "name": "stdout",
     "output_type": "stream",
     "text": [
      "BurstID: t004_006646_iw2, sensor: S1A\n"
     ]
    },
    {
     "name": "stdout",
     "output_type": "stream",
     "text": [
      "BurstID: t004_006646_iw2, sensor: S1B\n"
     ]
    },
    {
     "name": "stdout",
     "output_type": "stream",
     "text": [
      "BurstID: t135_287927_iw3, sensor: S1A\n"
     ]
    },
    {
     "name": "stdout",
     "output_type": "stream",
     "text": [
      "BurstID: t135_287927_iw3, sensor: S1B\n"
     ]
    },
    {
     "name": "stdout",
     "output_type": "stream",
     "text": [
      "BurstID: t071_151229_iw3, sensor: S1A\n"
     ]
    },
    {
     "name": "stdout",
     "output_type": "stream",
     "text": [
      "BurstID: t071_151229_iw3, sensor: S1B\n"
     ]
    },
    {
     "name": "stdout",
     "output_type": "stream",
     "text": [
      "BurstID: t144_308014_iw1, sensor: S1A\n"
     ]
    },
    {
     "name": "stdout",
     "output_type": "stream",
     "text": [
      "BurstID: t144_308014_iw1, sensor: S1B\n"
     ]
    },
    {
     "name": "stdout",
     "output_type": "stream",
     "text": [
      "BurstID: t042_088929_iw1, sensor: S1A\n"
     ]
    },
    {
     "name": "stdout",
     "output_type": "stream",
     "text": [
      "BurstID: t042_088929_iw1, sensor: S1B\n"
     ]
    },
    {
     "name": "stdout",
     "output_type": "stream",
     "text": [
      "BurstID: t087_185684_iw3, sensor: S1A\n"
     ]
    },
    {
     "name": "stdout",
     "output_type": "stream",
     "text": [
      "BurstID: t087_185684_iw3, sensor: S1B\n"
     ]
    },
    {
     "name": "stdout",
     "output_type": "stream",
     "text": [
      "BurstID: t098_209309_iw3, sensor: S1A\n"
     ]
    },
    {
     "name": "stdout",
     "output_type": "stream",
     "text": [
      "BurstID: t098_209309_iw3, sensor: S1B\n"
     ]
    },
    {
     "name": "stdout",
     "output_type": "stream",
     "text": [
      "BurstID: t160_342205_iw3, sensor: S1A\n"
     ]
    },
    {
     "name": "stdout",
     "output_type": "stream",
     "text": [
      "BurstID: t160_342205_iw3, sensor: S1B\n"
     ]
    },
    {
     "name": "stdout",
     "output_type": "stream",
     "text": [
      "BurstID: t107_227891_iw3, sensor: S1A\n"
     ]
    },
    {
     "name": "stdout",
     "output_type": "stream",
     "text": [
      "BurstID: t107_227891_iw3, sensor: S1B\n"
     ]
    },
    {
     "name": "stdout",
     "output_type": "stream",
     "text": [
      "BurstID: t131_279910_iw3, sensor: S1A\n"
     ]
    },
    {
     "name": "stdout",
     "output_type": "stream",
     "text": [
      "BurstID: t131_279910_iw3, sensor: S1B\n"
     ]
    },
    {
     "name": "stdout",
     "output_type": "stream",
     "text": [
      "BurstID: t071_151217_iw3, sensor: S1A\n"
     ]
    },
    {
     "name": "stdout",
     "output_type": "stream",
     "text": [
      "BurstID: t071_151217_iw3, sensor: S1B\n"
     ]
    },
    {
     "name": "stdout",
     "output_type": "stream",
     "text": [
      "BurstID: t056_119005_iw1, sensor: S1A\n"
     ]
    },
    {
     "name": "stdout",
     "output_type": "stream",
     "text": [
      "BurstID: t056_119005_iw1, sensor: S1B\n"
     ]
    },
    {
     "name": "stdout",
     "output_type": "stream",
     "text": [
      "BurstID: t044_093106_iw1, sensor: S1A\n"
     ]
    },
    {
     "name": "stdout",
     "output_type": "stream",
     "text": [
      "BurstID: t044_093106_iw1, sensor: S1B\n"
     ]
    },
    {
     "name": "stdout",
     "output_type": "stream",
     "text": [
      "BurstID: t107_227886_iw2, sensor: S1A\n"
     ]
    },
    {
     "name": "stdout",
     "output_type": "stream",
     "text": [
      "BurstID: t107_227886_iw2, sensor: S1B\n"
     ]
    },
    {
     "name": "stdout",
     "output_type": "stream",
     "text": [
      "BurstID: t135_287928_iw2, sensor: S1A\n"
     ]
    },
    {
     "name": "stdout",
     "output_type": "stream",
     "text": [
      "BurstID: t135_287928_iw2, sensor: S1B\n"
     ]
    },
    {
     "name": "stdout",
     "output_type": "stream",
     "text": [
      "BurstID: t094_200141_iw2, sensor: S1A\n"
     ]
    },
    {
     "name": "stdout",
     "output_type": "stream",
     "text": [
      "BurstID: t094_200141_iw2, sensor: S1B\n"
     ]
    },
    {
     "name": "stdout",
     "output_type": "stream",
     "text": [
      "BurstID: t065_137839_iw1, sensor: S1A\n"
     ]
    },
    {
     "name": "stdout",
     "output_type": "stream",
     "text": [
      "BurstID: t065_137839_iw1, sensor: S1B\n"
     ]
    },
    {
     "name": "stdout",
     "output_type": "stream",
     "text": [
      "BurstID: t151_322400_iw2, sensor: S1A\n"
     ]
    },
    {
     "name": "stdout",
     "output_type": "stream",
     "text": [
      "BurstID: t151_322400_iw2, sensor: S1B\n"
     ]
    },
    {
     "name": "stdout",
     "output_type": "stream",
     "text": [
      "BurstID: t064_135525_iw3, sensor: S1A\n"
     ]
    },
    {
     "name": "stdout",
     "output_type": "stream",
     "text": [
      "BurstID: t064_135525_iw3, sensor: S1B\n"
     ]
    },
    {
     "name": "stdout",
     "output_type": "stream",
     "text": [
      "BurstID: t034_071100_iw2, sensor: S1A\n"
     ]
    },
    {
     "name": "stdout",
     "output_type": "stream",
     "text": [
      "BurstID: t034_071100_iw2, sensor: S1B\n"
     ]
    },
    {
     "name": "stdout",
     "output_type": "stream",
     "text": [
      "BurstID: t124_264299_iw1, sensor: S1A\n"
     ]
    },
    {
     "name": "stdout",
     "output_type": "stream",
     "text": [
      "BurstID: t124_264299_iw1, sensor: S1B\n"
     ]
    },
    {
     "name": "stdout",
     "output_type": "stream",
     "text": [
      "BurstID: t065_137847_iw1, sensor: S1A\n"
     ]
    },
    {
     "name": "stdout",
     "output_type": "stream",
     "text": [
      "BurstID: t065_137847_iw1, sensor: S1B\n"
     ]
    },
    {
     "name": "stdout",
     "output_type": "stream",
     "text": [
      "BurstID: t004_006650_iw3, sensor: S1A\n"
     ]
    },
    {
     "name": "stdout",
     "output_type": "stream",
     "text": [
      "BurstID: t004_006650_iw3, sensor: S1B\n"
     ]
    },
    {
     "name": "stdout",
     "output_type": "stream",
     "text": [
      "BurstID: t042_088926_iw3, sensor: S1A\n"
     ]
    },
    {
     "name": "stdout",
     "output_type": "stream",
     "text": [
      "BurstID: t042_088926_iw3, sensor: S1B\n"
     ]
    },
    {
     "name": "stdout",
     "output_type": "stream",
     "text": [
      "BurstID: t056_119005_iw2, sensor: S1A\n"
     ]
    },
    {
     "name": "stdout",
     "output_type": "stream",
     "text": [
      "BurstID: t056_119005_iw2, sensor: S1B\n",
      "BurstID: t098_209316_iw2, sensor: S1A\n"
     ]
    },
    {
     "name": "stdout",
     "output_type": "stream",
     "text": [
      "BurstID: t098_209316_iw2, sensor: S1B\n"
     ]
    },
    {
     "name": "stdout",
     "output_type": "stream",
     "text": [
      "BurstID: t044_093111_iw2, sensor: S1A\n"
     ]
    },
    {
     "name": "stdout",
     "output_type": "stream",
     "text": [
      "BurstID: t044_093111_iw2, sensor: S1B\n"
     ]
    },
    {
     "name": "stdout",
     "output_type": "stream",
     "text": [
      "BurstID: t107_227879_iw2, sensor: S1A\n"
     ]
    },
    {
     "name": "stdout",
     "output_type": "stream",
     "text": [
      "BurstID: t107_227879_iw2, sensor: S1B\n"
     ]
    },
    {
     "name": "stdout",
     "output_type": "stream",
     "text": [
      "BurstID: t087_185682_iw1, sensor: S1A\n"
     ]
    },
    {
     "name": "stdout",
     "output_type": "stream",
     "text": [
      "BurstID: t087_185682_iw1, sensor: S1B\n"
     ]
    },
    {
     "name": "stdout",
     "output_type": "stream",
     "text": [
      "BurstID: t107_227882_iw1, sensor: S1A\n"
     ]
    },
    {
     "name": "stdout",
     "output_type": "stream",
     "text": [
      "BurstID: t107_227882_iw1, sensor: S1B\n"
     ]
    },
    {
     "name": "stdout",
     "output_type": "stream",
     "text": [
      "BurstID: t004_006647_iw1, sensor: S1A\n"
     ]
    },
    {
     "name": "stdout",
     "output_type": "stream",
     "text": [
      "BurstID: t004_006647_iw1, sensor: S1B\n"
     ]
    },
    {
     "name": "stdout",
     "output_type": "stream",
     "text": [
      "BurstID: t044_093112_iw2, sensor: S1A\n"
     ]
    },
    {
     "name": "stdout",
     "output_type": "stream",
     "text": [
      "BurstID: t044_093112_iw2, sensor: S1B\n"
     ]
    }
   ],
   "source": [
    "# query products on S3 bucket\n",
    "burstId_list = pd.read_csv(validation_bursts)['burst_id']\n",
    "\n",
    "for burstId in burstId_list:\n",
    "    for sensor in ['S1A','S1B']:\n",
    "        print(f'BurstID: {burstId}, sensor: {sensor}')\n",
    "\n",
    "        # adjust burst strings to reflect product name convention\n",
    "        query_burstId = burstId.upper().replace('_','-')\n",
    "\n",
    "        if version_num == '0.2' or version_num == '1.0':\n",
    "            cslc_url_base = 'OPERA_L2_CSLC-S1_' + query_burstId \n",
    "            suffix = sensor + '_VV_v' + version_num + '.h5'\n",
    "        else:\n",
    "            cslc_url_base = 'OPERA_L2_CSLC-'+sensor+'_IW_' + query_burstId + '_VV_'\n",
    "\n",
    "        cslc_static_url = None\n",
    "        \n",
    "        for key in get_matching_s3_keys(bucket=bucket,\n",
    "                                        prefix=prefix,\n",
    "                                        suffix=suffix,\n",
    "                                        burstId=cslc_url_base,\n",
    "                                        version_num=version_num):\n",
    "            # only proceed if file not already captured in records\n",
    "            # and only if there is a valid corresponding static layer\n",
    "            cslc_url = f'{s3_path}/{key}'\n",
    "            cslc_static_url_base = Path(cslc_url)\n",
    "            cslc_static_url_base = cslc_static_url_base.parent.name.split(f'_v{version_num}_')[0]\n",
    "\n",
    "            # 0.1 static layers have different naming conventions\n",
    "            # which do not reflect a given acquisition date\n",
    "            if version_num == '0.1':\n",
    "                cslc_static_url_base = 'OPERA_L2_CSLC-'+sensor+'_IW_' + query_burstId + '_VV_'\n",
    "            if version_num == '0.2' or version_num == '1.0':\n",
    "                cslc_static_url_base = 'OPERA_L2_CSLC-S1-STATIC_' + query_burstId \n",
    "            \n",
    "            # avoid querying the same static URL for v0.1\n",
    "            # for which it is the same for each burst\n",
    "            if cslc_static_url == None or version_num == '0.0':\n",
    "                for static_key in get_matching_s3_keys(bucket=bucket,\n",
    "                                                    prefix=prefix,\n",
    "                                                    suffix=static_suffix,\n",
    "                                                    burstId=cslc_static_url_base,\n",
    "                                                    version_num=version_num):\n",
    "                    if static_key is not None:\n",
    "                        cslc_static_url = f'{s3_path}/{static_key}'\n",
    "                        break\n",
    "\n",
    "            if cslc_url not in validation_bursts_df['cslc_url'].values.astype(str):\n",
    "                # get date\n",
    "                file_path = Path(key)\n",
    "                filename = file_path.name\n",
    "\n",
    "                if version_num == '0.2' or version_num == '1.0':\n",
    "                    date = filename.split('_')[4][:8]\n",
    "                else:\n",
    "                    date = filename.split('_')[-3][:8]\n",
    "\n",
    "                # check if geometry and orbit pass direction for burst already in df\n",
    "                geom_check = validation_bursts_df['burst_id'] == burstId\n",
    "                idx_geo = next(iter(geom_check.index[geom_check]), False)\n",
    "                if idx_geo != False:\n",
    "                    geometry = validation_bursts_df.loc[idx_geo]['geometry']\n",
    "                    orbit_pass_direction = \\\n",
    "                        validation_bursts_df.loc[idx_geo]['orbit_pass_direction']\n",
    "                else:\n",
    "                    # otherwise, read file to access geometry\n",
    "                    s3f = fsspec.open(cslc_url, mode='rb', anon=True,\n",
    "                                        default_fill_cache=False)\n",
    "                    with h5py.File(s3f.open(),'r') as h5:\n",
    "                        geometry = h5[f'{id_path}/'\n",
    "                                      'bounding_polygon'][()].astype(str)\n",
    "                        orbit_pass_direction = \\\n",
    "                            h5['identification']['orbit_pass_direction'][()].astype(str)\n",
    "                    geometry = wkt.loads(geometry)\n",
    "\n",
    "                # create dictionary for this file\n",
    "                file_dict = {'burst_id': burstId,\n",
    "                             'date': date,\n",
    "                             'cslc_url': cslc_url,\n",
    "                             'cslc_static_url': cslc_static_url,\n",
    "                             'geometry': geometry,\n",
    "                             'orbit_pass_direction': orbit_pass_direction,\n",
    "                             'frame_ids': burst_to_frame_json[burstId]['frame_ids']}\n",
    "                # append to records\n",
    "                validation_bursts_df = pd.concat([validation_bursts_df, \\\n",
    "                    gpd.GeoDataFrame([file_dict])], ignore_index=True)"
   ]
  },
  {
   "attachments": {},
   "cell_type": "markdown",
   "id": "2c91703f",
   "metadata": {
    "papermill": {
     "duration": 0.089566,
     "end_time": "2024-01-25T04:31:47.098518",
     "exception": false,
     "start_time": "2024-01-25T04:31:47.008952",
     "status": "completed"
    },
    "tags": []
   },
   "source": [
    "## Save validation table"
   ]
  },
  {
   "cell_type": "code",
   "execution_count": 10,
   "id": "3585dc5d",
   "metadata": {
    "execution": {
     "iopub.execute_input": "2024-01-25T04:31:47.365010Z",
     "iopub.status.busy": "2024-01-25T04:31:47.364522Z",
     "iopub.status.idle": "2024-01-25T04:31:58.396074Z",
     "shell.execute_reply": "2024-01-25T04:31:58.395433Z"
    },
    "papermill": {
     "duration": 11.147547,
     "end_time": "2024-01-25T04:31:58.397653",
     "exception": false,
     "start_time": "2024-01-25T04:31:47.250106",
     "status": "completed"
    },
    "tags": []
   },
   "outputs": [],
   "source": [
    "#removing duplcates\n",
    "validation_bursts_df  = validation_bursts_df.drop_duplicates(['burst_id', 'date'])\n",
    "\n",
    "# sort by time\n",
    "validation_bursts_df = validation_bursts_df.sort_values(by=['burst_id', 'date'], ascending=[True, True]).reset_index(drop=True)\n",
    "\n",
    "# save table to file\n",
    "validation_bursts_df.to_csv(validation_csv, index=False)"
   ]
  }
 ],
 "metadata": {
  "kernelspec": {
   "display_name": "calval_CSLC",
   "language": "python",
   "name": "python3"
  },
  "language_info": {
   "codemirror_mode": {
    "name": "ipython",
    "version": 3
   },
   "file_extension": ".py",
   "mimetype": "text/x-python",
   "name": "python",
   "nbconvert_exporter": "python",
   "pygments_lexer": "ipython3",
   "version": "3.11.4"
  },
  "papermill": {
   "default_parameters": {},
   "duration": 29857.389282,
   "end_time": "2024-01-25T04:32:00.414665",
   "environment_variables": {},
   "exception": null,
   "input_path": "getallbursts_CSLC_Create_Validation_Table.ipynb",
   "output_path": "run_getallbursts_CSLC_Create_Validation_Table.ipynb",
   "parameters": {},
   "start_time": "2024-01-24T20:14:23.025383",
   "version": "2.3.4"
  }
 },
 "nbformat": 4,
 "nbformat_minor": 5
}